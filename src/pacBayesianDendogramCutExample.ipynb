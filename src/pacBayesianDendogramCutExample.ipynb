{
 "cells": [
  {
   "cell_type": "markdown",
   "id": "fd1f62bf",
   "metadata": {},
   "source": [
    "## Import libraries"
   ]
  },
  {
   "cell_type": "code",
   "execution_count": 1,
   "id": "5a4ccaf7",
   "metadata": {},
   "outputs": [
    {
     "data": {
      "text/html": [
       "<style>.container { width:90% !important; }</style>"
      ],
      "text/plain": [
       "<IPython.core.display.HTML object>"
      ]
     },
     "metadata": {},
     "output_type": "display_data"
    }
   ],
   "source": [
    "import numpy as np\n",
    "import sklearn\n",
    "import sklearn.datasets\n",
    "import scipy\n",
    "from scipy.spatial.distance import pdist, squareform\n",
    "from pacBayesianDendogramCut import DendrogramCut\n",
    "from IPython.core.display import display, HTML\n",
    "import matplotlib.pyplot as plt\n",
    "display(HTML(\"<style>.container { width:90% !important; }</style>\"))"
   ]
  },
  {
   "cell_type": "code",
   "execution_count": 2,
   "id": "d183a69e",
   "metadata": {},
   "outputs": [],
   "source": [
    "temp = scipy.io.loadmat('../../multilink/data/ticktoe.mat')\n",
    "X = temp[\"X\"].tolist()                                 # X = temp.X;\n",
    "G = temp[\"G\"]    "
   ]
  },
  {
   "cell_type": "code",
   "execution_count": 3,
   "id": "37edca6c",
   "metadata": {},
   "outputs": [],
   "source": [
    "X = zip(X[0],X[1])\n",
    "X = list(X)\n",
    "X = list(map( lambda x: [x[0], x[1]]  ,X))\n",
    "X = np.asarray(X)"
   ]
  },
  {
   "cell_type": "code",
   "execution_count": 4,
   "id": "270ea356",
   "metadata": {},
   "outputs": [
    {
     "data": {
      "text/plain": [
       "array([[ 8.53040692e-04,  6.72882615e-03],\n",
       "       [ 4.18348216e-03,  2.16395344e-02],\n",
       "       [ 4.30914092e-02,  3.93053676e-02],\n",
       "       [ 4.51551837e-02,  5.34461304e-02],\n",
       "       [ 7.61613773e-02,  5.68689712e-02],\n",
       "       [ 7.83964979e-02,  9.55074343e-02],\n",
       "       [ 8.66001816e-02,  9.71160342e-02],\n",
       "       [ 1.13795488e-01,  1.05388069e-01],\n",
       "       [ 1.53073428e-01,  1.41465708e-01],\n",
       "       [ 1.48527604e-01,  1.64678675e-01],\n",
       "       [ 1.70909873e-01,  1.82194668e-01],\n",
       "       [ 1.95152372e-01,  1.96845561e-01],\n",
       "       [ 1.96947580e-01,  2.02790819e-01],\n",
       "       [ 2.24328971e-01,  2.30851515e-01],\n",
       "       [ 2.13745088e-01,  2.45474475e-01],\n",
       "       [ 2.47018261e-01,  2.47791619e-01],\n",
       "       [ 2.63320613e-01,  2.74797805e-01],\n",
       "       [ 2.86390320e-01,  2.88959734e-01],\n",
       "       [ 3.26342169e-01,  3.10180145e-01],\n",
       "       [ 3.22527597e-01,  3.22537966e-01],\n",
       "       [ 3.37656513e-01,  3.44737125e-01],\n",
       "       [ 3.47239995e-01,  3.57140884e-01],\n",
       "       [ 3.78732338e-01,  3.76877473e-01],\n",
       "       [ 3.98857815e-01,  3.98260716e-01],\n",
       "       [ 4.13506577e-01,  3.97728048e-01],\n",
       "       [ 4.18237574e-01,  4.24035574e-01],\n",
       "       [ 4.32491565e-01,  4.30063821e-01],\n",
       "       [ 4.59614093e-01,  4.51273930e-01],\n",
       "       [ 4.74093274e-01,  4.79971140e-01],\n",
       "       [ 5.01320042e-01,  4.80633662e-01],\n",
       "       [ 5.10336164e-01,  5.22812257e-01],\n",
       "       [ 5.01162369e-01,  5.32439927e-01],\n",
       "       [ 5.55019806e-01,  5.44603825e-01],\n",
       "       [ 5.49716671e-01,  5.64626082e-01],\n",
       "       [ 5.66073558e-01,  5.75183674e-01],\n",
       "       [ 5.79654040e-01,  5.90463262e-01],\n",
       "       [ 6.07885570e-01,  6.03327950e-01],\n",
       "       [ 6.19298977e-01,  6.21866310e-01],\n",
       "       [ 6.40796226e-01,  6.28299287e-01],\n",
       "       [ 6.48587379e-01,  6.50386714e-01],\n",
       "       [ 6.76464788e-01,  6.84367168e-01],\n",
       "       [ 7.03803087e-01,  6.99347203e-01],\n",
       "       [ 7.09409458e-01,  7.05373880e-01],\n",
       "       [ 7.02708213e-01,  7.25251072e-01],\n",
       "       [ 7.47110418e-01,  7.45501072e-01],\n",
       "       [ 7.62252055e-01,  7.66417294e-01],\n",
       "       [ 7.65768044e-01,  7.79291277e-01],\n",
       "       [ 7.89848742e-01,  7.92318091e-01],\n",
       "       [ 8.28310758e-01,  8.27421760e-01],\n",
       "       [ 8.26612565e-01,  8.37746407e-01],\n",
       "       [ 8.37541039e-01,  8.51111710e-01],\n",
       "       [ 8.63375068e-01,  8.65750185e-01],\n",
       "       [ 8.54701102e-01,  8.72645812e-01],\n",
       "       [ 8.96441148e-01,  8.93149023e-01],\n",
       "       [ 9.09474112e-01,  8.97097128e-01],\n",
       "       [ 9.17583297e-01,  9.44951793e-01],\n",
       "       [ 9.37090591e-01,  9.45362641e-01],\n",
       "       [ 9.49732053e-01,  9.59253350e-01],\n",
       "       [ 9.68727749e-01,  9.70876044e-01],\n",
       "       [ 1.00587989e+00,  9.96399367e-01],\n",
       "       [-6.71058838e-03,  1.00147391e+00],\n",
       "       [ 3.56090835e-02,  9.75266723e-01],\n",
       "       [ 3.06421012e-02,  9.72506357e-01],\n",
       "       [ 4.75285585e-02,  9.59806376e-01],\n",
       "       [ 9.14764678e-02,  9.28985600e-01],\n",
       "       [ 8.90506648e-02,  9.11642280e-01],\n",
       "       [ 1.01657371e-01,  8.92417540e-01],\n",
       "       [ 1.19823807e-01,  8.77724822e-01],\n",
       "       [ 1.36954273e-01,  8.53909666e-01],\n",
       "       [ 1.62737532e-01,  8.33244967e-01],\n",
       "       [ 1.80346967e-01,  8.24044709e-01],\n",
       "       [ 1.90576617e-01,  8.04232623e-01],\n",
       "       [ 1.91117853e-01,  8.13311546e-01],\n",
       "       [ 2.31960327e-01,  8.00050273e-01],\n",
       "       [ 2.42871574e-01,  7.67706431e-01],\n",
       "       [ 2.55263432e-01,  7.52125143e-01],\n",
       "       [ 2.65226475e-01,  7.32437975e-01],\n",
       "       [ 2.88882757e-01,  7.17706047e-01],\n",
       "       [ 3.09113045e-01,  7.14182791e-01],\n",
       "       [ 3.15480650e-01,  6.93328823e-01],\n",
       "       [ 3.40442440e-01,  6.63192468e-01],\n",
       "       [ 3.54985467e-01,  6.31630248e-01],\n",
       "       [ 3.79907340e-01,  6.12673905e-01],\n",
       "       [ 3.71115396e-01,  5.91657167e-01],\n",
       "       [ 3.99362083e-01,  5.96878509e-01],\n",
       "       [ 4.07152650e-01,  5.71810603e-01],\n",
       "       [ 4.21179868e-01,  5.61734181e-01],\n",
       "       [ 4.66417452e-01,  5.40295875e-01],\n",
       "       [ 4.86941343e-01,  5.10515357e-01],\n",
       "       [ 4.91609204e-01,  5.01924513e-01],\n",
       "       [ 5.02119535e-01,  4.95472259e-01],\n",
       "       [ 5.28726750e-01,  4.95688376e-01],\n",
       "       [ 5.39271995e-01,  4.61184894e-01],\n",
       "       [ 5.63438608e-01,  4.45831971e-01],\n",
       "       [ 5.82373969e-01,  4.36259337e-01],\n",
       "       [ 5.59956853e-01,  4.12625392e-01],\n",
       "       [ 6.15580927e-01,  4.05687071e-01],\n",
       "       [ 6.36495287e-01,  3.66452814e-01],\n",
       "       [ 6.71314480e-01,  3.56525985e-01],\n",
       "       [ 6.61560800e-01,  3.55868823e-01],\n",
       "       [ 6.86176510e-01,  3.41662459e-01],\n",
       "       [ 6.91011902e-01,  2.91889745e-01],\n",
       "       [ 7.12856685e-01,  2.77033317e-01],\n",
       "       [ 7.43358940e-01,  2.67333116e-01],\n",
       "       [ 7.38703780e-01,  2.50533642e-01],\n",
       "       [ 7.49095391e-01,  2.50495715e-01],\n",
       "       [ 7.60038584e-01,  2.34578536e-01],\n",
       "       [ 7.92906648e-01,  2.04887469e-01],\n",
       "       [ 8.14510827e-01,  1.71366015e-01],\n",
       "       [ 8.23782236e-01,  1.78458593e-01],\n",
       "       [ 8.47647688e-01,  1.65123930e-01],\n",
       "       [ 8.63493356e-01,  1.39861959e-01],\n",
       "       [ 8.85835326e-01,  1.18870374e-01],\n",
       "       [ 8.85100138e-01,  1.22004413e-01],\n",
       "       [ 9.25309232e-01,  8.89505814e-02],\n",
       "       [ 9.26907923e-01,  5.97775703e-02],\n",
       "       [ 9.56515859e-01,  5.14363795e-02],\n",
       "       [ 9.44131835e-01,  4.76972156e-02],\n",
       "       [ 9.87522934e-01, -1.23491394e-03],\n",
       "       [ 9.92874205e-01, -6.21793965e-03],\n",
       "       [-3.94530477e-01,  5.03970512e-01],\n",
       "       [-4.00484068e-01,  5.49503296e-01],\n",
       "       [-4.06254648e-01,  6.04332444e-01],\n",
       "       [-4.11479893e-01,  6.52135332e-01],\n",
       "       [-4.35385626e-01,  7.06780863e-01],\n",
       "       [-4.67008720e-01,  7.39815249e-01],\n",
       "       [-4.83845566e-01,  8.00486150e-01],\n",
       "       [-5.29053462e-01,  8.27724757e-01],\n",
       "       [-5.65815022e-01,  8.73422451e-01],\n",
       "       [-6.23900022e-01,  9.11117259e-01],\n",
       "       [-6.59686281e-01,  9.31966636e-01],\n",
       "       [-6.97879046e-01,  9.65482668e-01],\n",
       "       [-7.35400016e-01,  9.79042534e-01],\n",
       "       [-7.82746113e-01,  9.89244215e-01],\n",
       "       [-8.52929316e-01,  1.00932818e+00],\n",
       "       [-9.29462635e-01,  9.77251610e-01],\n",
       "       [-9.63193757e-01,  9.97471719e-01],\n",
       "       [-1.01428743e+00,  9.99204122e-01],\n",
       "       [-1.07682380e+00,  9.71223899e-01],\n",
       "       [-1.11415949e+00,  9.53402980e-01],\n",
       "       [-1.15850214e+00,  9.26887735e-01],\n",
       "       [-1.21488224e+00,  8.84717334e-01],\n",
       "       [-1.23496507e+00,  8.62016013e-01],\n",
       "       [-1.28303425e+00,  8.20046571e-01],\n",
       "       [-1.31840805e+00,  7.74436273e-01],\n",
       "       [-1.34230284e+00,  7.23979074e-01],\n",
       "       [-1.35975153e+00,  6.69839813e-01],\n",
       "       [-1.38661467e+00,  6.42832623e-01],\n",
       "       [-1.40231366e+00,  5.92511981e-01],\n",
       "       [-1.39360943e+00,  5.28823524e-01],\n",
       "       [-1.40178821e+00,  4.72726253e-01],\n",
       "       [-1.39270453e+00,  4.24990195e-01],\n",
       "       [-1.38208658e+00,  3.57527304e-01],\n",
       "       [-1.37277603e+00,  3.09860020e-01],\n",
       "       [-1.33374272e+00,  2.67122650e-01],\n",
       "       [-1.30410088e+00,  2.20332116e-01],\n",
       "       [-1.29456479e+00,  1.88600017e-01],\n",
       "       [-1.25460210e+00,  1.54288789e-01],\n",
       "       [-1.20678928e+00,  9.39444824e-02],\n",
       "       [-1.15742846e+00,  6.32627259e-02],\n",
       "       [-1.09302684e+00,  4.04656915e-02],\n",
       "       [-1.07198269e+00,  3.37654506e-02],\n",
       "       [-1.01476005e+00,  1.65685731e-02],\n",
       "       [-9.60695315e-01,  2.23795682e-02],\n",
       "       [-9.13672941e-01,  6.98931481e-03],\n",
       "       [-8.62731028e-01,  1.00712195e-02],\n",
       "       [-8.07503067e-01,  1.41347213e-02],\n",
       "       [-7.37853058e-01,  2.65581125e-02],\n",
       "       [-7.18174517e-01,  2.88041275e-02],\n",
       "       [-6.47407359e-01,  5.38692617e-02],\n",
       "       [-6.04114113e-01,  9.34251504e-02],\n",
       "       [-5.73848832e-01,  1.26467166e-01],\n",
       "       [-5.35487595e-01,  1.62245939e-01],\n",
       "       [-4.99877351e-01,  2.08115272e-01],\n",
       "       [-4.64415652e-01,  2.57152157e-01],\n",
       "       [-4.47079451e-01,  2.97426164e-01],\n",
       "       [-4.28578317e-01,  3.50728038e-01],\n",
       "       [-4.21011927e-01,  3.78000355e-01],\n",
       "       [-4.00392075e-01,  4.50645033e-01],\n",
       "       [-3.94791269e-01,  5.02712778e-01],\n",
       "       [-4.65020560e-01,  8.12937543e-01],\n",
       "       [-1.25283956e+00,  1.96900822e-01],\n",
       "       [ 9.54375887e-01,  1.21351447e+00],\n",
       "       [ 5.31339729e-01,  9.83663574e-01],\n",
       "       [ 9.54931759e-01, -4.82637220e-03],\n",
       "       [ 7.18308584e-01, -1.19541578e-01],\n",
       "       [-9.60799332e-01,  7.31593176e-01],\n",
       "       [ 7.52001142e-01,  8.15028719e-01],\n",
       "       [ 5.95372837e-01, -2.20095966e-01],\n",
       "       [ 1.20606035e+00,  6.91529193e-01],\n",
       "       [ 1.42258260e+00,  6.39854243e-01],\n",
       "       [-2.09451027e+00,  2.69689078e-01],\n",
       "       [-1.30952710e+00,  5.01632665e-01],\n",
       "       [-2.76362016e-01,  6.96521988e-01],\n",
       "       [-7.00379449e-03,  3.24091204e-01],\n",
       "       [ 1.35846341e+00,  1.23949056e+00],\n",
       "       [-1.17932371e+00,  6.65552772e-01],\n",
       "       [-1.59942491e+00, -3.49359651e-02],\n",
       "       [ 1.20954224e-01,  1.13483055e-01],\n",
       "       [ 1.31876077e+00,  7.10779272e-01],\n",
       "       [-1.76548041e-01, -2.16384921e-01],\n",
       "       [ 1.43145091e-01,  1.06541607e+00],\n",
       "       [-3.61800479e-01,  2.14923706e-01],\n",
       "       [-1.72638495e+00,  1.07182475e+00],\n",
       "       [ 1.65969240e+00,  2.57028706e-01],\n",
       "       [ 1.57317262e+00,  2.92612286e-01],\n",
       "       [-2.11962582e+00,  8.04471318e-01],\n",
       "       [-2.34028671e-01, -7.10790188e-02],\n",
       "       [ 3.09935372e-01,  1.02082771e+00],\n",
       "       [-5.62501738e-01,  1.12527637e+00],\n",
       "       [-1.32541007e+00,  2.20097715e-02],\n",
       "       [ 1.45330125e+00, -1.95395953e-01],\n",
       "       [-3.12659756e-01,  4.33448799e-01],\n",
       "       [ 1.01791220e+00, -8.13685327e-02],\n",
       "       [-1.35449807e+00,  3.85588259e-01],\n",
       "       [-1.23962238e+00,  7.77139893e-01],\n",
       "       [-9.29004294e-02,  1.22874770e+00],\n",
       "       [-1.34446061e+00, -6.89506399e-02],\n",
       "       [-1.07026614e+00,  9.45623936e-01],\n",
       "       [ 1.22857501e+00, -3.17566852e-02],\n",
       "       [ 1.27962633e+00, -5.83950741e-02],\n",
       "       [-3.01503308e-01,  5.38725154e-01],\n",
       "       [-1.92157300e-01,  5.48828338e-01],\n",
       "       [-1.67919595e+00,  5.70806559e-01],\n",
       "       [-7.73811052e-01, -1.64802019e-02],\n",
       "       [-5.03147811e-01,  2.23624656e-01],\n",
       "       [-1.11298514e+00, -1.43446356e-01],\n",
       "       [ 4.50299917e-02,  5.75734674e-01],\n",
       "       [ 5.92331091e-01,  2.35133714e-02],\n",
       "       [-8.55435480e-01, -2.28290498e-01]])"
      ]
     },
     "execution_count": 4,
     "metadata": {},
     "output_type": "execute_result"
    }
   ],
   "source": [
    "X"
   ]
  },
  {
   "cell_type": "markdown",
   "id": "0299aa0d",
   "metadata": {},
   "source": [
    "## Generate dataset for clustering"
   ]
  },
  {
   "cell_type": "code",
   "execution_count": 4,
   "id": "2a9b465d",
   "metadata": {},
   "outputs": [],
   "source": [
    "centers = np.asarray([[-6.8, -7.3], [5, 2.5], [5, -2.5]])\n",
    "samples = np.asarray([4, 1, 1]) * 50\n",
    "\n",
    "'''X2, Z, C = sklearn.datasets.make_blobs(\n",
    "    samples,\n",
    "    cluster_std=[2, 1, 1],\n",
    "    centers=centers,\n",
    "    return_centers=True)'''\n",
    "dist = pdist(X)\n",
    "dist = squareform(dist)"
   ]
  },
  {
   "cell_type": "markdown",
   "id": "334309ee",
   "metadata": {},
   "source": [
    "## Plot the generated dataset"
   ]
  },
  {
   "cell_type": "code",
   "execution_count": 5,
   "id": "d1877446",
   "metadata": {},
   "outputs": [
    {
     "name": "stderr",
     "output_type": "stream",
     "text": [
      "C:\\Users\\allem\\AppData\\Local\\Temp/ipykernel_15020/1025274349.py:5: UserWarning: Matplotlib is currently using module://matplotlib_inline.backend_inline, which is a non-GUI backend, so cannot show the figure.\n",
      "  fig.show()\n"
     ]
    },
    {
     "data": {
      "image/png": "[encoded data removed]",
      "text/plain": [
       "<Figure size 720x720 with 1 Axes>"
      ]
     },
     "metadata": {
      "needs_background": "light"
     },
     "output_type": "display_data"
    }
   ],
   "source": [
    "fig = plt.figure(figsize=(10,10))\n",
    "ax = fig.add_subplot(111)\n",
    "ax.scatter(X[:, 0], X[:, 1])\n",
    "#ax.scatter(C[:, 0], C[:, 1])\n",
    "fig.show()"
   ]
  },
  {
   "cell_type": "markdown",
   "id": "a3c382de",
   "metadata": {},
   "source": [
    "## Compute the dynamic cut with the pacBayesian algorithm and plot the results"
   ]
  },
  {
   "cell_type": "code",
   "execution_count": 6,
   "id": "c16d8ad7",
   "metadata": {},
   "outputs": [],
   "source": [
    "import pandas as pd\n",
    "\n",
    "dist = pd.read_csv(\"../data/distance.csv\", header=None)\n",
    "dist = dist.replace(np.inf, 0).to_numpy()"
   ]
  },
  {
   "cell_type": "code",
   "execution_count": 7,
   "id": "614d5e63",
   "metadata": {},
   "outputs": [
    {
     "name": "stdout",
     "output_type": "stream",
     "text": [
      "1\n"
     ]
    },
    {
     "name": "stderr",
     "output_type": "stream",
     "text": [
      "c:\\Users\\allem\\Desktop\\IACV-Project\\src\\pacBayesianDendogramCut.py:184: RuntimeWarning: invalid value encountered in long_scalars\n",
      "  colorscale = dict((i, z[i] / (k - 1)) for i in range(self.n_data))\n"
     ]
    },
    {
     "data": {
      "application/vnd.plotly.v1+json": {
       "config": {
        "plotlyServerURL": "https://plot.ly"
       },
       "data": [
        {
         "hoverinfo": "text",
         "marker": {
          "color": "rgb(0, 0, 0)"
         },
         "mode": "lines",
         "type": "scatter",
         "x": [
          65,
          65,
          66,
          66
         ],
         "xaxis": "x",
         "y": [
          0,
          0,
          0,
          0
         ],
         "yaxis": "y"
        },
        {
         "hoverinfo": "text",
         "marker": {
          "color": "rgb(0, 0, 0)"
         },
         "mode": "lines",
         "type": "scatter",
         "x": [
          160,
          160,
          161,
          161
         ],
         "xaxis": "x",
         "y": [
          0,
          0.01,
          0.01,
          0
         ],
         "yaxis": "y"
        },
        {
         "hoverinfo": "text",
         "marker": {
          "color": "rgb(0, 0, 0)"
         },
         "mode": "lines",
         "type": "scatter",
         "x": [
          140,
          140,
          141,
          141
         ],
         "xaxis": "x",
         "y": [
          0,
          0.02,
          0.02,
          0
         ],
         "yaxis": "y"
        },
        {
         "hoverinfo": "text",
         "marker": {
          "color": "rgb(0, 0, 0)"
         },
         "mode": "lines",
         "type": "scatter",
         "x": [
          170,
          170,
          171,
          171
         ],
         "xaxis": "x",
         "y": [
          0,
          0.02,
          0.02,
          0
         ],
         "yaxis": "y"
        },
        {
         "hoverinfo": "text",
         "marker": {
          "color": "rgb(0, 0, 0)"
         },
         "mode": "lines",
         "type": "scatter",
         "x": [
          94,
          94,
          95,
          95
         ],
         "xaxis": "x",
         "y": [
          0,
          0.03,
          0.03,
          0
         ],
         "yaxis": "y"
        },
        {
         "hoverinfo": "text",
         "marker": {
          "color": "rgb(0, 0, 0)"
         },
         "mode": "lines",
         "type": "scatter",
         "x": [
          103,
          103,
          104,
          104
         ],
         "xaxis": "x",
         "y": [
          0,
          0.04,
          0.04,
          0
         ],
         "yaxis": "y"
        },
        {
         "hoverinfo": "text",
         "marker": {
          "color": "rgb(0, 0, 0)"
         },
         "mode": "lines",
         "type": "scatter",
         "x": [
          143,
          143,
          144,
          144
         ],
         "xaxis": "x",
         "y": [
          0,
          0.07,
          0.07,
          0
         ],
         "yaxis": "y"
        },
        {
         "hoverinfo": "text",
         "marker": {
          "color": "rgb(0, 0, 0)"
         },
         "mode": "lines",
         "type": "scatter",
         "x": [
          130,
          130,
          131,
          131
         ],
         "xaxis": "x",
         "y": [
          0,
          0.09,
          0.09,
          0
         ],
         "yaxis": "y"
        },
        {
         "hoverinfo": "text",
         "marker": {
          "color": "rgb(0, 0, 0)"
         },
         "mode": "lines",
         "type": "scatter",
         "x": [
          123,
          123,
          124,
          124
         ],
         "xaxis": "x",
         "y": [
          0,
          0.09,
          0.09,
          0
         ],
         "yaxis": "y"
        },
        {
         "hoverinfo": "text",
         "marker": {
          "color": "rgb(0, 0, 0)"
         },
         "mode": "lines",
         "type": "scatter",
         "x": [
          112,
          112,
          113,
          113
         ],
         "xaxis": "x",
         "y": [
          0,
          0.09,
          0.09,
          0
         ],
         "yaxis": "y"
        },
        {
         "hoverinfo": "text",
         "marker": {
          "color": "rgb(0, 0, 0)"
         },
         "mode": "lines",
         "type": "scatter",
         "x": [
          198,
          198,
          199,
          199
         ],
         "xaxis": "x",
         "y": [
          0,
          0.1,
          0.1,
          0
         ],
         "yaxis": "y"
        },
        {
         "hoverinfo": "text",
         "marker": {
          "color": "rgb(0, 0, 0)"
         },
         "mode": "lines",
         "type": "scatter",
         "x": [
          202,
          202,
          203,
          203
         ],
         "xaxis": "x",
         "y": [
          0,
          0.12,
          0.12,
          0
         ],
         "yaxis": "y"
        },
        {
         "hoverinfo": "text",
         "marker": {
          "color": "rgb(0, 0, 0)"
         },
         "mode": "lines",
         "type": "scatter",
         "x": [
          192,
          192,
          193,
          193
         ],
         "xaxis": "x",
         "y": [
          0,
          0.16,
          0.16,
          0
         ],
         "yaxis": "y"
        },
        {
         "hoverinfo": "text",
         "marker": {
          "color": "rgb(0, 0, 0)"
         },
         "mode": "lines",
         "type": "scatter",
         "x": [
          105,
          105,
          106,
          106
         ],
         "xaxis": "x",
         "y": [
          0,
          0.17,
          0.17,
          0
         ],
         "yaxis": "y"
        },
        {
         "hoverinfo": "text",
         "marker": {
          "color": "rgb(0, 0, 0)"
         },
         "mode": "lines",
         "type": "scatter",
         "x": [
          142,
          142,
          143.5,
          143.5
         ],
         "xaxis": "x",
         "y": [
          0,
          0.17,
          0.17,
          0.07
         ],
         "yaxis": "y"
        },
        {
         "hoverinfo": "text",
         "marker": {
          "color": "rgb(0, 0, 0)"
         },
         "mode": "lines",
         "type": "scatter",
         "x": [
          166,
          166,
          167,
          167
         ],
         "xaxis": "x",
         "y": [
          0,
          0.18,
          0.18,
          0
         ],
         "yaxis": "y"
        },
        {
         "hoverinfo": "text",
         "marker": {
          "color": "rgb(0, 0, 0)"
         },
         "mode": "lines",
         "type": "scatter",
         "x": [
          129,
          129,
          130.5,
          130.5
         ],
         "xaxis": "x",
         "y": [
          0,
          0.18,
          0.18,
          0.09
         ],
         "yaxis": "y"
        },
        {
         "hoverinfo": "text",
         "marker": {
          "color": "rgb(0, 0, 0)"
         },
         "mode": "lines",
         "type": "scatter",
         "x": [
          133,
          133,
          134,
          134
         ],
         "xaxis": "x",
         "y": [
          0,
          0.19,
          0.19,
          0
         ],
         "yaxis": "y"
        },
        {
         "hoverinfo": "text",
         "marker": {
          "color": "rgb(0, 0, 0)"
         },
         "mode": "lines",
         "type": "scatter",
         "x": [
          103.5,
          103.5,
          105.5,
          105.5
         ],
         "xaxis": "x",
         "y": [
          0.04,
          0.19,
          0.19,
          0.17
         ],
         "yaxis": "y"
        },
        {
         "hoverinfo": "text",
         "marker": {
          "color": "rgb(0, 0, 0)"
         },
         "mode": "lines",
         "type": "scatter",
         "x": [
          148,
          148,
          149,
          149
         ],
         "xaxis": "x",
         "y": [
          0,
          0.2,
          0.2,
          0
         ],
         "yaxis": "y"
        },
        {
         "hoverinfo": "text",
         "marker": {
          "color": "rgb(0, 0, 0)"
         },
         "mode": "lines",
         "type": "scatter",
         "x": [
          201,
          201,
          202.5,
          202.5
         ],
         "xaxis": "x",
         "y": [
          0,
          0.21,
          0.21,
          0.12
         ],
         "yaxis": "y"
        },
        {
         "hoverinfo": "text",
         "marker": {
          "color": "rgb(0, 0, 0)"
         },
         "mode": "lines",
         "type": "scatter",
         "x": [
          115,
          115,
          116,
          116
         ],
         "xaxis": "x",
         "y": [
          0,
          0.21,
          0.21,
          0
         ],
         "yaxis": "y"
        },
        {
         "hoverinfo": "text",
         "marker": {
          "color": "rgb(0, 0, 0)"
         },
         "mode": "lines",
         "type": "scatter",
         "x": [
          206,
          206,
          207,
          207
         ],
         "xaxis": "x",
         "y": [
          0,
          0.22,
          0.22,
          0
         ],
         "yaxis": "y"
        },
        {
         "hoverinfo": "text",
         "marker": {
          "color": "rgb(0, 0, 0)"
         },
         "mode": "lines",
         "type": "scatter",
         "x": [
          147,
          147,
          148.5,
          148.5
         ],
         "xaxis": "x",
         "y": [
          0,
          0.22,
          0.22,
          0.2
         ],
         "yaxis": "y"
        },
        {
         "hoverinfo": "text",
         "marker": {
          "color": "rgb(0, 0, 0)"
         },
         "mode": "lines",
         "type": "scatter",
         "x": [
          165,
          165,
          166.5,
          166.5
         ],
         "xaxis": "x",
         "y": [
          0,
          0.22,
          0.22,
          0.18
         ],
         "yaxis": "y"
        },
        {
         "hoverinfo": "text",
         "marker": {
          "color": "rgb(0, 0, 0)"
         },
         "mode": "lines",
         "type": "scatter",
         "x": [
          107,
          107,
          108,
          108
         ],
         "xaxis": "x",
         "y": [
          0,
          0.22,
          0.22,
          0
         ],
         "yaxis": "y"
        },
        {
         "hoverinfo": "text",
         "marker": {
          "color": "rgb(0, 0, 0)"
         },
         "mode": "lines",
         "type": "scatter",
         "x": [
          104.5,
          104.5,
          107.5,
          107.5
         ],
         "xaxis": "x",
         "y": [
          0.19,
          0.22,
          0.22,
          0.22
         ],
         "yaxis": "y"
        },
        {
         "hoverinfo": "text",
         "marker": {
          "color": "rgb(0, 0, 0)"
         },
         "mode": "lines",
         "type": "scatter",
         "x": [
          31,
          31,
          32,
          32
         ],
         "xaxis": "x",
         "y": [
          0,
          0.23,
          0.23,
          0
         ],
         "yaxis": "y"
        },
        {
         "hoverinfo": "text",
         "marker": {
          "color": "rgb(0, 0, 0)"
         },
         "mode": "lines",
         "type": "scatter",
         "x": [
          146,
          146,
          147.75,
          147.75
         ],
         "xaxis": "x",
         "y": [
          0,
          0.23,
          0.23,
          0.22
         ],
         "yaxis": "y"
        },
        {
         "hoverinfo": "text",
         "marker": {
          "color": "rgb(0, 0, 0)"
         },
         "mode": "lines",
         "type": "scatter",
         "x": [
          109,
          109,
          110,
          110
         ],
         "xaxis": "x",
         "y": [
          0,
          0.23,
          0.23,
          0
         ],
         "yaxis": "y"
        },
        {
         "hoverinfo": "text",
         "marker": {
          "color": "rgb(0, 0, 0)"
         },
         "mode": "lines",
         "type": "scatter",
         "x": [
          72,
          72,
          73,
          73
         ],
         "xaxis": "x",
         "y": [
          0,
          0.23,
          0.23,
          0
         ],
         "yaxis": "y"
        },
        {
         "hoverinfo": "text",
         "marker": {
          "color": "rgb(0, 0, 0)"
         },
         "mode": "lines",
         "type": "scatter",
         "x": [
          145,
          145,
          146.875,
          146.875
         ],
         "xaxis": "x",
         "y": [
          0,
          0.24,
          0.24,
          0.23
         ],
         "yaxis": "y"
        },
        {
         "hoverinfo": "text",
         "marker": {
          "color": "rgb(0, 0, 0)"
         },
         "mode": "lines",
         "type": "scatter",
         "x": [
          159,
          159,
          160.5,
          160.5
         ],
         "xaxis": "x",
         "y": [
          0,
          0.24,
          0.24,
          0.01
         ],
         "yaxis": "y"
        },
        {
         "hoverinfo": "text",
         "marker": {
          "color": "rgb(0, 0, 0)"
         },
         "mode": "lines",
         "type": "scatter",
         "x": [
          117,
          117,
          118,
          118
         ],
         "xaxis": "x",
         "y": [
          0,
          0.24,
          0.24,
          0
         ],
         "yaxis": "y"
        },
        {
         "hoverinfo": "text",
         "marker": {
          "color": "rgb(0, 0, 0)"
         },
         "mode": "lines",
         "type": "scatter",
         "x": [
          197,
          197,
          198.5,
          198.5
         ],
         "xaxis": "x",
         "y": [
          0,
          0.24,
          0.24,
          0.1
         ],
         "yaxis": "y"
        },
        {
         "hoverinfo": "text",
         "marker": {
          "color": "rgb(0, 0, 0)"
         },
         "mode": "lines",
         "type": "scatter",
         "x": [
          176,
          176,
          177,
          177
         ],
         "xaxis": "x",
         "y": [
          0,
          0.24,
          0.24,
          0
         ],
         "yaxis": "y"
        },
        {
         "hoverinfo": "text",
         "marker": {
          "color": "rgb(0, 0, 0)"
         },
         "mode": "lines",
         "type": "scatter",
         "x": [
          151,
          151,
          152,
          152
         ],
         "xaxis": "x",
         "y": [
          0,
          0.24,
          0.24,
          0
         ],
         "yaxis": "y"
        },
        {
         "hoverinfo": "text",
         "marker": {
          "color": "rgb(0, 0, 0)"
         },
         "mode": "lines",
         "type": "scatter",
         "x": [
          205,
          205,
          206.5,
          206.5
         ],
         "xaxis": "x",
         "y": [
          0,
          0.25,
          0.25,
          0.22
         ],
         "yaxis": "y"
        },
        {
         "hoverinfo": "text",
         "marker": {
          "color": "rgb(0, 0, 0)"
         },
         "mode": "lines",
         "type": "scatter",
         "x": [
          150,
          150,
          151.5,
          151.5
         ],
         "xaxis": "x",
         "y": [
          0,
          0.25,
          0.25,
          0.24
         ],
         "yaxis": "y"
        },
        {
         "hoverinfo": "text",
         "marker": {
          "color": "rgb(0, 0, 0)"
         },
         "mode": "lines",
         "type": "scatter",
         "x": [
          145.9375,
          145.9375,
          150.75,
          150.75
         ],
         "xaxis": "x",
         "y": [
          0.24,
          0.26,
          0.26,
          0.25
         ],
         "yaxis": "y"
        },
        {
         "hoverinfo": "text",
         "marker": {
          "color": "rgb(0, 0, 0)"
         },
         "mode": "lines",
         "type": "scatter",
         "x": [
          200,
          200,
          201.75,
          201.75
         ],
         "xaxis": "x",
         "y": [
          0,
          0.26,
          0.26,
          0.21
         ],
         "yaxis": "y"
        },
        {
         "hoverinfo": "text",
         "marker": {
          "color": "rgb(0, 0, 0)"
         },
         "mode": "lines",
         "type": "scatter",
         "x": [
          132,
          132,
          133.5,
          133.5
         ],
         "xaxis": "x",
         "y": [
          0,
          0.26,
          0.26,
          0.19
         ],
         "yaxis": "y"
        },
        {
         "hoverinfo": "text",
         "marker": {
          "color": "rgb(0, 0, 0)"
         },
         "mode": "lines",
         "type": "scatter",
         "x": [
          37,
          37,
          38,
          38
         ],
         "xaxis": "x",
         "y": [
          0,
          0.26,
          0.26,
          0
         ],
         "yaxis": "y"
        },
        {
         "hoverinfo": "text",
         "marker": {
          "color": "rgb(0, 0, 0)"
         },
         "mode": "lines",
         "type": "scatter",
         "x": [
          175,
          175,
          176.5,
          176.5
         ],
         "xaxis": "x",
         "y": [
          0,
          0.26,
          0.26,
          0.24
         ],
         "yaxis": "y"
        },
        {
         "hoverinfo": "text",
         "marker": {
          "color": "rgb(0, 0, 0)"
         },
         "mode": "lines",
         "type": "scatter",
         "x": [
          164,
          164,
          165.75,
          165.75
         ],
         "xaxis": "x",
         "y": [
          0,
          0.27,
          0.27,
          0.22
         ],
         "yaxis": "y"
        },
        {
         "hoverinfo": "text",
         "marker": {
          "color": "rgb(0, 0, 0)"
         },
         "mode": "lines",
         "type": "scatter",
         "x": [
          138,
          138,
          139,
          139
         ],
         "xaxis": "x",
         "y": [
          0,
          0.27,
          0.27,
          0
         ],
         "yaxis": "y"
        },
        {
         "hoverinfo": "text",
         "marker": {
          "color": "rgb(0, 0, 0)"
         },
         "mode": "lines",
         "type": "scatter",
         "x": [
          204,
          204,
          205.75,
          205.75
         ],
         "xaxis": "x",
         "y": [
          0,
          0.27,
          0.27,
          0.25
         ],
         "yaxis": "y"
        },
        {
         "hoverinfo": "text",
         "marker": {
          "color": "rgb(0, 0, 0)"
         },
         "mode": "lines",
         "type": "scatter",
         "x": [
          106,
          106,
          109.5,
          109.5
         ],
         "xaxis": "x",
         "y": [
          0.22,
          0.28,
          0.28,
          0.23
         ],
         "yaxis": "y"
        },
        {
         "hoverinfo": "text",
         "marker": {
          "color": "rgb(0, 0, 0)"
         },
         "mode": "lines",
         "type": "scatter",
         "x": [
          93,
          93,
          94.5,
          94.5
         ],
         "xaxis": "x",
         "y": [
          0,
          0.28,
          0.28,
          0.03
         ],
         "yaxis": "y"
        },
        {
         "hoverinfo": "text",
         "marker": {
          "color": "rgb(0, 0, 0)"
         },
         "mode": "lines",
         "type": "scatter",
         "x": [
          137,
          137,
          138.5,
          138.5
         ],
         "xaxis": "x",
         "y": [
          0,
          0.28,
          0.28,
          0.27
         ],
         "yaxis": "y"
        },
        {
         "hoverinfo": "text",
         "marker": {
          "color": "rgb(0, 0, 0)"
         },
         "mode": "lines",
         "type": "scatter",
         "x": [
          99,
          99,
          100,
          100
         ],
         "xaxis": "x",
         "y": [
          0,
          0.28,
          0.28,
          0
         ],
         "yaxis": "y"
        },
        {
         "hoverinfo": "text",
         "marker": {
          "color": "rgb(0, 0, 0)"
         },
         "mode": "lines",
         "type": "scatter",
         "x": [
          69,
          69,
          70,
          70
         ],
         "xaxis": "x",
         "y": [
          0,
          0.29,
          0.29,
          0
         ],
         "yaxis": "y"
        },
        {
         "hoverinfo": "text",
         "marker": {
          "color": "rgb(0, 0, 0)"
         },
         "mode": "lines",
         "type": "scatter",
         "x": [
          200.875,
          200.875,
          204.875,
          204.875
         ],
         "xaxis": "x",
         "y": [
          0.26,
          0.29,
          0.29,
          0.27
         ],
         "yaxis": "y"
        },
        {
         "hoverinfo": "text",
         "marker": {
          "color": "rgb(0, 0, 0)"
         },
         "mode": "lines",
         "type": "scatter",
         "x": [
          136,
          136,
          137.75,
          137.75
         ],
         "xaxis": "x",
         "y": [
          0,
          0.29,
          0.29,
          0.28
         ],
         "yaxis": "y"
        },
        {
         "hoverinfo": "text",
         "marker": {
          "color": "rgb(0, 0, 0)"
         },
         "mode": "lines",
         "type": "scatter",
         "x": [
          111,
          111,
          112.5,
          112.5
         ],
         "xaxis": "x",
         "y": [
          0,
          0.29,
          0.29,
          0.09
         ],
         "yaxis": "y"
        },
        {
         "hoverinfo": "text",
         "marker": {
          "color": "rgb(0, 0, 0)"
         },
         "mode": "lines",
         "type": "scatter",
         "x": [
          142.75,
          142.75,
          148.34375,
          148.34375
         ],
         "xaxis": "x",
         "y": [
          0.17,
          0.29,
          0.29,
          0.26
         ],
         "yaxis": "y"
        },
        {
         "hoverinfo": "text",
         "marker": {
          "color": "rgb(0, 0, 0)"
         },
         "mode": "lines",
         "type": "scatter",
         "x": [
          163,
          163,
          164.875,
          164.875
         ],
         "xaxis": "x",
         "y": [
          0,
          0.29,
          0.29,
          0.27
         ],
         "yaxis": "y"
        },
        {
         "hoverinfo": "text",
         "marker": {
          "color": "rgb(0, 0, 0)"
         },
         "mode": "lines",
         "type": "scatter",
         "x": [
          107.75,
          107.75,
          111.75,
          111.75
         ],
         "xaxis": "x",
         "y": [
          0.28,
          0.29,
          0.29,
          0.29
         ],
         "yaxis": "y"
        },
        {
         "hoverinfo": "text",
         "marker": {
          "color": "rgb(0, 0, 0)"
         },
         "mode": "lines",
         "type": "scatter",
         "x": [
          140.5,
          140.5,
          145.546875,
          145.546875
         ],
         "xaxis": "x",
         "y": [
          0.02,
          0.3,
          0.3,
          0.29
         ],
         "yaxis": "y"
        },
        {
         "hoverinfo": "text",
         "marker": {
          "color": "rgb(0, 0, 0)"
         },
         "mode": "lines",
         "type": "scatter",
         "x": [
          172,
          172,
          173,
          173
         ],
         "xaxis": "x",
         "y": [
          0,
          0.31,
          0.31,
          0
         ],
         "yaxis": "y"
        },
        {
         "hoverinfo": "text",
         "marker": {
          "color": "rgb(0, 0, 0)"
         },
         "mode": "lines",
         "type": "scatter",
         "x": [
          115.5,
          115.5,
          117.5,
          117.5
         ],
         "xaxis": "x",
         "y": [
          0.21,
          0.31,
          0.31,
          0.24
         ],
         "yaxis": "y"
        },
        {
         "hoverinfo": "text",
         "marker": {
          "color": "rgb(0, 0, 0)"
         },
         "mode": "lines",
         "type": "scatter",
         "x": [
          68,
          68,
          69.5,
          69.5
         ],
         "xaxis": "x",
         "y": [
          0,
          0.32,
          0.32,
          0.29
         ],
         "yaxis": "y"
        },
        {
         "hoverinfo": "text",
         "marker": {
          "color": "rgb(0, 0, 0)"
         },
         "mode": "lines",
         "type": "scatter",
         "x": [
          183,
          183,
          184,
          184
         ],
         "xaxis": "x",
         "y": [
          0,
          0.32,
          0.32,
          0
         ],
         "yaxis": "y"
        },
        {
         "hoverinfo": "text",
         "marker": {
          "color": "rgb(0, 0, 0)"
         },
         "mode": "lines",
         "type": "scatter",
         "x": [
          56,
          56,
          57,
          57
         ],
         "xaxis": "x",
         "y": [
          0,
          0.32,
          0.32,
          0
         ],
         "yaxis": "y"
        },
        {
         "hoverinfo": "text",
         "marker": {
          "color": "rgb(0, 0, 0)"
         },
         "mode": "lines",
         "type": "scatter",
         "x": [
          42,
          42,
          43,
          43
         ],
         "xaxis": "x",
         "y": [
          0,
          0.32,
          0.32,
          0
         ],
         "yaxis": "y"
        },
        {
         "hoverinfo": "text",
         "marker": {
          "color": "rgb(0, 0, 0)"
         },
         "mode": "lines",
         "type": "scatter",
         "x": [
          157,
          157,
          158,
          158
         ],
         "xaxis": "x",
         "y": [
          0,
          0.33,
          0.33,
          0
         ],
         "yaxis": "y"
        },
        {
         "hoverinfo": "text",
         "marker": {
          "color": "rgb(0, 0, 0)"
         },
         "mode": "lines",
         "type": "scatter",
         "x": [
          162,
          162,
          163.9375,
          163.9375
         ],
         "xaxis": "x",
         "y": [
          0,
          0.33,
          0.33,
          0.29
         ],
         "yaxis": "y"
        },
        {
         "hoverinfo": "text",
         "marker": {
          "color": "rgb(0, 0, 0)"
         },
         "mode": "lines",
         "type": "scatter",
         "x": [
          122,
          122,
          123.5,
          123.5
         ],
         "xaxis": "x",
         "y": [
          0,
          0.33,
          0.33,
          0.09
         ],
         "yaxis": "y"
        },
        {
         "hoverinfo": "text",
         "marker": {
          "color": "rgb(0, 0, 0)"
         },
         "mode": "lines",
         "type": "scatter",
         "x": [
          191,
          191,
          192.5,
          192.5
         ],
         "xaxis": "x",
         "y": [
          0,
          0.33,
          0.33,
          0.16
         ],
         "yaxis": "y"
        },
        {
         "hoverinfo": "text",
         "marker": {
          "color": "rgb(0, 0, 0)"
         },
         "mode": "lines",
         "type": "scatter",
         "x": [
          159.75,
          159.75,
          162.96875,
          162.96875
         ],
         "xaxis": "x",
         "y": [
          0.24,
          0.34,
          0.34,
          0.33
         ],
         "yaxis": "y"
        },
        {
         "hoverinfo": "text",
         "marker": {
          "color": "rgb(0, 0, 0)"
         },
         "mode": "lines",
         "type": "scatter",
         "x": [
          121,
          121,
          122.75,
          122.75
         ],
         "xaxis": "x",
         "y": [
          0,
          0.34,
          0.34,
          0.33
         ],
         "yaxis": "y"
        },
        {
         "hoverinfo": "text",
         "marker": {
          "color": "rgb(0, 0, 0)"
         },
         "mode": "lines",
         "type": "scatter",
         "x": [
          195,
          195,
          196,
          196
         ],
         "xaxis": "x",
         "y": [
          0,
          0.34,
          0.34,
          0
         ],
         "yaxis": "y"
        },
        {
         "hoverinfo": "text",
         "marker": {
          "color": "rgb(0, 0, 0)"
         },
         "mode": "lines",
         "type": "scatter",
         "x": [
          120,
          120,
          121.875,
          121.875
         ],
         "xaxis": "x",
         "y": [
          0,
          0.34,
          0.34,
          0.34
         ],
         "yaxis": "y"
        },
        {
         "hoverinfo": "text",
         "marker": {
          "color": "rgb(0, 0, 0)"
         },
         "mode": "lines",
         "type": "scatter",
         "x": [
          114,
          114,
          116.5,
          116.5
         ],
         "xaxis": "x",
         "y": [
          0,
          0.34,
          0.34,
          0.31
         ],
         "yaxis": "y"
        },
        {
         "hoverinfo": "text",
         "marker": {
          "color": "rgb(0, 0, 0)"
         },
         "mode": "lines",
         "type": "scatter",
         "x": [
          67,
          67,
          68.75,
          68.75
         ],
         "xaxis": "x",
         "y": [
          0,
          0.34,
          0.34,
          0.32
         ],
         "yaxis": "y"
        },
        {
         "hoverinfo": "text",
         "marker": {
          "color": "rgb(0, 0, 0)"
         },
         "mode": "lines",
         "type": "scatter",
         "x": [
          128,
          128,
          129.75,
          129.75
         ],
         "xaxis": "x",
         "y": [
          0,
          0.35,
          0.35,
          0.18
         ],
         "yaxis": "y"
        },
        {
         "hoverinfo": "text",
         "marker": {
          "color": "rgb(0, 0, 0)"
         },
         "mode": "lines",
         "type": "scatter",
         "x": [
          34,
          34,
          35,
          35
         ],
         "xaxis": "x",
         "y": [
          0,
          0.35,
          0.35,
          0
         ],
         "yaxis": "y"
        },
        {
         "hoverinfo": "text",
         "marker": {
          "color": "rgb(0, 0, 0)"
         },
         "mode": "lines",
         "type": "scatter",
         "x": [
          157.5,
          157.5,
          161.359375,
          161.359375
         ],
         "xaxis": "x",
         "y": [
          0.33,
          0.36,
          0.36,
          0.34
         ],
         "yaxis": "y"
        },
        {
         "hoverinfo": "text",
         "marker": {
          "color": "rgb(0, 0, 0)"
         },
         "mode": "lines",
         "type": "scatter",
         "x": [
          194,
          194,
          195.5,
          195.5
         ],
         "xaxis": "x",
         "y": [
          0,
          0.37,
          0.37,
          0.34
         ],
         "yaxis": "y"
        },
        {
         "hoverinfo": "text",
         "marker": {
          "color": "rgb(0, 0, 0)"
         },
         "mode": "lines",
         "type": "scatter",
         "x": [
          109.75,
          109.75,
          115.25,
          115.25
         ],
         "xaxis": "x",
         "y": [
          0.29,
          0.37,
          0.37,
          0.34
         ],
         "yaxis": "y"
        },
        {
         "hoverinfo": "text",
         "marker": {
          "color": "rgb(0, 0, 0)"
         },
         "mode": "lines",
         "type": "scatter",
         "x": [
          187,
          187,
          188,
          188
         ],
         "xaxis": "x",
         "y": [
          0,
          0.38,
          0.38,
          0
         ],
         "yaxis": "y"
        },
        {
         "hoverinfo": "text",
         "marker": {
          "color": "rgb(0, 0, 0)"
         },
         "mode": "lines",
         "type": "scatter",
         "x": [
          191.75,
          191.75,
          194.75,
          194.75
         ],
         "xaxis": "x",
         "y": [
          0.33,
          0.38,
          0.38,
          0.37
         ],
         "yaxis": "y"
        },
        {
         "hoverinfo": "text",
         "marker": {
          "color": "rgb(0, 0, 0)"
         },
         "mode": "lines",
         "type": "scatter",
         "x": [
          52,
          52,
          53,
          53
         ],
         "xaxis": "x",
         "y": [
          0,
          0.39,
          0.39,
          0
         ],
         "yaxis": "y"
        },
        {
         "hoverinfo": "text",
         "marker": {
          "color": "rgb(0, 0, 0)"
         },
         "mode": "lines",
         "type": "scatter",
         "x": [
          119,
          119,
          120.9375,
          120.9375
         ],
         "xaxis": "x",
         "y": [
          0,
          0.39,
          0.39,
          0.34
         ],
         "yaxis": "y"
        },
        {
         "hoverinfo": "text",
         "marker": {
          "color": "rgb(0, 0, 0)"
         },
         "mode": "lines",
         "type": "scatter",
         "x": [
          136.875,
          136.875,
          143.0234375,
          143.0234375
         ],
         "xaxis": "x",
         "y": [
          0.29,
          0.4,
          0.4,
          0.3
         ],
         "yaxis": "y"
        },
        {
         "hoverinfo": "text",
         "marker": {
          "color": "rgb(0, 0, 0)"
         },
         "mode": "lines",
         "type": "scatter",
         "x": [
          135,
          135,
          139.94921875,
          139.94921875
         ],
         "xaxis": "x",
         "y": [
          0,
          0.4,
          0.4,
          0.4
         ],
         "yaxis": "y"
        },
        {
         "hoverinfo": "text",
         "marker": {
          "color": "rgb(0, 0, 0)"
         },
         "mode": "lines",
         "type": "scatter",
         "x": [
          45,
          45,
          46,
          46
         ],
         "xaxis": "x",
         "y": [
          0,
          0.4,
          0.4,
          0
         ],
         "yaxis": "y"
        },
        {
         "hoverinfo": "text",
         "marker": {
          "color": "rgb(0, 0, 0)"
         },
         "mode": "lines",
         "type": "scatter",
         "x": [
          156,
          156,
          159.4296875,
          159.4296875
         ],
         "xaxis": "x",
         "y": [
          0,
          0.41,
          0.41,
          0.36
         ],
         "yaxis": "y"
        },
        {
         "hoverinfo": "text",
         "marker": {
          "color": "rgb(0, 0, 0)"
         },
         "mode": "lines",
         "type": "scatter",
         "x": [
          98,
          98,
          99.5,
          99.5
         ],
         "xaxis": "x",
         "y": [
          0,
          0.41,
          0.41,
          0.28
         ],
         "yaxis": "y"
        },
        {
         "hoverinfo": "text",
         "marker": {
          "color": "rgb(0, 0, 0)"
         },
         "mode": "lines",
         "type": "scatter",
         "x": [
          44,
          44,
          45.5,
          45.5
         ],
         "xaxis": "x",
         "y": [
          0,
          0.42,
          0.42,
          0.4
         ],
         "yaxis": "y"
        },
        {
         "hoverinfo": "text",
         "marker": {
          "color": "rgb(0, 0, 0)"
         },
         "mode": "lines",
         "type": "scatter",
         "x": [
          112.5,
          112.5,
          119.96875,
          119.96875
         ],
         "xaxis": "x",
         "y": [
          0.37,
          0.42,
          0.42,
          0.39
         ],
         "yaxis": "y"
        },
        {
         "hoverinfo": "text",
         "marker": {
          "color": "rgb(0, 0, 0)"
         },
         "mode": "lines",
         "type": "scatter",
         "x": [
          74,
          74,
          75,
          75
         ],
         "xaxis": "x",
         "y": [
          0,
          0.42,
          0.42,
          0
         ],
         "yaxis": "y"
        },
        {
         "hoverinfo": "text",
         "marker": {
          "color": "rgb(0, 0, 0)"
         },
         "mode": "lines",
         "type": "scatter",
         "x": [
          33,
          33,
          34.5,
          34.5
         ],
         "xaxis": "x",
         "y": [
          0,
          0.43,
          0.43,
          0.35
         ],
         "yaxis": "y"
        },
        {
         "hoverinfo": "text",
         "marker": {
          "color": "rgb(0, 0, 0)"
         },
         "mode": "lines",
         "type": "scatter",
         "x": [
          132.75,
          132.75,
          137.474609375,
          137.474609375
         ],
         "xaxis": "x",
         "y": [
          0.26,
          0.43,
          0.43,
          0.4
         ],
         "yaxis": "y"
        },
        {
         "hoverinfo": "text",
         "marker": {
          "color": "rgb(0, 0, 0)"
         },
         "mode": "lines",
         "type": "scatter",
         "x": [
          19,
          19,
          20,
          20
         ],
         "xaxis": "x",
         "y": [
          0,
          0.44,
          0.44,
          0
         ],
         "yaxis": "y"
        },
        {
         "hoverinfo": "text",
         "marker": {
          "color": "rgb(0, 0, 0)"
         },
         "mode": "lines",
         "type": "scatter",
         "x": [
          72.5,
          72.5,
          74.5,
          74.5
         ],
         "xaxis": "x",
         "y": [
          0.23,
          0.45,
          0.45,
          0.42
         ],
         "yaxis": "y"
        },
        {
         "hoverinfo": "text",
         "marker": {
          "color": "rgb(0, 0, 0)"
         },
         "mode": "lines",
         "type": "scatter",
         "x": [
          168,
          168,
          169,
          169
         ],
         "xaxis": "x",
         "y": [
          0,
          0.45,
          0.45,
          0
         ],
         "yaxis": "y"
        },
        {
         "hoverinfo": "text",
         "marker": {
          "color": "rgb(0, 0, 0)"
         },
         "mode": "lines",
         "type": "scatter",
         "x": [
          51,
          51,
          52.5,
          52.5
         ],
         "xaxis": "x",
         "y": [
          0,
          0.45,
          0.45,
          0.39
         ],
         "yaxis": "y"
        },
        {
         "hoverinfo": "text",
         "marker": {
          "color": "rgb(0, 0, 0)"
         },
         "mode": "lines",
         "type": "scatter",
         "x": [
          157.71484375,
          157.71484375,
          168.5,
          168.5
         ],
         "xaxis": "x",
         "y": [
          0.41,
          0.46,
          0.46,
          0.45
         ],
         "yaxis": "y"
        },
        {
         "hoverinfo": "text",
         "marker": {
          "color": "rgb(0, 0, 0)"
         },
         "mode": "lines",
         "type": "scatter",
         "x": [
          128.875,
          128.875,
          135.1123046875,
          135.1123046875
         ],
         "xaxis": "x",
         "y": [
          0.35,
          0.46,
          0.46,
          0.43
         ],
         "yaxis": "y"
        },
        {
         "hoverinfo": "text",
         "marker": {
          "color": "rgb(0, 0, 0)"
         },
         "mode": "lines",
         "type": "scatter",
         "x": [
          186,
          186,
          187.5,
          187.5
         ],
         "xaxis": "x",
         "y": [
          0,
          0.47,
          0.47,
          0.38
         ],
         "yaxis": "y"
        },
        {
         "hoverinfo": "text",
         "marker": {
          "color": "rgb(0, 0, 0)"
         },
         "mode": "lines",
         "type": "scatter",
         "x": [
          197.75,
          197.75,
          202.875,
          202.875
         ],
         "xaxis": "x",
         "y": [
          0.24,
          0.47,
          0.47,
          0.29
         ],
         "yaxis": "y"
        },
        {
         "hoverinfo": "text",
         "marker": {
          "color": "rgb(0, 0, 0)"
         },
         "mode": "lines",
         "type": "scatter",
         "x": [
          102,
          102,
          116.234375,
          116.234375
         ],
         "xaxis": "x",
         "y": [
          0,
          0.47,
          0.47,
          0.42
         ],
         "yaxis": "y"
        },
        {
         "hoverinfo": "text",
         "marker": {
          "color": "rgb(0, 0, 0)"
         },
         "mode": "lines",
         "type": "scatter",
         "x": [
          101,
          101,
          109.1171875,
          109.1171875
         ],
         "xaxis": "x",
         "y": [
          0,
          0.47,
          0.47,
          0.47
         ],
         "yaxis": "y"
        },
        {
         "hoverinfo": "text",
         "marker": {
          "color": "rgb(0, 0, 0)"
         },
         "mode": "lines",
         "type": "scatter",
         "x": [
          193.25,
          193.25,
          200.3125,
          200.3125
         ],
         "xaxis": "x",
         "y": [
          0.38,
          0.47,
          0.47,
          0.47
         ],
         "yaxis": "y"
        },
        {
         "hoverinfo": "text",
         "marker": {
          "color": "rgb(0, 0, 0)"
         },
         "mode": "lines",
         "type": "scatter",
         "x": [
          190,
          190,
          196.78125,
          196.78125
         ],
         "xaxis": "x",
         "y": [
          0,
          0.47,
          0.47,
          0.47
         ],
         "yaxis": "y"
        },
        {
         "hoverinfo": "text",
         "marker": {
          "color": "rgb(0, 0, 0)"
         },
         "mode": "lines",
         "type": "scatter",
         "x": [
          71,
          71,
          73.5,
          73.5
         ],
         "xaxis": "x",
         "y": [
          0,
          0.47,
          0.47,
          0.45
         ],
         "yaxis": "y"
        },
        {
         "hoverinfo": "text",
         "marker": {
          "color": "rgb(0, 0, 0)"
         },
         "mode": "lines",
         "type": "scatter",
         "x": [
          26,
          26,
          27,
          27
         ],
         "xaxis": "x",
         "y": [
          0,
          0.47,
          0.47,
          0
         ],
         "yaxis": "y"
        },
        {
         "hoverinfo": "text",
         "marker": {
          "color": "rgb(0, 0, 0)"
         },
         "mode": "lines",
         "type": "scatter",
         "x": [
          67.875,
          67.875,
          72.25,
          72.25
         ],
         "xaxis": "x",
         "y": [
          0.34,
          0.48,
          0.48,
          0.47
         ],
         "yaxis": "y"
        },
        {
         "hoverinfo": "text",
         "marker": {
          "color": "rgb(0, 0, 0)"
         },
         "mode": "lines",
         "type": "scatter",
         "x": [
          42.5,
          42.5,
          44.75,
          44.75
         ],
         "xaxis": "x",
         "y": [
          0.32,
          0.49,
          0.49,
          0.42
         ],
         "yaxis": "y"
        },
        {
         "hoverinfo": "text",
         "marker": {
          "color": "rgb(0, 0, 0)"
         },
         "mode": "lines",
         "type": "scatter",
         "x": [
          180,
          180,
          181,
          181
         ],
         "xaxis": "x",
         "y": [
          0,
          0.49,
          0.49,
          0
         ],
         "yaxis": "y"
        },
        {
         "hoverinfo": "text",
         "marker": {
          "color": "rgb(0, 0, 0)"
         },
         "mode": "lines",
         "type": "scatter",
         "x": [
          98.75,
          98.75,
          105.05859375,
          105.05859375
         ],
         "xaxis": "x",
         "y": [
          0.41,
          0.49,
          0.49,
          0.47
         ],
         "yaxis": "y"
        },
        {
         "hoverinfo": "text",
         "marker": {
          "color": "rgb(0, 0, 0)"
         },
         "mode": "lines",
         "type": "scatter",
         "x": [
          92,
          92,
          93.75,
          93.75
         ],
         "xaxis": "x",
         "y": [
          0,
          0.5,
          0.5,
          0.28
         ],
         "yaxis": "y"
        },
        {
         "hoverinfo": "text",
         "marker": {
          "color": "rgb(0, 0, 0)"
         },
         "mode": "lines",
         "type": "scatter",
         "x": [
          155,
          155,
          163.107421875,
          163.107421875
         ],
         "xaxis": "x",
         "y": [
          0,
          0.5,
          0.5,
          0.46
         ],
         "yaxis": "y"
        },
        {
         "hoverinfo": "text",
         "marker": {
          "color": "rgb(0, 0, 0)"
         },
         "mode": "lines",
         "type": "scatter",
         "x": [
          127,
          127,
          131.99365234375,
          131.99365234375
         ],
         "xaxis": "x",
         "y": [
          0,
          0.5,
          0.5,
          0.46
         ],
         "yaxis": "y"
        },
        {
         "hoverinfo": "text",
         "marker": {
          "color": "rgb(0, 0, 0)"
         },
         "mode": "lines",
         "type": "scatter",
         "x": [
          126,
          126,
          129.496826171875,
          129.496826171875
         ],
         "xaxis": "x",
         "y": [
          0,
          0.5,
          0.5,
          0.5
         ],
         "yaxis": "y"
        },
        {
         "hoverinfo": "text",
         "marker": {
          "color": "rgb(0, 0, 0)"
         },
         "mode": "lines",
         "type": "scatter",
         "x": [
          62,
          62,
          63,
          63
         ],
         "xaxis": "x",
         "y": [
          0,
          0.51,
          0.51,
          0
         ],
         "yaxis": "y"
        },
        {
         "hoverinfo": "text",
         "marker": {
          "color": "rgb(0, 0, 0)"
         },
         "mode": "lines",
         "type": "scatter",
         "x": [
          125,
          125,
          127.7484130859375,
          127.7484130859375
         ],
         "xaxis": "x",
         "y": [
          0,
          0.51,
          0.51,
          0.5
         ],
         "yaxis": "y"
        },
        {
         "hoverinfo": "text",
         "marker": {
          "color": "rgb(0, 0, 0)"
         },
         "mode": "lines",
         "type": "scatter",
         "x": [
          65.5,
          65.5,
          70.0625,
          70.0625
         ],
         "xaxis": "x",
         "y": [
          0,
          0.51,
          0.51,
          0.48
         ],
         "yaxis": "y"
        },
        {
         "hoverinfo": "text",
         "marker": {
          "color": "rgb(0, 0, 0)"
         },
         "mode": "lines",
         "type": "scatter",
         "x": [
          55,
          55,
          56.5,
          56.5
         ],
         "xaxis": "x",
         "y": [
          0,
          0.51,
          0.51,
          0.32
         ],
         "yaxis": "y"
        },
        {
         "hoverinfo": "text",
         "marker": {
          "color": "rgb(0, 0, 0)"
         },
         "mode": "lines",
         "type": "scatter",
         "x": [
          101.904296875,
          101.904296875,
          126.37420654296875,
          126.37420654296875
         ],
         "xaxis": "x",
         "y": [
          0.49,
          0.51,
          0.51,
          0.51
         ],
         "yaxis": "y"
        },
        {
         "hoverinfo": "text",
         "marker": {
          "color": "rgb(0, 0, 0)"
         },
         "mode": "lines",
         "type": "scatter",
         "x": [
          170.5,
          170.5,
          172.5,
          172.5
         ],
         "xaxis": "x",
         "y": [
          0.02,
          0.51,
          0.51,
          0.31
         ],
         "yaxis": "y"
        },
        {
         "hoverinfo": "text",
         "marker": {
          "color": "rgb(0, 0, 0)"
         },
         "mode": "lines",
         "type": "scatter",
         "x": [
          97,
          97,
          114.13925170898438,
          114.13925170898438
         ],
         "xaxis": "x",
         "y": [
          0,
          0.51,
          0.51,
          0.51
         ],
         "yaxis": "y"
        },
        {
         "hoverinfo": "text",
         "marker": {
          "color": "rgb(0, 0, 0)"
         },
         "mode": "lines",
         "type": "scatter",
         "x": [
          96,
          96,
          105.56962585449219,
          105.56962585449219
         ],
         "xaxis": "x",
         "y": [
          0,
          0.51,
          0.51,
          0.51
         ],
         "yaxis": "y"
        },
        {
         "hoverinfo": "text",
         "marker": {
          "color": "rgb(0, 0, 0)"
         },
         "mode": "lines",
         "type": "scatter",
         "x": [
          92.875,
          92.875,
          100.7848129272461,
          100.7848129272461
         ],
         "xaxis": "x",
         "y": [
          0.5,
          0.51,
          0.51,
          0.51
         ],
         "yaxis": "y"
        },
        {
         "hoverinfo": "text",
         "marker": {
          "color": "rgb(0, 0, 0)"
         },
         "mode": "lines",
         "type": "scatter",
         "x": [
          31.5,
          31.5,
          33.75,
          33.75
         ],
         "xaxis": "x",
         "y": [
          0.23,
          0.51,
          0.51,
          0.43
         ],
         "yaxis": "y"
        },
        {
         "hoverinfo": "text",
         "marker": {
          "color": "rgb(0, 0, 0)"
         },
         "mode": "lines",
         "type": "scatter",
         "x": [
          189,
          189,
          193.390625,
          193.390625
         ],
         "xaxis": "x",
         "y": [
          0,
          0.52,
          0.52,
          0.47
         ],
         "yaxis": "y"
        },
        {
         "hoverinfo": "text",
         "marker": {
          "color": "rgb(0, 0, 0)"
         },
         "mode": "lines",
         "type": "scatter",
         "x": [
          159.0537109375,
          159.0537109375,
          171.5,
          171.5
         ],
         "xaxis": "x",
         "y": [
          0.5,
          0.52,
          0.52,
          0.51
         ],
         "yaxis": "y"
        },
        {
         "hoverinfo": "text",
         "marker": {
          "color": "rgb(0, 0, 0)"
         },
         "mode": "lines",
         "type": "scatter",
         "x": [
          64,
          64,
          67.78125,
          67.78125
         ],
         "xaxis": "x",
         "y": [
          0,
          0.53,
          0.53,
          0.51
         ],
         "yaxis": "y"
        },
        {
         "hoverinfo": "text",
         "marker": {
          "color": "rgb(0, 0, 0)"
         },
         "mode": "lines",
         "type": "scatter",
         "x": [
          179,
          179,
          180.5,
          180.5
         ],
         "xaxis": "x",
         "y": [
          0,
          0.53,
          0.53,
          0.49
         ],
         "yaxis": "y"
        },
        {
         "hoverinfo": "text",
         "marker": {
          "color": "rgb(0, 0, 0)"
         },
         "mode": "lines",
         "type": "scatter",
         "x": [
          36,
          36,
          37.5,
          37.5
         ],
         "xaxis": "x",
         "y": [
          0,
          0.53,
          0.53,
          0.26
         ],
         "yaxis": "y"
        },
        {
         "hoverinfo": "text",
         "marker": {
          "color": "rgb(0, 0, 0)"
         },
         "mode": "lines",
         "type": "scatter",
         "x": [
          216,
          216,
          217,
          217
         ],
         "xaxis": "x",
         "y": [
          0,
          0.53,
          0.53,
          0
         ],
         "yaxis": "y"
        },
        {
         "hoverinfo": "text",
         "marker": {
          "color": "rgb(0, 0, 0)"
         },
         "mode": "lines",
         "type": "scatter",
         "x": [
          18,
          18,
          19.5,
          19.5
         ],
         "xaxis": "x",
         "y": [
          0,
          0.54,
          0.54,
          0.44
         ],
         "yaxis": "y"
        },
        {
         "hoverinfo": "text",
         "marker": {
          "color": "rgb(0, 0, 0)"
         },
         "mode": "lines",
         "type": "scatter",
         "x": [
          62.5,
          62.5,
          65.890625,
          65.890625
         ],
         "xaxis": "x",
         "y": [
          0.51,
          0.54,
          0.54,
          0.53
         ],
         "yaxis": "y"
        },
        {
         "hoverinfo": "text",
         "marker": {
          "color": "rgb(0, 0, 0)"
         },
         "mode": "lines",
         "type": "scatter",
         "x": [
          61,
          61,
          64.1953125,
          64.1953125
         ],
         "xaxis": "x",
         "y": [
          0,
          0.54,
          0.54,
          0.54
         ],
         "yaxis": "y"
        },
        {
         "hoverinfo": "text",
         "marker": {
          "color": "rgb(0, 0, 0)"
         },
         "mode": "lines",
         "type": "scatter",
         "x": [
          48,
          48,
          49,
          49
         ],
         "xaxis": "x",
         "y": [
          0,
          0.54,
          0.54,
          0
         ],
         "yaxis": "y"
        },
        {
         "hoverinfo": "text",
         "marker": {
          "color": "rgb(0, 0, 0)"
         },
         "mode": "lines",
         "type": "scatter",
         "x": [
          47,
          47,
          48.5,
          48.5
         ],
         "xaxis": "x",
         "y": [
          0,
          0.55,
          0.55,
          0.54
         ],
         "yaxis": "y"
        },
        {
         "hoverinfo": "text",
         "marker": {
          "color": "rgb(0, 0, 0)"
         },
         "mode": "lines",
         "type": "scatter",
         "x": [
          54,
          54,
          55.75,
          55.75
         ],
         "xaxis": "x",
         "y": [
          0,
          0.55,
          0.55,
          0.51
         ],
         "yaxis": "y"
        },
        {
         "hoverinfo": "text",
         "marker": {
          "color": "rgb(0, 0, 0)"
         },
         "mode": "lines",
         "type": "scatter",
         "x": [
          60,
          60,
          62.59765625,
          62.59765625
         ],
         "xaxis": "x",
         "y": [
          0,
          0.55,
          0.55,
          0.54
         ],
         "yaxis": "y"
        },
        {
         "hoverinfo": "text",
         "marker": {
          "color": "rgb(0, 0, 0)"
         },
         "mode": "lines",
         "type": "scatter",
         "x": [
          59,
          59,
          61.298828125,
          61.298828125
         ],
         "xaxis": "x",
         "y": [
          0,
          0.55,
          0.55,
          0.55
         ],
         "yaxis": "y"
        },
        {
         "hoverinfo": "text",
         "marker": {
          "color": "rgb(0, 0, 0)"
         },
         "mode": "lines",
         "type": "scatter",
         "x": [
          91,
          91,
          96.82990646362305,
          96.82990646362305
         ],
         "xaxis": "x",
         "y": [
          0,
          0.55,
          0.55,
          0.51
         ],
         "yaxis": "y"
        },
        {
         "hoverinfo": "text",
         "marker": {
          "color": "rgb(0, 0, 0)"
         },
         "mode": "lines",
         "type": "scatter",
         "x": [
          25,
          25,
          26.5,
          26.5
         ],
         "xaxis": "x",
         "y": [
          0,
          0.56,
          0.56,
          0.47
         ],
         "yaxis": "y"
        },
        {
         "hoverinfo": "text",
         "marker": {
          "color": "rgb(0, 0, 0)"
         },
         "mode": "lines",
         "type": "scatter",
         "x": [
          17,
          17,
          18.75,
          18.75
         ],
         "xaxis": "x",
         "y": [
          0,
          0.56,
          0.56,
          0.54
         ],
         "yaxis": "y"
        },
        {
         "hoverinfo": "text",
         "marker": {
          "color": "rgb(0, 0, 0)"
         },
         "mode": "lines",
         "type": "scatter",
         "x": [
          174,
          174,
          175.75,
          175.75
         ],
         "xaxis": "x",
         "y": [
          0,
          0.57,
          0.57,
          0.26
         ],
         "yaxis": "y"
        },
        {
         "hoverinfo": "text",
         "marker": {
          "color": "rgb(0, 0, 0)"
         },
         "mode": "lines",
         "type": "scatter",
         "x": [
          178,
          178,
          179.75,
          179.75
         ],
         "xaxis": "x",
         "y": [
          0,
          0.57,
          0.57,
          0.53
         ],
         "yaxis": "y"
        },
        {
         "hoverinfo": "text",
         "marker": {
          "color": "rgb(0, 0, 0)"
         },
         "mode": "lines",
         "type": "scatter",
         "x": [
          43.625,
          43.625,
          47.75,
          47.75
         ],
         "xaxis": "x",
         "y": [
          0.49,
          0.57,
          0.57,
          0.55
         ],
         "yaxis": "y"
        },
        {
         "hoverinfo": "text",
         "marker": {
          "color": "rgb(0, 0, 0)"
         },
         "mode": "lines",
         "type": "scatter",
         "x": [
          41,
          41,
          45.6875,
          45.6875
         ],
         "xaxis": "x",
         "y": [
          0,
          0.57,
          0.57,
          0.57
         ],
         "yaxis": "y"
        },
        {
         "hoverinfo": "text",
         "marker": {
          "color": "rgb(0, 0, 0)"
         },
         "mode": "lines",
         "type": "scatter",
         "x": [
          186.75,
          186.75,
          191.1953125,
          191.1953125
         ],
         "xaxis": "x",
         "y": [
          0.47,
          0.58,
          0.58,
          0.52
         ],
         "yaxis": "y"
        },
        {
         "hoverinfo": "text",
         "marker": {
          "color": "rgb(0, 0, 0)"
         },
         "mode": "lines",
         "type": "scatter",
         "x": [
          32.625,
          32.625,
          36.75,
          36.75
         ],
         "xaxis": "x",
         "y": [
          0.51,
          0.59,
          0.59,
          0.53
         ],
         "yaxis": "y"
        },
        {
         "hoverinfo": "text",
         "marker": {
          "color": "rgb(0, 0, 0)"
         },
         "mode": "lines",
         "type": "scatter",
         "x": [
          90,
          90,
          93.91495323181152,
          93.91495323181152
         ],
         "xaxis": "x",
         "y": [
          0,
          0.59,
          0.59,
          0.55
         ],
         "yaxis": "y"
        },
        {
         "hoverinfo": "text",
         "marker": {
          "color": "rgb(0, 0, 0)"
         },
         "mode": "lines",
         "type": "scatter",
         "x": [
          16,
          16,
          17.875,
          17.875
         ],
         "xaxis": "x",
         "y": [
          0,
          0.59,
          0.59,
          0.56
         ],
         "yaxis": "y"
        },
        {
         "hoverinfo": "text",
         "marker": {
          "color": "rgb(0, 0, 0)"
         },
         "mode": "lines",
         "type": "scatter",
         "x": [
          30,
          30,
          34.6875,
          34.6875
         ],
         "xaxis": "x",
         "y": [
          0,
          0.6,
          0.6,
          0.59
         ],
         "yaxis": "y"
        },
        {
         "hoverinfo": "text",
         "marker": {
          "color": "rgb(0, 0, 0)"
         },
         "mode": "lines",
         "type": "scatter",
         "x": [
          51.75,
          51.75,
          54.875,
          54.875
         ],
         "xaxis": "x",
         "y": [
          0.45,
          0.6,
          0.6,
          0.55
         ],
         "yaxis": "y"
        },
        {
         "hoverinfo": "text",
         "marker": {
          "color": "rgb(0, 0, 0)"
         },
         "mode": "lines",
         "type": "scatter",
         "x": [
          40,
          40,
          43.34375,
          43.34375
         ],
         "xaxis": "x",
         "y": [
          0,
          0.61,
          0.61,
          0.57
         ],
         "yaxis": "y"
        },
        {
         "hoverinfo": "text",
         "marker": {
          "color": "rgb(0, 0, 0)"
         },
         "mode": "lines",
         "type": "scatter",
         "x": [
          22,
          22,
          23,
          23
         ],
         "xaxis": "x",
         "y": [
          0,
          0.61,
          0.61,
          0
         ],
         "yaxis": "y"
        },
        {
         "hoverinfo": "text",
         "marker": {
          "color": "rgb(0, 0, 0)"
         },
         "mode": "lines",
         "type": "scatter",
         "x": [
          29,
          29,
          32.34375,
          32.34375
         ],
         "xaxis": "x",
         "y": [
          0,
          0.61,
          0.61,
          0.6
         ],
         "yaxis": "y"
        },
        {
         "hoverinfo": "text",
         "marker": {
          "color": "rgb(0, 0, 0)"
         },
         "mode": "lines",
         "type": "scatter",
         "x": [
          28,
          28,
          30.671875,
          30.671875
         ],
         "xaxis": "x",
         "y": [
          0,
          0.61,
          0.61,
          0.61
         ],
         "yaxis": "y"
        },
        {
         "hoverinfo": "text",
         "marker": {
          "color": "rgb(0, 0, 0)"
         },
         "mode": "lines",
         "type": "scatter",
         "x": [
          50,
          50,
          53.3125,
          53.3125
         ],
         "xaxis": "x",
         "y": [
          0,
          0.62,
          0.62,
          0.6
         ],
         "yaxis": "y"
        },
        {
         "hoverinfo": "text",
         "marker": {
          "color": "rgb(0, 0, 0)"
         },
         "mode": "lines",
         "type": "scatter",
         "x": [
          24,
          24,
          25.75,
          25.75
         ],
         "xaxis": "x",
         "y": [
          0,
          0.62,
          0.62,
          0.56
         ],
         "yaxis": "y"
        },
        {
         "hoverinfo": "text",
         "marker": {
          "color": "rgb(0, 0, 0)"
         },
         "mode": "lines",
         "type": "scatter",
         "x": [
          185,
          185,
          188.97265625,
          188.97265625
         ],
         "xaxis": "x",
         "y": [
          0,
          0.62,
          0.62,
          0.58
         ],
         "yaxis": "y"
        },
        {
         "hoverinfo": "text",
         "marker": {
          "color": "rgb(0, 0, 0)"
         },
         "mode": "lines",
         "type": "scatter",
         "x": [
          174.875,
          174.875,
          178.875,
          178.875
         ],
         "xaxis": "x",
         "y": [
          0.57,
          0.63,
          0.63,
          0.57
         ],
         "yaxis": "y"
        },
        {
         "hoverinfo": "text",
         "marker": {
          "color": "rgb(0, 0, 0)"
         },
         "mode": "lines",
         "type": "scatter",
         "x": [
          39,
          39,
          41.671875,
          41.671875
         ],
         "xaxis": "x",
         "y": [
          0,
          0.66,
          0.66,
          0.61
         ],
         "yaxis": "y"
        },
        {
         "hoverinfo": "text",
         "marker": {
          "color": "rgb(0, 0, 0)"
         },
         "mode": "lines",
         "type": "scatter",
         "x": [
          183.5,
          183.5,
          186.986328125,
          186.986328125
         ],
         "xaxis": "x",
         "y": [
          0.32,
          0.66,
          0.66,
          0.62
         ],
         "yaxis": "y"
        },
        {
         "hoverinfo": "text",
         "marker": {
          "color": "rgb(0, 0, 0)"
         },
         "mode": "lines",
         "type": "scatter",
         "x": [
          58,
          58,
          60.1494140625,
          60.1494140625
         ],
         "xaxis": "x",
         "y": [
          0,
          0.67,
          0.67,
          0.55
         ],
         "yaxis": "y"
        },
        {
         "hoverinfo": "text",
         "marker": {
          "color": "rgb(0, 0, 0)"
         },
         "mode": "lines",
         "type": "scatter",
         "x": [
          51.65625,
          51.65625,
          59.07470703125,
          59.07470703125
         ],
         "xaxis": "x",
         "y": [
          0.62,
          0.67,
          0.67,
          0.67
         ],
         "yaxis": "y"
        },
        {
         "hoverinfo": "text",
         "marker": {
          "color": "rgb(0, 0, 0)"
         },
         "mode": "lines",
         "type": "scatter",
         "x": [
          211,
          211,
          212,
          212
         ],
         "xaxis": "x",
         "y": [
          0,
          0.67,
          0.67,
          0
         ],
         "yaxis": "y"
        },
        {
         "hoverinfo": "text",
         "marker": {
          "color": "rgb(0, 0, 0)"
         },
         "mode": "lines",
         "type": "scatter",
         "x": [
          219,
          219,
          220,
          220
         ],
         "xaxis": "x",
         "y": [
          0,
          0.68,
          0.68,
          0
         ],
         "yaxis": "y"
        },
        {
         "hoverinfo": "text",
         "marker": {
          "color": "rgb(0, 0, 0)"
         },
         "mode": "lines",
         "type": "scatter",
         "x": [
          165.27685546875,
          165.27685546875,
          176.875,
          176.875
         ],
         "xaxis": "x",
         "y": [
          0.52,
          0.69,
          0.69,
          0.63
         ],
         "yaxis": "y"
        },
        {
         "hoverinfo": "text",
         "marker": {
          "color": "rgb(0, 0, 0)"
         },
         "mode": "lines",
         "type": "scatter",
         "x": [
          218,
          218,
          219.5,
          219.5
         ],
         "xaxis": "x",
         "y": [
          0,
          0.69,
          0.69,
          0.68
         ],
         "yaxis": "y"
        },
        {
         "hoverinfo": "text",
         "marker": {
          "color": "rgb(0, 0, 0)"
         },
         "mode": "lines",
         "type": "scatter",
         "x": [
          40.3359375,
          40.3359375,
          55.365478515625,
          55.365478515625
         ],
         "xaxis": "x",
         "y": [
          0.66,
          0.7,
          0.7,
          0.67
         ],
         "yaxis": "y"
        },
        {
         "hoverinfo": "text",
         "marker": {
          "color": "rgb(0, 0, 0)"
         },
         "mode": "lines",
         "type": "scatter",
         "x": [
          29.3359375,
          29.3359375,
          47.8507080078125,
          47.8507080078125
         ],
         "xaxis": "x",
         "y": [
          0.61,
          0.7,
          0.7,
          0.7
         ],
         "yaxis": "y"
        },
        {
         "hoverinfo": "text",
         "marker": {
          "color": "rgb(0, 0, 0)"
         },
         "mode": "lines",
         "type": "scatter",
         "x": [
          225,
          225,
          226,
          226
         ],
         "xaxis": "x",
         "y": [
          0,
          0.71,
          0.71,
          0
         ],
         "yaxis": "y"
        },
        {
         "hoverinfo": "text",
         "marker": {
          "color": "rgb(0, 0, 0)"
         },
         "mode": "lines",
         "type": "scatter",
         "x": [
          24.875,
          24.875,
          38.59332275390625,
          38.59332275390625
         ],
         "xaxis": "x",
         "y": [
          0.62,
          0.71,
          0.71,
          0.7
         ],
         "yaxis": "y"
        },
        {
         "hoverinfo": "text",
         "marker": {
          "color": "rgb(0, 0, 0)"
         },
         "mode": "lines",
         "type": "scatter",
         "x": [
          182,
          182,
          185.2431640625,
          185.2431640625
         ],
         "xaxis": "x",
         "y": [
          0,
          0.72,
          0.72,
          0.66
         ],
         "yaxis": "y"
        },
        {
         "hoverinfo": "text",
         "marker": {
          "color": "rgb(0, 0, 0)"
         },
         "mode": "lines",
         "type": "scatter",
         "x": [
          22.5,
          22.5,
          31.734161376953125,
          31.734161376953125
         ],
         "xaxis": "x",
         "y": [
          0.61,
          0.73,
          0.73,
          0.71
         ],
         "yaxis": "y"
        },
        {
         "hoverinfo": "text",
         "marker": {
          "color": "rgb(0, 0, 0)"
         },
         "mode": "lines",
         "type": "scatter",
         "x": [
          171.075927734375,
          171.075927734375,
          183.62158203125,
          183.62158203125
         ],
         "xaxis": "x",
         "y": [
          0.69,
          0.73,
          0.73,
          0.72
         ],
         "yaxis": "y"
        },
        {
         "hoverinfo": "text",
         "marker": {
          "color": "rgb(0, 0, 0)"
         },
         "mode": "lines",
         "type": "scatter",
         "x": [
          21,
          21,
          27.117080688476562,
          27.117080688476562
         ],
         "xaxis": "x",
         "y": [
          0,
          0.74,
          0.74,
          0.73
         ],
         "yaxis": "y"
        },
        {
         "hoverinfo": "text",
         "marker": {
          "color": "rgb(0, 0, 0)"
         },
         "mode": "lines",
         "type": "scatter",
         "x": [
          16.9375,
          16.9375,
          24.05854034423828,
          24.05854034423828
         ],
         "xaxis": "x",
         "y": [
          0.59,
          0.74,
          0.74,
          0.74
         ],
         "yaxis": "y"
        },
        {
         "hoverinfo": "text",
         "marker": {
          "color": "rgb(0, 0, 0)"
         },
         "mode": "lines",
         "type": "scatter",
         "x": [
          85,
          85,
          86,
          86
         ],
         "xaxis": "x",
         "y": [
          0,
          0.74,
          0.74,
          0
         ],
         "yaxis": "y"
        },
        {
         "hoverinfo": "text",
         "marker": {
          "color": "rgb(0, 0, 0)"
         },
         "mode": "lines",
         "type": "scatter",
         "x": [
          154,
          154,
          177.3487548828125,
          177.3487548828125
         ],
         "xaxis": "x",
         "y": [
          0,
          0.74,
          0.74,
          0.73
         ],
         "yaxis": "y"
        },
        {
         "hoverinfo": "text",
         "marker": {
          "color": "rgb(0, 0, 0)"
         },
         "mode": "lines",
         "type": "scatter",
         "x": [
          210,
          210,
          211.5,
          211.5
         ],
         "xaxis": "x",
         "y": [
          0,
          0.76,
          0.76,
          0.67
         ],
         "yaxis": "y"
        },
        {
         "hoverinfo": "text",
         "marker": {
          "color": "rgb(0, 0, 0)"
         },
         "mode": "lines",
         "type": "scatter",
         "x": [
          89,
          89,
          91.95747661590576,
          91.95747661590576
         ],
         "xaxis": "x",
         "y": [
          0,
          0.76,
          0.76,
          0.59
         ],
         "yaxis": "y"
        },
        {
         "hoverinfo": "text",
         "marker": {
          "color": "rgb(0, 0, 0)"
         },
         "mode": "lines",
         "type": "scatter",
         "x": [
          224,
          224,
          225.5,
          225.5
         ],
         "xaxis": "x",
         "y": [
          0,
          0.79,
          0.79,
          0.71
         ],
         "yaxis": "y"
        },
        {
         "hoverinfo": "text",
         "marker": {
          "color": "rgb(0, 0, 0)"
         },
         "mode": "lines",
         "type": "scatter",
         "x": [
          76,
          76,
          77,
          77
         ],
         "xaxis": "x",
         "y": [
          0,
          0.8,
          0.8,
          0
         ],
         "yaxis": "y"
        },
        {
         "hoverinfo": "text",
         "marker": {
          "color": "rgb(0, 0, 0)"
         },
         "mode": "lines",
         "type": "scatter",
         "x": [
          153,
          153,
          165.67437744140625,
          165.67437744140625
         ],
         "xaxis": "x",
         "y": [
          0,
          0.81,
          0.81,
          0.74
         ],
         "yaxis": "y"
        },
        {
         "hoverinfo": "text",
         "marker": {
          "color": "rgb(0, 0, 0)"
         },
         "mode": "lines",
         "type": "scatter",
         "x": [
          20.49802017211914,
          20.49802017211914,
          76.5,
          76.5
         ],
         "xaxis": "x",
         "y": [
          0.74,
          0.85,
          0.85,
          0.8
         ],
         "yaxis": "y"
        },
        {
         "hoverinfo": "text",
         "marker": {
          "color": "rgb(0, 0, 0)"
         },
         "mode": "lines",
         "type": "scatter",
         "x": [
          10,
          10,
          11,
          11
         ],
         "xaxis": "x",
         "y": [
          0,
          0.85,
          0.85,
          0
         ],
         "yaxis": "y"
        },
        {
         "hoverinfo": "text",
         "marker": {
          "color": "rgb(0, 0, 0)"
         },
         "mode": "lines",
         "type": "scatter",
         "x": [
          3,
          3,
          4,
          4
         ],
         "xaxis": "x",
         "y": [
          0,
          0.86,
          0.86,
          0
         ],
         "yaxis": "y"
        },
        {
         "hoverinfo": "text",
         "marker": {
          "color": "rgb(0, 0, 0)"
         },
         "mode": "lines",
         "type": "scatter",
         "x": [
          228,
          228,
          229,
          229
         ],
         "xaxis": "x",
         "y": [
          0,
          0.86,
          0.86,
          0
         ],
         "yaxis": "y"
        },
        {
         "hoverinfo": "text",
         "marker": {
          "color": "rgb(0, 0, 0)"
         },
         "mode": "lines",
         "type": "scatter",
         "x": [
          222,
          222,
          223,
          223
         ],
         "xaxis": "x",
         "y": [
          0,
          0.88,
          0.88,
          0
         ],
         "yaxis": "y"
        },
        {
         "hoverinfo": "text",
         "marker": {
          "color": "rgb(0, 0, 0)"
         },
         "mode": "lines",
         "type": "scatter",
         "x": [
          214,
          214,
          215,
          215
         ],
         "xaxis": "x",
         "y": [
          0,
          0.89,
          0.89,
          0
         ],
         "yaxis": "y"
        },
        {
         "hoverinfo": "text",
         "marker": {
          "color": "rgb(0, 0, 0)"
         },
         "mode": "lines",
         "type": "scatter",
         "x": [
          14,
          14,
          15,
          15
         ],
         "xaxis": "x",
         "y": [
          0,
          0.89,
          0.89,
          0
         ],
         "yaxis": "y"
        },
        {
         "hoverinfo": "text",
         "marker": {
          "color": "rgb(0, 0, 0)"
         },
         "mode": "lines",
         "type": "scatter",
         "x": [
          2,
          2,
          3.5,
          3.5
         ],
         "xaxis": "x",
         "y": [
          0,
          0.9,
          0.9,
          0.86
         ],
         "yaxis": "y"
        },
        {
         "hoverinfo": "text",
         "marker": {
          "color": "rgb(0, 0, 0)"
         },
         "mode": "lines",
         "type": "scatter",
         "x": [
          9,
          9,
          10.5,
          10.5
         ],
         "xaxis": "x",
         "y": [
          0,
          0.91,
          0.91,
          0.85
         ],
         "yaxis": "y"
        },
        {
         "hoverinfo": "text",
         "marker": {
          "color": "rgb(0, 0, 0)"
         },
         "mode": "lines",
         "type": "scatter",
         "x": [
          87,
          87,
          88,
          88
         ],
         "xaxis": "x",
         "y": [
          0,
          0.91,
          0.91,
          0
         ],
         "yaxis": "y"
        },
        {
         "hoverinfo": "text",
         "marker": {
          "color": "rgb(0, 0, 0)"
         },
         "mode": "lines",
         "type": "scatter",
         "x": [
          85.5,
          85.5,
          87.5,
          87.5
         ],
         "xaxis": "x",
         "y": [
          0.74,
          0.92,
          0.92,
          0.91
         ],
         "yaxis": "y"
        },
        {
         "hoverinfo": "text",
         "marker": {
          "color": "rgb(0, 0, 0)"
         },
         "mode": "lines",
         "type": "scatter",
         "x": [
          213,
          213,
          214.5,
          214.5
         ],
         "xaxis": "x",
         "y": [
          0,
          0.92,
          0.92,
          0.89
         ],
         "yaxis": "y"
        },
        {
         "hoverinfo": "text",
         "marker": {
          "color": "rgb(0, 0, 0)"
         },
         "mode": "lines",
         "type": "scatter",
         "x": [
          81,
          81,
          82,
          82
         ],
         "xaxis": "x",
         "y": [
          0,
          0.92,
          0.92,
          0
         ],
         "yaxis": "y"
        },
        {
         "hoverinfo": "text",
         "marker": {
          "color": "rgb(0, 0, 0)"
         },
         "mode": "lines",
         "type": "scatter",
         "x": [
          79,
          79,
          80,
          80
         ],
         "xaxis": "x",
         "y": [
          0,
          0.93,
          0.93,
          0
         ],
         "yaxis": "y"
        },
        {
         "hoverinfo": "text",
         "marker": {
          "color": "rgb(0, 0, 0)"
         },
         "mode": "lines",
         "type": "scatter",
         "x": [
          78,
          78,
          79.5,
          79.5
         ],
         "xaxis": "x",
         "y": [
          0,
          0.93,
          0.93,
          0.93
         ],
         "yaxis": "y"
        },
        {
         "hoverinfo": "text",
         "marker": {
          "color": "rgb(0, 0, 0)"
         },
         "mode": "lines",
         "type": "scatter",
         "x": [
          83,
          83,
          84,
          84
         ],
         "xaxis": "x",
         "y": [
          0,
          0.94,
          0.94,
          0
         ],
         "yaxis": "y"
        },
        {
         "hoverinfo": "text",
         "marker": {
          "color": "rgb(0, 0, 0)"
         },
         "mode": "lines",
         "type": "scatter",
         "x": [
          221,
          221,
          222.5,
          222.5
         ],
         "xaxis": "x",
         "y": [
          0,
          0.95,
          0.95,
          0.88
         ],
         "yaxis": "y"
        },
        {
         "hoverinfo": "text",
         "marker": {
          "color": "rgb(0, 0, 0)"
         },
         "mode": "lines",
         "type": "scatter",
         "x": [
          227,
          227,
          228.5,
          228.5
         ],
         "xaxis": "x",
         "y": [
          0,
          0.95,
          0.95,
          0.86
         ],
         "yaxis": "y"
        },
        {
         "hoverinfo": "text",
         "marker": {
          "color": "rgb(0, 0, 0)"
         },
         "mode": "lines",
         "type": "scatter",
         "x": [
          208,
          208,
          209,
          209
         ],
         "xaxis": "x",
         "y": [
          0,
          0.96,
          0.96,
          0
         ],
         "yaxis": "y"
        },
        {
         "hoverinfo": "text",
         "marker": {
          "color": "rgb(0, 0, 0)"
         },
         "mode": "lines",
         "type": "scatter",
         "x": [
          7,
          7,
          8,
          8
         ],
         "xaxis": "x",
         "y": [
          0,
          0.96,
          0.96,
          0
         ],
         "yaxis": "y"
        },
        {
         "hoverinfo": "text",
         "marker": {
          "color": "rgb(0, 0, 0)"
         },
         "mode": "lines",
         "type": "scatter",
         "x": [
          6,
          6,
          7.5,
          7.5
         ],
         "xaxis": "x",
         "y": [
          0,
          0.96,
          0.96,
          0.96
         ],
         "yaxis": "y"
        },
        {
         "hoverinfo": "text",
         "marker": {
          "color": "rgb(0, 0, 0)"
         },
         "mode": "lines",
         "type": "scatter",
         "x": [
          0,
          0,
          1,
          1
         ],
         "xaxis": "x",
         "y": [
          0,
          0.97,
          0.97,
          0
         ],
         "yaxis": "y"
        },
        {
         "hoverinfo": "text",
         "marker": {
          "color": "rgb(0, 0, 0)"
         },
         "mode": "lines",
         "type": "scatter",
         "x": [
          224.75,
          224.75,
          227.75,
          227.75
         ],
         "xaxis": "x",
         "y": [
          0.79,
          0.98,
          0.98,
          0.95
         ],
         "yaxis": "y"
        },
        {
         "hoverinfo": "text",
         "marker": {
          "color": "rgb(0, 0, 0)"
         },
         "mode": "lines",
         "type": "scatter",
         "x": [
          5,
          5,
          6.75,
          6.75
         ],
         "xaxis": "x",
         "y": [
          0,
          0.98,
          0.98,
          0.96
         ],
         "yaxis": "y"
        },
        {
         "hoverinfo": "text",
         "marker": {
          "color": "rgb(0, 0, 0)"
         },
         "mode": "lines",
         "type": "scatter",
         "x": [
          210.75,
          210.75,
          213.75,
          213.75
         ],
         "xaxis": "x",
         "y": [
          0.76,
          0.99,
          0.99,
          0.92
         ],
         "yaxis": "y"
        },
        {
         "hoverinfo": "text",
         "marker": {
          "color": "rgb(0, 0, 0)"
         },
         "mode": "lines",
         "type": "scatter",
         "x": [
          221.75,
          221.75,
          226.25,
          226.25
         ],
         "xaxis": "x",
         "y": [
          0.95,
          0.99,
          0.99,
          0.98
         ],
         "yaxis": "y"
        },
        {
         "hoverinfo": "text",
         "marker": {
          "color": "rgb(0, 0, 0)"
         },
         "mode": "lines",
         "type": "scatter",
         "x": [
          12,
          12,
          13,
          13
         ],
         "xaxis": "x",
         "y": [
          0,
          0.99,
          0.99,
          0
         ],
         "yaxis": "y"
        },
        {
         "hoverinfo": "text",
         "marker": {
          "color": "rgb(0, 0, 0)"
         },
         "mode": "lines",
         "type": "scatter",
         "x": [
          90.47873830795288,
          90.47873830795288,
          159.33718872070312,
          159.33718872070312
         ],
         "xaxis": "x",
         "y": [
          0.76,
          0.7,
          0.7,
          0.81
         ],
         "yaxis": "y"
        },
        {
         "hoverinfo": "text",
         "marker": {
          "color": "rgb(0, 0, 0)"
         },
         "mode": "lines",
         "type": "scatter",
         "x": [
          86.5,
          86.5,
          124.907963514328,
          124.907963514328
         ],
         "xaxis": "x",
         "y": [
          0.92,
          0.74,
          0.74,
          0.7
         ],
         "yaxis": "y"
        },
        {
         "hoverinfo": "text",
         "marker": {
          "color": "rgb(0, 0, 0)"
         },
         "mode": "lines",
         "type": "scatter",
         "x": [
          83.5,
          83.5,
          105.703981757164,
          105.703981757164
         ],
         "xaxis": "x",
         "y": [
          0.94,
          0.76,
          0.76,
          0.74
         ],
         "yaxis": "y"
        },
        {
         "hoverinfo": "text",
         "marker": {
          "color": "rgb(0, 0, 0)"
         },
         "mode": "lines",
         "type": "scatter",
         "x": [
          218.75,
          218.75,
          224,
          224
         ],
         "xaxis": "x",
         "y": [
          0.69,
          0.8,
          0.8,
          0.99
         ],
         "yaxis": "y"
        },
        {
         "hoverinfo": "text",
         "marker": {
          "color": "rgb(0, 0, 0)"
         },
         "mode": "lines",
         "type": "scatter",
         "x": [
          48.49901008605957,
          48.49901008605957,
          78.75,
          78.75
         ],
         "xaxis": "x",
         "y": [
          0.85,
          0.84,
          0.84,
          0.93
         ],
         "yaxis": "y"
        },
        {
         "hoverinfo": "text",
         "marker": {
          "color": "rgb(0, 0, 0)"
         },
         "mode": "lines",
         "type": "scatter",
         "x": [
          14.5,
          14.5,
          63.624505043029785,
          63.624505043029785
         ],
         "xaxis": "x",
         "y": [
          0.89,
          0.84,
          0.84,
          0.84
         ],
         "yaxis": "y"
        },
        {
         "hoverinfo": "text",
         "marker": {
          "color": "rgb(0, 0, 0)"
         },
         "mode": "lines",
         "type": "scatter",
         "x": [
          12.5,
          12.5,
          39.06225252151489,
          39.06225252151489
         ],
         "xaxis": "x",
         "y": [
          0.99,
          0.88,
          0.88,
          0.84
         ],
         "yaxis": "y"
        },
        {
         "hoverinfo": "text",
         "marker": {
          "color": "rgb(0, 0, 0)"
         },
         "mode": "lines",
         "type": "scatter",
         "x": [
          216.5,
          216.5,
          221.375,
          221.375
         ],
         "xaxis": "x",
         "y": [
          0.53,
          0.9,
          0.9,
          0.8
         ],
         "yaxis": "y"
        },
        {
         "hoverinfo": "text",
         "marker": {
          "color": "rgb(0, 0, 0)"
         },
         "mode": "lines",
         "type": "scatter",
         "x": [
          9.75,
          9.75,
          25.781126260757446,
          25.781126260757446
         ],
         "xaxis": "x",
         "y": [
          0.91,
          0.9,
          0.9,
          0.88
         ],
         "yaxis": "y"
        },
        {
         "hoverinfo": "text",
         "marker": {
          "color": "rgb(0, 0, 0)"
         },
         "mode": "lines",
         "type": "scatter",
         "x": [
          212.25,
          212.25,
          218.9375,
          218.9375
         ],
         "xaxis": "x",
         "y": [
          0.99,
          0.9,
          0.9,
          0.9
         ],
         "yaxis": "y"
        },
        {
         "hoverinfo": "text",
         "marker": {
          "color": "rgb(0, 0, 0)"
         },
         "mode": "lines",
         "type": "scatter",
         "x": [
          81.5,
          81.5,
          94.601990878582,
          94.601990878582
         ],
         "xaxis": "x",
         "y": [
          0.92,
          0.9,
          0.9,
          0.76
         ],
         "yaxis": "y"
        },
        {
         "hoverinfo": "text",
         "marker": {
          "color": "rgb(0, 0, 0)"
         },
         "mode": "lines",
         "type": "scatter",
         "x": [
          208.5,
          208.5,
          215.59375,
          215.59375
         ],
         "xaxis": "x",
         "y": [
          0.96,
          0.9,
          0.9,
          0.9
         ],
         "yaxis": "y"
        },
        {
         "hoverinfo": "text",
         "marker": {
          "color": "rgb(0, 0, 0)"
         },
         "mode": "lines",
         "type": "scatter",
         "x": [
          88.050995439291,
          88.050995439291,
          212.046875,
          212.046875
         ],
         "xaxis": "x",
         "y": [
          0.9,
          0.91,
          0.91,
          0.9
         ],
         "yaxis": "y"
        },
        {
         "hoverinfo": "text",
         "marker": {
          "color": "rgb(0, 0, 0)"
         },
         "mode": "lines",
         "type": "scatter",
         "x": [
          17.765563130378723,
          17.765563130378723,
          150.0489352196455,
          150.0489352196455
         ],
         "xaxis": "x",
         "y": [
          0.9,
          0.91,
          0.91,
          0.91
         ],
         "yaxis": "y"
        },
        {
         "hoverinfo": "text",
         "marker": {
          "color": "rgb(0, 0, 0)"
         },
         "mode": "lines",
         "type": "scatter",
         "x": [
          5.875,
          5.875,
          83.90724917501211,
          83.90724917501211
         ],
         "xaxis": "x",
         "y": [
          0.98,
          0.92,
          0.92,
          0.91
         ],
         "yaxis": "y"
        },
        {
         "hoverinfo": "text",
         "marker": {
          "color": "rgb(0, 0, 0)"
         },
         "mode": "lines",
         "type": "scatter",
         "x": [
          2.75,
          2.75,
          44.891124587506056,
          44.891124587506056
         ],
         "xaxis": "x",
         "y": [
          0.9,
          0.95,
          0.95,
          0.92
         ],
         "yaxis": "y"
        },
        {
         "marker": {
          "color": "rgb(0, 0, 0)",
          "size": [
           20
          ]
         },
         "mode": "markers",
         "type": "scatter",
         "x": [
          12.160281146876514
         ],
         "xaxis": "x",
         "y": [
          0.95
         ],
         "yaxis": "y"
        },
        {
         "hoverinfo": "text",
         "marker": {
          "color": "rgb(0, 0, 0)"
         },
         "mode": "lines",
         "type": "scatter",
         "x": [
          0.5,
          0.5,
          23.820562293753028,
          23.820562293753028
         ],
         "xaxis": "x",
         "y": [
          0.97,
          0.95,
          0.95,
          0.95
         ],
         "yaxis": "y"
        }
       ],
       "layout": {
        "height": 800,
        "hovermode": "closest",
        "paper_bgcolor": "rgba(0,0,0,0)",
        "plot_bgcolor": "rgba(0,0,0,0)",
        "showlegend": false,
        "template": {
         "data": {
          "bar": [
           {
            "error_x": {
             "color": "#2a3f5f"
            },
            "error_y": {
             "color": "#2a3f5f"
            },
            "marker": {
             "line": {
              "color": "#E5ECF6",
              "width": 0.5
             },
             "pattern": {
              "fillmode": "overlay",
              "size": 10,
              "solidity": 0.2
             }
            },
            "type": "bar"
           }
          ],
          "barpolar": [
           {
            "marker": {
             "line": {
              "color": "#E5ECF6",
              "width": 0.5
             },
             "pattern": {
              "fillmode": "overlay",
              "size": 10,
              "solidity": 0.2
             }
            },
            "type": "barpolar"
           }
          ],
          "carpet": [
           {
            "aaxis": {
             "endlinecolor": "#2a3f5f",
             "gridcolor": "white",
             "linecolor": "white",
             "minorgridcolor": "white",
             "startlinecolor": "#2a3f5f"
            },
            "baxis": {
             "endlinecolor": "#2a3f5f",
             "gridcolor": "white",
             "linecolor": "white",
             "minorgridcolor": "white",
             "startlinecolor": "#2a3f5f"
            },
            "type": "carpet"
           }
          ],
          "choropleth": [
           {
            "colorbar": {
             "outlinewidth": 0,
             "ticks": ""
            },
            "type": "choropleth"
           }
          ],
          "contour": [
           {
            "colorbar": {
             "outlinewidth": 0,
             "ticks": ""
            },
            "colorscale": [
             [
              0,
              "#0d0887"
             ],
             [
              0.1111111111111111,
              "#46039f"
             ],
             [
              0.2222222222222222,
              "#7201a8"
             ],
             [
              0.3333333333333333,
              "#9c179e"
             ],
             [
              0.4444444444444444,
              "#bd3786"
             ],
             [
              0.5555555555555556,
              "#d8576b"
             ],
             [
              0.6666666666666666,
              "#ed7953"
             ],
             [
              0.7777777777777778,
              "#fb9f3a"
             ],
             [
              0.8888888888888888,
              "#fdca26"
             ],
             [
              1,
              "#f0f921"
             ]
            ],
            "type": "contour"
           }
          ],
          "contourcarpet": [
           {
            "colorbar": {
             "outlinewidth": 0,
             "ticks": ""
            },
            "type": "contourcarpet"
           }
          ],
          "heatmap": [
           {
            "colorbar": {
             "outlinewidth": 0,
             "ticks": ""
            },
            "colorscale": [
             [
              0,
              "#0d0887"
             ],
             [
              0.1111111111111111,
              "#46039f"
             ],
             [
              0.2222222222222222,
              "#7201a8"
             ],
             [
              0.3333333333333333,
              "#9c179e"
             ],
             [
              0.4444444444444444,
              "#bd3786"
             ],
             [
              0.5555555555555556,
              "#d8576b"
             ],
             [
              0.6666666666666666,
              "#ed7953"
             ],
             [
              0.7777777777777778,
              "#fb9f3a"
             ],
             [
              0.8888888888888888,
              "#fdca26"
             ],
             [
              1,
              "#f0f921"
             ]
            ],
            "type": "heatmap"
           }
          ],
          "heatmapgl": [
           {
            "colorbar": {
             "outlinewidth": 0,
             "ticks": ""
            },
            "colorscale": [
             [
              0,
              "#0d0887"
             ],
             [
              0.1111111111111111,
              "#46039f"
             ],
             [
              0.2222222222222222,
              "#7201a8"
             ],
             [
              0.3333333333333333,
              "#9c179e"
             ],
             [
              0.4444444444444444,
              "#bd3786"
             ],
             [
              0.5555555555555556,
              "#d8576b"
             ],
             [
              0.6666666666666666,
              "#ed7953"
             ],
             [
              0.7777777777777778,
              "#fb9f3a"
             ],
             [
              0.8888888888888888,
              "#fdca26"
             ],
             [
              1,
              "#f0f921"
             ]
            ],
            "type": "heatmapgl"
           }
          ],
          "histogram": [
           {
            "marker": {
             "pattern": {
              "fillmode": "overlay",
              "size": 10,
              "solidity": 0.2
             }
            },
            "type": "histogram"
           }
          ],
          "histogram2d": [
           {
            "colorbar": {
             "outlinewidth": 0,
             "ticks": ""
            },
            "colorscale": [
             [
              0,
              "#0d0887"
             ],
             [
              0.1111111111111111,
              "#46039f"
             ],
             [
              0.2222222222222222,
              "#7201a8"
             ],
             [
              0.3333333333333333,
              "#9c179e"
             ],
             [
              0.4444444444444444,
              "#bd3786"
             ],
             [
              0.5555555555555556,
              "#d8576b"
             ],
             [
              0.6666666666666666,
              "#ed7953"
             ],
             [
              0.7777777777777778,
              "#fb9f3a"
             ],
             [
              0.8888888888888888,
              "#fdca26"
             ],
             [
              1,
              "#f0f921"
             ]
            ],
            "type": "histogram2d"
           }
          ],
          "histogram2dcontour": [
           {
            "colorbar": {
             "outlinewidth": 0,
             "ticks": ""
            },
            "colorscale": [
             [
              0,
              "#0d0887"
             ],
             [
              0.1111111111111111,
              "#46039f"
             ],
             [
              0.2222222222222222,
              "#7201a8"
             ],
             [
              0.3333333333333333,
              "#9c179e"
             ],
             [
              0.4444444444444444,
              "#bd3786"
             ],
             [
              0.5555555555555556,
              "#d8576b"
             ],
             [
              0.6666666666666666,
              "#ed7953"
             ],
             [
              0.7777777777777778,
              "#fb9f3a"
             ],
             [
              0.8888888888888888,
              "#fdca26"
             ],
             [
              1,
              "#f0f921"
             ]
            ],
            "type": "histogram2dcontour"
           }
          ],
          "mesh3d": [
           {
            "colorbar": {
             "outlinewidth": 0,
             "ticks": ""
            },
            "type": "mesh3d"
           }
          ],
          "parcoords": [
           {
            "line": {
             "colorbar": {
              "outlinewidth": 0,
              "ticks": ""
             }
            },
            "type": "parcoords"
           }
          ],
          "pie": [
           {
            "automargin": true,
            "type": "pie"
           }
          ],
          "scatter": [
           {
            "fillpattern": {
             "fillmode": "overlay",
             "size": 10,
             "solidity": 0.2
            },
            "type": "scatter"
           }
          ],
          "scatter3d": [
           {
            "line": {
             "colorbar": {
              "outlinewidth": 0,
              "ticks": ""
             }
            },
            "marker": {
             "colorbar": {
              "outlinewidth": 0,
              "ticks": ""
             }
            },
            "type": "scatter3d"
           }
          ],
          "scattercarpet": [
           {
            "marker": {
             "colorbar": {
              "outlinewidth": 0,
              "ticks": ""
             }
            },
            "type": "scattercarpet"
           }
          ],
          "scattergeo": [
           {
            "marker": {
             "colorbar": {
              "outlinewidth": 0,
              "ticks": ""
             }
            },
            "type": "scattergeo"
           }
          ],
          "scattergl": [
           {
            "marker": {
             "colorbar": {
              "outlinewidth": 0,
              "ticks": ""
             }
            },
            "type": "scattergl"
           }
          ],
          "scattermapbox": [
           {
            "marker": {
             "colorbar": {
              "outlinewidth": 0,
              "ticks": ""
             }
            },
            "type": "scattermapbox"
           }
          ],
          "scatterpolar": [
           {
            "marker": {
             "colorbar": {
              "outlinewidth": 0,
              "ticks": ""
             }
            },
            "type": "scatterpolar"
           }
          ],
          "scatterpolargl": [
           {
            "marker": {
             "colorbar": {
              "outlinewidth": 0,
              "ticks": ""
             }
            },
            "type": "scatterpolargl"
           }
          ],
          "scatterternary": [
           {
            "marker": {
             "colorbar": {
              "outlinewidth": 0,
              "ticks": ""
             }
            },
            "type": "scatterternary"
           }
          ],
          "surface": [
           {
            "colorbar": {
             "outlinewidth": 0,
             "ticks": ""
            },
            "colorscale": [
             [
              0,
              "#0d0887"
             ],
             [
              0.1111111111111111,
              "#46039f"
             ],
             [
              0.2222222222222222,
              "#7201a8"
             ],
             [
              0.3333333333333333,
              "#9c179e"
             ],
             [
              0.4444444444444444,
              "#bd3786"
             ],
             [
              0.5555555555555556,
              "#d8576b"
             ],
             [
              0.6666666666666666,
              "#ed7953"
             ],
             [
              0.7777777777777778,
              "#fb9f3a"
             ],
             [
              0.8888888888888888,
              "#fdca26"
             ],
             [
              1,
              "#f0f921"
             ]
            ],
            "type": "surface"
           }
          ],
          "table": [
           {
            "cells": {
             "fill": {
              "color": "#EBF0F8"
             },
             "line": {
              "color": "white"
             }
            },
            "header": {
             "fill": {
              "color": "#C8D4E3"
             },
             "line": {
              "color": "white"
             }
            },
            "type": "table"
           }
          ]
         },
         "layout": {
          "annotationdefaults": {
           "arrowcolor": "#2a3f5f",
           "arrowhead": 0,
           "arrowwidth": 1
          },
          "autotypenumbers": "strict",
          "coloraxis": {
           "colorbar": {
            "outlinewidth": 0,
            "ticks": ""
           }
          },
          "colorscale": {
           "diverging": [
            [
             0,
             "#8e0152"
            ],
            [
             0.1,
             "#c51b7d"
            ],
            [
             0.2,
             "#de77ae"
            ],
            [
             0.3,
             "#f1b6da"
            ],
            [
             0.4,
             "#fde0ef"
            ],
            [
             0.5,
             "#f7f7f7"
            ],
            [
             0.6,
             "#e6f5d0"
            ],
            [
             0.7,
             "#b8e186"
            ],
            [
             0.8,
             "#7fbc41"
            ],
            [
             0.9,
             "#4d9221"
            ],
            [
             1,
             "#276419"
            ]
           ],
           "sequential": [
            [
             0,
             "#0d0887"
            ],
            [
             0.1111111111111111,
             "#46039f"
            ],
            [
             0.2222222222222222,
             "#7201a8"
            ],
            [
             0.3333333333333333,
             "#9c179e"
            ],
            [
             0.4444444444444444,
             "#bd3786"
            ],
            [
             0.5555555555555556,
             "#d8576b"
            ],
            [
             0.6666666666666666,
             "#ed7953"
            ],
            [
             0.7777777777777778,
             "#fb9f3a"
            ],
            [
             0.8888888888888888,
             "#fdca26"
            ],
            [
             1,
             "#f0f921"
            ]
           ],
           "sequentialminus": [
            [
             0,
             "#0d0887"
            ],
            [
             0.1111111111111111,
             "#46039f"
            ],
            [
             0.2222222222222222,
             "#7201a8"
            ],
            [
             0.3333333333333333,
             "#9c179e"
            ],
            [
             0.4444444444444444,
             "#bd3786"
            ],
            [
             0.5555555555555556,
             "#d8576b"
            ],
            [
             0.6666666666666666,
             "#ed7953"
            ],
            [
             0.7777777777777778,
             "#fb9f3a"
            ],
            [
             0.8888888888888888,
             "#fdca26"
            ],
            [
             1,
             "#f0f921"
            ]
           ]
          },
          "colorway": [
           "#636efa",
           "#EF553B",
           "#00cc96",
           "#ab63fa",
           "#FFA15A",
           "#19d3f3",
           "#FF6692",
           "#B6E880",
           "#FF97FF",
           "#FECB52"
          ],
          "font": {
           "color": "#2a3f5f"
          },
          "geo": {
           "bgcolor": "white",
           "lakecolor": "white",
           "landcolor": "#E5ECF6",
           "showlakes": true,
           "showland": true,
           "subunitcolor": "white"
          },
          "hoverlabel": {
           "align": "left"
          },
          "hovermode": "closest",
          "mapbox": {
           "style": "light"
          },
          "paper_bgcolor": "white",
          "plot_bgcolor": "#E5ECF6",
          "polar": {
           "angularaxis": {
            "gridcolor": "white",
            "linecolor": "white",
            "ticks": ""
           },
           "bgcolor": "#E5ECF6",
           "radialaxis": {
            "gridcolor": "white",
            "linecolor": "white",
            "ticks": ""
           }
          },
          "scene": {
           "xaxis": {
            "backgroundcolor": "#E5ECF6",
            "gridcolor": "white",
            "gridwidth": 2,
            "linecolor": "white",
            "showbackground": true,
            "ticks": "",
            "zerolinecolor": "white"
           },
           "yaxis": {
            "backgroundcolor": "#E5ECF6",
            "gridcolor": "white",
            "gridwidth": 2,
            "linecolor": "white",
            "showbackground": true,
            "ticks": "",
            "zerolinecolor": "white"
           },
           "zaxis": {
            "backgroundcolor": "#E5ECF6",
            "gridcolor": "white",
            "gridwidth": 2,
            "linecolor": "white",
            "showbackground": true,
            "ticks": "",
            "zerolinecolor": "white"
           }
          },
          "shapedefaults": {
           "line": {
            "color": "#2a3f5f"
           }
          },
          "ternary": {
           "aaxis": {
            "gridcolor": "white",
            "linecolor": "white",
            "ticks": ""
           },
           "baxis": {
            "gridcolor": "white",
            "linecolor": "white",
            "ticks": ""
           },
           "bgcolor": "#E5ECF6",
           "caxis": {
            "gridcolor": "white",
            "linecolor": "white",
            "ticks": ""
           }
          },
          "title": {
           "x": 0.05
          },
          "xaxis": {
           "automargin": true,
           "gridcolor": "white",
           "linecolor": "white",
           "ticks": "",
           "title": {
            "standoff": 15
           },
           "zerolinecolor": "white",
           "zerolinewidth": 2
          },
          "yaxis": {
           "automargin": true,
           "gridcolor": "white",
           "linecolor": "white",
           "ticks": "",
           "title": {
            "standoff": 15
           },
           "zerolinecolor": "white",
           "zerolinewidth": 2
          }
         }
        },
        "width": 800,
        "xaxis": {
         "domain": [
          0,
          1
         ],
         "mirror": false,
         "rangemode": "tozero",
         "showgrid": false,
         "showline": false,
         "showticklabels": true,
         "ticks": "",
         "zeroline": false
        },
        "yaxis": {
         "domain": [
          0,
          1
         ],
         "mirror": false,
         "rangemode": "tozero",
         "showgrid": false,
         "showline": false,
         "showticklabels": true,
         "ticks": "",
         "zeroline": false
        }
       }
      }
     },
     "metadata": {},
     "output_type": "display_data"
    }
   ],
   "source": [
    "model = DendrogramCut(k_max=230, method='average').fit(dist)\n",
    "k = model.pac_bayesian_cut()\n",
    "print(k)\n",
    "model.dendrogram_plot(k=k)"
   ]
  },
  {
   "cell_type": "code",
   "execution_count": 8,
   "id": "845e5f18",
   "metadata": {},
   "outputs": [
    {
     "data": {
      "text/plain": [
       "{'icoord': [[5.0, 5.0, 15.0, 15.0],\n",
       "  [35.0, 35.0, 45.0, 45.0],\n",
       "  [25.0, 25.0, 40.0, 40.0],\n",
       "  [75.0, 75.0, 85.0, 85.0],\n",
       "  [65.0, 65.0, 80.0, 80.0],\n",
       "  [55.0, 55.0, 72.5, 72.5],\n",
       "  [105.0, 105.0, 115.0, 115.0],\n",
       "  [95.0, 95.0, 110.0, 110.0],\n",
       "  [125.0, 125.0, 135.0, 135.0],\n",
       "  [145.0, 145.0, 155.0, 155.0],\n",
       "  [195.0, 195.0, 205.0, 205.0],\n",
       "  [185.0, 185.0, 200.0, 200.0],\n",
       "  [175.0, 175.0, 192.5, 192.5],\n",
       "  [165.0, 165.0, 183.75, 183.75],\n",
       "  [225.0, 225.0, 235.0, 235.0],\n",
       "  [265.0, 265.0, 275.0, 275.0],\n",
       "  [255.0, 255.0, 270.0, 270.0],\n",
       "  [245.0, 245.0, 262.5, 262.5],\n",
       "  [315.0, 315.0, 325.0, 325.0],\n",
       "  [345.0, 345.0, 355.0, 355.0],\n",
       "  [335.0, 335.0, 350.0, 350.0],\n",
       "  [320.0, 320.0, 342.5, 342.5],\n",
       "  [375.0, 375.0, 385.0, 385.0],\n",
       "  [365.0, 365.0, 380.0, 380.0],\n",
       "  [331.25, 331.25, 372.5, 372.5],\n",
       "  [305.0, 305.0, 351.875, 351.875],\n",
       "  [295.0, 295.0, 328.4375, 328.4375],\n",
       "  [285.0, 285.0, 311.71875, 311.71875],\n",
       "  [425.0, 425.0, 435.0, 435.0],\n",
       "  [455.0, 455.0, 465.0, 465.0],\n",
       "  [445.0, 445.0, 460.0, 460.0],\n",
       "  [430.0, 430.0, 452.5, 452.5],\n",
       "  [485.0, 485.0, 495.0, 495.0],\n",
       "  [475.0, 475.0, 490.0, 490.0],\n",
       "  [441.25, 441.25, 482.5, 482.5],\n",
       "  [415.0, 415.0, 461.875, 461.875],\n",
       "  [405.0, 405.0, 438.4375, 438.4375],\n",
       "  [395.0, 395.0, 421.71875, 421.71875],\n",
       "  [525.0, 525.0, 535.0, 535.0],\n",
       "  [515.0, 515.0, 530.0, 530.0],\n",
       "  [565.0, 565.0, 575.0, 575.0],\n",
       "  [555.0, 555.0, 570.0, 570.0],\n",
       "  [545.0, 545.0, 562.5, 562.5],\n",
       "  [522.5, 522.5, 553.75, 553.75],\n",
       "  [505.0, 505.0, 538.125, 538.125],\n",
       "  [625.0, 625.0, 635.0, 635.0],\n",
       "  [655.0, 655.0, 665.0, 665.0],\n",
       "  [695.0, 695.0, 705.0, 705.0],\n",
       "  [685.0, 685.0, 700.0, 700.0],\n",
       "  [675.0, 675.0, 692.5, 692.5],\n",
       "  [725.0, 725.0, 735.0, 735.0],\n",
       "  [745.0, 745.0, 755.0, 755.0],\n",
       "  [730.0, 730.0, 750.0, 750.0],\n",
       "  [715.0, 715.0, 740.0, 740.0],\n",
       "  [683.75, 683.75, 727.5, 727.5],\n",
       "  [660.0, 660.0, 705.625, 705.625],\n",
       "  [645.0, 645.0, 682.8125, 682.8125],\n",
       "  [630.0, 630.0, 663.90625, 663.90625],\n",
       "  [615.0, 615.0, 646.953125, 646.953125],\n",
       "  [605.0, 605.0, 630.9765625, 630.9765625],\n",
       "  [595.0, 595.0, 617.98828125, 617.98828125],\n",
       "  [585.0, 585.0, 606.494140625, 606.494140625],\n",
       "  [521.5625, 521.5625, 595.7470703125, 595.7470703125],\n",
       "  [408.359375, 408.359375, 558.65478515625, 558.65478515625],\n",
       "  [298.359375, 298.359375, 483.507080078125, 483.507080078125],\n",
       "  [253.75, 253.75, 390.9332275390625, 390.9332275390625],\n",
       "  [230.0, 230.0, 322.34161376953125, 322.34161376953125],\n",
       "  [215.0, 215.0, 276.1708068847656, 276.1708068847656],\n",
       "  [174.375, 174.375, 245.5854034423828, 245.5854034423828],\n",
       "  [765.0, 765.0, 775.0, 775.0],\n",
       "  [209.9802017211914, 209.9802017211914, 770.0, 770.0],\n",
       "  [795.0, 795.0, 805.0, 805.0],\n",
       "  [785.0, 785.0, 800.0, 800.0],\n",
       "  [489.9901008605957, 489.9901008605957, 792.5, 792.5],\n",
       "  [150.0, 150.0, 641.2450504302979, 641.2450504302979],\n",
       "  [130.0, 130.0, 395.6225252151489, 395.6225252151489],\n",
       "  [102.5, 102.5, 262.81126260757446, 262.81126260757446],\n",
       "  [815.0, 815.0, 825.0, 825.0],\n",
       "  [835.0, 835.0, 845.0, 845.0],\n",
       "  [855.0, 855.0, 865.0, 865.0],\n",
       "  [875.0, 875.0, 885.0, 885.0],\n",
       "  [860.0, 860.0, 880.0, 880.0],\n",
       "  [945.0, 945.0, 955.0, 955.0],\n",
       "  [935.0, 935.0, 950.0, 950.0],\n",
       "  [925.0, 925.0, 942.5, 942.5],\n",
       "  [995.0, 995.0, 1005.0, 1005.0],\n",
       "  [985.0, 985.0, 1000.0, 1000.0],\n",
       "  [1035.0, 1035.0, 1045.0, 1045.0],\n",
       "  [1055.0, 1055.0, 1065.0, 1065.0],\n",
       "  [1040.0, 1040.0, 1060.0, 1060.0],\n",
       "  [1075.0, 1075.0, 1085.0, 1085.0],\n",
       "  [1050.0, 1050.0, 1080.0, 1080.0],\n",
       "  [1095.0, 1095.0, 1105.0, 1105.0],\n",
       "  [1065.0, 1065.0, 1100.0, 1100.0],\n",
       "  [1125.0, 1125.0, 1135.0, 1135.0],\n",
       "  [1115.0, 1115.0, 1130.0, 1130.0],\n",
       "  [1082.5, 1082.5, 1122.5, 1122.5],\n",
       "  [1155.0, 1155.0, 1165.0, 1165.0],\n",
       "  [1175.0, 1175.0, 1185.0, 1185.0],\n",
       "  [1160.0, 1160.0, 1180.0, 1180.0],\n",
       "  [1145.0, 1145.0, 1170.0, 1170.0],\n",
       "  [1102.5, 1102.5, 1157.5, 1157.5],\n",
       "  [1235.0, 1235.0, 1245.0, 1245.0],\n",
       "  [1225.0, 1225.0, 1240.0, 1240.0],\n",
       "  [1215.0, 1215.0, 1232.5, 1232.5],\n",
       "  [1205.0, 1205.0, 1223.75, 1223.75],\n",
       "  [1195.0, 1195.0, 1214.375, 1214.375],\n",
       "  [1130.0, 1130.0, 1204.6875, 1204.6875],\n",
       "  [1025.0, 1025.0, 1167.34375, 1167.34375],\n",
       "  [1015.0, 1015.0, 1096.171875, 1096.171875],\n",
       "  [992.5, 992.5, 1055.5859375, 1055.5859375],\n",
       "  [1305.0, 1305.0, 1315.0, 1315.0],\n",
       "  [1295.0, 1295.0, 1310.0, 1310.0],\n",
       "  [1285.0, 1285.0, 1302.5, 1302.5],\n",
       "  [1335.0, 1335.0, 1345.0, 1345.0],\n",
       "  [1325.0, 1325.0, 1340.0, 1340.0],\n",
       "  [1385.0, 1385.0, 1395.0, 1395.0],\n",
       "  [1375.0, 1375.0, 1390.0, 1390.0],\n",
       "  [1365.0, 1365.0, 1382.5, 1382.5],\n",
       "  [1405.0, 1405.0, 1415.0, 1415.0],\n",
       "  [1435.0, 1435.0, 1445.0, 1445.0],\n",
       "  [1425.0, 1425.0, 1440.0, 1440.0],\n",
       "  [1485.0, 1485.0, 1495.0, 1495.0],\n",
       "  [1475.0, 1475.0, 1490.0, 1490.0],\n",
       "  [1465.0, 1465.0, 1482.5, 1482.5],\n",
       "  [1455.0, 1455.0, 1473.75, 1473.75],\n",
       "  [1515.0, 1515.0, 1525.0, 1525.0],\n",
       "  [1505.0, 1505.0, 1520.0, 1520.0],\n",
       "  [1464.375, 1464.375, 1512.5, 1512.5],\n",
       "  [1432.5, 1432.5, 1488.4375, 1488.4375],\n",
       "  [1410.0, 1410.0, 1460.46875, 1460.46875],\n",
       "  [1373.75, 1373.75, 1435.234375, 1435.234375],\n",
       "  [1355.0, 1355.0, 1404.4921875, 1404.4921875],\n",
       "  [1332.5, 1332.5, 1379.74609375, 1379.74609375],\n",
       "  [1293.75, 1293.75, 1356.123046875, 1356.123046875],\n",
       "  [1275.0, 1275.0, 1324.9365234375, 1324.9365234375],\n",
       "  [1265.0, 1265.0, 1299.96826171875, 1299.96826171875],\n",
       "  [1255.0, 1255.0, 1282.484130859375, 1282.484130859375],\n",
       "  [1024.04296875, 1024.04296875, 1268.7420654296875, 1268.7420654296875],\n",
       "  [975.0, 975.0, 1146.3925170898438, 1146.3925170898438],\n",
       "  [965.0, 965.0, 1060.6962585449219, 1060.6962585449219],\n",
       "  [933.75, 933.75, 1012.8481292724609, 1012.8481292724609],\n",
       "  [915.0, 915.0, 973.2990646362305, 973.2990646362305],\n",
       "  [905.0, 905.0, 944.1495323181152, 944.1495323181152],\n",
       "  [895.0, 895.0, 924.5747661590576, 924.5747661590576],\n",
       "  [1575.0, 1575.0, 1585.0, 1585.0],\n",
       "  [1605.0, 1605.0, 1615.0, 1615.0],\n",
       "  [1595.0, 1595.0, 1610.0, 1610.0],\n",
       "  [1665.0, 1665.0, 1675.0, 1675.0],\n",
       "  [1655.0, 1655.0, 1670.0, 1670.0],\n",
       "  [1645.0, 1645.0, 1662.5, 1662.5],\n",
       "  [1635.0, 1635.0, 1653.75, 1653.75],\n",
       "  [1625.0, 1625.0, 1644.375, 1644.375],\n",
       "  [1602.5, 1602.5, 1634.6875, 1634.6875],\n",
       "  [1580.0, 1580.0, 1618.59375, 1618.59375],\n",
       "  [1565.0, 1565.0, 1599.296875, 1599.296875],\n",
       "  [1685.0, 1685.0, 1695.0, 1695.0],\n",
       "  [1582.1484375, 1582.1484375, 1690.0, 1690.0],\n",
       "  [1555.0, 1555.0, 1636.07421875, 1636.07421875],\n",
       "  [1705.0, 1705.0, 1715.0, 1715.0],\n",
       "  [1725.0, 1725.0, 1735.0, 1735.0],\n",
       "  [1710.0, 1710.0, 1730.0, 1730.0],\n",
       "  [1595.537109375, 1595.537109375, 1720.0, 1720.0],\n",
       "  [1765.0, 1765.0, 1775.0, 1775.0],\n",
       "  [1755.0, 1755.0, 1770.0, 1770.0],\n",
       "  [1745.0, 1745.0, 1762.5, 1762.5],\n",
       "  [1805.0, 1805.0, 1815.0, 1815.0],\n",
       "  [1795.0, 1795.0, 1810.0, 1810.0],\n",
       "  [1785.0, 1785.0, 1802.5, 1802.5],\n",
       "  [1753.75, 1753.75, 1793.75, 1793.75],\n",
       "  [1657.7685546875, 1657.7685546875, 1773.75, 1773.75],\n",
       "  [1835.0, 1835.0, 1845.0, 1845.0],\n",
       "  [1875.0, 1875.0, 1885.0, 1885.0],\n",
       "  [1865.0, 1865.0, 1880.0, 1880.0],\n",
       "  [1925.0, 1925.0, 1935.0, 1935.0],\n",
       "  [1915.0, 1915.0, 1930.0, 1930.0],\n",
       "  [1955.0, 1955.0, 1965.0, 1965.0],\n",
       "  [1945.0, 1945.0, 1960.0, 1960.0],\n",
       "  [1922.5, 1922.5, 1952.5, 1952.5],\n",
       "  [1985.0, 1985.0, 1995.0, 1995.0],\n",
       "  [1975.0, 1975.0, 1990.0, 1990.0],\n",
       "  [2025.0, 2025.0, 2035.0, 2035.0],\n",
       "  [2015.0, 2015.0, 2030.0, 2030.0],\n",
       "  [2005.0, 2005.0, 2022.5, 2022.5],\n",
       "  [2065.0, 2065.0, 2075.0, 2075.0],\n",
       "  [2055.0, 2055.0, 2070.0, 2070.0],\n",
       "  [2045.0, 2045.0, 2062.5, 2062.5],\n",
       "  [2013.75, 2013.75, 2053.75, 2053.75],\n",
       "  [1982.5, 1982.5, 2033.75, 2033.75],\n",
       "  [1937.5, 1937.5, 2008.125, 2008.125],\n",
       "  [1905.0, 1905.0, 1972.8125, 1972.8125],\n",
       "  [1895.0, 1895.0, 1938.90625, 1938.90625],\n",
       "  [1872.5, 1872.5, 1916.953125, 1916.953125],\n",
       "  [1855.0, 1855.0, 1894.7265625, 1894.7265625],\n",
       "  [1840.0, 1840.0, 1874.86328125, 1874.86328125],\n",
       "  [1825.0, 1825.0, 1857.431640625, 1857.431640625],\n",
       "  [1715.75927734375, 1715.75927734375, 1841.2158203125, 1841.2158203125],\n",
       "  [1545.0, 1545.0, 1778.487548828125, 1778.487548828125],\n",
       "  [1535.0, 1535.0, 1661.7437744140625, 1661.7437744140625],\n",
       "  [909.7873830795288,\n",
       "   909.7873830795288,\n",
       "   1598.3718872070312,\n",
       "   1598.3718872070312],\n",
       "  [870.0, 870.0, 1254.07963514328, 1254.07963514328],\n",
       "  [840.0, 840.0, 1062.03981757164, 1062.03981757164],\n",
       "  [820.0, 820.0, 951.01990878582, 951.01990878582],\n",
       "  [2085.0, 2085.0, 2095.0, 2095.0],\n",
       "  [2115.0, 2115.0, 2125.0, 2125.0],\n",
       "  [2105.0, 2105.0, 2120.0, 2120.0],\n",
       "  [2145.0, 2145.0, 2155.0, 2155.0],\n",
       "  [2135.0, 2135.0, 2150.0, 2150.0],\n",
       "  [2112.5, 2112.5, 2142.5, 2142.5],\n",
       "  [2165.0, 2165.0, 2175.0, 2175.0],\n",
       "  [2195.0, 2195.0, 2205.0, 2205.0],\n",
       "  [2185.0, 2185.0, 2200.0, 2200.0],\n",
       "  [2225.0, 2225.0, 2235.0, 2235.0],\n",
       "  [2215.0, 2215.0, 2230.0, 2230.0],\n",
       "  [2255.0, 2255.0, 2265.0, 2265.0],\n",
       "  [2245.0, 2245.0, 2260.0, 2260.0],\n",
       "  [2285.0, 2285.0, 2295.0, 2295.0],\n",
       "  [2275.0, 2275.0, 2290.0, 2290.0],\n",
       "  [2252.5, 2252.5, 2282.5, 2282.5],\n",
       "  [2222.5, 2222.5, 2267.5, 2267.5],\n",
       "  [2192.5, 2192.5, 2245.0, 2245.0],\n",
       "  [2170.0, 2170.0, 2218.75, 2218.75],\n",
       "  [2127.5, 2127.5, 2194.375, 2194.375],\n",
       "  [2090.0, 2090.0, 2160.9375, 2160.9375],\n",
       "  [885.50995439291, 885.50995439291, 2125.46875, 2125.46875],\n",
       "  [182.65563130378723,\n",
       "   182.65563130378723,\n",
       "   1505.489352196455,\n",
       "   1505.489352196455],\n",
       "  [63.75, 63.75, 844.0724917501211, 844.0724917501211],\n",
       "  [32.5, 32.5, 453.91124587506056, 453.91124587506056],\n",
       "  [10.0, 10.0, 243.20562293753028, 243.20562293753028]],\n",
       " 'dcoord': [[0.0, 0.97, 0.97, 0.0],\n",
       "  [0.0, 0.86, 0.86, 0.0],\n",
       "  [0.0, 0.9, 0.9, 0.86],\n",
       "  [0.0, 0.96, 0.96, 0.0],\n",
       "  [0.0, 0.96, 0.96, 0.96],\n",
       "  [0.0, 0.98, 0.98, 0.96],\n",
       "  [0.0, 0.85, 0.85, 0.0],\n",
       "  [0.0, 0.91, 0.91, 0.85],\n",
       "  [0.0, 0.99, 0.99, 0.0],\n",
       "  [0.0, 0.89, 0.89, 0.0],\n",
       "  [0.0, 0.44, 0.44, 0.0],\n",
       "  [0.0, 0.54, 0.54, 0.44],\n",
       "  [0.0, 0.56, 0.56, 0.54],\n",
       "  [0.0, 0.59, 0.59, 0.56],\n",
       "  [0.0, 0.61, 0.61, 0.0],\n",
       "  [0.0, 0.47, 0.47, 0.0],\n",
       "  [0.0, 0.56, 0.56, 0.47],\n",
       "  [0.0, 0.62, 0.62, 0.56],\n",
       "  [0.0, 0.23, 0.23, 0.0],\n",
       "  [0.0, 0.35, 0.35, 0.0],\n",
       "  [0.0, 0.43, 0.43, 0.35],\n",
       "  [0.23, 0.51, 0.51, 0.43],\n",
       "  [0.0, 0.26, 0.26, 0.0],\n",
       "  [0.0, 0.53, 0.53, 0.26],\n",
       "  [0.51, 0.59, 0.59, 0.53],\n",
       "  [0.0, 0.6, 0.6, 0.59],\n",
       "  [0.0, 0.61, 0.61, 0.6],\n",
       "  [0.0, 0.61, 0.61, 0.61],\n",
       "  [0.0, 0.32, 0.32, 0.0],\n",
       "  [0.0, 0.4, 0.4, 0.0],\n",
       "  [0.0, 0.42, 0.42, 0.4],\n",
       "  [0.32, 0.49, 0.49, 0.42],\n",
       "  [0.0, 0.54, 0.54, 0.0],\n",
       "  [0.0, 0.55, 0.55, 0.54],\n",
       "  [0.49, 0.57, 0.57, 0.55],\n",
       "  [0.0, 0.57, 0.57, 0.57],\n",
       "  [0.0, 0.61, 0.61, 0.57],\n",
       "  [0.0, 0.66, 0.66, 0.61],\n",
       "  [0.0, 0.39, 0.39, 0.0],\n",
       "  [0.0, 0.45, 0.45, 0.39],\n",
       "  [0.0, 0.32, 0.32, 0.0],\n",
       "  [0.0, 0.51, 0.51, 0.32],\n",
       "  [0.0, 0.55, 0.55, 0.51],\n",
       "  [0.45, 0.6, 0.6, 0.55],\n",
       "  [0.0, 0.62, 0.62, 0.6],\n",
       "  [0.0, 0.51, 0.51, 0.0],\n",
       "  [0.0, 0.0, 0.0, 0.0],\n",
       "  [0.0, 0.29, 0.29, 0.0],\n",
       "  [0.0, 0.32, 0.32, 0.29],\n",
       "  [0.0, 0.34, 0.34, 0.32],\n",
       "  [0.0, 0.23, 0.23, 0.0],\n",
       "  [0.0, 0.42, 0.42, 0.0],\n",
       "  [0.23, 0.45, 0.45, 0.42],\n",
       "  [0.0, 0.47, 0.47, 0.45],\n",
       "  [0.34, 0.48, 0.48, 0.47],\n",
       "  [0.0, 0.51, 0.51, 0.48],\n",
       "  [0.0, 0.53, 0.53, 0.51],\n",
       "  [0.51, 0.54, 0.54, 0.53],\n",
       "  [0.0, 0.54, 0.54, 0.54],\n",
       "  [0.0, 0.55, 0.55, 0.54],\n",
       "  [0.0, 0.55, 0.55, 0.55],\n",
       "  [0.0, 0.67, 0.67, 0.55],\n",
       "  [0.62, 0.67, 0.67, 0.67],\n",
       "  [0.66, 0.7, 0.7, 0.67],\n",
       "  [0.61, 0.7, 0.7, 0.7],\n",
       "  [0.62, 0.71, 0.71, 0.7],\n",
       "  [0.61, 0.73, 0.73, 0.71],\n",
       "  [0.0, 0.74, 0.74, 0.73],\n",
       "  [0.59, 0.74, 0.74, 0.74],\n",
       "  [0.0, 0.8, 0.8, 0.0],\n",
       "  [0.74, 0.85, 0.85, 0.8],\n",
       "  [0.0, 0.93, 0.93, 0.0],\n",
       "  [0.0, 0.93, 0.93, 0.93],\n",
       "  [0.85, 0.84, 0.84, 0.93],\n",
       "  [0.89, 0.84, 0.84, 0.84],\n",
       "  [0.99, 0.88, 0.88, 0.84],\n",
       "  [0.91, 0.9, 0.9, 0.88],\n",
       "  [0.0, 0.92, 0.92, 0.0],\n",
       "  [0.0, 0.94, 0.94, 0.0],\n",
       "  [0.0, 0.74, 0.74, 0.0],\n",
       "  [0.0, 0.91, 0.91, 0.0],\n",
       "  [0.74, 0.92, 0.92, 0.91],\n",
       "  [0.0, 0.03, 0.03, 0.0],\n",
       "  [0.0, 0.28, 0.28, 0.03],\n",
       "  [0.0, 0.5, 0.5, 0.28],\n",
       "  [0.0, 0.28, 0.28, 0.0],\n",
       "  [0.0, 0.41, 0.41, 0.28],\n",
       "  [0.0, 0.04, 0.04, 0.0],\n",
       "  [0.0, 0.17, 0.17, 0.0],\n",
       "  [0.04, 0.19, 0.19, 0.17],\n",
       "  [0.0, 0.22, 0.22, 0.0],\n",
       "  [0.19, 0.22, 0.22, 0.22],\n",
       "  [0.0, 0.23, 0.23, 0.0],\n",
       "  [0.22, 0.28, 0.28, 0.23],\n",
       "  [0.0, 0.09, 0.09, 0.0],\n",
       "  [0.0, 0.29, 0.29, 0.09],\n",
       "  [0.28, 0.29, 0.29, 0.29],\n",
       "  [0.0, 0.21, 0.21, 0.0],\n",
       "  [0.0, 0.24, 0.24, 0.0],\n",
       "  [0.21, 0.31, 0.31, 0.24],\n",
       "  [0.0, 0.34, 0.34, 0.31],\n",
       "  [0.29, 0.37, 0.37, 0.34],\n",
       "  [0.0, 0.09, 0.09, 0.0],\n",
       "  [0.0, 0.33, 0.33, 0.09],\n",
       "  [0.0, 0.34, 0.34, 0.33],\n",
       "  [0.0, 0.34, 0.34, 0.34],\n",
       "  [0.0, 0.39, 0.39, 0.34],\n",
       "  [0.37, 0.42, 0.42, 0.39],\n",
       "  [0.0, 0.47, 0.47, 0.42],\n",
       "  [0.0, 0.47, 0.47, 0.47],\n",
       "  [0.41, 0.49, 0.49, 0.47],\n",
       "  [0.0, 0.09, 0.09, 0.0],\n",
       "  [0.0, 0.18, 0.18, 0.09],\n",
       "  [0.0, 0.35, 0.35, 0.18],\n",
       "  [0.0, 0.19, 0.19, 0.0],\n",
       "  [0.0, 0.26, 0.26, 0.19],\n",
       "  [0.0, 0.27, 0.27, 0.0],\n",
       "  [0.0, 0.28, 0.28, 0.27],\n",
       "  [0.0, 0.29, 0.29, 0.28],\n",
       "  [0.0, 0.02, 0.02, 0.0],\n",
       "  [0.0, 0.07, 0.07, 0.0],\n",
       "  [0.0, 0.17, 0.17, 0.07],\n",
       "  [0.0, 0.2, 0.2, 0.0],\n",
       "  [0.0, 0.22, 0.22, 0.2],\n",
       "  [0.0, 0.23, 0.23, 0.22],\n",
       "  [0.0, 0.24, 0.24, 0.23],\n",
       "  [0.0, 0.24, 0.24, 0.0],\n",
       "  [0.0, 0.25, 0.25, 0.24],\n",
       "  [0.24, 0.26, 0.26, 0.25],\n",
       "  [0.17, 0.29, 0.29, 0.26],\n",
       "  [0.02, 0.3, 0.3, 0.29],\n",
       "  [0.29, 0.4, 0.4, 0.3],\n",
       "  [0.0, 0.4, 0.4, 0.4],\n",
       "  [0.26, 0.43, 0.43, 0.4],\n",
       "  [0.35, 0.46, 0.46, 0.43],\n",
       "  [0.0, 0.5, 0.5, 0.46],\n",
       "  [0.0, 0.5, 0.5, 0.5],\n",
       "  [0.0, 0.51, 0.51, 0.5],\n",
       "  [0.49, 0.51, 0.51, 0.51],\n",
       "  [0.0, 0.51, 0.51, 0.51],\n",
       "  [0.0, 0.51, 0.51, 0.51],\n",
       "  [0.5, 0.51, 0.51, 0.51],\n",
       "  [0.0, 0.55, 0.55, 0.51],\n",
       "  [0.0, 0.59, 0.59, 0.55],\n",
       "  [0.0, 0.76, 0.76, 0.59],\n",
       "  [0.0, 0.33, 0.33, 0.0],\n",
       "  [0.0, 0.01, 0.01, 0.0],\n",
       "  [0.0, 0.24, 0.24, 0.01],\n",
       "  [0.0, 0.18, 0.18, 0.0],\n",
       "  [0.0, 0.22, 0.22, 0.18],\n",
       "  [0.0, 0.27, 0.27, 0.22],\n",
       "  [0.0, 0.29, 0.29, 0.27],\n",
       "  [0.0, 0.33, 0.33, 0.29],\n",
       "  [0.24, 0.34, 0.34, 0.33],\n",
       "  [0.33, 0.36, 0.36, 0.34],\n",
       "  [0.0, 0.41, 0.41, 0.36],\n",
       "  [0.0, 0.45, 0.45, 0.0],\n",
       "  [0.41, 0.46, 0.46, 0.45],\n",
       "  [0.0, 0.5, 0.5, 0.46],\n",
       "  [0.0, 0.02, 0.02, 0.0],\n",
       "  [0.0, 0.31, 0.31, 0.0],\n",
       "  [0.02, 0.51, 0.51, 0.31],\n",
       "  [0.5, 0.52, 0.52, 0.51],\n",
       "  [0.0, 0.24, 0.24, 0.0],\n",
       "  [0.0, 0.26, 0.26, 0.24],\n",
       "  [0.0, 0.57, 0.57, 0.26],\n",
       "  [0.0, 0.49, 0.49, 0.0],\n",
       "  [0.0, 0.53, 0.53, 0.49],\n",
       "  [0.0, 0.57, 0.57, 0.53],\n",
       "  [0.57, 0.63, 0.63, 0.57],\n",
       "  [0.52, 0.69, 0.69, 0.63],\n",
       "  [0.0, 0.32, 0.32, 0.0],\n",
       "  [0.0, 0.38, 0.38, 0.0],\n",
       "  [0.0, 0.47, 0.47, 0.38],\n",
       "  [0.0, 0.16, 0.16, 0.0],\n",
       "  [0.0, 0.33, 0.33, 0.16],\n",
       "  [0.0, 0.34, 0.34, 0.0],\n",
       "  [0.0, 0.37, 0.37, 0.34],\n",
       "  [0.33, 0.38, 0.38, 0.37],\n",
       "  [0.0, 0.1, 0.1, 0.0],\n",
       "  [0.0, 0.24, 0.24, 0.1],\n",
       "  [0.0, 0.12, 0.12, 0.0],\n",
       "  [0.0, 0.21, 0.21, 0.12],\n",
       "  [0.0, 0.26, 0.26, 0.21],\n",
       "  [0.0, 0.22, 0.22, 0.0],\n",
       "  [0.0, 0.25, 0.25, 0.22],\n",
       "  [0.0, 0.27, 0.27, 0.25],\n",
       "  [0.26, 0.29, 0.29, 0.27],\n",
       "  [0.24, 0.47, 0.47, 0.29],\n",
       "  [0.38, 0.47, 0.47, 0.47],\n",
       "  [0.0, 0.47, 0.47, 0.47],\n",
       "  [0.0, 0.52, 0.52, 0.47],\n",
       "  [0.47, 0.58, 0.58, 0.52],\n",
       "  [0.0, 0.62, 0.62, 0.58],\n",
       "  [0.32, 0.66, 0.66, 0.62],\n",
       "  [0.0, 0.72, 0.72, 0.66],\n",
       "  [0.69, 0.73, 0.73, 0.72],\n",
       "  [0.0, 0.74, 0.74, 0.73],\n",
       "  [0.0, 0.81, 0.81, 0.74],\n",
       "  [0.76, 0.7, 0.7, 0.81],\n",
       "  [0.92, 0.74, 0.74, 0.7],\n",
       "  [0.94, 0.76, 0.76, 0.74],\n",
       "  [0.92, 0.9, 0.9, 0.76],\n",
       "  [0.0, 0.96, 0.96, 0.0],\n",
       "  [0.0, 0.67, 0.67, 0.0],\n",
       "  [0.0, 0.76, 0.76, 0.67],\n",
       "  [0.0, 0.89, 0.89, 0.0],\n",
       "  [0.0, 0.92, 0.92, 0.89],\n",
       "  [0.76, 0.99, 0.99, 0.92],\n",
       "  [0.0, 0.53, 0.53, 0.0],\n",
       "  [0.0, 0.68, 0.68, 0.0],\n",
       "  [0.0, 0.69, 0.69, 0.68],\n",
       "  [0.0, 0.88, 0.88, 0.0],\n",
       "  [0.0, 0.95, 0.95, 0.88],\n",
       "  [0.0, 0.71, 0.71, 0.0],\n",
       "  [0.0, 0.79, 0.79, 0.71],\n",
       "  [0.0, 0.86, 0.86, 0.0],\n",
       "  [0.0, 0.95, 0.95, 0.86],\n",
       "  [0.79, 0.98, 0.98, 0.95],\n",
       "  [0.95, 0.99, 0.99, 0.98],\n",
       "  [0.69, 0.8, 0.8, 0.99],\n",
       "  [0.53, 0.9, 0.9, 0.8],\n",
       "  [0.99, 0.9, 0.9, 0.9],\n",
       "  [0.96, 0.9, 0.9, 0.9],\n",
       "  [0.9, 0.91, 0.91, 0.9],\n",
       "  [0.9, 0.91, 0.91, 0.91],\n",
       "  [0.98, 0.92, 0.92, 0.91],\n",
       "  [0.9, 0.95, 0.95, 0.92],\n",
       "  [0.97, 0.95, 0.95, 0.95]],\n",
       " 'ivl': ['183',\n",
       "  '208',\n",
       "  '228',\n",
       "  '185',\n",
       "  '188',\n",
       "  '194',\n",
       "  '209',\n",
       "  '201',\n",
       "  '216',\n",
       "  '181',\n",
       "  '197',\n",
       "  '217',\n",
       "  '182',\n",
       "  '210',\n",
       "  '180',\n",
       "  '193',\n",
       "  '153',\n",
       "  '149',\n",
       "  '152',\n",
       "  '150',\n",
       "  '151',\n",
       "  '126',\n",
       "  '147',\n",
       "  '148',\n",
       "  '157',\n",
       "  '156',\n",
       "  '154',\n",
       "  '155',\n",
       "  '158',\n",
       "  '163',\n",
       "  '159',\n",
       "  '167',\n",
       "  '168',\n",
       "  '166',\n",
       "  '164',\n",
       "  '165',\n",
       "  '162',\n",
       "  '160',\n",
       "  '161',\n",
       "  '136',\n",
       "  '137',\n",
       "  '146',\n",
       "  '141',\n",
       "  '142',\n",
       "  '138',\n",
       "  '139',\n",
       "  '140',\n",
       "  '143',\n",
       "  '144',\n",
       "  '145',\n",
       "  '134',\n",
       "  '133',\n",
       "  '131',\n",
       "  '132',\n",
       "  '127',\n",
       "  '128',\n",
       "  '129',\n",
       "  '130',\n",
       "  '125',\n",
       "  '124',\n",
       "  '169',\n",
       "  '123',\n",
       "  '121',\n",
       "  '122',\n",
       "  '225',\n",
       "  '120',\n",
       "  '179',\n",
       "  '173',\n",
       "  '172',\n",
       "  '170',\n",
       "  '171',\n",
       "  '178',\n",
       "  '176',\n",
       "  '177',\n",
       "  '174',\n",
       "  '175',\n",
       "  '135',\n",
       "  '218',\n",
       "  '226',\n",
       "  '224',\n",
       "  '229',\n",
       "  '187',\n",
       "  '195',\n",
       "  '200',\n",
       "  '207',\n",
       "  '184',\n",
       "  '213',\n",
       "  '83',\n",
       "  '95',\n",
       "  '14',\n",
       "  '43',\n",
       "  '18',\n",
       "  '4',\n",
       "  '8',\n",
       "  '7',\n",
       "  '198',\n",
       "  '55',\n",
       "  '29',\n",
       "  '90',\n",
       "  '88',\n",
       "  '89',\n",
       "  '28',\n",
       "  '24',\n",
       "  '11',\n",
       "  '12',\n",
       "  '13',\n",
       "  '15',\n",
       "  '9',\n",
       "  '10',\n",
       "  '16',\n",
       "  '17',\n",
       "  '19',\n",
       "  '20',\n",
       "  '21',\n",
       "  '27',\n",
       "  '22',\n",
       "  '23',\n",
       "  '25',\n",
       "  '26',\n",
       "  '2',\n",
       "  '1',\n",
       "  '0',\n",
       "  '3',\n",
       "  '5',\n",
       "  '6',\n",
       "  '31',\n",
       "  '32',\n",
       "  '30',\n",
       "  '59',\n",
       "  '58',\n",
       "  '56',\n",
       "  '57',\n",
       "  '33',\n",
       "  '34',\n",
       "  '35',\n",
       "  '38',\n",
       "  '36',\n",
       "  '37',\n",
       "  '39',\n",
       "  '40',\n",
       "  '41',\n",
       "  '42',\n",
       "  '52',\n",
       "  '49',\n",
       "  '50',\n",
       "  '46',\n",
       "  '48',\n",
       "  '44',\n",
       "  '45',\n",
       "  '47',\n",
       "  '51',\n",
       "  '53',\n",
       "  '54',\n",
       "  '91',\n",
       "  '73',\n",
       "  '108',\n",
       "  '103',\n",
       "  '101',\n",
       "  '102',\n",
       "  '111',\n",
       "  '112',\n",
       "  '113',\n",
       "  '110',\n",
       "  '109',\n",
       "  '107',\n",
       "  '104',\n",
       "  '105',\n",
       "  '106',\n",
       "  '114',\n",
       "  '116',\n",
       "  '118',\n",
       "  '119',\n",
       "  '115',\n",
       "  '117',\n",
       "  '97',\n",
       "  '100',\n",
       "  '98',\n",
       "  '99',\n",
       "  '92',\n",
       "  '96',\n",
       "  '93',\n",
       "  '94',\n",
       "  '87',\n",
       "  '85',\n",
       "  '86',\n",
       "  '64',\n",
       "  '81',\n",
       "  '82',\n",
       "  '84',\n",
       "  '78',\n",
       "  '60',\n",
       "  '76',\n",
       "  '74',\n",
       "  '75',\n",
       "  '80',\n",
       "  '77',\n",
       "  '79',\n",
       "  '63',\n",
       "  '61',\n",
       "  '62',\n",
       "  '69',\n",
       "  '71',\n",
       "  '70',\n",
       "  '72',\n",
       "  '68',\n",
       "  '65',\n",
       "  '66',\n",
       "  '67',\n",
       "  '202',\n",
       "  '212',\n",
       "  '211',\n",
       "  '219',\n",
       "  '220',\n",
       "  '215',\n",
       "  '186',\n",
       "  '196',\n",
       "  '204',\n",
       "  '205',\n",
       "  '203',\n",
       "  '191',\n",
       "  '206',\n",
       "  '223',\n",
       "  '192',\n",
       "  '214',\n",
       "  '190',\n",
       "  '189',\n",
       "  '199',\n",
       "  '227',\n",
       "  '221',\n",
       "  '222'],\n",
       " 'leaves': [183,\n",
       "  208,\n",
       "  228,\n",
       "  185,\n",
       "  188,\n",
       "  194,\n",
       "  209,\n",
       "  201,\n",
       "  216,\n",
       "  181,\n",
       "  197,\n",
       "  217,\n",
       "  182,\n",
       "  210,\n",
       "  180,\n",
       "  193,\n",
       "  153,\n",
       "  149,\n",
       "  152,\n",
       "  150,\n",
       "  151,\n",
       "  126,\n",
       "  147,\n",
       "  148,\n",
       "  157,\n",
       "  156,\n",
       "  154,\n",
       "  155,\n",
       "  158,\n",
       "  163,\n",
       "  159,\n",
       "  167,\n",
       "  168,\n",
       "  166,\n",
       "  164,\n",
       "  165,\n",
       "  162,\n",
       "  160,\n",
       "  161,\n",
       "  136,\n",
       "  137,\n",
       "  146,\n",
       "  141,\n",
       "  142,\n",
       "  138,\n",
       "  139,\n",
       "  140,\n",
       "  143,\n",
       "  144,\n",
       "  145,\n",
       "  134,\n",
       "  133,\n",
       "  131,\n",
       "  132,\n",
       "  127,\n",
       "  128,\n",
       "  129,\n",
       "  130,\n",
       "  125,\n",
       "  124,\n",
       "  169,\n",
       "  123,\n",
       "  121,\n",
       "  122,\n",
       "  225,\n",
       "  120,\n",
       "  179,\n",
       "  173,\n",
       "  172,\n",
       "  170,\n",
       "  171,\n",
       "  178,\n",
       "  176,\n",
       "  177,\n",
       "  174,\n",
       "  175,\n",
       "  135,\n",
       "  218,\n",
       "  226,\n",
       "  224,\n",
       "  229,\n",
       "  187,\n",
       "  195,\n",
       "  200,\n",
       "  207,\n",
       "  184,\n",
       "  213,\n",
       "  83,\n",
       "  95,\n",
       "  14,\n",
       "  43,\n",
       "  18,\n",
       "  4,\n",
       "  8,\n",
       "  7,\n",
       "  198,\n",
       "  55,\n",
       "  29,\n",
       "  90,\n",
       "  88,\n",
       "  89,\n",
       "  28,\n",
       "  24,\n",
       "  11,\n",
       "  12,\n",
       "  13,\n",
       "  15,\n",
       "  9,\n",
       "  10,\n",
       "  16,\n",
       "  17,\n",
       "  19,\n",
       "  20,\n",
       "  21,\n",
       "  27,\n",
       "  22,\n",
       "  23,\n",
       "  25,\n",
       "  26,\n",
       "  2,\n",
       "  1,\n",
       "  0,\n",
       "  3,\n",
       "  5,\n",
       "  6,\n",
       "  31,\n",
       "  32,\n",
       "  30,\n",
       "  59,\n",
       "  58,\n",
       "  56,\n",
       "  57,\n",
       "  33,\n",
       "  34,\n",
       "  35,\n",
       "  38,\n",
       "  36,\n",
       "  37,\n",
       "  39,\n",
       "  40,\n",
       "  41,\n",
       "  42,\n",
       "  52,\n",
       "  49,\n",
       "  50,\n",
       "  46,\n",
       "  48,\n",
       "  44,\n",
       "  45,\n",
       "  47,\n",
       "  51,\n",
       "  53,\n",
       "  54,\n",
       "  91,\n",
       "  73,\n",
       "  108,\n",
       "  103,\n",
       "  101,\n",
       "  102,\n",
       "  111,\n",
       "  112,\n",
       "  113,\n",
       "  110,\n",
       "  109,\n",
       "  107,\n",
       "  104,\n",
       "  105,\n",
       "  106,\n",
       "  114,\n",
       "  116,\n",
       "  118,\n",
       "  119,\n",
       "  115,\n",
       "  117,\n",
       "  97,\n",
       "  100,\n",
       "  98,\n",
       "  99,\n",
       "  92,\n",
       "  96,\n",
       "  93,\n",
       "  94,\n",
       "  87,\n",
       "  85,\n",
       "  86,\n",
       "  64,\n",
       "  81,\n",
       "  82,\n",
       "  84,\n",
       "  78,\n",
       "  60,\n",
       "  76,\n",
       "  74,\n",
       "  75,\n",
       "  80,\n",
       "  77,\n",
       "  79,\n",
       "  63,\n",
       "  61,\n",
       "  62,\n",
       "  69,\n",
       "  71,\n",
       "  70,\n",
       "  72,\n",
       "  68,\n",
       "  65,\n",
       "  66,\n",
       "  67,\n",
       "  202,\n",
       "  212,\n",
       "  211,\n",
       "  219,\n",
       "  220,\n",
       "  215,\n",
       "  186,\n",
       "  196,\n",
       "  204,\n",
       "  205,\n",
       "  203,\n",
       "  191,\n",
       "  206,\n",
       "  223,\n",
       "  192,\n",
       "  214,\n",
       "  190,\n",
       "  189,\n",
       "  199,\n",
       "  227,\n",
       "  221,\n",
       "  222],\n",
       " 'color_list': ['C0',\n",
       "  'C0',\n",
       "  'C0',\n",
       "  'C0',\n",
       "  'C0',\n",
       "  'C0',\n",
       "  'C0',\n",
       "  'C0',\n",
       "  'C0',\n",
       "  'C0',\n",
       "  'C1',\n",
       "  'C1',\n",
       "  'C1',\n",
       "  'C1',\n",
       "  'C2',\n",
       "  'C3',\n",
       "  'C3',\n",
       "  'C3',\n",
       "  'C4',\n",
       "  'C4',\n",
       "  'C4',\n",
       "  'C4',\n",
       "  'C4',\n",
       "  'C4',\n",
       "  'C4',\n",
       "  'C4',\n",
       "  'C4',\n",
       "  'C4',\n",
       "  'C5',\n",
       "  'C5',\n",
       "  'C5',\n",
       "  'C5',\n",
       "  'C5',\n",
       "  'C5',\n",
       "  'C5',\n",
       "  'C5',\n",
       "  'C5',\n",
       "  'C5',\n",
       "  'C6',\n",
       "  'C6',\n",
       "  'C6',\n",
       "  'C6',\n",
       "  'C6',\n",
       "  'C6',\n",
       "  'C6',\n",
       "  'C6',\n",
       "  'C6',\n",
       "  'C6',\n",
       "  'C6',\n",
       "  'C6',\n",
       "  'C6',\n",
       "  'C6',\n",
       "  'C6',\n",
       "  'C6',\n",
       "  'C6',\n",
       "  'C6',\n",
       "  'C6',\n",
       "  'C6',\n",
       "  'C6',\n",
       "  'C6',\n",
       "  'C6',\n",
       "  'C6',\n",
       "  'C6',\n",
       "  'C0',\n",
       "  'C0',\n",
       "  'C0',\n",
       "  'C0',\n",
       "  'C0',\n",
       "  'C0',\n",
       "  'C0',\n",
       "  'C0',\n",
       "  'C0',\n",
       "  'C0',\n",
       "  'C0',\n",
       "  'C0',\n",
       "  'C0',\n",
       "  'C0',\n",
       "  'C0',\n",
       "  'C0',\n",
       "  'C0',\n",
       "  'C0',\n",
       "  'C0',\n",
       "  'C7',\n",
       "  'C7',\n",
       "  'C7',\n",
       "  'C7',\n",
       "  'C7',\n",
       "  'C7',\n",
       "  'C7',\n",
       "  'C7',\n",
       "  'C7',\n",
       "  'C7',\n",
       "  'C7',\n",
       "  'C7',\n",
       "  'C7',\n",
       "  'C7',\n",
       "  'C7',\n",
       "  'C7',\n",
       "  'C7',\n",
       "  'C7',\n",
       "  'C7',\n",
       "  'C7',\n",
       "  'C7',\n",
       "  'C7',\n",
       "  'C7',\n",
       "  'C7',\n",
       "  'C7',\n",
       "  'C7',\n",
       "  'C7',\n",
       "  'C7',\n",
       "  'C7',\n",
       "  'C7',\n",
       "  'C7',\n",
       "  'C7',\n",
       "  'C7',\n",
       "  'C7',\n",
       "  'C7',\n",
       "  'C7',\n",
       "  'C7',\n",
       "  'C7',\n",
       "  'C7',\n",
       "  'C7',\n",
       "  'C7',\n",
       "  'C7',\n",
       "  'C7',\n",
       "  'C7',\n",
       "  'C7',\n",
       "  'C7',\n",
       "  'C7',\n",
       "  'C7',\n",
       "  'C7',\n",
       "  'C7',\n",
       "  'C7',\n",
       "  'C7',\n",
       "  'C7',\n",
       "  'C7',\n",
       "  'C7',\n",
       "  'C7',\n",
       "  'C7',\n",
       "  'C7',\n",
       "  'C7',\n",
       "  'C7',\n",
       "  'C7',\n",
       "  'C7',\n",
       "  'C0',\n",
       "  'C8',\n",
       "  'C8',\n",
       "  'C8',\n",
       "  'C8',\n",
       "  'C8',\n",
       "  'C8',\n",
       "  'C8',\n",
       "  'C8',\n",
       "  'C8',\n",
       "  'C8',\n",
       "  'C8',\n",
       "  'C8',\n",
       "  'C8',\n",
       "  'C8',\n",
       "  'C8',\n",
       "  'C8',\n",
       "  'C8',\n",
       "  'C8',\n",
       "  'C8',\n",
       "  'C8',\n",
       "  'C8',\n",
       "  'C8',\n",
       "  'C8',\n",
       "  'C8',\n",
       "  'C8',\n",
       "  'C8',\n",
       "  'C9',\n",
       "  'C9',\n",
       "  'C9',\n",
       "  'C9',\n",
       "  'C9',\n",
       "  'C9',\n",
       "  'C9',\n",
       "  'C9',\n",
       "  'C9',\n",
       "  'C9',\n",
       "  'C9',\n",
       "  'C9',\n",
       "  'C9',\n",
       "  'C9',\n",
       "  'C9',\n",
       "  'C9',\n",
       "  'C9',\n",
       "  'C9',\n",
       "  'C9',\n",
       "  'C9',\n",
       "  'C9',\n",
       "  'C9',\n",
       "  'C9',\n",
       "  'C9',\n",
       "  'C0',\n",
       "  'C0',\n",
       "  'C0',\n",
       "  'C0',\n",
       "  'C0',\n",
       "  'C0',\n",
       "  'C0',\n",
       "  'C0',\n",
       "  'C0',\n",
       "  'C1',\n",
       "  'C0',\n",
       "  'C0',\n",
       "  'C0',\n",
       "  'C0',\n",
       "  'C2',\n",
       "  'C3',\n",
       "  'C3',\n",
       "  'C0',\n",
       "  'C0',\n",
       "  'C0',\n",
       "  'C0',\n",
       "  'C0',\n",
       "  'C0',\n",
       "  'C0',\n",
       "  'C0',\n",
       "  'C0',\n",
       "  'C0',\n",
       "  'C0',\n",
       "  'C0',\n",
       "  'C0',\n",
       "  'C0',\n",
       "  'C0',\n",
       "  'C0',\n",
       "  'C0'],\n",
       " 'leaves_color_list': ['C0',\n",
       "  'C0',\n",
       "  'C0',\n",
       "  'C0',\n",
       "  'C0',\n",
       "  'C0',\n",
       "  'C0',\n",
       "  'C0',\n",
       "  'C0',\n",
       "  'C0',\n",
       "  'C0',\n",
       "  'C0',\n",
       "  'C0',\n",
       "  'C0',\n",
       "  'C0',\n",
       "  'C0',\n",
       "  'C1',\n",
       "  'C1',\n",
       "  'C1',\n",
       "  'C1',\n",
       "  'C1',\n",
       "  'C0',\n",
       "  'C2',\n",
       "  'C2',\n",
       "  'C3',\n",
       "  'C3',\n",
       "  'C3',\n",
       "  'C3',\n",
       "  'C4',\n",
       "  'C4',\n",
       "  'C4',\n",
       "  'C4',\n",
       "  'C4',\n",
       "  'C4',\n",
       "  'C4',\n",
       "  'C4',\n",
       "  'C4',\n",
       "  'C4',\n",
       "  'C4',\n",
       "  'C5',\n",
       "  'C5',\n",
       "  'C5',\n",
       "  'C5',\n",
       "  'C5',\n",
       "  'C5',\n",
       "  'C5',\n",
       "  'C5',\n",
       "  'C5',\n",
       "  'C5',\n",
       "  'C5',\n",
       "  'C6',\n",
       "  'C6',\n",
       "  'C6',\n",
       "  'C6',\n",
       "  'C6',\n",
       "  'C6',\n",
       "  'C6',\n",
       "  'C6',\n",
       "  'C6',\n",
       "  'C6',\n",
       "  'C6',\n",
       "  'C6',\n",
       "  'C6',\n",
       "  'C6',\n",
       "  'C6',\n",
       "  'C6',\n",
       "  'C6',\n",
       "  'C6',\n",
       "  'C6',\n",
       "  'C6',\n",
       "  'C6',\n",
       "  'C6',\n",
       "  'C6',\n",
       "  'C6',\n",
       "  'C6',\n",
       "  'C6',\n",
       "  'C0',\n",
       "  'C0',\n",
       "  'C0',\n",
       "  'C0',\n",
       "  'C0',\n",
       "  'C0',\n",
       "  'C0',\n",
       "  'C0',\n",
       "  'C0',\n",
       "  'C0',\n",
       "  'C0',\n",
       "  'C0',\n",
       "  'C0',\n",
       "  'C0',\n",
       "  'C7',\n",
       "  'C7',\n",
       "  'C7',\n",
       "  'C7',\n",
       "  'C7',\n",
       "  'C7',\n",
       "  'C7',\n",
       "  'C7',\n",
       "  'C7',\n",
       "  'C7',\n",
       "  'C7',\n",
       "  'C7',\n",
       "  'C7',\n",
       "  'C7',\n",
       "  'C7',\n",
       "  'C7',\n",
       "  'C7',\n",
       "  'C7',\n",
       "  'C7',\n",
       "  'C7',\n",
       "  'C7',\n",
       "  'C7',\n",
       "  'C7',\n",
       "  'C7',\n",
       "  'C7',\n",
       "  'C7',\n",
       "  'C7',\n",
       "  'C7',\n",
       "  'C7',\n",
       "  'C7',\n",
       "  'C7',\n",
       "  'C7',\n",
       "  'C7',\n",
       "  'C7',\n",
       "  'C7',\n",
       "  'C7',\n",
       "  'C7',\n",
       "  'C7',\n",
       "  'C7',\n",
       "  'C7',\n",
       "  'C7',\n",
       "  'C7',\n",
       "  'C7',\n",
       "  'C7',\n",
       "  'C7',\n",
       "  'C7',\n",
       "  'C7',\n",
       "  'C7',\n",
       "  'C7',\n",
       "  'C7',\n",
       "  'C7',\n",
       "  'C7',\n",
       "  'C7',\n",
       "  'C7',\n",
       "  'C7',\n",
       "  'C7',\n",
       "  'C7',\n",
       "  'C7',\n",
       "  'C7',\n",
       "  'C7',\n",
       "  'C7',\n",
       "  'C7',\n",
       "  'C7',\n",
       "  'C0',\n",
       "  'C0',\n",
       "  'C8',\n",
       "  'C8',\n",
       "  'C8',\n",
       "  'C8',\n",
       "  'C8',\n",
       "  'C8',\n",
       "  'C8',\n",
       "  'C8',\n",
       "  'C8',\n",
       "  'C8',\n",
       "  'C8',\n",
       "  'C8',\n",
       "  'C8',\n",
       "  'C8',\n",
       "  'C8',\n",
       "  'C8',\n",
       "  'C8',\n",
       "  'C8',\n",
       "  'C8',\n",
       "  'C8',\n",
       "  'C8',\n",
       "  'C8',\n",
       "  'C8',\n",
       "  'C8',\n",
       "  'C8',\n",
       "  'C8',\n",
       "  'C8',\n",
       "  'C0',\n",
       "  'C9',\n",
       "  'C9',\n",
       "  'C9',\n",
       "  'C9',\n",
       "  'C9',\n",
       "  'C9',\n",
       "  'C9',\n",
       "  'C9',\n",
       "  'C9',\n",
       "  'C9',\n",
       "  'C9',\n",
       "  'C9',\n",
       "  'C9',\n",
       "  'C9',\n",
       "  'C9',\n",
       "  'C9',\n",
       "  'C9',\n",
       "  'C9',\n",
       "  'C9',\n",
       "  'C9',\n",
       "  'C9',\n",
       "  'C9',\n",
       "  'C9',\n",
       "  'C9',\n",
       "  'C9',\n",
       "  'C0',\n",
       "  'C0',\n",
       "  'C0',\n",
       "  'C1',\n",
       "  'C1',\n",
       "  'C0',\n",
       "  'C0',\n",
       "  'C0',\n",
       "  'C2',\n",
       "  'C2',\n",
       "  'C3',\n",
       "  'C3',\n",
       "  'C3',\n",
       "  'C0',\n",
       "  'C0',\n",
       "  'C0',\n",
       "  'C0',\n",
       "  'C0',\n",
       "  'C0',\n",
       "  'C0',\n",
       "  'C0',\n",
       "  'C0']}"
      ]
     },
     "execution_count": 8,
     "metadata": {},
     "output_type": "execute_result"
    },
    {
     "data": {
      "image/png": "[encoded data removed]",
      "text/plain": [
       "<Figure size 432x288 with 1 Axes>"
      ]
     },
     "metadata": {
      "needs_background": "light"
     },
     "output_type": "display_data"
    }
   ],
   "source": [
    "from scipy.cluster.hierarchy import dendrogram\n",
    "\n",
    "\n",
    "dendrogram(model.linkage)"
   ]
  }
 ],
 "metadata": {
  "kernelspec": {
   "display_name": "Python 3.8.5 ('base')",
   "language": "python",
   "name": "python3"
  },
  "language_info": {
   "codemirror_mode": {
    "name": "ipython",
    "version": 3
   },
   "file_extension": ".py",
   "mimetype": "text/x-python",
   "name": "python",
   "nbconvert_exporter": "python",
   "pygments_lexer": "ipython3",
   "version": "3.8.5"
  },
  "vscode": {
   "interpreter": {
    "hash": "67fb5c8522943cfc849952245afc20975abbf95250ffc483d5f3dc8e97ca2e14"
   }
  }
 },
 "nbformat": 4,
 "nbformat_minor": 5
}

{
 "cells": [
  {
   "cell_type": "markdown",
   "id": "fd1f62bf",
   "metadata": {},
   "source": [
    "## Import libraries"
   ]
  },
  {
   "cell_type": "code",
   "execution_count": 13,
   "id": "5a4ccaf7",
   "metadata": {},
   "outputs": [
    {
     "data": {
      "text/html": [
       "<style>.container { width:90% !important; }</style>"
      ],
      "text/plain": [
       "<IPython.core.display.HTML object>"
      ]
     },
     "metadata": {},
     "output_type": "display_data"
    }
   ],
   "source": [
    "import numpy as np\n",
    "import sklearn\n",
    "import sklearn.datasets\n",
    "from scipy.spatial.distance import pdist, squareform\n",
    "from pacBayesianDendogramCut import DendrogramCut\n",
    "from IPython.core.display import display, HTML\n",
    "import matplotlib.pyplot as plt\n",
    "display(HTML(\"<style>.container { width:90% !important; }</style>\"))"
   ]
  },
  {
   "cell_type": "markdown",
   "id": "0299aa0d",
   "metadata": {},
   "source": [
    "## Generate dataset for clustering"
   ]
  },
  {
   "cell_type": "code",
   "execution_count": 14,
   "id": "2a9b465d",
   "metadata": {},
   "outputs": [],
   "source": [
    "centers = np.asarray([[-6.8, -7.3], [5, 2.5], [5, -2.5]])\n",
    "samples = np.asarray([4, 1, 1]) * 50\n",
    "\n",
    "X, Z, C = sklearn.datasets.make_blobs(\n",
    "    samples,\n",
    "    cluster_std=[2, 1, 1],\n",
    "    centers=centers,\n",
    "    return_centers=True)\n",
    "dist = pdist(X)\n",
    "dist = squareform(dist)"
   ]
  },
  {
   "cell_type": "markdown",
   "id": "334309ee",
   "metadata": {},
   "source": [
    "## Plot the generated dataset"
   ]
  },
  {
   "cell_type": "code",
   "execution_count": 15,
   "id": "d1877446",
   "metadata": {},
   "outputs": [
    {
     "data": {
      "image/png": "[encoded data removed]",
      "text/plain": [
       "<Figure size 720x720 with 1 Axes>"
      ]
     },
     "metadata": {
      "needs_background": "light"
     },
     "output_type": "display_data"
    }
   ],
   "source": [
    "fig = plt.figure(figsize=(10,10))\n",
    "ax = fig.add_subplot(111)\n",
    "ax.scatter(X[:, 0], X[:, 1])\n",
    "ax.scatter(C[:, 0], C[:, 1])\n",
    "fig.show()"
   ]
  },
  {
   "cell_type": "markdown",
   "id": "a3c382de",
   "metadata": {},
   "source": [
    "## Compute the dynamic cut with the pacBayesian algorithm and plot the results"
   ]
  },
  {
   "cell_type": "code",
   "execution_count": 18,
   "id": "614d5e63",
   "metadata": {},
   "outputs": [
    {
     "name": "stdout",
     "output_type": "stream",
     "text": [
      "4\n"
     ]
    },
    {
     "data": {
      "application/vnd.plotly.v1+json": {
       "config": {
        "plotlyServerURL": "https://plot.ly"
       },
       "data": [
        {
         "hoverinfo": "text",
         "marker": {
          "color": "rgb(53, 183, 120)"
         },
         "mode": "lines",
         "type": "scatter",
         "x": [
          207,
          207,
          208,
          208
         ],
         "xaxis": "x",
         "y": [
          0,
          0.007494334820314008,
          0.007494334820314008,
          0
         ],
         "yaxis": "y"
        },
        {
         "hoverinfo": "text",
         "marker": {
          "color": "rgb(53, 183, 120)"
         },
         "mode": "lines",
         "type": "scatter",
         "x": [
          253,
          253,
          254,
          254
         ],
         "xaxis": "x",
         "y": [
          0,
          0.0285339881182182,
          0.0285339881182182,
          0
         ],
         "yaxis": "y"
        },
        {
         "hoverinfo": "text",
         "marker": {
          "color": "rgb(68, 1, 84)"
         },
         "mode": "lines",
         "type": "scatter",
         "x": [
          27,
          27,
          28,
          28
         ],
         "xaxis": "x",
         "y": [
          0,
          0.032881507523378706,
          0.032881507523378706,
          0
         ],
         "yaxis": "y"
        },
        {
         "hoverinfo": "text",
         "marker": {
          "color": "rgb(53, 183, 120)"
         },
         "mode": "lines",
         "type": "scatter",
         "x": [
          277,
          277,
          278,
          278
         ],
         "xaxis": "x",
         "y": [
          0,
          0.06549168280272782,
          0.06549168280272782,
          0
         ],
         "yaxis": "y"
        },
        {
         "hoverinfo": "text",
         "marker": {
          "color": "rgb(68, 1, 84)"
         },
         "mode": "lines",
         "type": "scatter",
         "x": [
          18,
          18,
          19,
          19
         ],
         "xaxis": "x",
         "y": [
          0,
          0.0681896148192224,
          0.0681896148192224,
          0
         ],
         "yaxis": "y"
        },
        {
         "hoverinfo": "text",
         "marker": {
          "color": "rgb(48, 103, 141)"
         },
         "mode": "lines",
         "type": "scatter",
         "x": [
          63,
          63,
          64,
          64
         ],
         "xaxis": "x",
         "y": [
          0,
          0.06960448152505534,
          0.06960448152505534,
          0
         ],
         "yaxis": "y"
        },
        {
         "hoverinfo": "text",
         "marker": {
          "color": "rgb(68, 1, 84)"
         },
         "mode": "lines",
         "type": "scatter",
         "x": [
          10,
          10,
          11,
          11
         ],
         "xaxis": "x",
         "y": [
          0,
          0.07349879914021656,
          0.07349879914021656,
          0
         ],
         "yaxis": "y"
        },
        {
         "hoverinfo": "text",
         "marker": {
          "color": "rgb(53, 183, 120)"
         },
         "mode": "lines",
         "type": "scatter",
         "x": [
          282,
          282,
          283,
          283
         ],
         "xaxis": "x",
         "y": [
          0,
          0.07731189467152935,
          0.07731189467152935,
          0
         ],
         "yaxis": "y"
        },
        {
         "hoverinfo": "text",
         "marker": {
          "color": "rgb(53, 183, 120)"
         },
         "mode": "lines",
         "type": "scatter",
         "x": [
          229,
          229,
          230,
          230
         ],
         "xaxis": "x",
         "y": [
          0,
          0.07841593362109082,
          0.07841593362109082,
          0
         ],
         "yaxis": "y"
        },
        {
         "hoverinfo": "text",
         "marker": {
          "color": "rgb(68, 1, 84)"
         },
         "mode": "lines",
         "type": "scatter",
         "x": [
          43,
          43,
          44,
          44
         ],
         "xaxis": "x",
         "y": [
          0,
          0.08593920838857375,
          0.08593920838857375,
          0
         ],
         "yaxis": "y"
        },
        {
         "hoverinfo": "text",
         "marker": {
          "color": "rgb(53, 183, 120)"
         },
         "mode": "lines",
         "type": "scatter",
         "x": [
          177,
          177,
          178,
          178
         ],
         "xaxis": "x",
         "y": [
          0,
          0.08796361767423984,
          0.08796361767423984,
          0
         ],
         "yaxis": "y"
        },
        {
         "hoverinfo": "text",
         "marker": {
          "color": "rgb(53, 183, 120)"
         },
         "mode": "lines",
         "type": "scatter",
         "x": [
          160,
          160,
          161,
          161
         ],
         "xaxis": "x",
         "y": [
          0,
          0.08921080379473015,
          0.08921080379473015,
          0
         ],
         "yaxis": "y"
        },
        {
         "hoverinfo": "text",
         "marker": {
          "color": "rgb(68, 1, 84)"
         },
         "mode": "lines",
         "type": "scatter",
         "x": [
          25,
          25,
          26,
          26
         ],
         "xaxis": "x",
         "y": [
          0,
          0.08957436811192207,
          0.08957436811192207,
          0
         ],
         "yaxis": "y"
        },
        {
         "hoverinfo": "text",
         "marker": {
          "color": "rgb(53, 183, 120)"
         },
         "mode": "lines",
         "type": "scatter",
         "x": [
          179,
          179,
          180,
          180
         ],
         "xaxis": "x",
         "y": [
          0,
          0.09016700081026917,
          0.09016700081026917,
          0
         ],
         "yaxis": "y"
        },
        {
         "hoverinfo": "text",
         "marker": {
          "color": "rgb(53, 183, 120)"
         },
         "mode": "lines",
         "type": "scatter",
         "x": [
          264,
          264,
          265,
          265
         ],
         "xaxis": "x",
         "y": [
          0,
          0.09515337402256059,
          0.09515337402256059,
          0
         ],
         "yaxis": "y"
        },
        {
         "hoverinfo": "text",
         "marker": {
          "color": "rgb(53, 183, 120)"
         },
         "mode": "lines",
         "type": "scatter",
         "x": [
          240,
          240,
          241,
          241
         ],
         "xaxis": "x",
         "y": [
          0,
          0.09607283004768943,
          0.09607283004768943,
          0
         ],
         "yaxis": "y"
        },
        {
         "hoverinfo": "text",
         "marker": {
          "color": "rgb(53, 183, 120)"
         },
         "mode": "lines",
         "type": "scatter",
         "x": [
          276,
          276,
          277.5,
          277.5
         ],
         "xaxis": "x",
         "y": [
          0,
          0.09764094920116231,
          0.09764094920116231,
          0.06549168280272782
         ],
         "yaxis": "y"
        },
        {
         "hoverinfo": "text",
         "marker": {
          "color": "rgb(53, 183, 120)"
         },
         "mode": "lines",
         "type": "scatter",
         "x": [
          119,
          119,
          120,
          120
         ],
         "xaxis": "x",
         "y": [
          0,
          0.10111367341201676,
          0.10111367341201676,
          0
         ],
         "yaxis": "y"
        },
        {
         "hoverinfo": "text",
         "marker": {
          "color": "rgb(48, 103, 141)"
         },
         "mode": "lines",
         "type": "scatter",
         "x": [
          83,
          83,
          84,
          84
         ],
         "xaxis": "x",
         "y": [
          0,
          0.11253020345567441,
          0.11253020345567441,
          0
         ],
         "yaxis": "y"
        },
        {
         "hoverinfo": "text",
         "marker": {
          "color": "rgb(48, 103, 141)"
         },
         "mode": "lines",
         "type": "scatter",
         "x": [
          71,
          71,
          72,
          72
         ],
         "xaxis": "x",
         "y": [
          0,
          0.11882056340208169,
          0.11882056340208169,
          0
         ],
         "yaxis": "y"
        },
        {
         "hoverinfo": "text",
         "marker": {
          "color": "rgb(53, 183, 120)"
         },
         "mode": "lines",
         "type": "scatter",
         "x": [
          266,
          266,
          267,
          267
         ],
         "xaxis": "x",
         "y": [
          0,
          0.11991442707133344,
          0.11991442707133344,
          0
         ],
         "yaxis": "y"
        },
        {
         "hoverinfo": "text",
         "marker": {
          "color": "rgb(53, 183, 120)"
         },
         "mode": "lines",
         "type": "scatter",
         "x": [
          252,
          252,
          253.5,
          253.5
         ],
         "xaxis": "x",
         "y": [
          0,
          0.12208239188068411,
          0.12208239188068411,
          0.0285339881182182
         ],
         "yaxis": "y"
        },
        {
         "hoverinfo": "text",
         "marker": {
          "color": "rgb(48, 103, 141)"
         },
         "mode": "lines",
         "type": "scatter",
         "x": [
          78,
          78,
          79,
          79
         ],
         "xaxis": "x",
         "y": [
          0,
          0.1271712955002741,
          0.1271712955002741,
          0
         ],
         "yaxis": "y"
        },
        {
         "hoverinfo": "text",
         "marker": {
          "color": "rgb(48, 103, 141)"
         },
         "mode": "lines",
         "type": "scatter",
         "x": [
          59,
          59,
          60,
          60
         ],
         "xaxis": "x",
         "y": [
          0,
          0.13256063086674075,
          0.13256063086674075,
          0
         ],
         "yaxis": "y"
        },
        {
         "hoverinfo": "text",
         "marker": {
          "color": "rgb(53, 183, 120)"
         },
         "mode": "lines",
         "type": "scatter",
         "x": [
          134,
          134,
          135,
          135
         ],
         "xaxis": "x",
         "y": [
          0,
          0.1344095804537216,
          0.1344095804537216,
          0
         ],
         "yaxis": "y"
        },
        {
         "hoverinfo": "text",
         "marker": {
          "color": "rgb(53, 183, 120)"
         },
         "mode": "lines",
         "type": "scatter",
         "x": [
          232,
          232,
          233,
          233
         ],
         "xaxis": "x",
         "y": [
          0,
          0.13607540797689982,
          0.13607540797689982,
          0
         ],
         "yaxis": "y"
        },
        {
         "hoverinfo": "text",
         "marker": {
          "color": "rgb(53, 183, 120)"
         },
         "mode": "lines",
         "type": "scatter",
         "x": [
          166,
          166,
          167,
          167
         ],
         "xaxis": "x",
         "y": [
          0,
          0.138525106127589,
          0.138525106127589,
          0
         ],
         "yaxis": "y"
        },
        {
         "hoverinfo": "text",
         "marker": {
          "color": "rgb(53, 183, 120)"
         },
         "mode": "lines",
         "type": "scatter",
         "x": [
          240.5,
          240.5,
          242,
          242
         ],
         "xaxis": "x",
         "y": [
          0.09607283004768943,
          0.14090185093186394,
          0.14090185093186394,
          0
         ],
         "yaxis": "y"
        },
        {
         "hoverinfo": "text",
         "marker": {
          "color": "rgb(53, 183, 120)"
         },
         "mode": "lines",
         "type": "scatter",
         "x": [
          248,
          248,
          249,
          249
         ],
         "xaxis": "x",
         "y": [
          0,
          0.14673616893196567,
          0.14673616893196567,
          0
         ],
         "yaxis": "y"
        },
        {
         "hoverinfo": "text",
         "marker": {
          "color": "rgb(53, 183, 120)"
         },
         "mode": "lines",
         "type": "scatter",
         "x": [
          173,
          173,
          174,
          174
         ],
         "xaxis": "x",
         "y": [
          0,
          0.15270809321866394,
          0.15270809321866394,
          0
         ],
         "yaxis": "y"
        },
        {
         "hoverinfo": "text",
         "marker": {
          "color": "rgb(53, 183, 120)"
         },
         "mode": "lines",
         "type": "scatter",
         "x": [
          169,
          169,
          170,
          170
         ],
         "xaxis": "x",
         "y": [
          0,
          0.15427083045978193,
          0.15427083045978193,
          0
         ],
         "yaxis": "y"
        },
        {
         "hoverinfo": "text",
         "marker": {
          "color": "rgb(53, 183, 120)"
         },
         "mode": "lines",
         "type": "scatter",
         "x": [
          181,
          181,
          182,
          182
         ],
         "xaxis": "x",
         "y": [
          0,
          0.15447259210616918,
          0.15447259210616918,
          0
         ],
         "yaxis": "y"
        },
        {
         "hoverinfo": "text",
         "marker": {
          "color": "rgb(53, 183, 120)"
         },
         "mode": "lines",
         "type": "scatter",
         "x": [
          263,
          263,
          264.5,
          264.5
         ],
         "xaxis": "x",
         "y": [
          0,
          0.15905730163427562,
          0.15905730163427562,
          0.09515337402256059
         ],
         "yaxis": "y"
        },
        {
         "hoverinfo": "text",
         "marker": {
          "color": "rgb(53, 183, 120)"
         },
         "mode": "lines",
         "type": "scatter",
         "x": [
          212,
          212,
          213,
          213
         ],
         "xaxis": "x",
         "y": [
          0,
          0.16437296184843425,
          0.16437296184843425,
          0
         ],
         "yaxis": "y"
        },
        {
         "hoverinfo": "text",
         "marker": {
          "color": "rgb(53, 183, 120)"
         },
         "mode": "lines",
         "type": "scatter",
         "x": [
          243,
          243,
          244,
          244
         ],
         "xaxis": "x",
         "y": [
          0,
          0.17023241951538556,
          0.17023241951538556,
          0
         ],
         "yaxis": "y"
        },
        {
         "hoverinfo": "text",
         "marker": {
          "color": "rgb(48, 103, 141)"
         },
         "mode": "lines",
         "type": "scatter",
         "x": [
          61,
          61,
          62,
          62
         ],
         "xaxis": "x",
         "y": [
          0,
          0.17486940463240844,
          0.17486940463240844,
          0
         ],
         "yaxis": "y"
        },
        {
         "hoverinfo": "text",
         "marker": {
          "color": "rgb(53, 183, 120)"
         },
         "mode": "lines",
         "type": "scatter",
         "x": [
          181.5,
          181.5,
          183,
          183
         ],
         "xaxis": "x",
         "y": [
          0.15447259210616918,
          0.1757145524244345,
          0.1757145524244345,
          0
         ],
         "yaxis": "y"
        },
        {
         "hoverinfo": "text",
         "marker": {
          "color": "rgb(53, 183, 120)"
         },
         "mode": "lines",
         "type": "scatter",
         "x": [
          224,
          224,
          225,
          225
         ],
         "xaxis": "x",
         "y": [
          0,
          0.17857061457958287,
          0.17857061457958287,
          0
         ],
         "yaxis": "y"
        },
        {
         "hoverinfo": "text",
         "marker": {
          "color": "rgb(68, 1, 84)"
         },
         "mode": "lines",
         "type": "scatter",
         "x": [
          12,
          12,
          13,
          13
         ],
         "xaxis": "x",
         "y": [
          0,
          0.17972836615911172,
          0.17972836615911172,
          0
         ],
         "yaxis": "y"
        },
        {
         "hoverinfo": "text",
         "marker": {
          "color": "rgb(48, 103, 141)"
         },
         "mode": "lines",
         "type": "scatter",
         "x": [
          77,
          77,
          78.5,
          78.5
         ],
         "xaxis": "x",
         "y": [
          0,
          0.18072046621806728,
          0.18072046621806728,
          0.1271712955002741
         ],
         "yaxis": "y"
        },
        {
         "hoverinfo": "text",
         "marker": {
          "color": "rgb(53, 183, 120)"
         },
         "mode": "lines",
         "type": "scatter",
         "x": [
          144,
          144,
          145,
          145
         ],
         "xaxis": "x",
         "y": [
          0,
          0.18302308651039492,
          0.18302308651039492,
          0
         ],
         "yaxis": "y"
        },
        {
         "hoverinfo": "text",
         "marker": {
          "color": "rgb(68, 1, 84)"
         },
         "mode": "lines",
         "type": "scatter",
         "x": [
          23,
          23,
          24,
          24
         ],
         "xaxis": "x",
         "y": [
          0,
          0.18303696965210903,
          0.18303696965210903,
          0
         ],
         "yaxis": "y"
        },
        {
         "hoverinfo": "text",
         "marker": {
          "color": "rgb(48, 103, 141)"
         },
         "mode": "lines",
         "type": "scatter",
         "x": [
          51,
          51,
          52,
          52
         ],
         "xaxis": "x",
         "y": [
          0,
          0.18375360552060144,
          0.18375360552060144,
          0
         ],
         "yaxis": "y"
        },
        {
         "hoverinfo": "text",
         "marker": {
          "color": "rgb(53, 183, 120)"
         },
         "mode": "lines",
         "type": "scatter",
         "x": [
          205,
          205,
          206,
          206
         ],
         "xaxis": "x",
         "y": [
          0,
          0.18424279212210598,
          0.18424279212210598,
          0
         ],
         "yaxis": "y"
        },
        {
         "hoverinfo": "text",
         "marker": {
          "color": "rgb(68, 1, 84)"
         },
         "mode": "lines",
         "type": "scatter",
         "x": [
          29,
          29,
          30,
          30
         ],
         "xaxis": "x",
         "y": [
          0,
          0.18726476370353254,
          0.18726476370353254,
          0
         ],
         "yaxis": "y"
        },
        {
         "hoverinfo": "text",
         "marker": {
          "color": "rgb(48, 103, 141)"
         },
         "mode": "lines",
         "type": "scatter",
         "x": [
          69,
          69,
          70,
          70
         ],
         "xaxis": "x",
         "y": [
          0,
          0.18897253883001763,
          0.18897253883001763,
          0
         ],
         "yaxis": "y"
        },
        {
         "hoverinfo": "text",
         "marker": {
          "color": "rgb(53, 183, 120)"
         },
         "mode": "lines",
         "type": "scatter",
         "x": [
          107,
          107,
          108,
          108
         ],
         "xaxis": "x",
         "y": [
          0,
          0.1910986762852406,
          0.1910986762852406,
          0
         ],
         "yaxis": "y"
        },
        {
         "hoverinfo": "text",
         "marker": {
          "color": "rgb(53, 183, 120)"
         },
         "mode": "lines",
         "type": "scatter",
         "x": [
          270,
          270,
          271,
          271
         ],
         "xaxis": "x",
         "y": [
          0,
          0.19259804794219818,
          0.19259804794219818,
          0
         ],
         "yaxis": "y"
        },
        {
         "hoverinfo": "text",
         "marker": {
          "color": "rgb(53, 183, 120)"
         },
         "mode": "lines",
         "type": "scatter",
         "x": [
          194,
          194,
          195,
          195
         ],
         "xaxis": "x",
         "y": [
          0,
          0.19756007885337726,
          0.19756007885337726,
          0
         ],
         "yaxis": "y"
        },
        {
         "hoverinfo": "text",
         "marker": {
          "color": "rgb(53, 183, 120)"
         },
         "mode": "lines",
         "type": "scatter",
         "x": [
          219,
          219,
          220,
          220
         ],
         "xaxis": "x",
         "y": [
          0,
          0.20308649130218934,
          0.20308649130218934,
          0
         ],
         "yaxis": "y"
        },
        {
         "hoverinfo": "text",
         "marker": {
          "color": "rgb(53, 183, 120)"
         },
         "mode": "lines",
         "type": "scatter",
         "x": [
          119.5,
          119.5,
          121,
          121
         ],
         "xaxis": "x",
         "y": [
          0.10111367341201676,
          0.2031131591317532,
          0.2031131591317532,
          0
         ],
         "yaxis": "y"
        },
        {
         "hoverinfo": "text",
         "marker": {
          "color": "rgb(53, 183, 120)"
         },
         "mode": "lines",
         "type": "scatter",
         "x": [
          162,
          162,
          163,
          163
         ],
         "xaxis": "x",
         "y": [
          0,
          0.20652131467500648,
          0.20652131467500648,
          0
         ],
         "yaxis": "y"
        },
        {
         "hoverinfo": "text",
         "marker": {
          "color": "rgb(53, 183, 120)"
         },
         "mode": "lines",
         "type": "scatter",
         "x": [
          159,
          159,
          160.5,
          160.5
         ],
         "xaxis": "x",
         "y": [
          0,
          0.2075584708692138,
          0.2075584708692138,
          0.08921080379473015
         ],
         "yaxis": "y"
        },
        {
         "hoverinfo": "text",
         "marker": {
          "color": "rgb(53, 183, 120)"
         },
         "mode": "lines",
         "type": "scatter",
         "x": [
          239,
          239,
          241.25,
          241.25
         ],
         "xaxis": "x",
         "y": [
          0,
          0.21383882000961033,
          0.21383882000961033,
          0.14090185093186394
         ],
         "yaxis": "y"
        },
        {
         "hoverinfo": "text",
         "marker": {
          "color": "rgb(53, 183, 120)"
         },
         "mode": "lines",
         "type": "scatter",
         "x": [
          229.5,
          229.5,
          231,
          231
         ],
         "xaxis": "x",
         "y": [
          0.07841593362109082,
          0.2144274236700045,
          0.2144274236700045,
          0
         ],
         "yaxis": "y"
        },
        {
         "hoverinfo": "text",
         "marker": {
          "color": "rgb(48, 103, 141)"
         },
         "mode": "lines",
         "type": "scatter",
         "x": [
          54,
          54,
          55,
          55
         ],
         "xaxis": "x",
         "y": [
          0,
          0.21643124587821724,
          0.21643124587821724,
          0
         ],
         "yaxis": "y"
        },
        {
         "hoverinfo": "text",
         "marker": {
          "color": "rgb(53, 183, 120)"
         },
         "mode": "lines",
         "type": "scatter",
         "x": [
          222,
          222,
          223,
          223
         ],
         "xaxis": "x",
         "y": [
          0,
          0.2167515673559982,
          0.2167515673559982,
          0
         ],
         "yaxis": "y"
        },
        {
         "hoverinfo": "text",
         "marker": {
          "color": "rgb(53, 183, 120)"
         },
         "mode": "lines",
         "type": "scatter",
         "x": [
          142,
          142,
          143,
          143
         ],
         "xaxis": "x",
         "y": [
          0,
          0.21696942095098043,
          0.21696942095098043,
          0
         ],
         "yaxis": "y"
        },
        {
         "hoverinfo": "text",
         "marker": {
          "color": "rgb(68, 1, 84)"
         },
         "mode": "lines",
         "type": "scatter",
         "x": [
          33,
          33,
          34,
          34
         ],
         "xaxis": "x",
         "y": [
          0,
          0.22293340971157144,
          0.22293340971157144,
          0
         ],
         "yaxis": "y"
        },
        {
         "hoverinfo": "text",
         "marker": {
          "color": "rgb(53, 183, 120)"
         },
         "mode": "lines",
         "type": "scatter",
         "x": [
          157,
          157,
          158,
          158
         ],
         "xaxis": "x",
         "y": [
          0,
          0.2308035962327784,
          0.2308035962327784,
          0
         ],
         "yaxis": "y"
        },
        {
         "hoverinfo": "text",
         "marker": {
          "color": "rgb(53, 183, 120)"
         },
         "mode": "lines",
         "type": "scatter",
         "x": [
          218,
          218,
          219.5,
          219.5
         ],
         "xaxis": "x",
         "y": [
          0,
          0.2333990717361256,
          0.2333990717361256,
          0.20308649130218934
         ],
         "yaxis": "y"
        },
        {
         "hoverinfo": "text",
         "marker": {
          "color": "rgb(53, 183, 120)"
         },
         "mode": "lines",
         "type": "scatter",
         "x": [
          127,
          127,
          128,
          128
         ],
         "xaxis": "x",
         "y": [
          0,
          0.2339158795337145,
          0.2339158795337145,
          0
         ],
         "yaxis": "y"
        },
        {
         "hoverinfo": "text",
         "marker": {
          "color": "rgb(68, 1, 84)"
         },
         "mode": "lines",
         "type": "scatter",
         "x": [
          37,
          37,
          38,
          38
         ],
         "xaxis": "x",
         "y": [
          0,
          0.2343584379386282,
          0.2343584379386282,
          0
         ],
         "yaxis": "y"
        },
        {
         "hoverinfo": "text",
         "marker": {
          "color": "rgb(53, 183, 120)"
         },
         "mode": "lines",
         "type": "scatter",
         "x": [
          165,
          165,
          166.5,
          166.5
         ],
         "xaxis": "x",
         "y": [
          0,
          0.23436948460635781,
          0.23436948460635781,
          0.138525106127589
         ],
         "yaxis": "y"
        },
        {
         "hoverinfo": "text",
         "marker": {
          "color": "rgb(48, 103, 141)"
         },
         "mode": "lines",
         "type": "scatter",
         "x": [
          77.75,
          77.75,
          80,
          80
         ],
         "xaxis": "x",
         "y": [
          0.18072046621806728,
          0.23448677569722545,
          0.23448677569722545,
          0
         ],
         "yaxis": "y"
        },
        {
         "hoverinfo": "text",
         "marker": {
          "color": "rgb(68, 1, 84)"
         },
         "mode": "lines",
         "type": "scatter",
         "x": [
          40,
          40,
          41,
          41
         ],
         "xaxis": "x",
         "y": [
          0,
          0.23623867310173188,
          0.23623867310173188,
          0
         ],
         "yaxis": "y"
        },
        {
         "hoverinfo": "text",
         "marker": {
          "color": "rgb(53, 183, 120)"
         },
         "mode": "lines",
         "type": "scatter",
         "x": [
          236,
          236,
          237,
          237
         ],
         "xaxis": "x",
         "y": [
          0,
          0.2378392386569487,
          0.2378392386569487,
          0
         ],
         "yaxis": "y"
        },
        {
         "hoverinfo": "text",
         "marker": {
          "color": "rgb(48, 103, 141)"
         },
         "mode": "lines",
         "type": "scatter",
         "x": [
          93,
          93,
          94,
          94
         ],
         "xaxis": "x",
         "y": [
          0,
          0.24243129750578532,
          0.24243129750578532,
          0
         ],
         "yaxis": "y"
        },
        {
         "hoverinfo": "text",
         "marker": {
          "color": "rgb(53, 183, 120)"
         },
         "mode": "lines",
         "type": "scatter",
         "x": [
          124,
          124,
          125,
          125
         ],
         "xaxis": "x",
         "y": [
          0,
          0.24515232857202207,
          0.24515232857202207,
          0
         ],
         "yaxis": "y"
        },
        {
         "hoverinfo": "text",
         "marker": {
          "color": "rgb(53, 183, 120)"
         },
         "mode": "lines",
         "type": "scatter",
         "x": [
          268,
          268,
          269,
          269
         ],
         "xaxis": "x",
         "y": [
          0,
          0.24812175762167032,
          0.24812175762167032,
          0
         ],
         "yaxis": "y"
        },
        {
         "hoverinfo": "text",
         "marker": {
          "color": "rgb(53, 183, 120)"
         },
         "mode": "lines",
         "type": "scatter",
         "x": [
          169.5,
          169.5,
          171,
          171
         ],
         "xaxis": "x",
         "y": [
          0.15427083045978193,
          0.24832232484790548,
          0.24832232484790548,
          0
         ],
         "yaxis": "y"
        },
        {
         "hoverinfo": "text",
         "marker": {
          "color": "rgb(53, 183, 120)"
         },
         "mode": "lines",
         "type": "scatter",
         "x": [
          272,
          272,
          273,
          273
         ],
         "xaxis": "x",
         "y": [
          0,
          0.24923854986150495,
          0.24923854986150495,
          0
         ],
         "yaxis": "y"
        },
        {
         "hoverinfo": "text",
         "marker": {
          "color": "rgb(53, 183, 120)"
         },
         "mode": "lines",
         "type": "scatter",
         "x": [
          285,
          285,
          286,
          286
         ],
         "xaxis": "x",
         "y": [
          0,
          0.25043110123277645,
          0.25043110123277645,
          0
         ],
         "yaxis": "y"
        },
        {
         "hoverinfo": "text",
         "marker": {
          "color": "rgb(53, 183, 120)"
         },
         "mode": "lines",
         "type": "scatter",
         "x": [
          146,
          146,
          147,
          147
         ],
         "xaxis": "x",
         "y": [
          0,
          0.25066969861907906,
          0.25066969861907906,
          0
         ],
         "yaxis": "y"
        },
        {
         "hoverinfo": "text",
         "marker": {
          "color": "rgb(53, 183, 120)"
         },
         "mode": "lines",
         "type": "scatter",
         "x": [
          260,
          260,
          261,
          261
         ],
         "xaxis": "x",
         "y": [
          0,
          0.25180180083314074,
          0.25180180083314074,
          0
         ],
         "yaxis": "y"
        },
        {
         "hoverinfo": "text",
         "marker": {
          "color": "rgb(53, 183, 120)"
         },
         "mode": "lines",
         "type": "scatter",
         "x": [
          139,
          139,
          140,
          140
         ],
         "xaxis": "x",
         "y": [
          0,
          0.25232094581871667,
          0.25232094581871667,
          0
         ],
         "yaxis": "y"
        },
        {
         "hoverinfo": "text",
         "marker": {
          "color": "rgb(53, 183, 120)"
         },
         "mode": "lines",
         "type": "scatter",
         "x": [
          105,
          105,
          106,
          106
         ],
         "xaxis": "x",
         "y": [
          0,
          0.2532145452583628,
          0.2532145452583628,
          0
         ],
         "yaxis": "y"
        },
        {
         "hoverinfo": "text",
         "marker": {
          "color": "rgb(48, 103, 141)"
         },
         "mode": "lines",
         "type": "scatter",
         "x": [
          91,
          91,
          92,
          92
         ],
         "xaxis": "x",
         "y": [
          0,
          0.2532348296792129,
          0.2532348296792129,
          0
         ],
         "yaxis": "y"
        },
        {
         "hoverinfo": "text",
         "marker": {
          "color": "rgb(53, 183, 120)"
         },
         "mode": "lines",
         "type": "scatter",
         "x": [
          149,
          149,
          150,
          150
         ],
         "xaxis": "x",
         "y": [
          0,
          0.2580556529939677,
          0.2580556529939677,
          0
         ],
         "yaxis": "y"
        },
        {
         "hoverinfo": "text",
         "marker": {
          "color": "rgb(53, 183, 120)"
         },
         "mode": "lines",
         "type": "scatter",
         "x": [
          258,
          258,
          259,
          259
         ],
         "xaxis": "x",
         "y": [
          0,
          0.2632408550121391,
          0.2632408550121391,
          0
         ],
         "yaxis": "y"
        },
        {
         "hoverinfo": "text",
         "marker": {
          "color": "rgb(53, 183, 120)"
         },
         "mode": "lines",
         "type": "scatter",
         "x": [
          247,
          247,
          248.5,
          248.5
         ],
         "xaxis": "x",
         "y": [
          0,
          0.2636921256983612,
          0.2636921256983612,
          0.14673616893196567
         ],
         "yaxis": "y"
        },
        {
         "hoverinfo": "text",
         "marker": {
          "color": "rgb(48, 103, 141)"
         },
         "mode": "lines",
         "type": "scatter",
         "x": [
          61.5,
          61.5,
          63.5,
          63.5
         ],
         "xaxis": "x",
         "y": [
          0.17486940463240844,
          0.27078746314100444,
          0.27078746314100444,
          0.06960448152505534
         ],
         "yaxis": "y"
        },
        {
         "hoverinfo": "text",
         "marker": {
          "color": "rgb(68, 1, 84)"
         },
         "mode": "lines",
         "type": "scatter",
         "x": [
          10.5,
          10.5,
          12.5,
          12.5
         ],
         "xaxis": "x",
         "y": [
          0.07349879914021656,
          0.27276287731479476,
          0.27276287731479476,
          0.17972836615911172
         ],
         "yaxis": "y"
        },
        {
         "hoverinfo": "text",
         "marker": {
          "color": "rgb(53, 183, 120)"
         },
         "mode": "lines",
         "type": "scatter",
         "x": [
          256,
          256,
          257,
          257
         ],
         "xaxis": "x",
         "y": [
          0,
          0.27279153301424824,
          0.27279153301424824,
          0
         ],
         "yaxis": "y"
        },
        {
         "hoverinfo": "text",
         "marker": {
          "color": "rgb(48, 103, 141)"
         },
         "mode": "lines",
         "type": "scatter",
         "x": [
          86,
          86,
          87,
          87
         ],
         "xaxis": "x",
         "y": [
          0,
          0.2751275949880935,
          0.2751275949880935,
          0
         ],
         "yaxis": "y"
        },
        {
         "hoverinfo": "text",
         "marker": {
          "color": "rgb(53, 183, 120)"
         },
         "mode": "lines",
         "type": "scatter",
         "x": [
          234,
          234,
          235,
          235
         ],
         "xaxis": "x",
         "y": [
          0,
          0.2766240882263933,
          0.2766240882263933,
          0
         ],
         "yaxis": "y"
        },
        {
         "hoverinfo": "text",
         "marker": {
          "color": "rgb(53, 183, 120)"
         },
         "mode": "lines",
         "type": "scatter",
         "x": [
          221,
          221,
          222.5,
          222.5
         ],
         "xaxis": "x",
         "y": [
          0,
          0.27758866217046485,
          0.27758866217046485,
          0.2167515673559982
         ],
         "yaxis": "y"
        },
        {
         "hoverinfo": "text",
         "marker": {
          "color": "rgb(53, 183, 120)"
         },
         "mode": "lines",
         "type": "scatter",
         "x": [
          192,
          192,
          193,
          193
         ],
         "xaxis": "x",
         "y": [
          0,
          0.2783483829245986,
          0.2783483829245986,
          0
         ],
         "yaxis": "y"
        },
        {
         "hoverinfo": "text",
         "marker": {
          "color": "rgb(53, 183, 120)"
         },
         "mode": "lines",
         "type": "scatter",
         "x": [
          115,
          115,
          116,
          116
         ],
         "xaxis": "x",
         "y": [
          0,
          0.27869147790951593,
          0.27869147790951593,
          0
         ],
         "yaxis": "y"
        },
        {
         "hoverinfo": "text",
         "marker": {
          "color": "rgb(53, 183, 120)"
         },
         "mode": "lines",
         "type": "scatter",
         "x": [
          187,
          187,
          188,
          188
         ],
         "xaxis": "x",
         "y": [
          0,
          0.2790969724946226,
          0.2790969724946226,
          0
         ],
         "yaxis": "y"
        },
        {
         "hoverinfo": "text",
         "marker": {
          "color": "rgb(53, 183, 120)"
         },
         "mode": "lines",
         "type": "scatter",
         "x": [
          281,
          281,
          282.5,
          282.5
         ],
         "xaxis": "x",
         "y": [
          0,
          0.28229994811796666,
          0.28229994811796666,
          0.07731189467152935
         ],
         "yaxis": "y"
        },
        {
         "hoverinfo": "text",
         "marker": {
          "color": "rgb(53, 183, 120)"
         },
         "mode": "lines",
         "type": "scatter",
         "x": [
          162.5,
          162.5,
          164,
          164
         ],
         "xaxis": "x",
         "y": [
          0.20652131467500648,
          0.28397327720778026,
          0.28397327720778026,
          0
         ],
         "yaxis": "y"
        },
        {
         "hoverinfo": "text",
         "marker": {
          "color": "rgb(53, 183, 120)"
         },
         "mode": "lines",
         "type": "scatter",
         "x": [
          288,
          288,
          289,
          289
         ],
         "xaxis": "x",
         "y": [
          0,
          0.28645811123622933,
          0.28645811123622933,
          0
         ],
         "yaxis": "y"
        },
        {
         "hoverinfo": "text",
         "marker": {
          "color": "rgb(68, 1, 84)"
         },
         "mode": "lines",
         "type": "scatter",
         "x": [
          45,
          45,
          46,
          46
         ],
         "xaxis": "x",
         "y": [
          0,
          0.2906918142317321,
          0.2906918142317321,
          0
         ],
         "yaxis": "y"
        },
        {
         "hoverinfo": "text",
         "marker": {
          "color": "rgb(53, 183, 120)"
         },
         "mode": "lines",
         "type": "scatter",
         "x": [
          284,
          284,
          285.5,
          285.5
         ],
         "xaxis": "x",
         "y": [
          0,
          0.29102081304854427,
          0.29102081304854427,
          0.25043110123277645
         ],
         "yaxis": "y"
        },
        {
         "hoverinfo": "text",
         "marker": {
          "color": "rgb(53, 183, 120)"
         },
         "mode": "lines",
         "type": "scatter",
         "x": [
          172,
          172,
          173.5,
          173.5
         ],
         "xaxis": "x",
         "y": [
          0,
          0.2923575951409687,
          0.2923575951409687,
          0.15270809321866394
         ],
         "yaxis": "y"
        },
        {
         "hoverinfo": "text",
         "marker": {
          "color": "rgb(48, 103, 141)"
         },
         "mode": "lines",
         "type": "scatter",
         "x": [
          65,
          65,
          66,
          66
         ],
         "xaxis": "x",
         "y": [
          0,
          0.2926904522179883,
          0.2926904522179883,
          0
         ],
         "yaxis": "y"
        },
        {
         "hoverinfo": "text",
         "marker": {
          "color": "rgb(53, 183, 120)"
         },
         "mode": "lines",
         "type": "scatter",
         "x": [
          194.5,
          194.5,
          196,
          196
         ],
         "xaxis": "x",
         "y": [
          0.19756007885337726,
          0.2943787633250403,
          0.2943787633250403,
          0
         ],
         "yaxis": "y"
        },
        {
         "hoverinfo": "text",
         "marker": {
          "color": "rgb(53, 183, 120)"
         },
         "mode": "lines",
         "type": "scatter",
         "x": [
          154,
          154,
          155,
          155
         ],
         "xaxis": "x",
         "y": [
          0,
          0.29771818180975207,
          0.29771818180975207,
          0
         ],
         "yaxis": "y"
        },
        {
         "hoverinfo": "text",
         "marker": {
          "color": "rgb(48, 103, 141)"
         },
         "mode": "lines",
         "type": "scatter",
         "x": [
          78.875,
          78.875,
          81,
          81
         ],
         "xaxis": "x",
         "y": [
          0.23448677569722545,
          0.30532944650559785,
          0.30532944650559785,
          0
         ],
         "yaxis": "y"
        },
        {
         "hoverinfo": "text",
         "marker": {
          "color": "rgb(53, 183, 120)"
         },
         "mode": "lines",
         "type": "scatter",
         "x": [
          177.5,
          177.5,
          179.5,
          179.5
         ],
         "xaxis": "x",
         "y": [
          0.08796361767423984,
          0.30582232022628625,
          0.30582232022628625,
          0.09016700081026917
         ],
         "yaxis": "y"
        },
        {
         "hoverinfo": "text",
         "marker": {
          "color": "rgb(53, 183, 120)"
         },
         "mode": "lines",
         "type": "scatter",
         "x": [
          198,
          198,
          199,
          199
         ],
         "xaxis": "x",
         "y": [
          0,
          0.3059284713717812,
          0.3059284713717812,
          0
         ],
         "yaxis": "y"
        },
        {
         "hoverinfo": "text",
         "marker": {
          "color": "rgb(53, 183, 120)"
         },
         "mode": "lines",
         "type": "scatter",
         "x": [
          134.5,
          134.5,
          136,
          136
         ],
         "xaxis": "x",
         "y": [
          0.1344095804537216,
          0.3064868785960137,
          0.3064868785960137,
          0
         ],
         "yaxis": "y"
        },
        {
         "hoverinfo": "text",
         "marker": {
          "color": "rgb(48, 103, 141)"
         },
         "mode": "lines",
         "type": "scatter",
         "x": [
          69.5,
          69.5,
          71.5,
          71.5
         ],
         "xaxis": "x",
         "y": [
          0.18897253883001763,
          0.30675314472968157,
          0.30675314472968157,
          0.11882056340208169
         ],
         "yaxis": "y"
        },
        {
         "hoverinfo": "text",
         "marker": {
          "color": "rgb(53, 183, 120)"
         },
         "mode": "lines",
         "type": "scatter",
         "x": [
          168,
          168,
          170.25,
          170.25
         ],
         "xaxis": "x",
         "y": [
          0,
          0.3089173103546148,
          0.3089173103546148,
          0.24832232484790548
         ],
         "yaxis": "y"
        },
        {
         "hoverinfo": "text",
         "marker": {
          "color": "rgb(53, 183, 120)"
         },
         "mode": "lines",
         "type": "scatter",
         "x": [
          159.75,
          159.75,
          163.25,
          163.25
         ],
         "xaxis": "x",
         "y": [
          0.2075584708692138,
          0.3103349175171895,
          0.3103349175171895,
          0.28397327720778026
         ],
         "yaxis": "y"
        },
        {
         "hoverinfo": "text",
         "marker": {
          "color": "rgb(48, 103, 141)"
         },
         "mode": "lines",
         "type": "scatter",
         "x": [
          82,
          82,
          83.5,
          83.5
         ],
         "xaxis": "x",
         "y": [
          0,
          0.31046691901495616,
          0.31046691901495616,
          0.11253020345567441
         ],
         "yaxis": "y"
        },
        {
         "hoverinfo": "text",
         "marker": {
          "color": "rgb(68, 1, 84)"
         },
         "mode": "lines",
         "type": "scatter",
         "x": [
          47,
          47,
          48,
          48
         ],
         "xaxis": "x",
         "y": [
          0,
          0.31456023114823,
          0.31456023114823,
          0
         ],
         "yaxis": "y"
        },
        {
         "hoverinfo": "text",
         "marker": {
          "color": "rgb(48, 103, 141)"
         },
         "mode": "lines",
         "type": "scatter",
         "x": [
          54.5,
          54.5,
          56,
          56
         ],
         "xaxis": "x",
         "y": [
          0.21643124587821724,
          0.3149265162141986,
          0.3149265162141986,
          0
         ],
         "yaxis": "y"
        },
        {
         "hoverinfo": "text",
         "marker": {
          "color": "rgb(53, 183, 120)"
         },
         "mode": "lines",
         "type": "scatter",
         "x": [
          215,
          215,
          216,
          216
         ],
         "xaxis": "x",
         "y": [
          0,
          0.3162884696464514,
          0.3162884696464514,
          0
         ],
         "yaxis": "y"
        },
        {
         "hoverinfo": "text",
         "marker": {
          "color": "rgb(68, 1, 84)"
         },
         "mode": "lines",
         "type": "scatter",
         "x": [
          15,
          15,
          16,
          16
         ],
         "xaxis": "x",
         "y": [
          0,
          0.32738701573051554,
          0.32738701573051554,
          0
         ],
         "yaxis": "y"
        },
        {
         "hoverinfo": "text",
         "marker": {
          "color": "rgb(48, 103, 141)"
         },
         "mode": "lines",
         "type": "scatter",
         "x": [
          74,
          74,
          75,
          75
         ],
         "xaxis": "x",
         "y": [
          0,
          0.3332628198556908,
          0.3332628198556908,
          0
         ],
         "yaxis": "y"
        },
        {
         "hoverinfo": "text",
         "marker": {
          "color": "rgb(53, 183, 120)"
         },
         "mode": "lines",
         "type": "scatter",
         "x": [
          272.5,
          272.5,
          274,
          274
         ],
         "xaxis": "x",
         "y": [
          0.24923854986150495,
          0.33336009780382997,
          0.33336009780382997,
          0
         ],
         "yaxis": "y"
        },
        {
         "hoverinfo": "text",
         "marker": {
          "color": "rgb(53, 183, 120)"
         },
         "mode": "lines",
         "type": "scatter",
         "x": [
          279,
          279,
          280,
          280
         ],
         "xaxis": "x",
         "y": [
          0,
          0.3338588860466289,
          0.3338588860466289,
          0
         ],
         "yaxis": "y"
        },
        {
         "hoverinfo": "text",
         "marker": {
          "color": "rgb(53, 183, 120)"
         },
         "mode": "lines",
         "type": "scatter",
         "x": [
          266.5,
          266.5,
          268.5,
          268.5
         ],
         "xaxis": "x",
         "y": [
          0.11991442707133344,
          0.3420162026747771,
          0.3420162026747771,
          0.24812175762167032
         ],
         "yaxis": "y"
        },
        {
         "hoverinfo": "text",
         "marker": {
          "color": "rgb(53, 183, 120)"
         },
         "mode": "lines",
         "type": "scatter",
         "x": [
          126,
          126,
          127.5,
          127.5
         ],
         "xaxis": "x",
         "y": [
          0,
          0.34485362231982497,
          0.34485362231982497,
          0.2339158795337145
         ],
         "yaxis": "y"
        },
        {
         "hoverinfo": "text",
         "marker": {
          "color": "rgb(53, 183, 120)"
         },
         "mode": "lines",
         "type": "scatter",
         "x": [
          175,
          175,
          176,
          176
         ],
         "xaxis": "x",
         "y": [
          0,
          0.3460988030143408,
          0.3460988030143408,
          0
         ],
         "yaxis": "y"
        },
        {
         "hoverinfo": "text",
         "marker": {
          "color": "rgb(53, 183, 120)"
         },
         "mode": "lines",
         "type": "scatter",
         "x": [
          142.5,
          142.5,
          144.5,
          144.5
         ],
         "xaxis": "x",
         "y": [
          0.21696942095098043,
          0.34679043240626906,
          0.34679043240626906,
          0.18302308651039492
         ],
         "yaxis": "y"
        },
        {
         "hoverinfo": "text",
         "marker": {
          "color": "rgb(53, 183, 120)"
         },
         "mode": "lines",
         "type": "scatter",
         "x": [
          224.5,
          224.5,
          226,
          226
         ],
         "xaxis": "x",
         "y": [
          0.17857061457958287,
          0.35053442622589887,
          0.35053442622589887,
          0
         ],
         "yaxis": "y"
        },
        {
         "hoverinfo": "text",
         "marker": {
          "color": "rgb(53, 183, 120)"
         },
         "mode": "lines",
         "type": "scatter",
         "x": [
          250,
          250,
          251,
          251
         ],
         "xaxis": "x",
         "y": [
          0,
          0.3547663296030455,
          0.3547663296030455,
          0
         ],
         "yaxis": "y"
        },
        {
         "hoverinfo": "text",
         "marker": {
          "color": "rgb(68, 1, 84)"
         },
         "mode": "lines",
         "type": "scatter",
         "x": [
          29.5,
          29.5,
          31,
          31
         ],
         "xaxis": "x",
         "y": [
          0.18726476370353254,
          0.364756617119801,
          0.364756617119801,
          0
         ],
         "yaxis": "y"
        },
        {
         "hoverinfo": "text",
         "marker": {
          "color": "rgb(48, 103, 141)"
         },
         "mode": "lines",
         "type": "scatter",
         "x": [
          93.5,
          93.5,
          95,
          95
         ],
         "xaxis": "x",
         "y": [
          0.24243129750578532,
          0.3656241989602151,
          0.3656241989602151,
          0
         ],
         "yaxis": "y"
        },
        {
         "hoverinfo": "text",
         "marker": {
          "color": "rgb(53, 183, 120)"
         },
         "mode": "lines",
         "type": "scatter",
         "x": [
          211,
          211,
          212.5,
          212.5
         ],
         "xaxis": "x",
         "y": [
          0,
          0.3658614387908129,
          0.3658614387908129,
          0.16437296184843425
         ],
         "yaxis": "y"
        },
        {
         "hoverinfo": "text",
         "marker": {
          "color": "rgb(53, 183, 120)"
         },
         "mode": "lines",
         "type": "scatter",
         "x": [
          256.5,
          256.5,
          258.5,
          258.5
         ],
         "xaxis": "x",
         "y": [
          0.27279153301424824,
          0.36639901664643504,
          0.36639901664643504,
          0.2632408550121391
         ],
         "yaxis": "y"
        },
        {
         "hoverinfo": "text",
         "marker": {
          "color": "rgb(53, 183, 120)"
         },
         "mode": "lines",
         "type": "scatter",
         "x": [
          187.5,
          187.5,
          189,
          189
         ],
         "xaxis": "x",
         "y": [
          0.2790969724946226,
          0.3672412955357918,
          0.3672412955357918,
          0
         ],
         "yaxis": "y"
        },
        {
         "hoverinfo": "text",
         "marker": {
          "color": "rgb(53, 183, 120)"
         },
         "mode": "lines",
         "type": "scatter",
         "x": [
          117,
          117,
          118,
          118
         ],
         "xaxis": "x",
         "y": [
          0,
          0.37431975945726476,
          0.37431975945726476,
          0
         ],
         "yaxis": "y"
        },
        {
         "hoverinfo": "text",
         "marker": {
          "color": "rgb(68, 1, 84)"
         },
         "mode": "lines",
         "type": "scatter",
         "x": [
          32,
          32,
          33.5,
          33.5
         ],
         "xaxis": "x",
         "y": [
          0,
          0.3786158739525313,
          0.3786158739525313,
          0.22293340971157144
         ],
         "yaxis": "y"
        },
        {
         "hoverinfo": "text",
         "marker": {
          "color": "rgb(53, 183, 120)"
         },
         "mode": "lines",
         "type": "scatter",
         "x": [
          232.5,
          232.5,
          234.5,
          234.5
         ],
         "xaxis": "x",
         "y": [
          0.13607540797689982,
          0.3830269595926519,
          0.3830269595926519,
          0.2766240882263933
         ],
         "yaxis": "y"
        },
        {
         "hoverinfo": "text",
         "marker": {
          "color": "rgb(48, 103, 141)"
         },
         "mode": "lines",
         "type": "scatter",
         "x": [
          76,
          76,
          79.9375,
          79.9375
         ],
         "xaxis": "x",
         "y": [
          0,
          0.3856831253613896,
          0.3856831253613896,
          0.30532944650559785
         ],
         "yaxis": "y"
        },
        {
         "hoverinfo": "text",
         "marker": {
          "color": "rgb(68, 1, 84)"
         },
         "mode": "lines",
         "type": "scatter",
         "x": [
          18.5,
          18.5,
          20,
          20
         ],
         "xaxis": "x",
         "y": [
          0.0681896148192224,
          0.3918594244548277,
          0.3918594244548277,
          0
         ],
         "yaxis": "y"
        },
        {
         "hoverinfo": "text",
         "marker": {
          "color": "rgb(53, 183, 120)"
         },
         "mode": "lines",
         "type": "scatter",
         "x": [
          247.75,
          247.75,
          250.5,
          250.5
         ],
         "xaxis": "x",
         "y": [
          0.2636921256983612,
          0.3952265037432612,
          0.3952265037432612,
          0.3547663296030455
         ],
         "yaxis": "y"
        },
        {
         "hoverinfo": "text",
         "marker": {
          "color": "rgb(53, 183, 120)"
         },
         "mode": "lines",
         "type": "scatter",
         "x": [
          252.75,
          252.75,
          255,
          255
         ],
         "xaxis": "x",
         "y": [
          0.12208239188068411,
          0.3991058124889761,
          0.3991058124889761,
          0
         ],
         "yaxis": "y"
        },
        {
         "hoverinfo": "text",
         "marker": {
          "color": "rgb(53, 183, 120)"
         },
         "mode": "lines",
         "type": "scatter",
         "x": [
          178.5,
          178.5,
          182.25,
          182.25
         ],
         "xaxis": "x",
         "y": [
          0.30582232022628625,
          0.4105723868540869,
          0.4105723868540869,
          0.1757145524244345
         ],
         "yaxis": "y"
        },
        {
         "hoverinfo": "text",
         "marker": {
          "color": "rgb(53, 183, 120)"
         },
         "mode": "lines",
         "type": "scatter",
         "x": [
          132,
          132,
          133,
          133
         ],
         "xaxis": "x",
         "y": [
          0,
          0.4114648628597199,
          0.4114648628597199,
          0
         ],
         "yaxis": "y"
        },
        {
         "hoverinfo": "text",
         "marker": {
          "color": "rgb(48, 103, 141)"
         },
         "mode": "lines",
         "type": "scatter",
         "x": [
          89,
          89,
          90,
          90
         ],
         "xaxis": "x",
         "y": [
          0,
          0.41174949572907904,
          0.41174949572907904,
          0
         ],
         "yaxis": "y"
        },
        {
         "hoverinfo": "text",
         "marker": {
          "color": "rgb(48, 103, 141)"
         },
         "mode": "lines",
         "type": "scatter",
         "x": [
          91.5,
          91.5,
          94.25,
          94.25
         ],
         "xaxis": "x",
         "y": [
          0.2532348296792129,
          0.4123511005036025,
          0.4123511005036025,
          0.3656241989602151
         ],
         "yaxis": "y"
        },
        {
         "hoverinfo": "text",
         "marker": {
          "color": "rgb(53, 183, 120)"
         },
         "mode": "lines",
         "type": "scatter",
         "x": [
          122,
          122,
          123,
          123
         ],
         "xaxis": "x",
         "y": [
          0,
          0.4176953010300866,
          0.4176953010300866,
          0
         ],
         "yaxis": "y"
        },
        {
         "hoverinfo": "text",
         "marker": {
          "color": "rgb(48, 103, 141)"
         },
         "mode": "lines",
         "type": "scatter",
         "x": [
          86.5,
          86.5,
          88,
          88
         ],
         "xaxis": "x",
         "y": [
          0.2751275949880935,
          0.4177835890388933,
          0.4177835890388933,
          0
         ],
         "yaxis": "y"
        },
        {
         "hoverinfo": "text",
         "marker": {
          "color": "rgb(53, 183, 120)"
         },
         "mode": "lines",
         "type": "scatter",
         "x": [
          228,
          228,
          230.25,
          230.25
         ],
         "xaxis": "x",
         "y": [
          0,
          0.4178287108979524,
          0.4178287108979524,
          0.2144274236700045
         ],
         "yaxis": "y"
        },
        {
         "hoverinfo": "text",
         "marker": {
          "color": "rgb(68, 1, 84)"
         },
         "mode": "lines",
         "type": "scatter",
         "x": [
          36,
          36,
          37.5,
          37.5
         ],
         "xaxis": "x",
         "y": [
          0,
          0.42062683770798504,
          0.42062683770798504,
          0.2343584379386282
         ],
         "yaxis": "y"
        },
        {
         "hoverinfo": "text",
         "marker": {
          "color": "rgb(48, 103, 141)"
         },
         "mode": "lines",
         "type": "scatter",
         "x": [
          58,
          58,
          59.5,
          59.5
         ],
         "xaxis": "x",
         "y": [
          0,
          0.4211248088240017,
          0.4211248088240017,
          0.13256063086674075
         ],
         "yaxis": "y"
        },
        {
         "hoverinfo": "text",
         "marker": {
          "color": "rgb(53, 183, 120)"
         },
         "mode": "lines",
         "type": "scatter",
         "x": [
          245,
          245,
          246,
          246
         ],
         "xaxis": "x",
         "y": [
          0,
          0.42176397505435537,
          0.42176397505435537,
          0
         ],
         "yaxis": "y"
        },
        {
         "hoverinfo": "text",
         "marker": {
          "color": "rgb(53, 183, 120)"
         },
         "mode": "lines",
         "type": "scatter",
         "x": [
          209,
          209,
          210,
          210
         ],
         "xaxis": "x",
         "y": [
          0,
          0.4222744853297776,
          0.4222744853297776,
          0
         ],
         "yaxis": "y"
        },
        {
         "hoverinfo": "text",
         "marker": {
          "color": "rgb(68, 1, 84)"
         },
         "mode": "lines",
         "type": "scatter",
         "x": [
          47.5,
          47.5,
          49,
          49
         ],
         "xaxis": "x",
         "y": [
          0.31456023114823,
          0.42887903046055154,
          0.42887903046055154,
          0
         ],
         "yaxis": "y"
        },
        {
         "hoverinfo": "text",
         "marker": {
          "color": "rgb(53, 183, 120)"
         },
         "mode": "lines",
         "type": "scatter",
         "x": [
          262,
          262,
          263.75,
          263.75
         ],
         "xaxis": "x",
         "y": [
          0,
          0.4291547113733209,
          0.4291547113733209,
          0.15905730163427562
         ],
         "yaxis": "y"
        },
        {
         "hoverinfo": "text",
         "marker": {
          "color": "rgb(53, 183, 120)"
         },
         "mode": "lines",
         "type": "scatter",
         "x": [
          143.5,
          143.5,
          146.5,
          146.5
         ],
         "xaxis": "x",
         "y": [
          0.34679043240626906,
          0.43070881072145273,
          0.43070881072145273,
          0.25066969861907906
         ],
         "yaxis": "y"
        },
        {
         "hoverinfo": "text",
         "marker": {
          "color": "rgb(53, 183, 120)"
         },
         "mode": "lines",
         "type": "scatter",
         "x": [
          172.75,
          172.75,
          175.5,
          175.5
         ],
         "xaxis": "x",
         "y": [
          0.2923575951409687,
          0.444637635069834,
          0.444637635069834,
          0.3460988030143408
         ],
         "yaxis": "y"
        },
        {
         "hoverinfo": "text",
         "marker": {
          "color": "rgb(68, 1, 84)"
         },
         "mode": "lines",
         "type": "scatter",
         "x": [
          15.5,
          15.5,
          17,
          17
         ],
         "xaxis": "x",
         "y": [
          0.32738701573051554,
          0.4491560595784422,
          0.4491560595784422,
          0
         ],
         "yaxis": "y"
        },
        {
         "hoverinfo": "text",
         "marker": {
          "color": "rgb(53, 183, 120)"
         },
         "mode": "lines",
         "type": "scatter",
         "x": [
          288.5,
          288.5,
          290,
          290
         ],
         "xaxis": "x",
         "y": [
          0.28645811123622933,
          0.4504363007381264,
          0.4504363007381264,
          0
         ],
         "yaxis": "y"
        },
        {
         "hoverinfo": "text",
         "marker": {
          "color": "rgb(53, 183, 120)"
         },
         "mode": "lines",
         "type": "scatter",
         "x": [
          154.5,
          154.5,
          156,
          156
         ],
         "xaxis": "x",
         "y": [
          0.29771818180975207,
          0.45269402241700707,
          0.45269402241700707,
          0
         ],
         "yaxis": "y"
        },
        {
         "hoverinfo": "text",
         "marker": {
          "color": "rgb(53, 183, 120)"
         },
         "mode": "lines",
         "type": "scatter",
         "x": [
          270.5,
          270.5,
          273.25,
          273.25
         ],
         "xaxis": "x",
         "y": [
          0.19259804794219818,
          0.45338818364593936,
          0.45338818364593936,
          0.33336009780382997
         ],
         "yaxis": "y"
        },
        {
         "hoverinfo": "text",
         "marker": {
          "color": "rgb(53, 183, 120)"
         },
         "mode": "lines",
         "type": "scatter",
         "x": [
          130,
          130,
          131,
          131
         ],
         "xaxis": "x",
         "y": [
          0,
          0.4567415674176239,
          0.4567415674176239,
          0
         ],
         "yaxis": "y"
        },
        {
         "hoverinfo": "text",
         "marker": {
          "color": "rgb(53, 183, 120)"
         },
         "mode": "lines",
         "type": "scatter",
         "x": [
          102,
          102,
          103,
          103
         ],
         "xaxis": "x",
         "y": [
          0,
          0.46193619546697123,
          0.46193619546697123,
          0
         ],
         "yaxis": "y"
        },
        {
         "hoverinfo": "text",
         "marker": {
          "color": "rgb(68, 1, 84)"
         },
         "mode": "lines",
         "type": "scatter",
         "x": [
          25.5,
          25.5,
          27.5,
          27.5
         ],
         "xaxis": "x",
         "y": [
          0.08957436811192207,
          0.46446328933086967,
          0.46446328933086967,
          0.032881507523378706
         ],
         "yaxis": "y"
        },
        {
         "hoverinfo": "text",
         "marker": {
          "color": "rgb(53, 183, 120)"
         },
         "mode": "lines",
         "type": "scatter",
         "x": [
          238,
          238,
          240.125,
          240.125
         ],
         "xaxis": "x",
         "y": [
          0,
          0.4654552339644498,
          0.4654552339644498,
          0.21383882000961033
         ],
         "yaxis": "y"
        },
        {
         "hoverinfo": "text",
         "marker": {
          "color": "rgb(48, 103, 141)"
         },
         "mode": "lines",
         "type": "scatter",
         "x": [
          51.5,
          51.5,
          53,
          53
         ],
         "xaxis": "x",
         "y": [
          0.18375360552060144,
          0.4658402332483763,
          0.4658402332483763,
          0
         ],
         "yaxis": "y"
        },
        {
         "hoverinfo": "text",
         "marker": {
          "color": "rgb(53, 183, 120)"
         },
         "mode": "lines",
         "type": "scatter",
         "x": [
          105.5,
          105.5,
          107.5,
          107.5
         ],
         "xaxis": "x",
         "y": [
          0.2532145452583628,
          0.47124561966506545,
          0.47124561966506545,
          0.1910986762852406
         ],
         "yaxis": "y"
        },
        {
         "hoverinfo": "text",
         "marker": {
          "color": "rgb(68, 1, 84)"
         },
         "mode": "lines",
         "type": "scatter",
         "x": [
          5,
          5,
          6,
          6
         ],
         "xaxis": "x",
         "y": [
          0,
          0.47368459144546915,
          0.47368459144546915,
          0
         ],
         "yaxis": "y"
        },
        {
         "hoverinfo": "text",
         "marker": {
          "color": "rgb(53, 183, 120)"
         },
         "mode": "lines",
         "type": "scatter",
         "x": [
          225.25,
          225.25,
          227,
          227
         ],
         "xaxis": "x",
         "y": [
          0.35053442622589887,
          0.4766076755241176,
          0.4766076755241176,
          0
         ],
         "yaxis": "y"
        },
        {
         "hoverinfo": "text",
         "marker": {
          "color": "rgb(48, 103, 141)"
         },
         "mode": "lines",
         "type": "scatter",
         "x": [
          62.5,
          62.5,
          65.5,
          65.5
         ],
         "xaxis": "x",
         "y": [
          0.27078746314100444,
          0.4790930359541766,
          0.4790930359541766,
          0.2926904522179883
         ],
         "yaxis": "y"
        },
        {
         "hoverinfo": "text",
         "marker": {
          "color": "rgb(53, 183, 120)"
         },
         "mode": "lines",
         "type": "scatter",
         "x": [
          211.75,
          211.75,
          214,
          214
         ],
         "xaxis": "x",
         "y": [
          0.3658614387908129,
          0.4812913213020837,
          0.4812913213020837,
          0
         ],
         "yaxis": "y"
        },
        {
         "hoverinfo": "text",
         "marker": {
          "color": "rgb(68, 1, 84)"
         },
         "mode": "lines",
         "type": "scatter",
         "x": [
          8,
          8,
          9,
          9
         ],
         "xaxis": "x",
         "y": [
          0,
          0.4830812336143708,
          0.4830812336143708,
          0
         ],
         "yaxis": "y"
        },
        {
         "hoverinfo": "text",
         "marker": {
          "color": "rgb(68, 1, 84)"
         },
         "mode": "lines",
         "type": "scatter",
         "x": [
          42,
          42,
          43.5,
          43.5
         ],
         "xaxis": "x",
         "y": [
          0,
          0.4856498702729175,
          0.4856498702729175,
          0.08593920838857375
         ],
         "yaxis": "y"
        },
        {
         "hoverinfo": "text",
         "marker": {
          "color": "rgb(53, 183, 120)"
         },
         "mode": "lines",
         "type": "scatter",
         "x": [
          202,
          202,
          203,
          203
         ],
         "xaxis": "x",
         "y": [
          0,
          0.48657056178210095,
          0.48657056178210095,
          0
         ],
         "yaxis": "y"
        },
        {
         "hoverinfo": "text",
         "marker": {
          "color": "rgb(53, 183, 120)"
         },
         "mode": "lines",
         "type": "scatter",
         "x": [
          198.5,
          198.5,
          200,
          200
         ],
         "xaxis": "x",
         "y": [
          0.3059284713717812,
          0.48772126657484016,
          0.48772126657484016,
          0
         ],
         "yaxis": "y"
        },
        {
         "hoverinfo": "text",
         "marker": {
          "color": "rgb(53, 183, 120)"
         },
         "mode": "lines",
         "type": "scatter",
         "x": [
          195.25,
          195.25,
          197,
          197
         ],
         "xaxis": "x",
         "y": [
          0.2943787633250403,
          0.4899895740682452,
          0.4899895740682452,
          0
         ],
         "yaxis": "y"
        },
        {
         "hoverinfo": "text",
         "marker": {
          "color": "rgb(53, 183, 120)"
         },
         "mode": "lines",
         "type": "scatter",
         "x": [
          205.5,
          205.5,
          207.5,
          207.5
         ],
         "xaxis": "x",
         "y": [
          0.18424279212210598,
          0.49014645125232115,
          0.49014645125232115,
          0.007494334820314008
         ],
         "yaxis": "y"
        },
        {
         "hoverinfo": "text",
         "marker": {
          "color": "rgb(53, 183, 120)"
         },
         "mode": "lines",
         "type": "scatter",
         "x": [
          276.75,
          276.75,
          279.5,
          279.5
         ],
         "xaxis": "x",
         "y": [
          0.09764094920116231,
          0.49334276222638923,
          0.49334276222638923,
          0.3338588860466289
         ],
         "yaxis": "y"
        },
        {
         "hoverinfo": "text",
         "marker": {
          "color": "rgb(53, 183, 120)"
         },
         "mode": "lines",
         "type": "scatter",
         "x": [
          249.125,
          249.125,
          253.875,
          253.875
         ],
         "xaxis": "x",
         "y": [
          0.3952265037432612,
          0.5050905745083747,
          0.5050905745083747,
          0.3991058124889761
         ],
         "yaxis": "y"
        },
        {
         "hoverinfo": "text",
         "marker": {
          "color": "rgb(48, 103, 141)"
         },
         "mode": "lines",
         "type": "scatter",
         "x": [
          70.5,
          70.5,
          73,
          73
         ],
         "xaxis": "x",
         "y": [
          0.30675314472968157,
          0.5057820425336467,
          0.5057820425336467,
          0
         ],
         "yaxis": "y"
        },
        {
         "hoverinfo": "text",
         "marker": {
          "color": "rgb(53, 183, 120)"
         },
         "mode": "lines",
         "type": "scatter",
         "x": [
          281.75,
          281.75,
          284.75,
          284.75
         ],
         "xaxis": "x",
         "y": [
          0.28229994811796666,
          0.507144503405854,
          0.507144503405854,
          0.29102081304854427
         ],
         "yaxis": "y"
        },
        {
         "hoverinfo": "text",
         "marker": {
          "color": "rgb(53, 183, 120)"
         },
         "mode": "lines",
         "type": "scatter",
         "x": [
          291,
          291,
          292,
          292
         ],
         "xaxis": "x",
         "y": [
          0,
          0.5115924071171176,
          0.5115924071171176,
          0
         ],
         "yaxis": "y"
        },
        {
         "hoverinfo": "text",
         "marker": {
          "color": "rgb(68, 1, 84)"
         },
         "mode": "lines",
         "type": "scatter",
         "x": [
          39,
          39,
          40.5,
          40.5
         ],
         "xaxis": "x",
         "y": [
          0,
          0.5126028871898274,
          0.5126028871898274,
          0.23623867310173188
         ],
         "yaxis": "y"
        },
        {
         "hoverinfo": "text",
         "marker": {
          "color": "rgb(53, 183, 120)"
         },
         "mode": "lines",
         "type": "scatter",
         "x": [
          257.5,
          257.5,
          260.5,
          260.5
         ],
         "xaxis": "x",
         "y": [
          0.36639901664643504,
          0.5128518283153631,
          0.5128518283153631,
          0.25180180083314074
         ],
         "yaxis": "y"
        },
        {
         "hoverinfo": "text",
         "marker": {
          "color": "rgb(53, 183, 120)"
         },
         "mode": "lines",
         "type": "scatter",
         "x": [
          215.5,
          215.5,
          217,
          217
         ],
         "xaxis": "x",
         "y": [
          0.3162884696464514,
          0.5153027813721837,
          0.5153027813721837,
          0
         ],
         "yaxis": "y"
        },
        {
         "hoverinfo": "text",
         "marker": {
          "color": "rgb(68, 1, 84)"
         },
         "mode": "lines",
         "type": "scatter",
         "x": [
          42.75,
          42.75,
          45.5,
          45.5
         ],
         "xaxis": "x",
         "y": [
          0.4856498702729175,
          0.5160992267670643,
          0.5160992267670643,
          0.2906918142317321
         ],
         "yaxis": "y"
        },
        {
         "hoverinfo": "text",
         "marker": {
          "color": "rgb(48, 103, 141)"
         },
         "mode": "lines",
         "type": "scatter",
         "x": [
          82.75,
          82.75,
          85,
          85
         ],
         "xaxis": "x",
         "y": [
          0.31046691901495616,
          0.5164064495362055,
          0.5164064495362055,
          0
         ],
         "yaxis": "y"
        },
        {
         "hoverinfo": "text",
         "marker": {
          "color": "rgb(253, 231, 36)"
         },
         "mode": "lines",
         "type": "scatter",
         "x": [
          296,
          296,
          297,
          297
         ],
         "xaxis": "x",
         "y": [
          0,
          0.5206587428219911,
          0.5206587428219911,
          0
         ],
         "yaxis": "y"
        },
        {
         "hoverinfo": "text",
         "marker": {
          "color": "rgb(53, 183, 120)"
         },
         "mode": "lines",
         "type": "scatter",
         "x": [
          148,
          148,
          149.5,
          149.5
         ],
         "xaxis": "x",
         "y": [
          0,
          0.5243965694110094,
          0.5243965694110094,
          0.2580556529939677
         ],
         "yaxis": "y"
        },
        {
         "hoverinfo": "text",
         "marker": {
          "color": "rgb(53, 183, 120)"
         },
         "mode": "lines",
         "type": "scatter",
         "x": [
          161.5,
          161.5,
          165.75,
          165.75
         ],
         "xaxis": "x",
         "y": [
          0.3103349175171895,
          0.5246205441228576,
          0.5246205441228576,
          0.23436948460635781
         ],
         "yaxis": "y"
        },
        {
         "hoverinfo": "text",
         "marker": {
          "color": "rgb(53, 183, 120)"
         },
         "mode": "lines",
         "type": "scatter",
         "x": [
          152,
          152,
          153,
          153
         ],
         "xaxis": "x",
         "y": [
          0,
          0.5251978462678462,
          0.5251978462678462,
          0
         ],
         "yaxis": "y"
        },
        {
         "hoverinfo": "text",
         "marker": {
          "color": "rgb(48, 103, 141)"
         },
         "mode": "lines",
         "type": "scatter",
         "x": [
          96,
          96,
          97,
          97
         ],
         "xaxis": "x",
         "y": [
          0,
          0.5311170922499578,
          0.5311170922499578,
          0
         ],
         "yaxis": "y"
        },
        {
         "hoverinfo": "text",
         "marker": {
          "color": "rgb(68, 1, 84)"
         },
         "mode": "lines",
         "type": "scatter",
         "x": [
          2,
          2,
          3,
          3
         ],
         "xaxis": "x",
         "y": [
          0,
          0.5465918129056028,
          0.5465918129056028,
          0
         ],
         "yaxis": "y"
        },
        {
         "hoverinfo": "text",
         "marker": {
          "color": "rgb(68, 1, 84)"
         },
         "mode": "lines",
         "type": "scatter",
         "x": [
          32.75,
          32.75,
          35,
          35
         ],
         "xaxis": "x",
         "y": [
          0.3786158739525313,
          0.5528564261937908,
          0.5528564261937908,
          0
         ],
         "yaxis": "y"
        },
        {
         "hoverinfo": "text",
         "marker": {
          "color": "rgb(53, 183, 120)"
         },
         "mode": "lines",
         "type": "scatter",
         "x": [
          233.5,
          233.5,
          236.5,
          236.5
         ],
         "xaxis": "x",
         "y": [
          0.3830269595926519,
          0.5654799704799324,
          0.5654799704799324,
          0.2378392386569487
         ],
         "yaxis": "y"
        },
        {
         "hoverinfo": "text",
         "marker": {
          "color": "rgb(53, 183, 120)"
         },
         "mode": "lines",
         "type": "scatter",
         "x": [
          115.5,
          115.5,
          117.5,
          117.5
         ],
         "xaxis": "x",
         "y": [
          0.27869147790951593,
          0.5714119979079084,
          0.5714119979079084,
          0.37431975945726476
         ],
         "yaxis": "y"
        },
        {
         "hoverinfo": "text",
         "marker": {
          "color": "rgb(48, 103, 141)"
         },
         "mode": "lines",
         "type": "scatter",
         "x": [
          68,
          68,
          71.75,
          71.75
         ],
         "xaxis": "x",
         "y": [
          0,
          0.5728150632225374,
          0.5728150632225374,
          0.5057820425336467
         ],
         "yaxis": "y"
        },
        {
         "hoverinfo": "text",
         "marker": {
          "color": "rgb(48, 103, 141)"
         },
         "mode": "lines",
         "type": "scatter",
         "x": [
          98,
          98,
          99,
          99
         ],
         "xaxis": "x",
         "y": [
          0,
          0.5870805520125603,
          0.5870805520125603,
          0
         ],
         "yaxis": "y"
        },
        {
         "hoverinfo": "text",
         "marker": {
          "color": "rgb(53, 183, 120)"
         },
         "mode": "lines",
         "type": "scatter",
         "x": [
          243.5,
          243.5,
          245.5,
          245.5
         ],
         "xaxis": "x",
         "y": [
          0.17023241951538556,
          0.5912490000274868,
          0.5912490000274868,
          0.42176397505435537
         ],
         "yaxis": "y"
        },
        {
         "hoverinfo": "text",
         "marker": {
          "color": "rgb(53, 183, 120)"
         },
         "mode": "lines",
         "type": "scatter",
         "x": [
          169.125,
          169.125,
          174.125,
          174.125
         ],
         "xaxis": "x",
         "y": [
          0.3089173103546148,
          0.6025151218928124,
          0.6025151218928124,
          0.444637635069834
         ],
         "yaxis": "y"
        },
        {
         "hoverinfo": "text",
         "marker": {
          "color": "rgb(48, 103, 141)"
         },
         "mode": "lines",
         "type": "scatter",
         "x": [
          74.5,
          74.5,
          77.96875,
          77.96875
         ],
         "xaxis": "x",
         "y": [
          0.3332628198556908,
          0.6076366151715589,
          0.6076366151715589,
          0.3856831253613896
         ],
         "yaxis": "y"
        },
        {
         "hoverinfo": "text",
         "marker": {
          "color": "rgb(53, 183, 120)"
         },
         "mode": "lines",
         "type": "scatter",
         "x": [
          120.25,
          120.25,
          122.5,
          122.5
         ],
         "xaxis": "x",
         "y": [
          0.2031131591317532,
          0.6105078168463116,
          0.6105078168463116,
          0.4176953010300866
         ],
         "yaxis": "y"
        },
        {
         "hoverinfo": "text",
         "marker": {
          "color": "rgb(53, 183, 120)"
         },
         "mode": "lines",
         "type": "scatter",
         "x": [
          218.75,
          218.75,
          221.75,
          221.75
         ],
         "xaxis": "x",
         "y": [
          0.2333990717361256,
          0.617394863593074,
          0.617394863593074,
          0.27758866217046485
         ],
         "yaxis": "y"
        },
        {
         "hoverinfo": "text",
         "marker": {
          "color": "rgb(68, 1, 84)"
         },
         "mode": "lines",
         "type": "scatter",
         "x": [
          7,
          7,
          8.5,
          8.5
         ],
         "xaxis": "x",
         "y": [
          0,
          0.6182507089938111,
          0.6182507089938111,
          0.4830812336143708
         ],
         "yaxis": "y"
        },
        {
         "hoverinfo": "text",
         "marker": {
          "color": "rgb(53, 183, 120)"
         },
         "mode": "lines",
         "type": "scatter",
         "x": [
          102.5,
          102.5,
          104,
          104
         ],
         "xaxis": "x",
         "y": [
          0.46193619546697123,
          0.6277409207999407,
          0.6277409207999407,
          0
         ],
         "yaxis": "y"
        },
        {
         "hoverinfo": "text",
         "marker": {
          "color": "rgb(53, 183, 120)"
         },
         "mode": "lines",
         "type": "scatter",
         "x": [
          192.5,
          192.5,
          196.125,
          196.125
         ],
         "xaxis": "x",
         "y": [
          0.2783483829245986,
          0.6355507785328086,
          0.6355507785328086,
          0.4899895740682452
         ],
         "yaxis": "y"
        },
        {
         "hoverinfo": "text",
         "marker": {
          "color": "rgb(53, 183, 120)"
         },
         "mode": "lines",
         "type": "scatter",
         "x": [
          180.375,
          180.375,
          184,
          184
         ],
         "xaxis": "x",
         "y": [
          0.4105723868540869,
          0.6416548299735613,
          0.6416548299735613,
          0
         ],
         "yaxis": "y"
        },
        {
         "hoverinfo": "text",
         "marker": {
          "color": "rgb(48, 103, 141)"
         },
         "mode": "lines",
         "type": "scatter",
         "x": [
          89.5,
          89.5,
          92.875,
          92.875
         ],
         "xaxis": "x",
         "y": [
          0.41174949572907904,
          0.6469435989535477,
          0.6469435989535477,
          0.4123511005036025
         ],
         "yaxis": "y"
        },
        {
         "hoverinfo": "text",
         "marker": {
          "color": "rgb(48, 103, 141)"
         },
         "mode": "lines",
         "type": "scatter",
         "x": [
          52.25,
          52.25,
          55.25,
          55.25
         ],
         "xaxis": "x",
         "y": [
          0.4658402332483763,
          0.6494147085969318,
          0.6494147085969318,
          0.3149265162141986
         ],
         "yaxis": "y"
        },
        {
         "hoverinfo": "text",
         "marker": {
          "color": "rgb(68, 1, 84)"
         },
         "mode": "lines",
         "type": "scatter",
         "x": [
          14,
          14,
          16.25,
          16.25
         ],
         "xaxis": "x",
         "y": [
          0,
          0.6600588536452235,
          0.6600588536452235,
          0.4491560595784422
         ],
         "yaxis": "y"
        },
        {
         "hoverinfo": "text",
         "marker": {
          "color": "rgb(68, 1, 84)"
         },
         "mode": "lines",
         "type": "scatter",
         "x": [
          30.25,
          30.25,
          33.875,
          33.875
         ],
         "xaxis": "x",
         "y": [
          0.364756617119801,
          0.664410361964159,
          0.664410361964159,
          0.5528564261937908
         ],
         "yaxis": "y"
        },
        {
         "hoverinfo": "text",
         "marker": {
          "color": "rgb(68, 1, 84)"
         },
         "mode": "lines",
         "type": "scatter",
         "x": [
          1,
          1,
          2.5,
          2.5
         ],
         "xaxis": "x",
         "y": [
          0,
          0.6717713514555403,
          0.6717713514555403,
          0.5465918129056028
         ],
         "yaxis": "y"
        },
        {
         "hoverinfo": "text",
         "marker": {
          "color": "rgb(68, 1, 84)"
         },
         "mode": "lines",
         "type": "scatter",
         "x": [
          19.25,
          19.25,
          21,
          21
         ],
         "xaxis": "x",
         "y": [
          0.3918594244548277,
          0.6723413741254317,
          0.6723413741254317,
          0
         ],
         "yaxis": "y"
        },
        {
         "hoverinfo": "text",
         "marker": {
          "color": "rgb(53, 183, 120)"
         },
         "mode": "lines",
         "type": "scatter",
         "x": [
          190,
          190,
          191,
          191
         ],
         "xaxis": "x",
         "y": [
          0,
          0.6749924401500368,
          0.6749924401500368,
          0
         ],
         "yaxis": "y"
        },
        {
         "hoverinfo": "text",
         "marker": {
          "color": "rgb(53, 183, 120)"
         },
         "mode": "lines",
         "type": "scatter",
         "x": [
          126.75,
          126.75,
          129,
          129
         ],
         "xaxis": "x",
         "y": [
          0.34485362231982497,
          0.6764300392298018,
          0.6764300392298018,
          0
         ],
         "yaxis": "y"
        },
        {
         "hoverinfo": "text",
         "marker": {
          "color": "rgb(68, 1, 84)"
         },
         "mode": "lines",
         "type": "scatter",
         "x": [
          36.75,
          36.75,
          39.75,
          39.75
         ],
         "xaxis": "x",
         "y": [
          0.42062683770798504,
          0.7127577269904052,
          0.7127577269904052,
          0.5126028871898274
         ],
         "yaxis": "y"
        },
        {
         "hoverinfo": "text",
         "marker": {
          "color": "rgb(53, 183, 120)"
         },
         "mode": "lines",
         "type": "scatter",
         "x": [
          262.875,
          262.875,
          267.5,
          267.5
         ],
         "xaxis": "x",
         "y": [
          0.4291547113733209,
          0.713366559695787,
          0.713366559695787,
          0.3420162026747771
         ],
         "yaxis": "y"
        },
        {
         "hoverinfo": "text",
         "marker": {
          "color": "rgb(68, 1, 84)"
         },
         "mode": "lines",
         "type": "scatter",
         "x": [
          4,
          4,
          5.5,
          5.5
         ],
         "xaxis": "x",
         "y": [
          0,
          0.7311548577517235,
          0.7311548577517235,
          0.47368459144546915
         ],
         "yaxis": "y"
        },
        {
         "hoverinfo": "text",
         "marker": {
          "color": "rgb(48, 103, 141)"
         },
         "mode": "lines",
         "type": "scatter",
         "x": [
          76.234375,
          76.234375,
          83.875,
          83.875
         ],
         "xaxis": "x",
         "y": [
          0.6076366151715589,
          0.7353632455384597,
          0.7353632455384597,
          0.5164064495362055
         ],
         "yaxis": "y"
        },
        {
         "hoverinfo": "text",
         "marker": {
          "color": "rgb(53, 183, 120)"
         },
         "mode": "lines",
         "type": "scatter",
         "x": [
          121.375,
          121.375,
          124.5,
          124.5
         ],
         "xaxis": "x",
         "y": [
          0.6105078168463116,
          0.753995989030346,
          0.753995989030346,
          0.24515232857202207
         ],
         "yaxis": "y"
        },
        {
         "hoverinfo": "text",
         "marker": {
          "color": "rgb(53, 183, 120)"
         },
         "mode": "lines",
         "type": "scatter",
         "x": [
          239.0625,
          239.0625,
          244.5,
          244.5
         ],
         "xaxis": "x",
         "y": [
          0.4654552339644498,
          0.7545366936266504,
          0.7545366936266504,
          0.5912490000274868
         ],
         "yaxis": "y"
        },
        {
         "hoverinfo": "text",
         "marker": {
          "color": "rgb(53, 183, 120)"
         },
         "mode": "lines",
         "type": "scatter",
         "x": [
          220.25,
          220.25,
          226.125,
          226.125
         ],
         "xaxis": "x",
         "y": [
          0.617394863593074,
          0.7553200310467275,
          0.7553200310467275,
          0.4766076755241176
         ],
         "yaxis": "y"
        },
        {
         "hoverinfo": "text",
         "marker": {
          "color": "rgb(53, 183, 120)"
         },
         "mode": "lines",
         "type": "scatter",
         "x": [
          287,
          287,
          289.25,
          289.25
         ],
         "xaxis": "x",
         "y": [
          0,
          0.7564897277434862,
          0.7564897277434862,
          0.4504363007381264
         ],
         "yaxis": "y"
        },
        {
         "hoverinfo": "text",
         "marker": {
          "color": "rgb(53, 183, 120)"
         },
         "mode": "lines",
         "type": "scatter",
         "x": [
          157.5,
          157.5,
          163.625,
          163.625
         ],
         "xaxis": "x",
         "y": [
          0.2308035962327784,
          0.77128183961703,
          0.77128183961703,
          0.5246205441228576
         ],
         "yaxis": "y"
        },
        {
         "hoverinfo": "text",
         "marker": {
          "color": "rgb(53, 183, 120)"
         },
         "mode": "lines",
         "type": "scatter",
         "x": [
          209.5,
          209.5,
          212.875,
          212.875
         ],
         "xaxis": "x",
         "y": [
          0.4222744853297776,
          0.773913910648921,
          0.773913910648921,
          0.4812913213020837
         ],
         "yaxis": "y"
        },
        {
         "hoverinfo": "text",
         "marker": {
          "color": "rgb(53, 183, 120)"
         },
         "mode": "lines",
         "type": "scatter",
         "x": [
          113,
          113,
          114,
          114
         ],
         "xaxis": "x",
         "y": [
          0,
          0.7804562890740477,
          0.7804562890740477,
          0
         ],
         "yaxis": "y"
        },
        {
         "hoverinfo": "text",
         "marker": {
          "color": "rgb(53, 183, 120)"
         },
         "mode": "lines",
         "type": "scatter",
         "x": [
          132.5,
          132.5,
          135.25,
          135.25
         ],
         "xaxis": "x",
         "y": [
          0.4114648628597199,
          0.7901001019139844,
          0.7901001019139844,
          0.3064868785960137
         ],
         "yaxis": "y"
        },
        {
         "hoverinfo": "text",
         "marker": {
          "color": "rgb(53, 183, 120)"
         },
         "mode": "lines",
         "type": "scatter",
         "x": [
          251.5,
          251.5,
          259,
          259
         ],
         "xaxis": "x",
         "y": [
          0.5050905745083747,
          0.7938775623782165,
          0.7938775623782165,
          0.5128518283153631
         ],
         "yaxis": "y"
        },
        {
         "hoverinfo": "text",
         "marker": {
          "color": "rgb(53, 183, 120)"
         },
         "mode": "lines",
         "type": "scatter",
         "x": [
          186,
          186,
          188.25,
          188.25
         ],
         "xaxis": "x",
         "y": [
          0,
          0.7971446385984776,
          0.7971446385984776,
          0.3672412955357918
         ],
         "yaxis": "y"
        },
        {
         "hoverinfo": "text",
         "marker": {
          "color": "rgb(68, 1, 84)"
         },
         "mode": "lines",
         "type": "scatter",
         "x": [
          23.5,
          23.5,
          26.5,
          26.5
         ],
         "xaxis": "x",
         "y": [
          0.18303696965210903,
          0.8022207251481228,
          0.8022207251481228,
          0.46446328933086967
         ],
         "yaxis": "y"
        },
        {
         "hoverinfo": "text",
         "marker": {
          "color": "rgb(53, 183, 120)"
         },
         "mode": "lines",
         "type": "scatter",
         "x": [
          137,
          137,
          138,
          138
         ],
         "xaxis": "x",
         "y": [
          0,
          0.8065003113442166,
          0.8065003113442166,
          0
         ],
         "yaxis": "y"
        },
        {
         "hoverinfo": "text",
         "marker": {
          "color": "rgb(53, 183, 120)"
         },
         "mode": "lines",
         "type": "scatter",
         "x": [
          151,
          151,
          152.5,
          152.5
         ],
         "xaxis": "x",
         "y": [
          0,
          0.809851163766742,
          0.809851163766742,
          0.5251978462678462
         ],
         "yaxis": "y"
        },
        {
         "hoverinfo": "text",
         "marker": {
          "color": "rgb(48, 103, 141)"
         },
         "mode": "lines",
         "type": "scatter",
         "x": [
          80.0546875,
          80.0546875,
          87.25,
          87.25
         ],
         "xaxis": "x",
         "y": [
          0.7353632455384597,
          0.8115252398698822,
          0.8115252398698822,
          0.4177835890388933
         ],
         "yaxis": "y"
        },
        {
         "hoverinfo": "text",
         "marker": {
          "color": "rgb(53, 183, 120)"
         },
         "mode": "lines",
         "type": "scatter",
         "x": [
          229.125,
          229.125,
          235,
          235
         ],
         "xaxis": "x",
         "y": [
          0.4178287108979524,
          0.8287490296917648,
          0.8287490296917648,
          0.5654799704799324
         ],
         "yaxis": "y"
        },
        {
         "hoverinfo": "text",
         "marker": {
          "color": "rgb(48, 103, 141)"
         },
         "mode": "lines",
         "type": "scatter",
         "x": [
          58.75,
          58.75,
          64,
          64
         ],
         "xaxis": "x",
         "y": [
          0.4211248088240017,
          0.844001471054041,
          0.844001471054041,
          0.4790930359541766
         ],
         "yaxis": "y"
        },
        {
         "hoverinfo": "text",
         "marker": {
          "color": "rgb(53, 183, 120)"
         },
         "mode": "lines",
         "type": "scatter",
         "x": [
          204,
          204,
          206.5,
          206.5
         ],
         "xaxis": "x",
         "y": [
          0,
          0.8515850346811711,
          0.8515850346811711,
          0.49014645125232115
         ],
         "yaxis": "y"
        },
        {
         "hoverinfo": "text",
         "marker": {
          "color": "rgb(53, 183, 120)"
         },
         "mode": "lines",
         "type": "scatter",
         "x": [
          278.125,
          278.125,
          283.25,
          283.25
         ],
         "xaxis": "x",
         "y": [
          0.49334276222638923,
          0.862126581703655,
          0.862126581703655,
          0.507144503405854
         ],
         "yaxis": "y"
        },
        {
         "hoverinfo": "text",
         "marker": {
          "color": "rgb(53, 183, 120)"
         },
         "mode": "lines",
         "type": "scatter",
         "x": [
          145,
          145,
          148.75,
          148.75
         ],
         "xaxis": "x",
         "y": [
          0.43070881072145273,
          0.8725953002146517,
          0.8725953002146517,
          0.5243965694110094
         ],
         "yaxis": "y"
        },
        {
         "hoverinfo": "text",
         "marker": {
          "color": "rgb(53, 183, 120)"
         },
         "mode": "lines",
         "type": "scatter",
         "x": [
          265.1875,
          265.1875,
          271.875,
          271.875
         ],
         "xaxis": "x",
         "y": [
          0.713366559695787,
          0.8765595894928631,
          0.8765595894928631,
          0.45338818364593936
         ],
         "yaxis": "y"
        },
        {
         "hoverinfo": "text",
         "marker": {
          "color": "rgb(53, 183, 120)"
         },
         "mode": "lines",
         "type": "scatter",
         "x": [
          130.5,
          130.5,
          133.875,
          133.875
         ],
         "xaxis": "x",
         "y": [
          0.4567415674176239,
          0.8768492285233318,
          0.8768492285233318,
          0.7901001019139844
         ],
         "yaxis": "y"
        },
        {
         "hoverinfo": "text",
         "marker": {
          "color": "rgb(53, 183, 120)"
         },
         "mode": "lines",
         "type": "scatter",
         "x": [
          171.625,
          171.625,
          182.1875,
          182.1875
         ],
         "xaxis": "x",
         "y": [
          0.6025151218928124,
          0.8833240905188643,
          0.8833240905188643,
          0.6416548299735613
         ],
         "yaxis": "y"
        },
        {
         "hoverinfo": "text",
         "marker": {
          "color": "rgb(68, 1, 84)"
         },
         "mode": "lines",
         "type": "scatter",
         "x": [
          7.75,
          7.75,
          11.5,
          11.5
         ],
         "xaxis": "x",
         "y": [
          0.6182507089938111,
          0.8933772268133935,
          0.8933772268133935,
          0.27276287731479476
         ],
         "yaxis": "y"
        },
        {
         "hoverinfo": "text",
         "marker": {
          "color": "rgb(53, 183, 120)"
         },
         "mode": "lines",
         "type": "scatter",
         "x": [
          211.1875,
          211.1875,
          216.25,
          216.25
         ],
         "xaxis": "x",
         "y": [
          0.773913910648921,
          0.9077876867499007,
          0.9077876867499007,
          0.5153027813721837
         ],
         "yaxis": "y"
        },
        {
         "hoverinfo": "text",
         "marker": {
          "color": "rgb(53, 183, 120)"
         },
         "mode": "lines",
         "type": "scatter",
         "x": [
          293,
          293,
          294,
          294
         ],
         "xaxis": "x",
         "y": [
          0,
          0.9488471974604439,
          0.9488471974604439,
          0
         ],
         "yaxis": "y"
        },
        {
         "hoverinfo": "text",
         "marker": {
          "color": "rgb(53, 183, 120)"
         },
         "mode": "lines",
         "type": "scatter",
         "x": [
          113.5,
          113.5,
          116.5,
          116.5
         ],
         "xaxis": "x",
         "y": [
          0.7804562890740477,
          0.9662134358270498,
          0.9662134358270498,
          0.5714119979079084
         ],
         "yaxis": "y"
        },
        {
         "hoverinfo": "text",
         "marker": {
          "color": "rgb(53, 183, 120)"
         },
         "mode": "lines",
         "type": "scatter",
         "x": [
          194.3125,
          194.3125,
          199.25,
          199.25
         ],
         "xaxis": "x",
         "y": [
          0.6355507785328086,
          0.9833871285013308,
          0.9833871285013308,
          0.48772126657484016
         ],
         "yaxis": "y"
        },
        {
         "hoverinfo": "text",
         "marker": {
          "color": "rgb(48, 103, 141)"
         },
         "mode": "lines",
         "type": "scatter",
         "x": [
          50,
          50,
          53.75,
          53.75
         ],
         "xaxis": "x",
         "y": [
          0,
          0.9935690263547118,
          0.9935690263547118,
          0.6494147085969318
         ],
         "yaxis": "y"
        },
        {
         "hoverinfo": "text",
         "marker": {
          "color": "rgb(48, 103, 141)"
         },
         "mode": "lines",
         "type": "scatter",
         "x": [
          57,
          57,
          61.375,
          61.375
         ],
         "xaxis": "x",
         "y": [
          0,
          0.9942161092066316,
          0.9942161092066316,
          0.844001471054041
         ],
         "yaxis": "y"
        },
        {
         "hoverinfo": "text",
         "marker": {
          "color": "rgb(48, 103, 141)"
         },
         "mode": "lines",
         "type": "scatter",
         "x": [
          91.1875,
          91.1875,
          96.5,
          96.5
         ],
         "xaxis": "x",
         "y": [
          0.6469435989535477,
          1.0069543940158885,
          1.0069543940158885,
          0.5311170922499578
         ],
         "yaxis": "y"
        },
        {
         "hoverinfo": "text",
         "marker": {
          "color": "rgb(53, 183, 120)"
         },
         "mode": "lines",
         "type": "scatter",
         "x": [
          100,
          100,
          101,
          101
         ],
         "xaxis": "x",
         "y": [
          0,
          1.0130118121563874,
          1.0130118121563874,
          0
         ],
         "yaxis": "y"
        },
        {
         "hoverinfo": "text",
         "marker": {
          "color": "rgb(53, 183, 120)"
         },
         "mode": "lines",
         "type": "scatter",
         "x": [
          151.75,
          151.75,
          155.25,
          155.25
         ],
         "xaxis": "x",
         "y": [
          0.809851163766742,
          1.0132629555868553,
          1.0132629555868553,
          0.45269402241700707
         ],
         "yaxis": "y"
        },
        {
         "hoverinfo": "text",
         "marker": {
          "color": "rgb(53, 183, 120)"
         },
         "mode": "lines",
         "type": "scatter",
         "x": [
          275,
          275,
          280.6875,
          280.6875
         ],
         "xaxis": "x",
         "y": [
          0,
          1.0255913480718817,
          1.0255913480718817,
          0.862126581703655
         ],
         "yaxis": "y"
        },
        {
         "hoverinfo": "text",
         "marker": {
          "color": "rgb(53, 183, 120)"
         },
         "mode": "lines",
         "type": "scatter",
         "x": [
          185,
          185,
          187.125,
          187.125
         ],
         "xaxis": "x",
         "y": [
          0,
          1.02610694229925,
          1.02610694229925,
          0.7971446385984776
         ],
         "yaxis": "y"
        },
        {
         "hoverinfo": "text",
         "marker": {
          "color": "rgb(53, 183, 120)"
         },
         "mode": "lines",
         "type": "scatter",
         "x": [
          106.5,
          106.5,
          109,
          109
         ],
         "xaxis": "x",
         "y": [
          0.47124561966506545,
          1.036748611957572,
          1.036748611957572,
          0
         ],
         "yaxis": "y"
        },
        {
         "hoverinfo": "text",
         "marker": {
          "color": "rgb(48, 103, 141)"
         },
         "mode": "lines",
         "type": "scatter",
         "x": [
          69.875,
          69.875,
          83.65234375,
          83.65234375
         ],
         "xaxis": "x",
         "y": [
          0.5728150632225374,
          1.0646351114453947,
          1.0646351114453947,
          0.8115252398698822
         ],
         "yaxis": "y"
        },
        {
         "hoverinfo": "text",
         "marker": {
          "color": "rgb(68, 1, 84)"
         },
         "mode": "lines",
         "type": "scatter",
         "x": [
          38.25,
          38.25,
          44.125,
          44.125
         ],
         "xaxis": "x",
         "y": [
          0.7127577269904052,
          1.0924995806711468,
          1.0924995806711468,
          0.5160992267670643
         ],
         "yaxis": "y"
        },
        {
         "hoverinfo": "text",
         "marker": {
          "color": "rgb(53, 183, 120)"
         },
         "mode": "lines",
         "type": "scatter",
         "x": [
          232.0625,
          232.0625,
          241.78125,
          241.78125
         ],
         "xaxis": "x",
         "y": [
          0.8287490296917648,
          1.1510078027472352,
          1.1510078027472352,
          0.7545366936266504
         ],
         "yaxis": "y"
        },
        {
         "hoverinfo": "text",
         "marker": {
          "color": "rgb(53, 183, 120)"
         },
         "mode": "lines",
         "type": "scatter",
         "x": [
          122.9375,
          122.9375,
          127.875,
          127.875
         ],
         "xaxis": "x",
         "y": [
          0.753995989030346,
          1.151138403713939,
          1.151138403713939,
          0.6764300392298018
         ],
         "yaxis": "y"
        },
        {
         "hoverinfo": "text",
         "marker": {
          "color": "rgb(68, 1, 84)"
         },
         "mode": "lines",
         "type": "scatter",
         "x": [
          20.125,
          20.125,
          22,
          22
         ],
         "xaxis": "x",
         "y": [
          0.6723413741254317,
          1.1553587862929922,
          1.1553587862929922,
          0
         ],
         "yaxis": "y"
        },
        {
         "hoverinfo": "text",
         "marker": {
          "color": "rgb(53, 183, 120)"
         },
         "mode": "lines",
         "type": "scatter",
         "x": [
          202.5,
          202.5,
          205.25,
          205.25
         ],
         "xaxis": "x",
         "y": [
          0.48657056178210095,
          1.195848534251366,
          1.195848534251366,
          0.8515850346811711
         ],
         "yaxis": "y"
        },
        {
         "hoverinfo": "text",
         "marker": {
          "color": "rgb(53, 183, 120)"
         },
         "mode": "lines",
         "type": "scatter",
         "x": [
          288.125,
          288.125,
          291.5,
          291.5
         ],
         "xaxis": "x",
         "y": [
          0.7564897277434862,
          1.196714345107662,
          1.196714345107662,
          0.5115924071171176
         ],
         "yaxis": "y"
        },
        {
         "hoverinfo": "text",
         "marker": {
          "color": "rgb(53, 183, 120)"
         },
         "mode": "lines",
         "type": "scatter",
         "x": [
          107.75,
          107.75,
          110,
          110
         ],
         "xaxis": "x",
         "y": [
          1.036748611957572,
          1.2086845699057331,
          1.2086845699057331,
          0
         ],
         "yaxis": "y"
        },
        {
         "hoverinfo": "text",
         "marker": {
          "color": "rgb(68, 1, 84)"
         },
         "mode": "lines",
         "type": "scatter",
         "x": [
          25,
          25,
          32.0625,
          32.0625
         ],
         "xaxis": "x",
         "y": [
          0.8022207251481228,
          1.2146003458648635,
          1.2146003458648635,
          0.664410361964159
         ],
         "yaxis": "y"
        },
        {
         "hoverinfo": "text",
         "marker": {
          "color": "rgb(53, 183, 120)"
         },
         "mode": "lines",
         "type": "scatter",
         "x": [
          132.1875,
          132.1875,
          137.5,
          137.5
         ],
         "xaxis": "x",
         "y": [
          0.8768492285233318,
          1.2275106606654707,
          1.2275106606654707,
          0.8065003113442166
         ],
         "yaxis": "y"
        },
        {
         "hoverinfo": "text",
         "marker": {
          "color": "rgb(53, 183, 120)"
         },
         "mode": "lines",
         "type": "scatter",
         "x": [
          255.25,
          255.25,
          268.53125,
          268.53125
         ],
         "xaxis": "x",
         "y": [
          0.7938775623782165,
          1.2778019742541902,
          1.2778019742541902,
          0.8765595894928631
         ],
         "yaxis": "y"
        },
        {
         "hoverinfo": "text",
         "marker": {
          "color": "rgb(53, 183, 120)"
         },
         "mode": "lines",
         "type": "scatter",
         "x": [
          190.5,
          190.5,
          196.78125,
          196.78125
         ],
         "xaxis": "x",
         "y": [
          0.6749924401500368,
          1.2915585093952642,
          1.2915585093952642,
          0.9833871285013308
         ],
         "yaxis": "y"
        },
        {
         "hoverinfo": "text",
         "marker": {
          "color": "rgb(48, 103, 141)"
         },
         "mode": "lines",
         "type": "scatter",
         "x": [
          76.763671875,
          76.763671875,
          93.84375,
          93.84375
         ],
         "xaxis": "x",
         "y": [
          1.0646351114453947,
          1.3362146326017161,
          1.3362146326017161,
          1.0069543940158885
         ],
         "yaxis": "y"
        },
        {
         "hoverinfo": "text",
         "marker": {
          "color": "rgb(53, 183, 120)"
         },
         "mode": "lines",
         "type": "scatter",
         "x": [
          160.5625,
          160.5625,
          176.90625,
          176.90625
         ],
         "xaxis": "x",
         "y": [
          0.77128183961703,
          1.343462235513439,
          1.343462235513439,
          0.8833240905188643
         ],
         "yaxis": "y"
        },
        {
         "hoverinfo": "text",
         "marker": {
          "color": "rgb(53, 183, 120)"
         },
         "mode": "lines",
         "type": "scatter",
         "x": [
          146.875,
          146.875,
          153.5,
          153.5
         ],
         "xaxis": "x",
         "y": [
          0.8725953002146517,
          1.3546604814595486,
          1.3546604814595486,
          1.0132629555868553
         ],
         "yaxis": "y"
        },
        {
         "hoverinfo": "text",
         "marker": {
          "color": "rgb(53, 183, 120)"
         },
         "mode": "lines",
         "type": "scatter",
         "x": [
          203.875,
          203.875,
          213.71875,
          213.71875
         ],
         "xaxis": "x",
         "y": [
          1.195848534251366,
          1.355459971884491,
          1.355459971884491,
          0.9077876867499007
         ],
         "yaxis": "y"
        },
        {
         "hoverinfo": "text",
         "marker": {
          "color": "rgb(53, 183, 120)"
         },
         "mode": "lines",
         "type": "scatter",
         "x": [
          289.8125,
          289.8125,
          293.5,
          293.5
         ],
         "xaxis": "x",
         "y": [
          1.196714345107662,
          1.3613398020222673,
          1.3613398020222673,
          0.9488471974604439
         ],
         "yaxis": "y"
        },
        {
         "hoverinfo": "text",
         "marker": {
          "color": "rgb(53, 183, 120)"
         },
         "mode": "lines",
         "type": "scatter",
         "x": [
          111,
          111,
          112,
          112
         ],
         "xaxis": "x",
         "y": [
          0,
          1.3816631248605662,
          1.3816631248605662,
          0
         ],
         "yaxis": "y"
        },
        {
         "hoverinfo": "text",
         "marker": {
          "color": "rgb(68, 1, 84)"
         },
         "mode": "lines",
         "type": "scatter",
         "x": [
          4.75,
          4.75,
          9.625,
          9.625
         ],
         "xaxis": "x",
         "y": [
          0.7311548577517235,
          1.4056578808726405,
          1.4056578808726405,
          0.8933772268133935
         ],
         "yaxis": "y"
        },
        {
         "hoverinfo": "text",
         "marker": {
          "color": "rgb(53, 183, 120)"
         },
         "mode": "lines",
         "type": "scatter",
         "x": [
          223.1875,
          223.1875,
          236.921875,
          236.921875
         ],
         "xaxis": "x",
         "y": [
          0.7553200310467275,
          1.417526544338175,
          1.417526544338175,
          1.1510078027472352
         ],
         "yaxis": "y"
        },
        {
         "hoverinfo": "text",
         "marker": {
          "color": "rgb(68, 1, 84)"
         },
         "mode": "lines",
         "type": "scatter",
         "x": [
          15.125,
          15.125,
          21.0625,
          21.0625
         ],
         "xaxis": "x",
         "y": [
          0.6600588536452235,
          1.4444996381047441,
          1.4444996381047441,
          1.1553587862929922
         ],
         "yaxis": "y"
        },
        {
         "hoverinfo": "text",
         "marker": {
          "color": "rgb(53, 183, 120)"
         },
         "mode": "lines",
         "type": "scatter",
         "x": [
          103.25,
          103.25,
          108.875,
          108.875
         ],
         "xaxis": "x",
         "y": [
          0.6277409207999407,
          1.448439580239042,
          1.448439580239042,
          1.2086845699057331
         ],
         "yaxis": "y"
        },
        {
         "hoverinfo": "text",
         "marker": {
          "color": "rgb(48, 103, 141)"
         },
         "mode": "lines",
         "type": "scatter",
         "x": [
          59.1875,
          59.1875,
          67,
          67
         ],
         "xaxis": "x",
         "y": [
          0.9942161092066316,
          1.4692122441185094,
          1.4692122441185094,
          0
         ],
         "yaxis": "y"
        },
        {
         "hoverinfo": "text",
         "marker": {
          "color": "rgb(53, 183, 120)"
         },
         "mode": "lines",
         "type": "scatter",
         "x": [
          193.640625,
          193.640625,
          201,
          201
         ],
         "xaxis": "x",
         "y": [
          1.2915585093952642,
          1.5110275622229645,
          1.5110275622229645,
          0
         ],
         "yaxis": "y"
        },
        {
         "hoverinfo": "text",
         "marker": {
          "color": "rgb(253, 231, 36)"
         },
         "mode": "lines",
         "type": "scatter",
         "x": [
          298,
          298,
          299,
          299
         ],
         "xaxis": "x",
         "y": [
          0,
          1.5111774916261453,
          1.5111774916261453,
          0
         ],
         "yaxis": "y"
        },
        {
         "hoverinfo": "text",
         "marker": {
          "color": "rgb(68, 1, 84)"
         },
         "mode": "lines",
         "type": "scatter",
         "x": [
          28.53125,
          28.53125,
          41.1875,
          41.1875
         ],
         "xaxis": "x",
         "y": [
          1.2146003458648635,
          1.5456779977677864,
          1.5456779977677864,
          1.0924995806711468
         ],
         "yaxis": "y"
        },
        {
         "hoverinfo": "text",
         "marker": {
          "color": "rgb(68, 1, 84)"
         },
         "mode": "lines",
         "type": "scatter",
         "x": [
          0,
          0,
          1.75,
          1.75
         ],
         "xaxis": "x",
         "y": [
          0,
          1.558475967022886,
          1.558475967022886,
          0.6717713514555403
         ],
         "yaxis": "y"
        },
        {
         "hoverinfo": "text",
         "marker": {
          "color": "rgb(53, 183, 120)"
         },
         "mode": "lines",
         "type": "scatter",
         "x": [
          115,
          115,
          125.40625,
          125.40625
         ],
         "xaxis": "x",
         "y": [
          0.9662134358270498,
          1.6174248613888664,
          1.6174248613888664,
          1.151138403713939
         ],
         "yaxis": "y"
        },
        {
         "hoverinfo": "text",
         "marker": {
          "color": "rgb(48, 103, 141)"
         },
         "mode": "lines",
         "type": "scatter",
         "x": [
          63.09375,
          63.09375,
          85.3037109375,
          85.3037109375
         ],
         "xaxis": "x",
         "y": [
          1.4692122441185094,
          1.6763842622738958,
          1.6763842622738958,
          1.3362146326017161
         ],
         "yaxis": "y"
        },
        {
         "hoverinfo": "text",
         "marker": {
          "color": "rgb(68, 1, 84)"
         },
         "mode": "lines",
         "type": "scatter",
         "x": [
          34.859375,
          34.859375,
          48.25,
          48.25
         ],
         "xaxis": "x",
         "y": [
          1.5456779977677864,
          1.7279006746630425,
          1.7279006746630425,
          0.42887903046055154
         ],
         "yaxis": "y"
        },
        {
         "hoverinfo": "text",
         "marker": {
          "color": "rgb(53, 183, 120)"
         },
         "mode": "lines",
         "type": "scatter",
         "x": [
          277.84375,
          277.84375,
          291.65625,
          291.65625
         ],
         "xaxis": "x",
         "y": [
          1.0255913480718817,
          1.744621638290496,
          1.744621638290496,
          1.3613398020222673
         ],
         "yaxis": "y"
        },
        {
         "hoverinfo": "text",
         "marker": {
          "color": "rgb(53, 183, 120)"
         },
         "mode": "lines",
         "type": "scatter",
         "x": [
          141,
          141,
          150.1875,
          150.1875
         ],
         "xaxis": "x",
         "y": [
          0,
          1.7570046019566112,
          1.7570046019566112,
          1.3546604814595486
         ],
         "yaxis": "y"
        },
        {
         "hoverinfo": "text",
         "marker": {
          "color": "rgb(53, 183, 120)"
         },
         "mode": "lines",
         "type": "scatter",
         "x": [
          186.0625,
          186.0625,
          197.3203125,
          197.3203125
         ],
         "xaxis": "x",
         "y": [
          1.02610694229925,
          1.7787841460766158,
          1.7787841460766158,
          1.5110275622229645
         ],
         "yaxis": "y"
        },
        {
         "hoverinfo": "text",
         "marker": {
          "color": "rgb(53, 183, 120)"
         },
         "mode": "lines",
         "type": "scatter",
         "x": [
          230.0546875,
          230.0546875,
          261.890625,
          261.890625
         ],
         "xaxis": "x",
         "y": [
          1.417526544338175,
          1.8396334037810484,
          1.8396334037810484,
          1.2778019742541902
         ],
         "yaxis": "y"
        },
        {
         "hoverinfo": "text",
         "marker": {
          "color": "rgb(48, 103, 141)"
         },
         "mode": "lines",
         "type": "scatter",
         "x": [
          51.875,
          51.875,
          74.19873046875,
          74.19873046875
         ],
         "xaxis": "x",
         "y": [
          0.9935690263547118,
          1.8767062166497033,
          1.8767062166497033,
          1.6763842622738958
         ],
         "yaxis": "y"
        },
        {
         "hoverinfo": "text",
         "marker": {
          "color": "rgb(53, 183, 120)"
         },
         "mode": "lines",
         "type": "scatter",
         "x": [
          168.734375,
          168.734375,
          191.69140625,
          191.69140625
         ],
         "xaxis": "x",
         "y": [
          1.343462235513439,
          1.8786317851919037,
          1.8786317851919037,
          1.7787841460766158
         ],
         "yaxis": "y"
        },
        {
         "hoverinfo": "text",
         "marker": {
          "color": "rgb(68, 1, 84)"
         },
         "mode": "lines",
         "type": "scatter",
         "x": [
          0.875,
          0.875,
          7.1875,
          7.1875
         ],
         "xaxis": "x",
         "y": [
          1.558475967022886,
          1.894253583786552,
          1.894253583786552,
          1.4056578808726405
         ],
         "yaxis": "y"
        },
        {
         "hoverinfo": "text",
         "marker": {
          "color": "rgb(53, 183, 120)"
         },
         "mode": "lines",
         "type": "scatter",
         "x": [
          134.84375,
          134.84375,
          139.5,
          139.5
         ],
         "xaxis": "x",
         "y": [
          1.2275106606654707,
          1.9897765356223216,
          1.9897765356223216,
          0.25232094581871667
         ],
         "yaxis": "y"
        },
        {
         "hoverinfo": "text",
         "marker": {
          "color": "rgb(53, 183, 120)"
         },
         "mode": "lines",
         "type": "scatter",
         "x": [
          106.0625,
          106.0625,
          111.5,
          111.5
         ],
         "xaxis": "x",
         "y": [
          1.448439580239042,
          2.0703833303173536,
          2.0703833303173536,
          1.3816631248605662
         ],
         "yaxis": "y"
        },
        {
         "hoverinfo": "text",
         "marker": {
          "color": "rgb(253, 231, 36)"
         },
         "mode": "lines",
         "type": "scatter",
         "x": [
          295,
          295,
          296.5,
          296.5
         ],
         "xaxis": "x",
         "y": [
          0,
          2.0855082383681554,
          2.0855082383681554,
          0.5206587428219911
         ],
         "yaxis": "y"
        },
        {
         "hoverinfo": "text",
         "marker": {
          "color": "rgb(68, 1, 84)"
         },
         "mode": "lines",
         "type": "scatter",
         "x": [
          18.09375,
          18.09375,
          41.5546875,
          41.5546875
         ],
         "xaxis": "x",
         "y": [
          1.4444996381047441,
          2.2060246217610966,
          2.2060246217610966,
          1.7279006746630425
         ],
         "yaxis": "y"
        },
        {
         "hoverinfo": "text",
         "marker": {
          "color": "rgb(53, 183, 120)"
         },
         "mode": "lines",
         "type": "scatter",
         "x": [
          100.5,
          100.5,
          108.78125,
          108.78125
         ],
         "xaxis": "x",
         "y": [
          1.0130118121563874,
          2.228318795073122,
          2.228318795073122,
          2.0703833303173536
         ],
         "yaxis": "y"
        },
        {
         "hoverinfo": "text",
         "marker": {
          "color": "rgb(53, 183, 120)"
         },
         "mode": "lines",
         "type": "scatter",
         "x": [
          120.203125,
          120.203125,
          137.171875,
          137.171875
         ],
         "xaxis": "x",
         "y": [
          1.6174248613888664,
          2.2621503702557035,
          2.2621503702557035,
          1.9897765356223216
         ],
         "yaxis": "y"
        },
        {
         "marker": {
          "color": "rgb(48, 103, 141)",
          "size": [
           20
          ]
         },
         "mode": "markers",
         "type": "scatter",
         "x": [
          80.7684326171875
         ],
         "xaxis": "x",
         "y": [
          2.4261447980790662
         ],
         "yaxis": "y"
        },
        {
         "hoverinfo": "text",
         "marker": {
          "color": "rgb(48, 103, 141)"
         },
         "mode": "lines",
         "type": "scatter",
         "x": [
          63.036865234375,
          63.036865234375,
          98.5,
          98.5
         ],
         "xaxis": "x",
         "y": [
          1.8767062166497033,
          2.4261447980790662,
          2.4261447980790662,
          0.5870805520125603
         ],
         "yaxis": "y"
        },
        {
         "hoverinfo": "text",
         "marker": {
          "color": "rgb(53, 183, 120)"
         },
         "mode": "lines",
         "type": "scatter",
         "x": [
          145.59375,
          145.59375,
          180.212890625,
          180.212890625
         ],
         "xaxis": "x",
         "y": [
          1.7570046019566112,
          2.51799883395123,
          2.51799883395123,
          1.8786317851919037
         ],
         "yaxis": "y"
        },
        {
         "marker": {
          "color": "rgb(68, 1, 84)",
          "size": [
           20
          ]
         },
         "mode": "markers",
         "type": "scatter",
         "x": [
          16.927734375
         ],
         "xaxis": "x",
         "y": [
          2.581292516200908
         ],
         "yaxis": "y"
        },
        {
         "hoverinfo": "text",
         "marker": {
          "color": "rgb(68, 1, 84)"
         },
         "mode": "lines",
         "type": "scatter",
         "x": [
          4.03125,
          4.03125,
          29.82421875,
          29.82421875
         ],
         "xaxis": "x",
         "y": [
          1.894253583786552,
          2.581292516200908,
          2.581292516200908,
          2.2060246217610966
         ],
         "yaxis": "y"
        },
        {
         "hoverinfo": "text",
         "marker": {
          "color": "rgb(53, 183, 120)"
         },
         "mode": "lines",
         "type": "scatter",
         "x": [
          208.796875,
          208.796875,
          245.97265625,
          245.97265625
         ],
         "xaxis": "x",
         "y": [
          1.355459971884491,
          2.8802880115600216,
          2.8802880115600216,
          1.8396334037810484
         ],
         "yaxis": "y"
        },
        {
         "hoverinfo": "text",
         "marker": {
          "color": "rgb(53, 183, 120)"
         },
         "mode": "lines",
         "type": "scatter",
         "x": [
          162.9033203125,
          162.9033203125,
          227.384765625,
          227.384765625
         ],
         "xaxis": "x",
         "y": [
          2.51799883395123,
          3.0619856436585,
          3.0619856436585,
          2.8802880115600216
         ],
         "yaxis": "y"
        },
        {
         "marker": {
          "color": "rgb(253, 231, 36)",
          "size": [
           20
          ]
         },
         "mode": "markers",
         "type": "scatter",
         "x": [
          297.125
         ],
         "xaxis": "x",
         "y": [
          3.2044678732906853
         ],
         "yaxis": "y"
        },
        {
         "hoverinfo": "text",
         "marker": {
          "color": "rgb(253, 231, 36)"
         },
         "mode": "lines",
         "type": "scatter",
         "x": [
          295.75,
          295.75,
          298.5,
          298.5
         ],
         "xaxis": "x",
         "y": [
          2.0855082383681554,
          3.2044678732906853,
          3.2044678732906853,
          1.5111774916261453
         ],
         "yaxis": "y"
        },
        {
         "hoverinfo": "text",
         "marker": {
          "color": "rgb(53, 183, 120)"
         },
         "mode": "lines",
         "type": "scatter",
         "x": [
          195.14404296875,
          195.14404296875,
          284.75,
          284.75
         ],
         "xaxis": "x",
         "y": [
          3.0619856436585,
          3.5491543131545935,
          3.5491543131545935,
          1.744621638290496
         ],
         "yaxis": "y"
        },
        {
         "hoverinfo": "text",
         "marker": {
          "color": "rgb(53, 183, 120)"
         },
         "mode": "lines",
         "type": "scatter",
         "x": [
          104.640625,
          104.640625,
          128.6875,
          128.6875
         ],
         "xaxis": "x",
         "y": [
          2.228318795073122,
          3.9556505666780453,
          3.9556505666780453,
          2.2621503702557035
         ],
         "yaxis": "y"
        },
        {
         "marker": {
          "color": "rgb(53, 183, 120)",
          "size": [
           20
          ]
         },
         "mode": "markers",
         "type": "scatter",
         "x": [
          178.3055419921875
         ],
         "xaxis": "x",
         "y": [
          4.3738893696611365
         ],
         "yaxis": "y"
        },
        {
         "hoverinfo": "text",
         "marker": {
          "color": "rgb(53, 183, 120)"
         },
         "mode": "lines",
         "type": "scatter",
         "x": [
          116.6640625,
          116.6640625,
          239.947021484375,
          239.947021484375
         ],
         "xaxis": "x",
         "y": [
          3.9556505666780453,
          4.3738893696611365,
          4.3738893696611365,
          3.5491543131545935
         ],
         "yaxis": "y"
        },
        {
         "hoverinfo": "text",
         "marker": {
          "color": "rgb(68, 57, 130)"
         },
         "mode": "lines",
         "type": "scatter",
         "x": [
          16.927734375,
          16.927734375,
          80.7684326171875,
          80.7684326171875
         ],
         "xaxis": "x",
         "y": [
          2.581292516200908,
          5.350931045335366,
          5.350931045335366,
          2.4261447980790662
         ],
         "yaxis": "y"
        },
        {
         "hoverinfo": "text",
         "marker": {
          "color": "rgb(144, 214, 67)"
         },
         "mode": "lines",
         "type": "scatter",
         "x": [
          178.3055419921875,
          178.3055419921875,
          297.125,
          297.125
         ],
         "xaxis": "x",
         "y": [
          4.3738893696611365,
          5.63029025492912,
          5.63029025492912,
          3.2044678732906853
         ],
         "yaxis": "y"
        },
        {
         "hoverinfo": "text",
         "marker": {
          "color": "rgb(32, 143, 140)"
         },
         "mode": "lines",
         "type": "scatter",
         "x": [
          48.84808349609375,
          48.84808349609375,
          237.71527099609375,
          237.71527099609375
         ],
         "xaxis": "x",
         "y": [
          5.350931045335366,
          14.10335104478264,
          14.10335104478264,
          5.63029025492912
         ],
         "yaxis": "y"
        }
       ],
       "layout": {
        "height": 800,
        "hovermode": "closest",
        "paper_bgcolor": "rgba(0,0,0,0)",
        "plot_bgcolor": "rgba(0,0,0,0)",
        "showlegend": false,
        "template": {
         "data": {
          "bar": [
           {
            "error_x": {
             "color": "#2a3f5f"
            },
            "error_y": {
             "color": "#2a3f5f"
            },
            "marker": {
             "line": {
              "color": "#E5ECF6",
              "width": 0.5
             },
             "pattern": {
              "fillmode": "overlay",
              "size": 10,
              "solidity": 0.2
             }
            },
            "type": "bar"
           }
          ],
          "barpolar": [
           {
            "marker": {
             "line": {
              "color": "#E5ECF6",
              "width": 0.5
             },
             "pattern": {
              "fillmode": "overlay",
              "size": 10,
              "solidity": 0.2
             }
            },
            "type": "barpolar"
           }
          ],
          "carpet": [
           {
            "aaxis": {
             "endlinecolor": "#2a3f5f",
             "gridcolor": "white",
             "linecolor": "white",
             "minorgridcolor": "white",
             "startlinecolor": "#2a3f5f"
            },
            "baxis": {
             "endlinecolor": "#2a3f5f",
             "gridcolor": "white",
             "linecolor": "white",
             "minorgridcolor": "white",
             "startlinecolor": "#2a3f5f"
            },
            "type": "carpet"
           }
          ],
          "choropleth": [
           {
            "colorbar": {
             "outlinewidth": 0,
             "ticks": ""
            },
            "type": "choropleth"
           }
          ],
          "contour": [
           {
            "colorbar": {
             "outlinewidth": 0,
             "ticks": ""
            },
            "colorscale": [
             [
              0,
              "#0d0887"
             ],
             [
              0.1111111111111111,
              "#46039f"
             ],
             [
              0.2222222222222222,
              "#7201a8"
             ],
             [
              0.3333333333333333,
              "#9c179e"
             ],
             [
              0.4444444444444444,
              "#bd3786"
             ],
             [
              0.5555555555555556,
              "#d8576b"
             ],
             [
              0.6666666666666666,
              "#ed7953"
             ],
             [
              0.7777777777777778,
              "#fb9f3a"
             ],
             [
              0.8888888888888888,
              "#fdca26"
             ],
             [
              1,
              "#f0f921"
             ]
            ],
            "type": "contour"
           }
          ],
          "contourcarpet": [
           {
            "colorbar": {
             "outlinewidth": 0,
             "ticks": ""
            },
            "type": "contourcarpet"
           }
          ],
          "heatmap": [
           {
            "colorbar": {
             "outlinewidth": 0,
             "ticks": ""
            },
            "colorscale": [
             [
              0,
              "#0d0887"
             ],
             [
              0.1111111111111111,
              "#46039f"
             ],
             [
              0.2222222222222222,
              "#7201a8"
             ],
             [
              0.3333333333333333,
              "#9c179e"
             ],
             [
              0.4444444444444444,
              "#bd3786"
             ],
             [
              0.5555555555555556,
              "#d8576b"
             ],
             [
              0.6666666666666666,
              "#ed7953"
             ],
             [
              0.7777777777777778,
              "#fb9f3a"
             ],
             [
              0.8888888888888888,
              "#fdca26"
             ],
             [
              1,
              "#f0f921"
             ]
            ],
            "type": "heatmap"
           }
          ],
          "heatmapgl": [
           {
            "colorbar": {
             "outlinewidth": 0,
             "ticks": ""
            },
            "colorscale": [
             [
              0,
              "#0d0887"
             ],
             [
              0.1111111111111111,
              "#46039f"
             ],
             [
              0.2222222222222222,
              "#7201a8"
             ],
             [
              0.3333333333333333,
              "#9c179e"
             ],
             [
              0.4444444444444444,
              "#bd3786"
             ],
             [
              0.5555555555555556,
              "#d8576b"
             ],
             [
              0.6666666666666666,
              "#ed7953"
             ],
             [
              0.7777777777777778,
              "#fb9f3a"
             ],
             [
              0.8888888888888888,
              "#fdca26"
             ],
             [
              1,
              "#f0f921"
             ]
            ],
            "type": "heatmapgl"
           }
          ],
          "histogram": [
           {
            "marker": {
             "pattern": {
              "fillmode": "overlay",
              "size": 10,
              "solidity": 0.2
             }
            },
            "type": "histogram"
           }
          ],
          "histogram2d": [
           {
            "colorbar": {
             "outlinewidth": 0,
             "ticks": ""
            },
            "colorscale": [
             [
              0,
              "#0d0887"
             ],
             [
              0.1111111111111111,
              "#46039f"
             ],
             [
              0.2222222222222222,
              "#7201a8"
             ],
             [
              0.3333333333333333,
              "#9c179e"
             ],
             [
              0.4444444444444444,
              "#bd3786"
             ],
             [
              0.5555555555555556,
              "#d8576b"
             ],
             [
              0.6666666666666666,
              "#ed7953"
             ],
             [
              0.7777777777777778,
              "#fb9f3a"
             ],
             [
              0.8888888888888888,
              "#fdca26"
             ],
             [
              1,
              "#f0f921"
             ]
            ],
            "type": "histogram2d"
           }
          ],
          "histogram2dcontour": [
           {
            "colorbar": {
             "outlinewidth": 0,
             "ticks": ""
            },
            "colorscale": [
             [
              0,
              "#0d0887"
             ],
             [
              0.1111111111111111,
              "#46039f"
             ],
             [
              0.2222222222222222,
              "#7201a8"
             ],
             [
              0.3333333333333333,
              "#9c179e"
             ],
             [
              0.4444444444444444,
              "#bd3786"
             ],
             [
              0.5555555555555556,
              "#d8576b"
             ],
             [
              0.6666666666666666,
              "#ed7953"
             ],
             [
              0.7777777777777778,
              "#fb9f3a"
             ],
             [
              0.8888888888888888,
              "#fdca26"
             ],
             [
              1,
              "#f0f921"
             ]
            ],
            "type": "histogram2dcontour"
           }
          ],
          "mesh3d": [
           {
            "colorbar": {
             "outlinewidth": 0,
             "ticks": ""
            },
            "type": "mesh3d"
           }
          ],
          "parcoords": [
           {
            "line": {
             "colorbar": {
              "outlinewidth": 0,
              "ticks": ""
             }
            },
            "type": "parcoords"
           }
          ],
          "pie": [
           {
            "automargin": true,
            "type": "pie"
           }
          ],
          "scatter": [
           {
            "marker": {
             "colorbar": {
              "outlinewidth": 0,
              "ticks": ""
             }
            },
            "type": "scatter"
           }
          ],
          "scatter3d": [
           {
            "line": {
             "colorbar": {
              "outlinewidth": 0,
              "ticks": ""
             }
            },
            "marker": {
             "colorbar": {
              "outlinewidth": 0,
              "ticks": ""
             }
            },
            "type": "scatter3d"
           }
          ],
          "scattercarpet": [
           {
            "marker": {
             "colorbar": {
              "outlinewidth": 0,
              "ticks": ""
             }
            },
            "type": "scattercarpet"
           }
          ],
          "scattergeo": [
           {
            "marker": {
             "colorbar": {
              "outlinewidth": 0,
              "ticks": ""
             }
            },
            "type": "scattergeo"
           }
          ],
          "scattergl": [
           {
            "marker": {
             "colorbar": {
              "outlinewidth": 0,
              "ticks": ""
             }
            },
            "type": "scattergl"
           }
          ],
          "scattermapbox": [
           {
            "marker": {
             "colorbar": {
              "outlinewidth": 0,
              "ticks": ""
             }
            },
            "type": "scattermapbox"
           }
          ],
          "scatterpolar": [
           {
            "marker": {
             "colorbar": {
              "outlinewidth": 0,
              "ticks": ""
             }
            },
            "type": "scatterpolar"
           }
          ],
          "scatterpolargl": [
           {
            "marker": {
             "colorbar": {
              "outlinewidth": 0,
              "ticks": ""
             }
            },
            "type": "scatterpolargl"
           }
          ],
          "scatterternary": [
           {
            "marker": {
             "colorbar": {
              "outlinewidth": 0,
              "ticks": ""
             }
            },
            "type": "scatterternary"
           }
          ],
          "surface": [
           {
            "colorbar": {
             "outlinewidth": 0,
             "ticks": ""
            },
            "colorscale": [
             [
              0,
              "#0d0887"
             ],
             [
              0.1111111111111111,
              "#46039f"
             ],
             [
              0.2222222222222222,
              "#7201a8"
             ],
             [
              0.3333333333333333,
              "#9c179e"
             ],
             [
              0.4444444444444444,
              "#bd3786"
             ],
             [
              0.5555555555555556,
              "#d8576b"
             ],
             [
              0.6666666666666666,
              "#ed7953"
             ],
             [
              0.7777777777777778,
              "#fb9f3a"
             ],
             [
              0.8888888888888888,
              "#fdca26"
             ],
             [
              1,
              "#f0f921"
             ]
            ],
            "type": "surface"
           }
          ],
          "table": [
           {
            "cells": {
             "fill": {
              "color": "#EBF0F8"
             },
             "line": {
              "color": "white"
             }
            },
            "header": {
             "fill": {
              "color": "#C8D4E3"
             },
             "line": {
              "color": "white"
             }
            },
            "type": "table"
           }
          ]
         },
         "layout": {
          "annotationdefaults": {
           "arrowcolor": "#2a3f5f",
           "arrowhead": 0,
           "arrowwidth": 1
          },
          "autotypenumbers": "strict",
          "coloraxis": {
           "colorbar": {
            "outlinewidth": 0,
            "ticks": ""
           }
          },
          "colorscale": {
           "diverging": [
            [
             0,
             "#8e0152"
            ],
            [
             0.1,
             "#c51b7d"
            ],
            [
             0.2,
             "#de77ae"
            ],
            [
             0.3,
             "#f1b6da"
            ],
            [
             0.4,
             "#fde0ef"
            ],
            [
             0.5,
             "#f7f7f7"
            ],
            [
             0.6,
             "#e6f5d0"
            ],
            [
             0.7,
             "#b8e186"
            ],
            [
             0.8,
             "#7fbc41"
            ],
            [
             0.9,
             "#4d9221"
            ],
            [
             1,
             "#276419"
            ]
           ],
           "sequential": [
            [
             0,
             "#0d0887"
            ],
            [
             0.1111111111111111,
             "#46039f"
            ],
            [
             0.2222222222222222,
             "#7201a8"
            ],
            [
             0.3333333333333333,
             "#9c179e"
            ],
            [
             0.4444444444444444,
             "#bd3786"
            ],
            [
             0.5555555555555556,
             "#d8576b"
            ],
            [
             0.6666666666666666,
             "#ed7953"
            ],
            [
             0.7777777777777778,
             "#fb9f3a"
            ],
            [
             0.8888888888888888,
             "#fdca26"
            ],
            [
             1,
             "#f0f921"
            ]
           ],
           "sequentialminus": [
            [
             0,
             "#0d0887"
            ],
            [
             0.1111111111111111,
             "#46039f"
            ],
            [
             0.2222222222222222,
             "#7201a8"
            ],
            [
             0.3333333333333333,
             "#9c179e"
            ],
            [
             0.4444444444444444,
             "#bd3786"
            ],
            [
             0.5555555555555556,
             "#d8576b"
            ],
            [
             0.6666666666666666,
             "#ed7953"
            ],
            [
             0.7777777777777778,
             "#fb9f3a"
            ],
            [
             0.8888888888888888,
             "#fdca26"
            ],
            [
             1,
             "#f0f921"
            ]
           ]
          },
          "colorway": [
           "#636efa",
           "#EF553B",
           "#00cc96",
           "#ab63fa",
           "#FFA15A",
           "#19d3f3",
           "#FF6692",
           "#B6E880",
           "#FF97FF",
           "#FECB52"
          ],
          "font": {
           "color": "#2a3f5f"
          },
          "geo": {
           "bgcolor": "white",
           "lakecolor": "white",
           "landcolor": "#E5ECF6",
           "showlakes": true,
           "showland": true,
           "subunitcolor": "white"
          },
          "hoverlabel": {
           "align": "left"
          },
          "hovermode": "closest",
          "mapbox": {
           "style": "light"
          },
          "paper_bgcolor": "white",
          "plot_bgcolor": "#E5ECF6",
          "polar": {
           "angularaxis": {
            "gridcolor": "white",
            "linecolor": "white",
            "ticks": ""
           },
           "bgcolor": "#E5ECF6",
           "radialaxis": {
            "gridcolor": "white",
            "linecolor": "white",
            "ticks": ""
           }
          },
          "scene": {
           "xaxis": {
            "backgroundcolor": "#E5ECF6",
            "gridcolor": "white",
            "gridwidth": 2,
            "linecolor": "white",
            "showbackground": true,
            "ticks": "",
            "zerolinecolor": "white"
           },
           "yaxis": {
            "backgroundcolor": "#E5ECF6",
            "gridcolor": "white",
            "gridwidth": 2,
            "linecolor": "white",
            "showbackground": true,
            "ticks": "",
            "zerolinecolor": "white"
           },
           "zaxis": {
            "backgroundcolor": "#E5ECF6",
            "gridcolor": "white",
            "gridwidth": 2,
            "linecolor": "white",
            "showbackground": true,
            "ticks": "",
            "zerolinecolor": "white"
           }
          },
          "shapedefaults": {
           "line": {
            "color": "#2a3f5f"
           }
          },
          "ternary": {
           "aaxis": {
            "gridcolor": "white",
            "linecolor": "white",
            "ticks": ""
           },
           "baxis": {
            "gridcolor": "white",
            "linecolor": "white",
            "ticks": ""
           },
           "bgcolor": "#E5ECF6",
           "caxis": {
            "gridcolor": "white",
            "linecolor": "white",
            "ticks": ""
           }
          },
          "title": {
           "x": 0.05
          },
          "xaxis": {
           "automargin": true,
           "gridcolor": "white",
           "linecolor": "white",
           "ticks": "",
           "title": {
            "standoff": 15
           },
           "zerolinecolor": "white",
           "zerolinewidth": 2
          },
          "yaxis": {
           "automargin": true,
           "gridcolor": "white",
           "linecolor": "white",
           "ticks": "",
           "title": {
            "standoff": 15
           },
           "zerolinecolor": "white",
           "zerolinewidth": 2
          }
         }
        },
        "width": 800,
        "xaxis": {
         "domain": [
          0,
          1
         ],
         "mirror": false,
         "rangemode": "tozero",
         "showgrid": false,
         "showline": false,
         "showticklabels": true,
         "ticks": "",
         "zeroline": false
        },
        "yaxis": {
         "domain": [
          0,
          1
         ],
         "mirror": false,
         "rangemode": "tozero",
         "showgrid": false,
         "showline": false,
         "showticklabels": true,
         "ticks": "",
         "zeroline": false
        }
       }
      },
      "text/html": [
       "<div>                            <div id=\"59fd6caa-272b-4932-9259-952fc920e78a\" class=\"plotly-graph-div\" style=\"height:800px; width:800px;\"></div>            <script type=\"text/javascript\">                require([\"plotly\"], function(Plotly) {                    window.PLOTLYENV=window.PLOTLYENV || {};                                    if (document.getElementById(\"59fd6caa-272b-4932-9259-952fc920e78a\")) {                    Plotly.newPlot(                        \"59fd6caa-272b-4932-9259-952fc920e78a\",                        [{\"hoverinfo\":\"text\",\"marker\":{\"color\":\"rgb(53, 183, 120)\"},\"mode\":\"lines\",\"x\":[207,207,208,208],\"xaxis\":\"x\",\"y\":[0.0,0.007494334820314008,0.007494334820314008,0.0],\"yaxis\":\"y\",\"type\":\"scatter\"},{\"hoverinfo\":\"text\",\"marker\":{\"color\":\"rgb(53, 183, 120)\"},\"mode\":\"lines\",\"x\":[253,253,254,254],\"xaxis\":\"x\",\"y\":[0.0,0.0285339881182182,0.0285339881182182,0.0],\"yaxis\":\"y\",\"type\":\"scatter\"},{\"hoverinfo\":\"text\",\"marker\":{\"color\":\"rgb(68, 1, 84)\"},\"mode\":\"lines\",\"x\":[27,27,28,28],\"xaxis\":\"x\",\"y\":[0.0,0.032881507523378706,0.032881507523378706,0.0],\"yaxis\":\"y\",\"type\":\"scatter\"},{\"hoverinfo\":\"text\",\"marker\":{\"color\":\"rgb(53, 183, 120)\"},\"mode\":\"lines\",\"x\":[277,277,278,278],\"xaxis\":\"x\",\"y\":[0.0,0.06549168280272782,0.06549168280272782,0.0],\"yaxis\":\"y\",\"type\":\"scatter\"},{\"hoverinfo\":\"text\",\"marker\":{\"color\":\"rgb(68, 1, 84)\"},\"mode\":\"lines\",\"x\":[18,18,19,19],\"xaxis\":\"x\",\"y\":[0.0,0.0681896148192224,0.0681896148192224,0.0],\"yaxis\":\"y\",\"type\":\"scatter\"},{\"hoverinfo\":\"text\",\"marker\":{\"color\":\"rgb(48, 103, 141)\"},\"mode\":\"lines\",\"x\":[63,63,64,64],\"xaxis\":\"x\",\"y\":[0.0,0.06960448152505534,0.06960448152505534,0.0],\"yaxis\":\"y\",\"type\":\"scatter\"},{\"hoverinfo\":\"text\",\"marker\":{\"color\":\"rgb(68, 1, 84)\"},\"mode\":\"lines\",\"x\":[10,10,11,11],\"xaxis\":\"x\",\"y\":[0.0,0.07349879914021656,0.07349879914021656,0.0],\"yaxis\":\"y\",\"type\":\"scatter\"},{\"hoverinfo\":\"text\",\"marker\":{\"color\":\"rgb(53, 183, 120)\"},\"mode\":\"lines\",\"x\":[282,282,283,283],\"xaxis\":\"x\",\"y\":[0.0,0.07731189467152935,0.07731189467152935,0.0],\"yaxis\":\"y\",\"type\":\"scatter\"},{\"hoverinfo\":\"text\",\"marker\":{\"color\":\"rgb(53, 183, 120)\"},\"mode\":\"lines\",\"x\":[229,229,230,230],\"xaxis\":\"x\",\"y\":[0.0,0.07841593362109082,0.07841593362109082,0.0],\"yaxis\":\"y\",\"type\":\"scatter\"},{\"hoverinfo\":\"text\",\"marker\":{\"color\":\"rgb(68, 1, 84)\"},\"mode\":\"lines\",\"x\":[43,43,44,44],\"xaxis\":\"x\",\"y\":[0.0,0.08593920838857375,0.08593920838857375,0.0],\"yaxis\":\"y\",\"type\":\"scatter\"},{\"hoverinfo\":\"text\",\"marker\":{\"color\":\"rgb(53, 183, 120)\"},\"mode\":\"lines\",\"x\":[177,177,178,178],\"xaxis\":\"x\",\"y\":[0.0,0.08796361767423984,0.08796361767423984,0.0],\"yaxis\":\"y\",\"type\":\"scatter\"},{\"hoverinfo\":\"text\",\"marker\":{\"color\":\"rgb(53, 183, 120)\"},\"mode\":\"lines\",\"x\":[160,160,161,161],\"xaxis\":\"x\",\"y\":[0.0,0.08921080379473015,0.08921080379473015,0.0],\"yaxis\":\"y\",\"type\":\"scatter\"},{\"hoverinfo\":\"text\",\"marker\":{\"color\":\"rgb(68, 1, 84)\"},\"mode\":\"lines\",\"x\":[25,25,26,26],\"xaxis\":\"x\",\"y\":[0.0,0.08957436811192207,0.08957436811192207,0.0],\"yaxis\":\"y\",\"type\":\"scatter\"},{\"hoverinfo\":\"text\",\"marker\":{\"color\":\"rgb(53, 183, 120)\"},\"mode\":\"lines\",\"x\":[179,179,180,180],\"xaxis\":\"x\",\"y\":[0.0,0.09016700081026917,0.09016700081026917,0.0],\"yaxis\":\"y\",\"type\":\"scatter\"},{\"hoverinfo\":\"text\",\"marker\":{\"color\":\"rgb(53, 183, 120)\"},\"mode\":\"lines\",\"x\":[264,264,265,265],\"xaxis\":\"x\",\"y\":[0.0,0.09515337402256059,0.09515337402256059,0.0],\"yaxis\":\"y\",\"type\":\"scatter\"},{\"hoverinfo\":\"text\",\"marker\":{\"color\":\"rgb(53, 183, 120)\"},\"mode\":\"lines\",\"x\":[240,240,241,241],\"xaxis\":\"x\",\"y\":[0.0,0.09607283004768943,0.09607283004768943,0.0],\"yaxis\":\"y\",\"type\":\"scatter\"},{\"hoverinfo\":\"text\",\"marker\":{\"color\":\"rgb(53, 183, 120)\"},\"mode\":\"lines\",\"x\":[276.0,276.0,277.5,277.5],\"xaxis\":\"x\",\"y\":[0.0,0.09764094920116231,0.09764094920116231,0.06549168280272782],\"yaxis\":\"y\",\"type\":\"scatter\"},{\"hoverinfo\":\"text\",\"marker\":{\"color\":\"rgb(53, 183, 120)\"},\"mode\":\"lines\",\"x\":[119,119,120,120],\"xaxis\":\"x\",\"y\":[0.0,0.10111367341201676,0.10111367341201676,0.0],\"yaxis\":\"y\",\"type\":\"scatter\"},{\"hoverinfo\":\"text\",\"marker\":{\"color\":\"rgb(48, 103, 141)\"},\"mode\":\"lines\",\"x\":[83,83,84,84],\"xaxis\":\"x\",\"y\":[0.0,0.11253020345567441,0.11253020345567441,0.0],\"yaxis\":\"y\",\"type\":\"scatter\"},{\"hoverinfo\":\"text\",\"marker\":{\"color\":\"rgb(48, 103, 141)\"},\"mode\":\"lines\",\"x\":[71,71,72,72],\"xaxis\":\"x\",\"y\":[0.0,0.11882056340208169,0.11882056340208169,0.0],\"yaxis\":\"y\",\"type\":\"scatter\"},{\"hoverinfo\":\"text\",\"marker\":{\"color\":\"rgb(53, 183, 120)\"},\"mode\":\"lines\",\"x\":[266,266,267,267],\"xaxis\":\"x\",\"y\":[0.0,0.11991442707133344,0.11991442707133344,0.0],\"yaxis\":\"y\",\"type\":\"scatter\"},{\"hoverinfo\":\"text\",\"marker\":{\"color\":\"rgb(53, 183, 120)\"},\"mode\":\"lines\",\"x\":[252.0,252.0,253.5,253.5],\"xaxis\":\"x\",\"y\":[0.0,0.12208239188068411,0.12208239188068411,0.0285339881182182],\"yaxis\":\"y\",\"type\":\"scatter\"},{\"hoverinfo\":\"text\",\"marker\":{\"color\":\"rgb(48, 103, 141)\"},\"mode\":\"lines\",\"x\":[78,78,79,79],\"xaxis\":\"x\",\"y\":[0.0,0.1271712955002741,0.1271712955002741,0.0],\"yaxis\":\"y\",\"type\":\"scatter\"},{\"hoverinfo\":\"text\",\"marker\":{\"color\":\"rgb(48, 103, 141)\"},\"mode\":\"lines\",\"x\":[59,59,60,60],\"xaxis\":\"x\",\"y\":[0.0,0.13256063086674075,0.13256063086674075,0.0],\"yaxis\":\"y\",\"type\":\"scatter\"},{\"hoverinfo\":\"text\",\"marker\":{\"color\":\"rgb(53, 183, 120)\"},\"mode\":\"lines\",\"x\":[134,134,135,135],\"xaxis\":\"x\",\"y\":[0.0,0.1344095804537216,0.1344095804537216,0.0],\"yaxis\":\"y\",\"type\":\"scatter\"},{\"hoverinfo\":\"text\",\"marker\":{\"color\":\"rgb(53, 183, 120)\"},\"mode\":\"lines\",\"x\":[232,232,233,233],\"xaxis\":\"x\",\"y\":[0.0,0.13607540797689982,0.13607540797689982,0.0],\"yaxis\":\"y\",\"type\":\"scatter\"},{\"hoverinfo\":\"text\",\"marker\":{\"color\":\"rgb(53, 183, 120)\"},\"mode\":\"lines\",\"x\":[166,166,167,167],\"xaxis\":\"x\",\"y\":[0.0,0.138525106127589,0.138525106127589,0.0],\"yaxis\":\"y\",\"type\":\"scatter\"},{\"hoverinfo\":\"text\",\"marker\":{\"color\":\"rgb(53, 183, 120)\"},\"mode\":\"lines\",\"x\":[240.5,240.5,242.0,242.0],\"xaxis\":\"x\",\"y\":[0.09607283004768943,0.14090185093186394,0.14090185093186394,0.0],\"yaxis\":\"y\",\"type\":\"scatter\"},{\"hoverinfo\":\"text\",\"marker\":{\"color\":\"rgb(53, 183, 120)\"},\"mode\":\"lines\",\"x\":[248,248,249,249],\"xaxis\":\"x\",\"y\":[0.0,0.14673616893196567,0.14673616893196567,0.0],\"yaxis\":\"y\",\"type\":\"scatter\"},{\"hoverinfo\":\"text\",\"marker\":{\"color\":\"rgb(53, 183, 120)\"},\"mode\":\"lines\",\"x\":[173,173,174,174],\"xaxis\":\"x\",\"y\":[0.0,0.15270809321866394,0.15270809321866394,0.0],\"yaxis\":\"y\",\"type\":\"scatter\"},{\"hoverinfo\":\"text\",\"marker\":{\"color\":\"rgb(53, 183, 120)\"},\"mode\":\"lines\",\"x\":[169,169,170,170],\"xaxis\":\"x\",\"y\":[0.0,0.15427083045978193,0.15427083045978193,0.0],\"yaxis\":\"y\",\"type\":\"scatter\"},{\"hoverinfo\":\"text\",\"marker\":{\"color\":\"rgb(53, 183, 120)\"},\"mode\":\"lines\",\"x\":[181,181,182,182],\"xaxis\":\"x\",\"y\":[0.0,0.15447259210616918,0.15447259210616918,0.0],\"yaxis\":\"y\",\"type\":\"scatter\"},{\"hoverinfo\":\"text\",\"marker\":{\"color\":\"rgb(53, 183, 120)\"},\"mode\":\"lines\",\"x\":[263.0,263.0,264.5,264.5],\"xaxis\":\"x\",\"y\":[0.0,0.15905730163427562,0.15905730163427562,0.09515337402256059],\"yaxis\":\"y\",\"type\":\"scatter\"},{\"hoverinfo\":\"text\",\"marker\":{\"color\":\"rgb(53, 183, 120)\"},\"mode\":\"lines\",\"x\":[212,212,213,213],\"xaxis\":\"x\",\"y\":[0.0,0.16437296184843425,0.16437296184843425,0.0],\"yaxis\":\"y\",\"type\":\"scatter\"},{\"hoverinfo\":\"text\",\"marker\":{\"color\":\"rgb(53, 183, 120)\"},\"mode\":\"lines\",\"x\":[243,243,244,244],\"xaxis\":\"x\",\"y\":[0.0,0.17023241951538556,0.17023241951538556,0.0],\"yaxis\":\"y\",\"type\":\"scatter\"},{\"hoverinfo\":\"text\",\"marker\":{\"color\":\"rgb(48, 103, 141)\"},\"mode\":\"lines\",\"x\":[61,61,62,62],\"xaxis\":\"x\",\"y\":[0.0,0.17486940463240844,0.17486940463240844,0.0],\"yaxis\":\"y\",\"type\":\"scatter\"},{\"hoverinfo\":\"text\",\"marker\":{\"color\":\"rgb(53, 183, 120)\"},\"mode\":\"lines\",\"x\":[181.5,181.5,183.0,183.0],\"xaxis\":\"x\",\"y\":[0.15447259210616918,0.1757145524244345,0.1757145524244345,0.0],\"yaxis\":\"y\",\"type\":\"scatter\"},{\"hoverinfo\":\"text\",\"marker\":{\"color\":\"rgb(53, 183, 120)\"},\"mode\":\"lines\",\"x\":[224,224,225,225],\"xaxis\":\"x\",\"y\":[0.0,0.17857061457958287,0.17857061457958287,0.0],\"yaxis\":\"y\",\"type\":\"scatter\"},{\"hoverinfo\":\"text\",\"marker\":{\"color\":\"rgb(68, 1, 84)\"},\"mode\":\"lines\",\"x\":[12,12,13,13],\"xaxis\":\"x\",\"y\":[0.0,0.17972836615911172,0.17972836615911172,0.0],\"yaxis\":\"y\",\"type\":\"scatter\"},{\"hoverinfo\":\"text\",\"marker\":{\"color\":\"rgb(48, 103, 141)\"},\"mode\":\"lines\",\"x\":[77.0,77.0,78.5,78.5],\"xaxis\":\"x\",\"y\":[0.0,0.18072046621806728,0.18072046621806728,0.1271712955002741],\"yaxis\":\"y\",\"type\":\"scatter\"},{\"hoverinfo\":\"text\",\"marker\":{\"color\":\"rgb(53, 183, 120)\"},\"mode\":\"lines\",\"x\":[144,144,145,145],\"xaxis\":\"x\",\"y\":[0.0,0.18302308651039492,0.18302308651039492,0.0],\"yaxis\":\"y\",\"type\":\"scatter\"},{\"hoverinfo\":\"text\",\"marker\":{\"color\":\"rgb(68, 1, 84)\"},\"mode\":\"lines\",\"x\":[23,23,24,24],\"xaxis\":\"x\",\"y\":[0.0,0.18303696965210903,0.18303696965210903,0.0],\"yaxis\":\"y\",\"type\":\"scatter\"},{\"hoverinfo\":\"text\",\"marker\":{\"color\":\"rgb(48, 103, 141)\"},\"mode\":\"lines\",\"x\":[51,51,52,52],\"xaxis\":\"x\",\"y\":[0.0,0.18375360552060144,0.18375360552060144,0.0],\"yaxis\":\"y\",\"type\":\"scatter\"},{\"hoverinfo\":\"text\",\"marker\":{\"color\":\"rgb(53, 183, 120)\"},\"mode\":\"lines\",\"x\":[205,205,206,206],\"xaxis\":\"x\",\"y\":[0.0,0.18424279212210598,0.18424279212210598,0.0],\"yaxis\":\"y\",\"type\":\"scatter\"},{\"hoverinfo\":\"text\",\"marker\":{\"color\":\"rgb(68, 1, 84)\"},\"mode\":\"lines\",\"x\":[29,29,30,30],\"xaxis\":\"x\",\"y\":[0.0,0.18726476370353254,0.18726476370353254,0.0],\"yaxis\":\"y\",\"type\":\"scatter\"},{\"hoverinfo\":\"text\",\"marker\":{\"color\":\"rgb(48, 103, 141)\"},\"mode\":\"lines\",\"x\":[69,69,70,70],\"xaxis\":\"x\",\"y\":[0.0,0.18897253883001763,0.18897253883001763,0.0],\"yaxis\":\"y\",\"type\":\"scatter\"},{\"hoverinfo\":\"text\",\"marker\":{\"color\":\"rgb(53, 183, 120)\"},\"mode\":\"lines\",\"x\":[107,107,108,108],\"xaxis\":\"x\",\"y\":[0.0,0.1910986762852406,0.1910986762852406,0.0],\"yaxis\":\"y\",\"type\":\"scatter\"},{\"hoverinfo\":\"text\",\"marker\":{\"color\":\"rgb(53, 183, 120)\"},\"mode\":\"lines\",\"x\":[270,270,271,271],\"xaxis\":\"x\",\"y\":[0.0,0.19259804794219818,0.19259804794219818,0.0],\"yaxis\":\"y\",\"type\":\"scatter\"},{\"hoverinfo\":\"text\",\"marker\":{\"color\":\"rgb(53, 183, 120)\"},\"mode\":\"lines\",\"x\":[194,194,195,195],\"xaxis\":\"x\",\"y\":[0.0,0.19756007885337726,0.19756007885337726,0.0],\"yaxis\":\"y\",\"type\":\"scatter\"},{\"hoverinfo\":\"text\",\"marker\":{\"color\":\"rgb(53, 183, 120)\"},\"mode\":\"lines\",\"x\":[219,219,220,220],\"xaxis\":\"x\",\"y\":[0.0,0.20308649130218934,0.20308649130218934,0.0],\"yaxis\":\"y\",\"type\":\"scatter\"},{\"hoverinfo\":\"text\",\"marker\":{\"color\":\"rgb(53, 183, 120)\"},\"mode\":\"lines\",\"x\":[119.5,119.5,121.0,121.0],\"xaxis\":\"x\",\"y\":[0.10111367341201676,0.2031131591317532,0.2031131591317532,0.0],\"yaxis\":\"y\",\"type\":\"scatter\"},{\"hoverinfo\":\"text\",\"marker\":{\"color\":\"rgb(53, 183, 120)\"},\"mode\":\"lines\",\"x\":[162,162,163,163],\"xaxis\":\"x\",\"y\":[0.0,0.20652131467500648,0.20652131467500648,0.0],\"yaxis\":\"y\",\"type\":\"scatter\"},{\"hoverinfo\":\"text\",\"marker\":{\"color\":\"rgb(53, 183, 120)\"},\"mode\":\"lines\",\"x\":[159.0,159.0,160.5,160.5],\"xaxis\":\"x\",\"y\":[0.0,0.2075584708692138,0.2075584708692138,0.08921080379473015],\"yaxis\":\"y\",\"type\":\"scatter\"},{\"hoverinfo\":\"text\",\"marker\":{\"color\":\"rgb(53, 183, 120)\"},\"mode\":\"lines\",\"x\":[239.0,239.0,241.25,241.25],\"xaxis\":\"x\",\"y\":[0.0,0.21383882000961033,0.21383882000961033,0.14090185093186394],\"yaxis\":\"y\",\"type\":\"scatter\"},{\"hoverinfo\":\"text\",\"marker\":{\"color\":\"rgb(53, 183, 120)\"},\"mode\":\"lines\",\"x\":[229.5,229.5,231.0,231.0],\"xaxis\":\"x\",\"y\":[0.07841593362109082,0.2144274236700045,0.2144274236700045,0.0],\"yaxis\":\"y\",\"type\":\"scatter\"},{\"hoverinfo\":\"text\",\"marker\":{\"color\":\"rgb(48, 103, 141)\"},\"mode\":\"lines\",\"x\":[54,54,55,55],\"xaxis\":\"x\",\"y\":[0.0,0.21643124587821724,0.21643124587821724,0.0],\"yaxis\":\"y\",\"type\":\"scatter\"},{\"hoverinfo\":\"text\",\"marker\":{\"color\":\"rgb(53, 183, 120)\"},\"mode\":\"lines\",\"x\":[222,222,223,223],\"xaxis\":\"x\",\"y\":[0.0,0.2167515673559982,0.2167515673559982,0.0],\"yaxis\":\"y\",\"type\":\"scatter\"},{\"hoverinfo\":\"text\",\"marker\":{\"color\":\"rgb(53, 183, 120)\"},\"mode\":\"lines\",\"x\":[142,142,143,143],\"xaxis\":\"x\",\"y\":[0.0,0.21696942095098043,0.21696942095098043,0.0],\"yaxis\":\"y\",\"type\":\"scatter\"},{\"hoverinfo\":\"text\",\"marker\":{\"color\":\"rgb(68, 1, 84)\"},\"mode\":\"lines\",\"x\":[33,33,34,34],\"xaxis\":\"x\",\"y\":[0.0,0.22293340971157144,0.22293340971157144,0.0],\"yaxis\":\"y\",\"type\":\"scatter\"},{\"hoverinfo\":\"text\",\"marker\":{\"color\":\"rgb(53, 183, 120)\"},\"mode\":\"lines\",\"x\":[157,157,158,158],\"xaxis\":\"x\",\"y\":[0.0,0.2308035962327784,0.2308035962327784,0.0],\"yaxis\":\"y\",\"type\":\"scatter\"},{\"hoverinfo\":\"text\",\"marker\":{\"color\":\"rgb(53, 183, 120)\"},\"mode\":\"lines\",\"x\":[218.0,218.0,219.5,219.5],\"xaxis\":\"x\",\"y\":[0.0,0.2333990717361256,0.2333990717361256,0.20308649130218934],\"yaxis\":\"y\",\"type\":\"scatter\"},{\"hoverinfo\":\"text\",\"marker\":{\"color\":\"rgb(53, 183, 120)\"},\"mode\":\"lines\",\"x\":[127,127,128,128],\"xaxis\":\"x\",\"y\":[0.0,0.2339158795337145,0.2339158795337145,0.0],\"yaxis\":\"y\",\"type\":\"scatter\"},{\"hoverinfo\":\"text\",\"marker\":{\"color\":\"rgb(68, 1, 84)\"},\"mode\":\"lines\",\"x\":[37,37,38,38],\"xaxis\":\"x\",\"y\":[0.0,0.2343584379386282,0.2343584379386282,0.0],\"yaxis\":\"y\",\"type\":\"scatter\"},{\"hoverinfo\":\"text\",\"marker\":{\"color\":\"rgb(53, 183, 120)\"},\"mode\":\"lines\",\"x\":[165.0,165.0,166.5,166.5],\"xaxis\":\"x\",\"y\":[0.0,0.23436948460635781,0.23436948460635781,0.138525106127589],\"yaxis\":\"y\",\"type\":\"scatter\"},{\"hoverinfo\":\"text\",\"marker\":{\"color\":\"rgb(48, 103, 141)\"},\"mode\":\"lines\",\"x\":[77.75,77.75,80.0,80.0],\"xaxis\":\"x\",\"y\":[0.18072046621806728,0.23448677569722545,0.23448677569722545,0.0],\"yaxis\":\"y\",\"type\":\"scatter\"},{\"hoverinfo\":\"text\",\"marker\":{\"color\":\"rgb(68, 1, 84)\"},\"mode\":\"lines\",\"x\":[40,40,41,41],\"xaxis\":\"x\",\"y\":[0.0,0.23623867310173188,0.23623867310173188,0.0],\"yaxis\":\"y\",\"type\":\"scatter\"},{\"hoverinfo\":\"text\",\"marker\":{\"color\":\"rgb(53, 183, 120)\"},\"mode\":\"lines\",\"x\":[236,236,237,237],\"xaxis\":\"x\",\"y\":[0.0,0.2378392386569487,0.2378392386569487,0.0],\"yaxis\":\"y\",\"type\":\"scatter\"},{\"hoverinfo\":\"text\",\"marker\":{\"color\":\"rgb(48, 103, 141)\"},\"mode\":\"lines\",\"x\":[93,93,94,94],\"xaxis\":\"x\",\"y\":[0.0,0.24243129750578532,0.24243129750578532,0.0],\"yaxis\":\"y\",\"type\":\"scatter\"},{\"hoverinfo\":\"text\",\"marker\":{\"color\":\"rgb(53, 183, 120)\"},\"mode\":\"lines\",\"x\":[124,124,125,125],\"xaxis\":\"x\",\"y\":[0.0,0.24515232857202207,0.24515232857202207,0.0],\"yaxis\":\"y\",\"type\":\"scatter\"},{\"hoverinfo\":\"text\",\"marker\":{\"color\":\"rgb(53, 183, 120)\"},\"mode\":\"lines\",\"x\":[268,268,269,269],\"xaxis\":\"x\",\"y\":[0.0,0.24812175762167032,0.24812175762167032,0.0],\"yaxis\":\"y\",\"type\":\"scatter\"},{\"hoverinfo\":\"text\",\"marker\":{\"color\":\"rgb(53, 183, 120)\"},\"mode\":\"lines\",\"x\":[169.5,169.5,171.0,171.0],\"xaxis\":\"x\",\"y\":[0.15427083045978193,0.24832232484790548,0.24832232484790548,0.0],\"yaxis\":\"y\",\"type\":\"scatter\"},{\"hoverinfo\":\"text\",\"marker\":{\"color\":\"rgb(53, 183, 120)\"},\"mode\":\"lines\",\"x\":[272,272,273,273],\"xaxis\":\"x\",\"y\":[0.0,0.24923854986150495,0.24923854986150495,0.0],\"yaxis\":\"y\",\"type\":\"scatter\"},{\"hoverinfo\":\"text\",\"marker\":{\"color\":\"rgb(53, 183, 120)\"},\"mode\":\"lines\",\"x\":[285,285,286,286],\"xaxis\":\"x\",\"y\":[0.0,0.25043110123277645,0.25043110123277645,0.0],\"yaxis\":\"y\",\"type\":\"scatter\"},{\"hoverinfo\":\"text\",\"marker\":{\"color\":\"rgb(53, 183, 120)\"},\"mode\":\"lines\",\"x\":[146,146,147,147],\"xaxis\":\"x\",\"y\":[0.0,0.25066969861907906,0.25066969861907906,0.0],\"yaxis\":\"y\",\"type\":\"scatter\"},{\"hoverinfo\":\"text\",\"marker\":{\"color\":\"rgb(53, 183, 120)\"},\"mode\":\"lines\",\"x\":[260,260,261,261],\"xaxis\":\"x\",\"y\":[0.0,0.25180180083314074,0.25180180083314074,0.0],\"yaxis\":\"y\",\"type\":\"scatter\"},{\"hoverinfo\":\"text\",\"marker\":{\"color\":\"rgb(53, 183, 120)\"},\"mode\":\"lines\",\"x\":[139,139,140,140],\"xaxis\":\"x\",\"y\":[0.0,0.25232094581871667,0.25232094581871667,0.0],\"yaxis\":\"y\",\"type\":\"scatter\"},{\"hoverinfo\":\"text\",\"marker\":{\"color\":\"rgb(53, 183, 120)\"},\"mode\":\"lines\",\"x\":[105,105,106,106],\"xaxis\":\"x\",\"y\":[0.0,0.2532145452583628,0.2532145452583628,0.0],\"yaxis\":\"y\",\"type\":\"scatter\"},{\"hoverinfo\":\"text\",\"marker\":{\"color\":\"rgb(48, 103, 141)\"},\"mode\":\"lines\",\"x\":[91,91,92,92],\"xaxis\":\"x\",\"y\":[0.0,0.2532348296792129,0.2532348296792129,0.0],\"yaxis\":\"y\",\"type\":\"scatter\"},{\"hoverinfo\":\"text\",\"marker\":{\"color\":\"rgb(53, 183, 120)\"},\"mode\":\"lines\",\"x\":[149,149,150,150],\"xaxis\":\"x\",\"y\":[0.0,0.2580556529939677,0.2580556529939677,0.0],\"yaxis\":\"y\",\"type\":\"scatter\"},{\"hoverinfo\":\"text\",\"marker\":{\"color\":\"rgb(53, 183, 120)\"},\"mode\":\"lines\",\"x\":[258,258,259,259],\"xaxis\":\"x\",\"y\":[0.0,0.2632408550121391,0.2632408550121391,0.0],\"yaxis\":\"y\",\"type\":\"scatter\"},{\"hoverinfo\":\"text\",\"marker\":{\"color\":\"rgb(53, 183, 120)\"},\"mode\":\"lines\",\"x\":[247.0,247.0,248.5,248.5],\"xaxis\":\"x\",\"y\":[0.0,0.2636921256983612,0.2636921256983612,0.14673616893196567],\"yaxis\":\"y\",\"type\":\"scatter\"},{\"hoverinfo\":\"text\",\"marker\":{\"color\":\"rgb(48, 103, 141)\"},\"mode\":\"lines\",\"x\":[61.5,61.5,63.5,63.5],\"xaxis\":\"x\",\"y\":[0.17486940463240844,0.27078746314100444,0.27078746314100444,0.06960448152505534],\"yaxis\":\"y\",\"type\":\"scatter\"},{\"hoverinfo\":\"text\",\"marker\":{\"color\":\"rgb(68, 1, 84)\"},\"mode\":\"lines\",\"x\":[10.5,10.5,12.5,12.5],\"xaxis\":\"x\",\"y\":[0.07349879914021656,0.27276287731479476,0.27276287731479476,0.17972836615911172],\"yaxis\":\"y\",\"type\":\"scatter\"},{\"hoverinfo\":\"text\",\"marker\":{\"color\":\"rgb(53, 183, 120)\"},\"mode\":\"lines\",\"x\":[256,256,257,257],\"xaxis\":\"x\",\"y\":[0.0,0.27279153301424824,0.27279153301424824,0.0],\"yaxis\":\"y\",\"type\":\"scatter\"},{\"hoverinfo\":\"text\",\"marker\":{\"color\":\"rgb(48, 103, 141)\"},\"mode\":\"lines\",\"x\":[86,86,87,87],\"xaxis\":\"x\",\"y\":[0.0,0.2751275949880935,0.2751275949880935,0.0],\"yaxis\":\"y\",\"type\":\"scatter\"},{\"hoverinfo\":\"text\",\"marker\":{\"color\":\"rgb(53, 183, 120)\"},\"mode\":\"lines\",\"x\":[234,234,235,235],\"xaxis\":\"x\",\"y\":[0.0,0.2766240882263933,0.2766240882263933,0.0],\"yaxis\":\"y\",\"type\":\"scatter\"},{\"hoverinfo\":\"text\",\"marker\":{\"color\":\"rgb(53, 183, 120)\"},\"mode\":\"lines\",\"x\":[221.0,221.0,222.5,222.5],\"xaxis\":\"x\",\"y\":[0.0,0.27758866217046485,0.27758866217046485,0.2167515673559982],\"yaxis\":\"y\",\"type\":\"scatter\"},{\"hoverinfo\":\"text\",\"marker\":{\"color\":\"rgb(53, 183, 120)\"},\"mode\":\"lines\",\"x\":[192,192,193,193],\"xaxis\":\"x\",\"y\":[0.0,0.2783483829245986,0.2783483829245986,0.0],\"yaxis\":\"y\",\"type\":\"scatter\"},{\"hoverinfo\":\"text\",\"marker\":{\"color\":\"rgb(53, 183, 120)\"},\"mode\":\"lines\",\"x\":[115,115,116,116],\"xaxis\":\"x\",\"y\":[0.0,0.27869147790951593,0.27869147790951593,0.0],\"yaxis\":\"y\",\"type\":\"scatter\"},{\"hoverinfo\":\"text\",\"marker\":{\"color\":\"rgb(53, 183, 120)\"},\"mode\":\"lines\",\"x\":[187,187,188,188],\"xaxis\":\"x\",\"y\":[0.0,0.2790969724946226,0.2790969724946226,0.0],\"yaxis\":\"y\",\"type\":\"scatter\"},{\"hoverinfo\":\"text\",\"marker\":{\"color\":\"rgb(53, 183, 120)\"},\"mode\":\"lines\",\"x\":[281.0,281.0,282.5,282.5],\"xaxis\":\"x\",\"y\":[0.0,0.28229994811796666,0.28229994811796666,0.07731189467152935],\"yaxis\":\"y\",\"type\":\"scatter\"},{\"hoverinfo\":\"text\",\"marker\":{\"color\":\"rgb(53, 183, 120)\"},\"mode\":\"lines\",\"x\":[162.5,162.5,164.0,164.0],\"xaxis\":\"x\",\"y\":[0.20652131467500648,0.28397327720778026,0.28397327720778026,0.0],\"yaxis\":\"y\",\"type\":\"scatter\"},{\"hoverinfo\":\"text\",\"marker\":{\"color\":\"rgb(53, 183, 120)\"},\"mode\":\"lines\",\"x\":[288,288,289,289],\"xaxis\":\"x\",\"y\":[0.0,0.28645811123622933,0.28645811123622933,0.0],\"yaxis\":\"y\",\"type\":\"scatter\"},{\"hoverinfo\":\"text\",\"marker\":{\"color\":\"rgb(68, 1, 84)\"},\"mode\":\"lines\",\"x\":[45,45,46,46],\"xaxis\":\"x\",\"y\":[0.0,0.2906918142317321,0.2906918142317321,0.0],\"yaxis\":\"y\",\"type\":\"scatter\"},{\"hoverinfo\":\"text\",\"marker\":{\"color\":\"rgb(53, 183, 120)\"},\"mode\":\"lines\",\"x\":[284.0,284.0,285.5,285.5],\"xaxis\":\"x\",\"y\":[0.0,0.29102081304854427,0.29102081304854427,0.25043110123277645],\"yaxis\":\"y\",\"type\":\"scatter\"},{\"hoverinfo\":\"text\",\"marker\":{\"color\":\"rgb(53, 183, 120)\"},\"mode\":\"lines\",\"x\":[172.0,172.0,173.5,173.5],\"xaxis\":\"x\",\"y\":[0.0,0.2923575951409687,0.2923575951409687,0.15270809321866394],\"yaxis\":\"y\",\"type\":\"scatter\"},{\"hoverinfo\":\"text\",\"marker\":{\"color\":\"rgb(48, 103, 141)\"},\"mode\":\"lines\",\"x\":[65,65,66,66],\"xaxis\":\"x\",\"y\":[0.0,0.2926904522179883,0.2926904522179883,0.0],\"yaxis\":\"y\",\"type\":\"scatter\"},{\"hoverinfo\":\"text\",\"marker\":{\"color\":\"rgb(53, 183, 120)\"},\"mode\":\"lines\",\"x\":[194.5,194.5,196.0,196.0],\"xaxis\":\"x\",\"y\":[0.19756007885337726,0.2943787633250403,0.2943787633250403,0.0],\"yaxis\":\"y\",\"type\":\"scatter\"},{\"hoverinfo\":\"text\",\"marker\":{\"color\":\"rgb(53, 183, 120)\"},\"mode\":\"lines\",\"x\":[154,154,155,155],\"xaxis\":\"x\",\"y\":[0.0,0.29771818180975207,0.29771818180975207,0.0],\"yaxis\":\"y\",\"type\":\"scatter\"},{\"hoverinfo\":\"text\",\"marker\":{\"color\":\"rgb(48, 103, 141)\"},\"mode\":\"lines\",\"x\":[78.875,78.875,81.0,81.0],\"xaxis\":\"x\",\"y\":[0.23448677569722545,0.30532944650559785,0.30532944650559785,0.0],\"yaxis\":\"y\",\"type\":\"scatter\"},{\"hoverinfo\":\"text\",\"marker\":{\"color\":\"rgb(53, 183, 120)\"},\"mode\":\"lines\",\"x\":[177.5,177.5,179.5,179.5],\"xaxis\":\"x\",\"y\":[0.08796361767423984,0.30582232022628625,0.30582232022628625,0.09016700081026917],\"yaxis\":\"y\",\"type\":\"scatter\"},{\"hoverinfo\":\"text\",\"marker\":{\"color\":\"rgb(53, 183, 120)\"},\"mode\":\"lines\",\"x\":[198,198,199,199],\"xaxis\":\"x\",\"y\":[0.0,0.3059284713717812,0.3059284713717812,0.0],\"yaxis\":\"y\",\"type\":\"scatter\"},{\"hoverinfo\":\"text\",\"marker\":{\"color\":\"rgb(53, 183, 120)\"},\"mode\":\"lines\",\"x\":[134.5,134.5,136.0,136.0],\"xaxis\":\"x\",\"y\":[0.1344095804537216,0.3064868785960137,0.3064868785960137,0.0],\"yaxis\":\"y\",\"type\":\"scatter\"},{\"hoverinfo\":\"text\",\"marker\":{\"color\":\"rgb(48, 103, 141)\"},\"mode\":\"lines\",\"x\":[69.5,69.5,71.5,71.5],\"xaxis\":\"x\",\"y\":[0.18897253883001763,0.30675314472968157,0.30675314472968157,0.11882056340208169],\"yaxis\":\"y\",\"type\":\"scatter\"},{\"hoverinfo\":\"text\",\"marker\":{\"color\":\"rgb(53, 183, 120)\"},\"mode\":\"lines\",\"x\":[168.0,168.0,170.25,170.25],\"xaxis\":\"x\",\"y\":[0.0,0.3089173103546148,0.3089173103546148,0.24832232484790548],\"yaxis\":\"y\",\"type\":\"scatter\"},{\"hoverinfo\":\"text\",\"marker\":{\"color\":\"rgb(53, 183, 120)\"},\"mode\":\"lines\",\"x\":[159.75,159.75,163.25,163.25],\"xaxis\":\"x\",\"y\":[0.2075584708692138,0.3103349175171895,0.3103349175171895,0.28397327720778026],\"yaxis\":\"y\",\"type\":\"scatter\"},{\"hoverinfo\":\"text\",\"marker\":{\"color\":\"rgb(48, 103, 141)\"},\"mode\":\"lines\",\"x\":[82.0,82.0,83.5,83.5],\"xaxis\":\"x\",\"y\":[0.0,0.31046691901495616,0.31046691901495616,0.11253020345567441],\"yaxis\":\"y\",\"type\":\"scatter\"},{\"hoverinfo\":\"text\",\"marker\":{\"color\":\"rgb(68, 1, 84)\"},\"mode\":\"lines\",\"x\":[47,47,48,48],\"xaxis\":\"x\",\"y\":[0.0,0.31456023114823,0.31456023114823,0.0],\"yaxis\":\"y\",\"type\":\"scatter\"},{\"hoverinfo\":\"text\",\"marker\":{\"color\":\"rgb(48, 103, 141)\"},\"mode\":\"lines\",\"x\":[54.5,54.5,56.0,56.0],\"xaxis\":\"x\",\"y\":[0.21643124587821724,0.3149265162141986,0.3149265162141986,0.0],\"yaxis\":\"y\",\"type\":\"scatter\"},{\"hoverinfo\":\"text\",\"marker\":{\"color\":\"rgb(53, 183, 120)\"},\"mode\":\"lines\",\"x\":[215,215,216,216],\"xaxis\":\"x\",\"y\":[0.0,0.3162884696464514,0.3162884696464514,0.0],\"yaxis\":\"y\",\"type\":\"scatter\"},{\"hoverinfo\":\"text\",\"marker\":{\"color\":\"rgb(68, 1, 84)\"},\"mode\":\"lines\",\"x\":[15,15,16,16],\"xaxis\":\"x\",\"y\":[0.0,0.32738701573051554,0.32738701573051554,0.0],\"yaxis\":\"y\",\"type\":\"scatter\"},{\"hoverinfo\":\"text\",\"marker\":{\"color\":\"rgb(48, 103, 141)\"},\"mode\":\"lines\",\"x\":[74,74,75,75],\"xaxis\":\"x\",\"y\":[0.0,0.3332628198556908,0.3332628198556908,0.0],\"yaxis\":\"y\",\"type\":\"scatter\"},{\"hoverinfo\":\"text\",\"marker\":{\"color\":\"rgb(53, 183, 120)\"},\"mode\":\"lines\",\"x\":[272.5,272.5,274.0,274.0],\"xaxis\":\"x\",\"y\":[0.24923854986150495,0.33336009780382997,0.33336009780382997,0.0],\"yaxis\":\"y\",\"type\":\"scatter\"},{\"hoverinfo\":\"text\",\"marker\":{\"color\":\"rgb(53, 183, 120)\"},\"mode\":\"lines\",\"x\":[279,279,280,280],\"xaxis\":\"x\",\"y\":[0.0,0.3338588860466289,0.3338588860466289,0.0],\"yaxis\":\"y\",\"type\":\"scatter\"},{\"hoverinfo\":\"text\",\"marker\":{\"color\":\"rgb(53, 183, 120)\"},\"mode\":\"lines\",\"x\":[266.5,266.5,268.5,268.5],\"xaxis\":\"x\",\"y\":[0.11991442707133344,0.3420162026747771,0.3420162026747771,0.24812175762167032],\"yaxis\":\"y\",\"type\":\"scatter\"},{\"hoverinfo\":\"text\",\"marker\":{\"color\":\"rgb(53, 183, 120)\"},\"mode\":\"lines\",\"x\":[126.0,126.0,127.5,127.5],\"xaxis\":\"x\",\"y\":[0.0,0.34485362231982497,0.34485362231982497,0.2339158795337145],\"yaxis\":\"y\",\"type\":\"scatter\"},{\"hoverinfo\":\"text\",\"marker\":{\"color\":\"rgb(53, 183, 120)\"},\"mode\":\"lines\",\"x\":[175,175,176,176],\"xaxis\":\"x\",\"y\":[0.0,0.3460988030143408,0.3460988030143408,0.0],\"yaxis\":\"y\",\"type\":\"scatter\"},{\"hoverinfo\":\"text\",\"marker\":{\"color\":\"rgb(53, 183, 120)\"},\"mode\":\"lines\",\"x\":[142.5,142.5,144.5,144.5],\"xaxis\":\"x\",\"y\":[0.21696942095098043,0.34679043240626906,0.34679043240626906,0.18302308651039492],\"yaxis\":\"y\",\"type\":\"scatter\"},{\"hoverinfo\":\"text\",\"marker\":{\"color\":\"rgb(53, 183, 120)\"},\"mode\":\"lines\",\"x\":[224.5,224.5,226.0,226.0],\"xaxis\":\"x\",\"y\":[0.17857061457958287,0.35053442622589887,0.35053442622589887,0.0],\"yaxis\":\"y\",\"type\":\"scatter\"},{\"hoverinfo\":\"text\",\"marker\":{\"color\":\"rgb(53, 183, 120)\"},\"mode\":\"lines\",\"x\":[250,250,251,251],\"xaxis\":\"x\",\"y\":[0.0,0.3547663296030455,0.3547663296030455,0.0],\"yaxis\":\"y\",\"type\":\"scatter\"},{\"hoverinfo\":\"text\",\"marker\":{\"color\":\"rgb(68, 1, 84)\"},\"mode\":\"lines\",\"x\":[29.5,29.5,31.0,31.0],\"xaxis\":\"x\",\"y\":[0.18726476370353254,0.364756617119801,0.364756617119801,0.0],\"yaxis\":\"y\",\"type\":\"scatter\"},{\"hoverinfo\":\"text\",\"marker\":{\"color\":\"rgb(48, 103, 141)\"},\"mode\":\"lines\",\"x\":[93.5,93.5,95.0,95.0],\"xaxis\":\"x\",\"y\":[0.24243129750578532,0.3656241989602151,0.3656241989602151,0.0],\"yaxis\":\"y\",\"type\":\"scatter\"},{\"hoverinfo\":\"text\",\"marker\":{\"color\":\"rgb(53, 183, 120)\"},\"mode\":\"lines\",\"x\":[211.0,211.0,212.5,212.5],\"xaxis\":\"x\",\"y\":[0.0,0.3658614387908129,0.3658614387908129,0.16437296184843425],\"yaxis\":\"y\",\"type\":\"scatter\"},{\"hoverinfo\":\"text\",\"marker\":{\"color\":\"rgb(53, 183, 120)\"},\"mode\":\"lines\",\"x\":[256.5,256.5,258.5,258.5],\"xaxis\":\"x\",\"y\":[0.27279153301424824,0.36639901664643504,0.36639901664643504,0.2632408550121391],\"yaxis\":\"y\",\"type\":\"scatter\"},{\"hoverinfo\":\"text\",\"marker\":{\"color\":\"rgb(53, 183, 120)\"},\"mode\":\"lines\",\"x\":[187.5,187.5,189.0,189.0],\"xaxis\":\"x\",\"y\":[0.2790969724946226,0.3672412955357918,0.3672412955357918,0.0],\"yaxis\":\"y\",\"type\":\"scatter\"},{\"hoverinfo\":\"text\",\"marker\":{\"color\":\"rgb(53, 183, 120)\"},\"mode\":\"lines\",\"x\":[117,117,118,118],\"xaxis\":\"x\",\"y\":[0.0,0.37431975945726476,0.37431975945726476,0.0],\"yaxis\":\"y\",\"type\":\"scatter\"},{\"hoverinfo\":\"text\",\"marker\":{\"color\":\"rgb(68, 1, 84)\"},\"mode\":\"lines\",\"x\":[32.0,32.0,33.5,33.5],\"xaxis\":\"x\",\"y\":[0.0,0.3786158739525313,0.3786158739525313,0.22293340971157144],\"yaxis\":\"y\",\"type\":\"scatter\"},{\"hoverinfo\":\"text\",\"marker\":{\"color\":\"rgb(53, 183, 120)\"},\"mode\":\"lines\",\"x\":[232.5,232.5,234.5,234.5],\"xaxis\":\"x\",\"y\":[0.13607540797689982,0.3830269595926519,0.3830269595926519,0.2766240882263933],\"yaxis\":\"y\",\"type\":\"scatter\"},{\"hoverinfo\":\"text\",\"marker\":{\"color\":\"rgb(48, 103, 141)\"},\"mode\":\"lines\",\"x\":[76.0,76.0,79.9375,79.9375],\"xaxis\":\"x\",\"y\":[0.0,0.3856831253613896,0.3856831253613896,0.30532944650559785],\"yaxis\":\"y\",\"type\":\"scatter\"},{\"hoverinfo\":\"text\",\"marker\":{\"color\":\"rgb(68, 1, 84)\"},\"mode\":\"lines\",\"x\":[18.5,18.5,20.0,20.0],\"xaxis\":\"x\",\"y\":[0.0681896148192224,0.3918594244548277,0.3918594244548277,0.0],\"yaxis\":\"y\",\"type\":\"scatter\"},{\"hoverinfo\":\"text\",\"marker\":{\"color\":\"rgb(53, 183, 120)\"},\"mode\":\"lines\",\"x\":[247.75,247.75,250.5,250.5],\"xaxis\":\"x\",\"y\":[0.2636921256983612,0.3952265037432612,0.3952265037432612,0.3547663296030455],\"yaxis\":\"y\",\"type\":\"scatter\"},{\"hoverinfo\":\"text\",\"marker\":{\"color\":\"rgb(53, 183, 120)\"},\"mode\":\"lines\",\"x\":[252.75,252.75,255.0,255.0],\"xaxis\":\"x\",\"y\":[0.12208239188068411,0.3991058124889761,0.3991058124889761,0.0],\"yaxis\":\"y\",\"type\":\"scatter\"},{\"hoverinfo\":\"text\",\"marker\":{\"color\":\"rgb(53, 183, 120)\"},\"mode\":\"lines\",\"x\":[178.5,178.5,182.25,182.25],\"xaxis\":\"x\",\"y\":[0.30582232022628625,0.4105723868540869,0.4105723868540869,0.1757145524244345],\"yaxis\":\"y\",\"type\":\"scatter\"},{\"hoverinfo\":\"text\",\"marker\":{\"color\":\"rgb(53, 183, 120)\"},\"mode\":\"lines\",\"x\":[132,132,133,133],\"xaxis\":\"x\",\"y\":[0.0,0.4114648628597199,0.4114648628597199,0.0],\"yaxis\":\"y\",\"type\":\"scatter\"},{\"hoverinfo\":\"text\",\"marker\":{\"color\":\"rgb(48, 103, 141)\"},\"mode\":\"lines\",\"x\":[89,89,90,90],\"xaxis\":\"x\",\"y\":[0.0,0.41174949572907904,0.41174949572907904,0.0],\"yaxis\":\"y\",\"type\":\"scatter\"},{\"hoverinfo\":\"text\",\"marker\":{\"color\":\"rgb(48, 103, 141)\"},\"mode\":\"lines\",\"x\":[91.5,91.5,94.25,94.25],\"xaxis\":\"x\",\"y\":[0.2532348296792129,0.4123511005036025,0.4123511005036025,0.3656241989602151],\"yaxis\":\"y\",\"type\":\"scatter\"},{\"hoverinfo\":\"text\",\"marker\":{\"color\":\"rgb(53, 183, 120)\"},\"mode\":\"lines\",\"x\":[122,122,123,123],\"xaxis\":\"x\",\"y\":[0.0,0.4176953010300866,0.4176953010300866,0.0],\"yaxis\":\"y\",\"type\":\"scatter\"},{\"hoverinfo\":\"text\",\"marker\":{\"color\":\"rgb(48, 103, 141)\"},\"mode\":\"lines\",\"x\":[86.5,86.5,88.0,88.0],\"xaxis\":\"x\",\"y\":[0.2751275949880935,0.4177835890388933,0.4177835890388933,0.0],\"yaxis\":\"y\",\"type\":\"scatter\"},{\"hoverinfo\":\"text\",\"marker\":{\"color\":\"rgb(53, 183, 120)\"},\"mode\":\"lines\",\"x\":[228.0,228.0,230.25,230.25],\"xaxis\":\"x\",\"y\":[0.0,0.4178287108979524,0.4178287108979524,0.2144274236700045],\"yaxis\":\"y\",\"type\":\"scatter\"},{\"hoverinfo\":\"text\",\"marker\":{\"color\":\"rgb(68, 1, 84)\"},\"mode\":\"lines\",\"x\":[36.0,36.0,37.5,37.5],\"xaxis\":\"x\",\"y\":[0.0,0.42062683770798504,0.42062683770798504,0.2343584379386282],\"yaxis\":\"y\",\"type\":\"scatter\"},{\"hoverinfo\":\"text\",\"marker\":{\"color\":\"rgb(48, 103, 141)\"},\"mode\":\"lines\",\"x\":[58.0,58.0,59.5,59.5],\"xaxis\":\"x\",\"y\":[0.0,0.4211248088240017,0.4211248088240017,0.13256063086674075],\"yaxis\":\"y\",\"type\":\"scatter\"},{\"hoverinfo\":\"text\",\"marker\":{\"color\":\"rgb(53, 183, 120)\"},\"mode\":\"lines\",\"x\":[245,245,246,246],\"xaxis\":\"x\",\"y\":[0.0,0.42176397505435537,0.42176397505435537,0.0],\"yaxis\":\"y\",\"type\":\"scatter\"},{\"hoverinfo\":\"text\",\"marker\":{\"color\":\"rgb(53, 183, 120)\"},\"mode\":\"lines\",\"x\":[209,209,210,210],\"xaxis\":\"x\",\"y\":[0.0,0.4222744853297776,0.4222744853297776,0.0],\"yaxis\":\"y\",\"type\":\"scatter\"},{\"hoverinfo\":\"text\",\"marker\":{\"color\":\"rgb(68, 1, 84)\"},\"mode\":\"lines\",\"x\":[47.5,47.5,49.0,49.0],\"xaxis\":\"x\",\"y\":[0.31456023114823,0.42887903046055154,0.42887903046055154,0.0],\"yaxis\":\"y\",\"type\":\"scatter\"},{\"hoverinfo\":\"text\",\"marker\":{\"color\":\"rgb(53, 183, 120)\"},\"mode\":\"lines\",\"x\":[262.0,262.0,263.75,263.75],\"xaxis\":\"x\",\"y\":[0.0,0.4291547113733209,0.4291547113733209,0.15905730163427562],\"yaxis\":\"y\",\"type\":\"scatter\"},{\"hoverinfo\":\"text\",\"marker\":{\"color\":\"rgb(53, 183, 120)\"},\"mode\":\"lines\",\"x\":[143.5,143.5,146.5,146.5],\"xaxis\":\"x\",\"y\":[0.34679043240626906,0.43070881072145273,0.43070881072145273,0.25066969861907906],\"yaxis\":\"y\",\"type\":\"scatter\"},{\"hoverinfo\":\"text\",\"marker\":{\"color\":\"rgb(53, 183, 120)\"},\"mode\":\"lines\",\"x\":[172.75,172.75,175.5,175.5],\"xaxis\":\"x\",\"y\":[0.2923575951409687,0.444637635069834,0.444637635069834,0.3460988030143408],\"yaxis\":\"y\",\"type\":\"scatter\"},{\"hoverinfo\":\"text\",\"marker\":{\"color\":\"rgb(68, 1, 84)\"},\"mode\":\"lines\",\"x\":[15.5,15.5,17.0,17.0],\"xaxis\":\"x\",\"y\":[0.32738701573051554,0.4491560595784422,0.4491560595784422,0.0],\"yaxis\":\"y\",\"type\":\"scatter\"},{\"hoverinfo\":\"text\",\"marker\":{\"color\":\"rgb(53, 183, 120)\"},\"mode\":\"lines\",\"x\":[288.5,288.5,290.0,290.0],\"xaxis\":\"x\",\"y\":[0.28645811123622933,0.4504363007381264,0.4504363007381264,0.0],\"yaxis\":\"y\",\"type\":\"scatter\"},{\"hoverinfo\":\"text\",\"marker\":{\"color\":\"rgb(53, 183, 120)\"},\"mode\":\"lines\",\"x\":[154.5,154.5,156.0,156.0],\"xaxis\":\"x\",\"y\":[0.29771818180975207,0.45269402241700707,0.45269402241700707,0.0],\"yaxis\":\"y\",\"type\":\"scatter\"},{\"hoverinfo\":\"text\",\"marker\":{\"color\":\"rgb(53, 183, 120)\"},\"mode\":\"lines\",\"x\":[270.5,270.5,273.25,273.25],\"xaxis\":\"x\",\"y\":[0.19259804794219818,0.45338818364593936,0.45338818364593936,0.33336009780382997],\"yaxis\":\"y\",\"type\":\"scatter\"},{\"hoverinfo\":\"text\",\"marker\":{\"color\":\"rgb(53, 183, 120)\"},\"mode\":\"lines\",\"x\":[130,130,131,131],\"xaxis\":\"x\",\"y\":[0.0,0.4567415674176239,0.4567415674176239,0.0],\"yaxis\":\"y\",\"type\":\"scatter\"},{\"hoverinfo\":\"text\",\"marker\":{\"color\":\"rgb(53, 183, 120)\"},\"mode\":\"lines\",\"x\":[102,102,103,103],\"xaxis\":\"x\",\"y\":[0.0,0.46193619546697123,0.46193619546697123,0.0],\"yaxis\":\"y\",\"type\":\"scatter\"},{\"hoverinfo\":\"text\",\"marker\":{\"color\":\"rgb(68, 1, 84)\"},\"mode\":\"lines\",\"x\":[25.5,25.5,27.5,27.5],\"xaxis\":\"x\",\"y\":[0.08957436811192207,0.46446328933086967,0.46446328933086967,0.032881507523378706],\"yaxis\":\"y\",\"type\":\"scatter\"},{\"hoverinfo\":\"text\",\"marker\":{\"color\":\"rgb(53, 183, 120)\"},\"mode\":\"lines\",\"x\":[238.0,238.0,240.125,240.125],\"xaxis\":\"x\",\"y\":[0.0,0.4654552339644498,0.4654552339644498,0.21383882000961033],\"yaxis\":\"y\",\"type\":\"scatter\"},{\"hoverinfo\":\"text\",\"marker\":{\"color\":\"rgb(48, 103, 141)\"},\"mode\":\"lines\",\"x\":[51.5,51.5,53.0,53.0],\"xaxis\":\"x\",\"y\":[0.18375360552060144,0.4658402332483763,0.4658402332483763,0.0],\"yaxis\":\"y\",\"type\":\"scatter\"},{\"hoverinfo\":\"text\",\"marker\":{\"color\":\"rgb(53, 183, 120)\"},\"mode\":\"lines\",\"x\":[105.5,105.5,107.5,107.5],\"xaxis\":\"x\",\"y\":[0.2532145452583628,0.47124561966506545,0.47124561966506545,0.1910986762852406],\"yaxis\":\"y\",\"type\":\"scatter\"},{\"hoverinfo\":\"text\",\"marker\":{\"color\":\"rgb(68, 1, 84)\"},\"mode\":\"lines\",\"x\":[5,5,6,6],\"xaxis\":\"x\",\"y\":[0.0,0.47368459144546915,0.47368459144546915,0.0],\"yaxis\":\"y\",\"type\":\"scatter\"},{\"hoverinfo\":\"text\",\"marker\":{\"color\":\"rgb(53, 183, 120)\"},\"mode\":\"lines\",\"x\":[225.25,225.25,227.0,227.0],\"xaxis\":\"x\",\"y\":[0.35053442622589887,0.4766076755241176,0.4766076755241176,0.0],\"yaxis\":\"y\",\"type\":\"scatter\"},{\"hoverinfo\":\"text\",\"marker\":{\"color\":\"rgb(48, 103, 141)\"},\"mode\":\"lines\",\"x\":[62.5,62.5,65.5,65.5],\"xaxis\":\"x\",\"y\":[0.27078746314100444,0.4790930359541766,0.4790930359541766,0.2926904522179883],\"yaxis\":\"y\",\"type\":\"scatter\"},{\"hoverinfo\":\"text\",\"marker\":{\"color\":\"rgb(53, 183, 120)\"},\"mode\":\"lines\",\"x\":[211.75,211.75,214.0,214.0],\"xaxis\":\"x\",\"y\":[0.3658614387908129,0.4812913213020837,0.4812913213020837,0.0],\"yaxis\":\"y\",\"type\":\"scatter\"},{\"hoverinfo\":\"text\",\"marker\":{\"color\":\"rgb(68, 1, 84)\"},\"mode\":\"lines\",\"x\":[8,8,9,9],\"xaxis\":\"x\",\"y\":[0.0,0.4830812336143708,0.4830812336143708,0.0],\"yaxis\":\"y\",\"type\":\"scatter\"},{\"hoverinfo\":\"text\",\"marker\":{\"color\":\"rgb(68, 1, 84)\"},\"mode\":\"lines\",\"x\":[42.0,42.0,43.5,43.5],\"xaxis\":\"x\",\"y\":[0.0,0.4856498702729175,0.4856498702729175,0.08593920838857375],\"yaxis\":\"y\",\"type\":\"scatter\"},{\"hoverinfo\":\"text\",\"marker\":{\"color\":\"rgb(53, 183, 120)\"},\"mode\":\"lines\",\"x\":[202,202,203,203],\"xaxis\":\"x\",\"y\":[0.0,0.48657056178210095,0.48657056178210095,0.0],\"yaxis\":\"y\",\"type\":\"scatter\"},{\"hoverinfo\":\"text\",\"marker\":{\"color\":\"rgb(53, 183, 120)\"},\"mode\":\"lines\",\"x\":[198.5,198.5,200.0,200.0],\"xaxis\":\"x\",\"y\":[0.3059284713717812,0.48772126657484016,0.48772126657484016,0.0],\"yaxis\":\"y\",\"type\":\"scatter\"},{\"hoverinfo\":\"text\",\"marker\":{\"color\":\"rgb(53, 183, 120)\"},\"mode\":\"lines\",\"x\":[195.25,195.25,197.0,197.0],\"xaxis\":\"x\",\"y\":[0.2943787633250403,0.4899895740682452,0.4899895740682452,0.0],\"yaxis\":\"y\",\"type\":\"scatter\"},{\"hoverinfo\":\"text\",\"marker\":{\"color\":\"rgb(53, 183, 120)\"},\"mode\":\"lines\",\"x\":[205.5,205.5,207.5,207.5],\"xaxis\":\"x\",\"y\":[0.18424279212210598,0.49014645125232115,0.49014645125232115,0.007494334820314008],\"yaxis\":\"y\",\"type\":\"scatter\"},{\"hoverinfo\":\"text\",\"marker\":{\"color\":\"rgb(53, 183, 120)\"},\"mode\":\"lines\",\"x\":[276.75,276.75,279.5,279.5],\"xaxis\":\"x\",\"y\":[0.09764094920116231,0.49334276222638923,0.49334276222638923,0.3338588860466289],\"yaxis\":\"y\",\"type\":\"scatter\"},{\"hoverinfo\":\"text\",\"marker\":{\"color\":\"rgb(53, 183, 120)\"},\"mode\":\"lines\",\"x\":[249.125,249.125,253.875,253.875],\"xaxis\":\"x\",\"y\":[0.3952265037432612,0.5050905745083747,0.5050905745083747,0.3991058124889761],\"yaxis\":\"y\",\"type\":\"scatter\"},{\"hoverinfo\":\"text\",\"marker\":{\"color\":\"rgb(48, 103, 141)\"},\"mode\":\"lines\",\"x\":[70.5,70.5,73.0,73.0],\"xaxis\":\"x\",\"y\":[0.30675314472968157,0.5057820425336467,0.5057820425336467,0.0],\"yaxis\":\"y\",\"type\":\"scatter\"},{\"hoverinfo\":\"text\",\"marker\":{\"color\":\"rgb(53, 183, 120)\"},\"mode\":\"lines\",\"x\":[281.75,281.75,284.75,284.75],\"xaxis\":\"x\",\"y\":[0.28229994811796666,0.507144503405854,0.507144503405854,0.29102081304854427],\"yaxis\":\"y\",\"type\":\"scatter\"},{\"hoverinfo\":\"text\",\"marker\":{\"color\":\"rgb(53, 183, 120)\"},\"mode\":\"lines\",\"x\":[291,291,292,292],\"xaxis\":\"x\",\"y\":[0.0,0.5115924071171176,0.5115924071171176,0.0],\"yaxis\":\"y\",\"type\":\"scatter\"},{\"hoverinfo\":\"text\",\"marker\":{\"color\":\"rgb(68, 1, 84)\"},\"mode\":\"lines\",\"x\":[39.0,39.0,40.5,40.5],\"xaxis\":\"x\",\"y\":[0.0,0.5126028871898274,0.5126028871898274,0.23623867310173188],\"yaxis\":\"y\",\"type\":\"scatter\"},{\"hoverinfo\":\"text\",\"marker\":{\"color\":\"rgb(53, 183, 120)\"},\"mode\":\"lines\",\"x\":[257.5,257.5,260.5,260.5],\"xaxis\":\"x\",\"y\":[0.36639901664643504,0.5128518283153631,0.5128518283153631,0.25180180083314074],\"yaxis\":\"y\",\"type\":\"scatter\"},{\"hoverinfo\":\"text\",\"marker\":{\"color\":\"rgb(53, 183, 120)\"},\"mode\":\"lines\",\"x\":[215.5,215.5,217.0,217.0],\"xaxis\":\"x\",\"y\":[0.3162884696464514,0.5153027813721837,0.5153027813721837,0.0],\"yaxis\":\"y\",\"type\":\"scatter\"},{\"hoverinfo\":\"text\",\"marker\":{\"color\":\"rgb(68, 1, 84)\"},\"mode\":\"lines\",\"x\":[42.75,42.75,45.5,45.5],\"xaxis\":\"x\",\"y\":[0.4856498702729175,0.5160992267670643,0.5160992267670643,0.2906918142317321],\"yaxis\":\"y\",\"type\":\"scatter\"},{\"hoverinfo\":\"text\",\"marker\":{\"color\":\"rgb(48, 103, 141)\"},\"mode\":\"lines\",\"x\":[82.75,82.75,85.0,85.0],\"xaxis\":\"x\",\"y\":[0.31046691901495616,0.5164064495362055,0.5164064495362055,0.0],\"yaxis\":\"y\",\"type\":\"scatter\"},{\"hoverinfo\":\"text\",\"marker\":{\"color\":\"rgb(253, 231, 36)\"},\"mode\":\"lines\",\"x\":[296,296,297,297],\"xaxis\":\"x\",\"y\":[0.0,0.5206587428219911,0.5206587428219911,0.0],\"yaxis\":\"y\",\"type\":\"scatter\"},{\"hoverinfo\":\"text\",\"marker\":{\"color\":\"rgb(53, 183, 120)\"},\"mode\":\"lines\",\"x\":[148.0,148.0,149.5,149.5],\"xaxis\":\"x\",\"y\":[0.0,0.5243965694110094,0.5243965694110094,0.2580556529939677],\"yaxis\":\"y\",\"type\":\"scatter\"},{\"hoverinfo\":\"text\",\"marker\":{\"color\":\"rgb(53, 183, 120)\"},\"mode\":\"lines\",\"x\":[161.5,161.5,165.75,165.75],\"xaxis\":\"x\",\"y\":[0.3103349175171895,0.5246205441228576,0.5246205441228576,0.23436948460635781],\"yaxis\":\"y\",\"type\":\"scatter\"},{\"hoverinfo\":\"text\",\"marker\":{\"color\":\"rgb(53, 183, 120)\"},\"mode\":\"lines\",\"x\":[152,152,153,153],\"xaxis\":\"x\",\"y\":[0.0,0.5251978462678462,0.5251978462678462,0.0],\"yaxis\":\"y\",\"type\":\"scatter\"},{\"hoverinfo\":\"text\",\"marker\":{\"color\":\"rgb(48, 103, 141)\"},\"mode\":\"lines\",\"x\":[96,96,97,97],\"xaxis\":\"x\",\"y\":[0.0,0.5311170922499578,0.5311170922499578,0.0],\"yaxis\":\"y\",\"type\":\"scatter\"},{\"hoverinfo\":\"text\",\"marker\":{\"color\":\"rgb(68, 1, 84)\"},\"mode\":\"lines\",\"x\":[2,2,3,3],\"xaxis\":\"x\",\"y\":[0.0,0.5465918129056028,0.5465918129056028,0.0],\"yaxis\":\"y\",\"type\":\"scatter\"},{\"hoverinfo\":\"text\",\"marker\":{\"color\":\"rgb(68, 1, 84)\"},\"mode\":\"lines\",\"x\":[32.75,32.75,35.0,35.0],\"xaxis\":\"x\",\"y\":[0.3786158739525313,0.5528564261937908,0.5528564261937908,0.0],\"yaxis\":\"y\",\"type\":\"scatter\"},{\"hoverinfo\":\"text\",\"marker\":{\"color\":\"rgb(53, 183, 120)\"},\"mode\":\"lines\",\"x\":[233.5,233.5,236.5,236.5],\"xaxis\":\"x\",\"y\":[0.3830269595926519,0.5654799704799324,0.5654799704799324,0.2378392386569487],\"yaxis\":\"y\",\"type\":\"scatter\"},{\"hoverinfo\":\"text\",\"marker\":{\"color\":\"rgb(53, 183, 120)\"},\"mode\":\"lines\",\"x\":[115.5,115.5,117.5,117.5],\"xaxis\":\"x\",\"y\":[0.27869147790951593,0.5714119979079084,0.5714119979079084,0.37431975945726476],\"yaxis\":\"y\",\"type\":\"scatter\"},{\"hoverinfo\":\"text\",\"marker\":{\"color\":\"rgb(48, 103, 141)\"},\"mode\":\"lines\",\"x\":[68.0,68.0,71.75,71.75],\"xaxis\":\"x\",\"y\":[0.0,0.5728150632225374,0.5728150632225374,0.5057820425336467],\"yaxis\":\"y\",\"type\":\"scatter\"},{\"hoverinfo\":\"text\",\"marker\":{\"color\":\"rgb(48, 103, 141)\"},\"mode\":\"lines\",\"x\":[98,98,99,99],\"xaxis\":\"x\",\"y\":[0.0,0.5870805520125603,0.5870805520125603,0.0],\"yaxis\":\"y\",\"type\":\"scatter\"},{\"hoverinfo\":\"text\",\"marker\":{\"color\":\"rgb(53, 183, 120)\"},\"mode\":\"lines\",\"x\":[243.5,243.5,245.5,245.5],\"xaxis\":\"x\",\"y\":[0.17023241951538556,0.5912490000274868,0.5912490000274868,0.42176397505435537],\"yaxis\":\"y\",\"type\":\"scatter\"},{\"hoverinfo\":\"text\",\"marker\":{\"color\":\"rgb(53, 183, 120)\"},\"mode\":\"lines\",\"x\":[169.125,169.125,174.125,174.125],\"xaxis\":\"x\",\"y\":[0.3089173103546148,0.6025151218928124,0.6025151218928124,0.444637635069834],\"yaxis\":\"y\",\"type\":\"scatter\"},{\"hoverinfo\":\"text\",\"marker\":{\"color\":\"rgb(48, 103, 141)\"},\"mode\":\"lines\",\"x\":[74.5,74.5,77.96875,77.96875],\"xaxis\":\"x\",\"y\":[0.3332628198556908,0.6076366151715589,0.6076366151715589,0.3856831253613896],\"yaxis\":\"y\",\"type\":\"scatter\"},{\"hoverinfo\":\"text\",\"marker\":{\"color\":\"rgb(53, 183, 120)\"},\"mode\":\"lines\",\"x\":[120.25,120.25,122.5,122.5],\"xaxis\":\"x\",\"y\":[0.2031131591317532,0.6105078168463116,0.6105078168463116,0.4176953010300866],\"yaxis\":\"y\",\"type\":\"scatter\"},{\"hoverinfo\":\"text\",\"marker\":{\"color\":\"rgb(53, 183, 120)\"},\"mode\":\"lines\",\"x\":[218.75,218.75,221.75,221.75],\"xaxis\":\"x\",\"y\":[0.2333990717361256,0.617394863593074,0.617394863593074,0.27758866217046485],\"yaxis\":\"y\",\"type\":\"scatter\"},{\"hoverinfo\":\"text\",\"marker\":{\"color\":\"rgb(68, 1, 84)\"},\"mode\":\"lines\",\"x\":[7.0,7.0,8.5,8.5],\"xaxis\":\"x\",\"y\":[0.0,0.6182507089938111,0.6182507089938111,0.4830812336143708],\"yaxis\":\"y\",\"type\":\"scatter\"},{\"hoverinfo\":\"text\",\"marker\":{\"color\":\"rgb(53, 183, 120)\"},\"mode\":\"lines\",\"x\":[102.5,102.5,104.0,104.0],\"xaxis\":\"x\",\"y\":[0.46193619546697123,0.6277409207999407,0.6277409207999407,0.0],\"yaxis\":\"y\",\"type\":\"scatter\"},{\"hoverinfo\":\"text\",\"marker\":{\"color\":\"rgb(53, 183, 120)\"},\"mode\":\"lines\",\"x\":[192.5,192.5,196.125,196.125],\"xaxis\":\"x\",\"y\":[0.2783483829245986,0.6355507785328086,0.6355507785328086,0.4899895740682452],\"yaxis\":\"y\",\"type\":\"scatter\"},{\"hoverinfo\":\"text\",\"marker\":{\"color\":\"rgb(53, 183, 120)\"},\"mode\":\"lines\",\"x\":[180.375,180.375,184.0,184.0],\"xaxis\":\"x\",\"y\":[0.4105723868540869,0.6416548299735613,0.6416548299735613,0.0],\"yaxis\":\"y\",\"type\":\"scatter\"},{\"hoverinfo\":\"text\",\"marker\":{\"color\":\"rgb(48, 103, 141)\"},\"mode\":\"lines\",\"x\":[89.5,89.5,92.875,92.875],\"xaxis\":\"x\",\"y\":[0.41174949572907904,0.6469435989535477,0.6469435989535477,0.4123511005036025],\"yaxis\":\"y\",\"type\":\"scatter\"},{\"hoverinfo\":\"text\",\"marker\":{\"color\":\"rgb(48, 103, 141)\"},\"mode\":\"lines\",\"x\":[52.25,52.25,55.25,55.25],\"xaxis\":\"x\",\"y\":[0.4658402332483763,0.6494147085969318,0.6494147085969318,0.3149265162141986],\"yaxis\":\"y\",\"type\":\"scatter\"},{\"hoverinfo\":\"text\",\"marker\":{\"color\":\"rgb(68, 1, 84)\"},\"mode\":\"lines\",\"x\":[14.0,14.0,16.25,16.25],\"xaxis\":\"x\",\"y\":[0.0,0.6600588536452235,0.6600588536452235,0.4491560595784422],\"yaxis\":\"y\",\"type\":\"scatter\"},{\"hoverinfo\":\"text\",\"marker\":{\"color\":\"rgb(68, 1, 84)\"},\"mode\":\"lines\",\"x\":[30.25,30.25,33.875,33.875],\"xaxis\":\"x\",\"y\":[0.364756617119801,0.664410361964159,0.664410361964159,0.5528564261937908],\"yaxis\":\"y\",\"type\":\"scatter\"},{\"hoverinfo\":\"text\",\"marker\":{\"color\":\"rgb(68, 1, 84)\"},\"mode\":\"lines\",\"x\":[1.0,1.0,2.5,2.5],\"xaxis\":\"x\",\"y\":[0.0,0.6717713514555403,0.6717713514555403,0.5465918129056028],\"yaxis\":\"y\",\"type\":\"scatter\"},{\"hoverinfo\":\"text\",\"marker\":{\"color\":\"rgb(68, 1, 84)\"},\"mode\":\"lines\",\"x\":[19.25,19.25,21.0,21.0],\"xaxis\":\"x\",\"y\":[0.3918594244548277,0.6723413741254317,0.6723413741254317,0.0],\"yaxis\":\"y\",\"type\":\"scatter\"},{\"hoverinfo\":\"text\",\"marker\":{\"color\":\"rgb(53, 183, 120)\"},\"mode\":\"lines\",\"x\":[190,190,191,191],\"xaxis\":\"x\",\"y\":[0.0,0.6749924401500368,0.6749924401500368,0.0],\"yaxis\":\"y\",\"type\":\"scatter\"},{\"hoverinfo\":\"text\",\"marker\":{\"color\":\"rgb(53, 183, 120)\"},\"mode\":\"lines\",\"x\":[126.75,126.75,129.0,129.0],\"xaxis\":\"x\",\"y\":[0.34485362231982497,0.6764300392298018,0.6764300392298018,0.0],\"yaxis\":\"y\",\"type\":\"scatter\"},{\"hoverinfo\":\"text\",\"marker\":{\"color\":\"rgb(68, 1, 84)\"},\"mode\":\"lines\",\"x\":[36.75,36.75,39.75,39.75],\"xaxis\":\"x\",\"y\":[0.42062683770798504,0.7127577269904052,0.7127577269904052,0.5126028871898274],\"yaxis\":\"y\",\"type\":\"scatter\"},{\"hoverinfo\":\"text\",\"marker\":{\"color\":\"rgb(53, 183, 120)\"},\"mode\":\"lines\",\"x\":[262.875,262.875,267.5,267.5],\"xaxis\":\"x\",\"y\":[0.4291547113733209,0.713366559695787,0.713366559695787,0.3420162026747771],\"yaxis\":\"y\",\"type\":\"scatter\"},{\"hoverinfo\":\"text\",\"marker\":{\"color\":\"rgb(68, 1, 84)\"},\"mode\":\"lines\",\"x\":[4.0,4.0,5.5,5.5],\"xaxis\":\"x\",\"y\":[0.0,0.7311548577517235,0.7311548577517235,0.47368459144546915],\"yaxis\":\"y\",\"type\":\"scatter\"},{\"hoverinfo\":\"text\",\"marker\":{\"color\":\"rgb(48, 103, 141)\"},\"mode\":\"lines\",\"x\":[76.234375,76.234375,83.875,83.875],\"xaxis\":\"x\",\"y\":[0.6076366151715589,0.7353632455384597,0.7353632455384597,0.5164064495362055],\"yaxis\":\"y\",\"type\":\"scatter\"},{\"hoverinfo\":\"text\",\"marker\":{\"color\":\"rgb(53, 183, 120)\"},\"mode\":\"lines\",\"x\":[121.375,121.375,124.5,124.5],\"xaxis\":\"x\",\"y\":[0.6105078168463116,0.753995989030346,0.753995989030346,0.24515232857202207],\"yaxis\":\"y\",\"type\":\"scatter\"},{\"hoverinfo\":\"text\",\"marker\":{\"color\":\"rgb(53, 183, 120)\"},\"mode\":\"lines\",\"x\":[239.0625,239.0625,244.5,244.5],\"xaxis\":\"x\",\"y\":[0.4654552339644498,0.7545366936266504,0.7545366936266504,0.5912490000274868],\"yaxis\":\"y\",\"type\":\"scatter\"},{\"hoverinfo\":\"text\",\"marker\":{\"color\":\"rgb(53, 183, 120)\"},\"mode\":\"lines\",\"x\":[220.25,220.25,226.125,226.125],\"xaxis\":\"x\",\"y\":[0.617394863593074,0.7553200310467275,0.7553200310467275,0.4766076755241176],\"yaxis\":\"y\",\"type\":\"scatter\"},{\"hoverinfo\":\"text\",\"marker\":{\"color\":\"rgb(53, 183, 120)\"},\"mode\":\"lines\",\"x\":[287.0,287.0,289.25,289.25],\"xaxis\":\"x\",\"y\":[0.0,0.7564897277434862,0.7564897277434862,0.4504363007381264],\"yaxis\":\"y\",\"type\":\"scatter\"},{\"hoverinfo\":\"text\",\"marker\":{\"color\":\"rgb(53, 183, 120)\"},\"mode\":\"lines\",\"x\":[157.5,157.5,163.625,163.625],\"xaxis\":\"x\",\"y\":[0.2308035962327784,0.77128183961703,0.77128183961703,0.5246205441228576],\"yaxis\":\"y\",\"type\":\"scatter\"},{\"hoverinfo\":\"text\",\"marker\":{\"color\":\"rgb(53, 183, 120)\"},\"mode\":\"lines\",\"x\":[209.5,209.5,212.875,212.875],\"xaxis\":\"x\",\"y\":[0.4222744853297776,0.773913910648921,0.773913910648921,0.4812913213020837],\"yaxis\":\"y\",\"type\":\"scatter\"},{\"hoverinfo\":\"text\",\"marker\":{\"color\":\"rgb(53, 183, 120)\"},\"mode\":\"lines\",\"x\":[113,113,114,114],\"xaxis\":\"x\",\"y\":[0.0,0.7804562890740477,0.7804562890740477,0.0],\"yaxis\":\"y\",\"type\":\"scatter\"},{\"hoverinfo\":\"text\",\"marker\":{\"color\":\"rgb(53, 183, 120)\"},\"mode\":\"lines\",\"x\":[132.5,132.5,135.25,135.25],\"xaxis\":\"x\",\"y\":[0.4114648628597199,0.7901001019139844,0.7901001019139844,0.3064868785960137],\"yaxis\":\"y\",\"type\":\"scatter\"},{\"hoverinfo\":\"text\",\"marker\":{\"color\":\"rgb(53, 183, 120)\"},\"mode\":\"lines\",\"x\":[251.5,251.5,259.0,259.0],\"xaxis\":\"x\",\"y\":[0.5050905745083747,0.7938775623782165,0.7938775623782165,0.5128518283153631],\"yaxis\":\"y\",\"type\":\"scatter\"},{\"hoverinfo\":\"text\",\"marker\":{\"color\":\"rgb(53, 183, 120)\"},\"mode\":\"lines\",\"x\":[186.0,186.0,188.25,188.25],\"xaxis\":\"x\",\"y\":[0.0,0.7971446385984776,0.7971446385984776,0.3672412955357918],\"yaxis\":\"y\",\"type\":\"scatter\"},{\"hoverinfo\":\"text\",\"marker\":{\"color\":\"rgb(68, 1, 84)\"},\"mode\":\"lines\",\"x\":[23.5,23.5,26.5,26.5],\"xaxis\":\"x\",\"y\":[0.18303696965210903,0.8022207251481228,0.8022207251481228,0.46446328933086967],\"yaxis\":\"y\",\"type\":\"scatter\"},{\"hoverinfo\":\"text\",\"marker\":{\"color\":\"rgb(53, 183, 120)\"},\"mode\":\"lines\",\"x\":[137,137,138,138],\"xaxis\":\"x\",\"y\":[0.0,0.8065003113442166,0.8065003113442166,0.0],\"yaxis\":\"y\",\"type\":\"scatter\"},{\"hoverinfo\":\"text\",\"marker\":{\"color\":\"rgb(53, 183, 120)\"},\"mode\":\"lines\",\"x\":[151.0,151.0,152.5,152.5],\"xaxis\":\"x\",\"y\":[0.0,0.809851163766742,0.809851163766742,0.5251978462678462],\"yaxis\":\"y\",\"type\":\"scatter\"},{\"hoverinfo\":\"text\",\"marker\":{\"color\":\"rgb(48, 103, 141)\"},\"mode\":\"lines\",\"x\":[80.0546875,80.0546875,87.25,87.25],\"xaxis\":\"x\",\"y\":[0.7353632455384597,0.8115252398698822,0.8115252398698822,0.4177835890388933],\"yaxis\":\"y\",\"type\":\"scatter\"},{\"hoverinfo\":\"text\",\"marker\":{\"color\":\"rgb(53, 183, 120)\"},\"mode\":\"lines\",\"x\":[229.125,229.125,235.0,235.0],\"xaxis\":\"x\",\"y\":[0.4178287108979524,0.8287490296917648,0.8287490296917648,0.5654799704799324],\"yaxis\":\"y\",\"type\":\"scatter\"},{\"hoverinfo\":\"text\",\"marker\":{\"color\":\"rgb(48, 103, 141)\"},\"mode\":\"lines\",\"x\":[58.75,58.75,64.0,64.0],\"xaxis\":\"x\",\"y\":[0.4211248088240017,0.844001471054041,0.844001471054041,0.4790930359541766],\"yaxis\":\"y\",\"type\":\"scatter\"},{\"hoverinfo\":\"text\",\"marker\":{\"color\":\"rgb(53, 183, 120)\"},\"mode\":\"lines\",\"x\":[204.0,204.0,206.5,206.5],\"xaxis\":\"x\",\"y\":[0.0,0.8515850346811711,0.8515850346811711,0.49014645125232115],\"yaxis\":\"y\",\"type\":\"scatter\"},{\"hoverinfo\":\"text\",\"marker\":{\"color\":\"rgb(53, 183, 120)\"},\"mode\":\"lines\",\"x\":[278.125,278.125,283.25,283.25],\"xaxis\":\"x\",\"y\":[0.49334276222638923,0.862126581703655,0.862126581703655,0.507144503405854],\"yaxis\":\"y\",\"type\":\"scatter\"},{\"hoverinfo\":\"text\",\"marker\":{\"color\":\"rgb(53, 183, 120)\"},\"mode\":\"lines\",\"x\":[145.0,145.0,148.75,148.75],\"xaxis\":\"x\",\"y\":[0.43070881072145273,0.8725953002146517,0.8725953002146517,0.5243965694110094],\"yaxis\":\"y\",\"type\":\"scatter\"},{\"hoverinfo\":\"text\",\"marker\":{\"color\":\"rgb(53, 183, 120)\"},\"mode\":\"lines\",\"x\":[265.1875,265.1875,271.875,271.875],\"xaxis\":\"x\",\"y\":[0.713366559695787,0.8765595894928631,0.8765595894928631,0.45338818364593936],\"yaxis\":\"y\",\"type\":\"scatter\"},{\"hoverinfo\":\"text\",\"marker\":{\"color\":\"rgb(53, 183, 120)\"},\"mode\":\"lines\",\"x\":[130.5,130.5,133.875,133.875],\"xaxis\":\"x\",\"y\":[0.4567415674176239,0.8768492285233318,0.8768492285233318,0.7901001019139844],\"yaxis\":\"y\",\"type\":\"scatter\"},{\"hoverinfo\":\"text\",\"marker\":{\"color\":\"rgb(53, 183, 120)\"},\"mode\":\"lines\",\"x\":[171.625,171.625,182.1875,182.1875],\"xaxis\":\"x\",\"y\":[0.6025151218928124,0.8833240905188643,0.8833240905188643,0.6416548299735613],\"yaxis\":\"y\",\"type\":\"scatter\"},{\"hoverinfo\":\"text\",\"marker\":{\"color\":\"rgb(68, 1, 84)\"},\"mode\":\"lines\",\"x\":[7.75,7.75,11.5,11.5],\"xaxis\":\"x\",\"y\":[0.6182507089938111,0.8933772268133935,0.8933772268133935,0.27276287731479476],\"yaxis\":\"y\",\"type\":\"scatter\"},{\"hoverinfo\":\"text\",\"marker\":{\"color\":\"rgb(53, 183, 120)\"},\"mode\":\"lines\",\"x\":[211.1875,211.1875,216.25,216.25],\"xaxis\":\"x\",\"y\":[0.773913910648921,0.9077876867499007,0.9077876867499007,0.5153027813721837],\"yaxis\":\"y\",\"type\":\"scatter\"},{\"hoverinfo\":\"text\",\"marker\":{\"color\":\"rgb(53, 183, 120)\"},\"mode\":\"lines\",\"x\":[293,293,294,294],\"xaxis\":\"x\",\"y\":[0.0,0.9488471974604439,0.9488471974604439,0.0],\"yaxis\":\"y\",\"type\":\"scatter\"},{\"hoverinfo\":\"text\",\"marker\":{\"color\":\"rgb(53, 183, 120)\"},\"mode\":\"lines\",\"x\":[113.5,113.5,116.5,116.5],\"xaxis\":\"x\",\"y\":[0.7804562890740477,0.9662134358270498,0.9662134358270498,0.5714119979079084],\"yaxis\":\"y\",\"type\":\"scatter\"},{\"hoverinfo\":\"text\",\"marker\":{\"color\":\"rgb(53, 183, 120)\"},\"mode\":\"lines\",\"x\":[194.3125,194.3125,199.25,199.25],\"xaxis\":\"x\",\"y\":[0.6355507785328086,0.9833871285013308,0.9833871285013308,0.48772126657484016],\"yaxis\":\"y\",\"type\":\"scatter\"},{\"hoverinfo\":\"text\",\"marker\":{\"color\":\"rgb(48, 103, 141)\"},\"mode\":\"lines\",\"x\":[50.0,50.0,53.75,53.75],\"xaxis\":\"x\",\"y\":[0.0,0.9935690263547118,0.9935690263547118,0.6494147085969318],\"yaxis\":\"y\",\"type\":\"scatter\"},{\"hoverinfo\":\"text\",\"marker\":{\"color\":\"rgb(48, 103, 141)\"},\"mode\":\"lines\",\"x\":[57.0,57.0,61.375,61.375],\"xaxis\":\"x\",\"y\":[0.0,0.9942161092066316,0.9942161092066316,0.844001471054041],\"yaxis\":\"y\",\"type\":\"scatter\"},{\"hoverinfo\":\"text\",\"marker\":{\"color\":\"rgb(48, 103, 141)\"},\"mode\":\"lines\",\"x\":[91.1875,91.1875,96.5,96.5],\"xaxis\":\"x\",\"y\":[0.6469435989535477,1.0069543940158885,1.0069543940158885,0.5311170922499578],\"yaxis\":\"y\",\"type\":\"scatter\"},{\"hoverinfo\":\"text\",\"marker\":{\"color\":\"rgb(53, 183, 120)\"},\"mode\":\"lines\",\"x\":[100,100,101,101],\"xaxis\":\"x\",\"y\":[0.0,1.0130118121563874,1.0130118121563874,0.0],\"yaxis\":\"y\",\"type\":\"scatter\"},{\"hoverinfo\":\"text\",\"marker\":{\"color\":\"rgb(53, 183, 120)\"},\"mode\":\"lines\",\"x\":[151.75,151.75,155.25,155.25],\"xaxis\":\"x\",\"y\":[0.809851163766742,1.0132629555868553,1.0132629555868553,0.45269402241700707],\"yaxis\":\"y\",\"type\":\"scatter\"},{\"hoverinfo\":\"text\",\"marker\":{\"color\":\"rgb(53, 183, 120)\"},\"mode\":\"lines\",\"x\":[275.0,275.0,280.6875,280.6875],\"xaxis\":\"x\",\"y\":[0.0,1.0255913480718817,1.0255913480718817,0.862126581703655],\"yaxis\":\"y\",\"type\":\"scatter\"},{\"hoverinfo\":\"text\",\"marker\":{\"color\":\"rgb(53, 183, 120)\"},\"mode\":\"lines\",\"x\":[185.0,185.0,187.125,187.125],\"xaxis\":\"x\",\"y\":[0.0,1.02610694229925,1.02610694229925,0.7971446385984776],\"yaxis\":\"y\",\"type\":\"scatter\"},{\"hoverinfo\":\"text\",\"marker\":{\"color\":\"rgb(53, 183, 120)\"},\"mode\":\"lines\",\"x\":[106.5,106.5,109.0,109.0],\"xaxis\":\"x\",\"y\":[0.47124561966506545,1.036748611957572,1.036748611957572,0.0],\"yaxis\":\"y\",\"type\":\"scatter\"},{\"hoverinfo\":\"text\",\"marker\":{\"color\":\"rgb(48, 103, 141)\"},\"mode\":\"lines\",\"x\":[69.875,69.875,83.65234375,83.65234375],\"xaxis\":\"x\",\"y\":[0.5728150632225374,1.0646351114453947,1.0646351114453947,0.8115252398698822],\"yaxis\":\"y\",\"type\":\"scatter\"},{\"hoverinfo\":\"text\",\"marker\":{\"color\":\"rgb(68, 1, 84)\"},\"mode\":\"lines\",\"x\":[38.25,38.25,44.125,44.125],\"xaxis\":\"x\",\"y\":[0.7127577269904052,1.0924995806711468,1.0924995806711468,0.5160992267670643],\"yaxis\":\"y\",\"type\":\"scatter\"},{\"hoverinfo\":\"text\",\"marker\":{\"color\":\"rgb(53, 183, 120)\"},\"mode\":\"lines\",\"x\":[232.0625,232.0625,241.78125,241.78125],\"xaxis\":\"x\",\"y\":[0.8287490296917648,1.1510078027472352,1.1510078027472352,0.7545366936266504],\"yaxis\":\"y\",\"type\":\"scatter\"},{\"hoverinfo\":\"text\",\"marker\":{\"color\":\"rgb(53, 183, 120)\"},\"mode\":\"lines\",\"x\":[122.9375,122.9375,127.875,127.875],\"xaxis\":\"x\",\"y\":[0.753995989030346,1.151138403713939,1.151138403713939,0.6764300392298018],\"yaxis\":\"y\",\"type\":\"scatter\"},{\"hoverinfo\":\"text\",\"marker\":{\"color\":\"rgb(68, 1, 84)\"},\"mode\":\"lines\",\"x\":[20.125,20.125,22.0,22.0],\"xaxis\":\"x\",\"y\":[0.6723413741254317,1.1553587862929922,1.1553587862929922,0.0],\"yaxis\":\"y\",\"type\":\"scatter\"},{\"hoverinfo\":\"text\",\"marker\":{\"color\":\"rgb(53, 183, 120)\"},\"mode\":\"lines\",\"x\":[202.5,202.5,205.25,205.25],\"xaxis\":\"x\",\"y\":[0.48657056178210095,1.195848534251366,1.195848534251366,0.8515850346811711],\"yaxis\":\"y\",\"type\":\"scatter\"},{\"hoverinfo\":\"text\",\"marker\":{\"color\":\"rgb(53, 183, 120)\"},\"mode\":\"lines\",\"x\":[288.125,288.125,291.5,291.5],\"xaxis\":\"x\",\"y\":[0.7564897277434862,1.196714345107662,1.196714345107662,0.5115924071171176],\"yaxis\":\"y\",\"type\":\"scatter\"},{\"hoverinfo\":\"text\",\"marker\":{\"color\":\"rgb(53, 183, 120)\"},\"mode\":\"lines\",\"x\":[107.75,107.75,110.0,110.0],\"xaxis\":\"x\",\"y\":[1.036748611957572,1.2086845699057331,1.2086845699057331,0.0],\"yaxis\":\"y\",\"type\":\"scatter\"},{\"hoverinfo\":\"text\",\"marker\":{\"color\":\"rgb(68, 1, 84)\"},\"mode\":\"lines\",\"x\":[25.0,25.0,32.0625,32.0625],\"xaxis\":\"x\",\"y\":[0.8022207251481228,1.2146003458648635,1.2146003458648635,0.664410361964159],\"yaxis\":\"y\",\"type\":\"scatter\"},{\"hoverinfo\":\"text\",\"marker\":{\"color\":\"rgb(53, 183, 120)\"},\"mode\":\"lines\",\"x\":[132.1875,132.1875,137.5,137.5],\"xaxis\":\"x\",\"y\":[0.8768492285233318,1.2275106606654707,1.2275106606654707,0.8065003113442166],\"yaxis\":\"y\",\"type\":\"scatter\"},{\"hoverinfo\":\"text\",\"marker\":{\"color\":\"rgb(53, 183, 120)\"},\"mode\":\"lines\",\"x\":[255.25,255.25,268.53125,268.53125],\"xaxis\":\"x\",\"y\":[0.7938775623782165,1.2778019742541902,1.2778019742541902,0.8765595894928631],\"yaxis\":\"y\",\"type\":\"scatter\"},{\"hoverinfo\":\"text\",\"marker\":{\"color\":\"rgb(53, 183, 120)\"},\"mode\":\"lines\",\"x\":[190.5,190.5,196.78125,196.78125],\"xaxis\":\"x\",\"y\":[0.6749924401500368,1.2915585093952642,1.2915585093952642,0.9833871285013308],\"yaxis\":\"y\",\"type\":\"scatter\"},{\"hoverinfo\":\"text\",\"marker\":{\"color\":\"rgb(48, 103, 141)\"},\"mode\":\"lines\",\"x\":[76.763671875,76.763671875,93.84375,93.84375],\"xaxis\":\"x\",\"y\":[1.0646351114453947,1.3362146326017161,1.3362146326017161,1.0069543940158885],\"yaxis\":\"y\",\"type\":\"scatter\"},{\"hoverinfo\":\"text\",\"marker\":{\"color\":\"rgb(53, 183, 120)\"},\"mode\":\"lines\",\"x\":[160.5625,160.5625,176.90625,176.90625],\"xaxis\":\"x\",\"y\":[0.77128183961703,1.343462235513439,1.343462235513439,0.8833240905188643],\"yaxis\":\"y\",\"type\":\"scatter\"},{\"hoverinfo\":\"text\",\"marker\":{\"color\":\"rgb(53, 183, 120)\"},\"mode\":\"lines\",\"x\":[146.875,146.875,153.5,153.5],\"xaxis\":\"x\",\"y\":[0.8725953002146517,1.3546604814595486,1.3546604814595486,1.0132629555868553],\"yaxis\":\"y\",\"type\":\"scatter\"},{\"hoverinfo\":\"text\",\"marker\":{\"color\":\"rgb(53, 183, 120)\"},\"mode\":\"lines\",\"x\":[203.875,203.875,213.71875,213.71875],\"xaxis\":\"x\",\"y\":[1.195848534251366,1.355459971884491,1.355459971884491,0.9077876867499007],\"yaxis\":\"y\",\"type\":\"scatter\"},{\"hoverinfo\":\"text\",\"marker\":{\"color\":\"rgb(53, 183, 120)\"},\"mode\":\"lines\",\"x\":[289.8125,289.8125,293.5,293.5],\"xaxis\":\"x\",\"y\":[1.196714345107662,1.3613398020222673,1.3613398020222673,0.9488471974604439],\"yaxis\":\"y\",\"type\":\"scatter\"},{\"hoverinfo\":\"text\",\"marker\":{\"color\":\"rgb(53, 183, 120)\"},\"mode\":\"lines\",\"x\":[111,111,112,112],\"xaxis\":\"x\",\"y\":[0.0,1.3816631248605662,1.3816631248605662,0.0],\"yaxis\":\"y\",\"type\":\"scatter\"},{\"hoverinfo\":\"text\",\"marker\":{\"color\":\"rgb(68, 1, 84)\"},\"mode\":\"lines\",\"x\":[4.75,4.75,9.625,9.625],\"xaxis\":\"x\",\"y\":[0.7311548577517235,1.4056578808726405,1.4056578808726405,0.8933772268133935],\"yaxis\":\"y\",\"type\":\"scatter\"},{\"hoverinfo\":\"text\",\"marker\":{\"color\":\"rgb(53, 183, 120)\"},\"mode\":\"lines\",\"x\":[223.1875,223.1875,236.921875,236.921875],\"xaxis\":\"x\",\"y\":[0.7553200310467275,1.417526544338175,1.417526544338175,1.1510078027472352],\"yaxis\":\"y\",\"type\":\"scatter\"},{\"hoverinfo\":\"text\",\"marker\":{\"color\":\"rgb(68, 1, 84)\"},\"mode\":\"lines\",\"x\":[15.125,15.125,21.0625,21.0625],\"xaxis\":\"x\",\"y\":[0.6600588536452235,1.4444996381047441,1.4444996381047441,1.1553587862929922],\"yaxis\":\"y\",\"type\":\"scatter\"},{\"hoverinfo\":\"text\",\"marker\":{\"color\":\"rgb(53, 183, 120)\"},\"mode\":\"lines\",\"x\":[103.25,103.25,108.875,108.875],\"xaxis\":\"x\",\"y\":[0.6277409207999407,1.448439580239042,1.448439580239042,1.2086845699057331],\"yaxis\":\"y\",\"type\":\"scatter\"},{\"hoverinfo\":\"text\",\"marker\":{\"color\":\"rgb(48, 103, 141)\"},\"mode\":\"lines\",\"x\":[59.1875,59.1875,67.0,67.0],\"xaxis\":\"x\",\"y\":[0.9942161092066316,1.4692122441185094,1.4692122441185094,0.0],\"yaxis\":\"y\",\"type\":\"scatter\"},{\"hoverinfo\":\"text\",\"marker\":{\"color\":\"rgb(53, 183, 120)\"},\"mode\":\"lines\",\"x\":[193.640625,193.640625,201.0,201.0],\"xaxis\":\"x\",\"y\":[1.2915585093952642,1.5110275622229645,1.5110275622229645,0.0],\"yaxis\":\"y\",\"type\":\"scatter\"},{\"hoverinfo\":\"text\",\"marker\":{\"color\":\"rgb(253, 231, 36)\"},\"mode\":\"lines\",\"x\":[298,298,299,299],\"xaxis\":\"x\",\"y\":[0.0,1.5111774916261453,1.5111774916261453,0.0],\"yaxis\":\"y\",\"type\":\"scatter\"},{\"hoverinfo\":\"text\",\"marker\":{\"color\":\"rgb(68, 1, 84)\"},\"mode\":\"lines\",\"x\":[28.53125,28.53125,41.1875,41.1875],\"xaxis\":\"x\",\"y\":[1.2146003458648635,1.5456779977677864,1.5456779977677864,1.0924995806711468],\"yaxis\":\"y\",\"type\":\"scatter\"},{\"hoverinfo\":\"text\",\"marker\":{\"color\":\"rgb(68, 1, 84)\"},\"mode\":\"lines\",\"x\":[0.0,0.0,1.75,1.75],\"xaxis\":\"x\",\"y\":[0.0,1.558475967022886,1.558475967022886,0.6717713514555403],\"yaxis\":\"y\",\"type\":\"scatter\"},{\"hoverinfo\":\"text\",\"marker\":{\"color\":\"rgb(53, 183, 120)\"},\"mode\":\"lines\",\"x\":[115.0,115.0,125.40625,125.40625],\"xaxis\":\"x\",\"y\":[0.9662134358270498,1.6174248613888664,1.6174248613888664,1.151138403713939],\"yaxis\":\"y\",\"type\":\"scatter\"},{\"hoverinfo\":\"text\",\"marker\":{\"color\":\"rgb(48, 103, 141)\"},\"mode\":\"lines\",\"x\":[63.09375,63.09375,85.3037109375,85.3037109375],\"xaxis\":\"x\",\"y\":[1.4692122441185094,1.6763842622738958,1.6763842622738958,1.3362146326017161],\"yaxis\":\"y\",\"type\":\"scatter\"},{\"hoverinfo\":\"text\",\"marker\":{\"color\":\"rgb(68, 1, 84)\"},\"mode\":\"lines\",\"x\":[34.859375,34.859375,48.25,48.25],\"xaxis\":\"x\",\"y\":[1.5456779977677864,1.7279006746630425,1.7279006746630425,0.42887903046055154],\"yaxis\":\"y\",\"type\":\"scatter\"},{\"hoverinfo\":\"text\",\"marker\":{\"color\":\"rgb(53, 183, 120)\"},\"mode\":\"lines\",\"x\":[277.84375,277.84375,291.65625,291.65625],\"xaxis\":\"x\",\"y\":[1.0255913480718817,1.744621638290496,1.744621638290496,1.3613398020222673],\"yaxis\":\"y\",\"type\":\"scatter\"},{\"hoverinfo\":\"text\",\"marker\":{\"color\":\"rgb(53, 183, 120)\"},\"mode\":\"lines\",\"x\":[141.0,141.0,150.1875,150.1875],\"xaxis\":\"x\",\"y\":[0.0,1.7570046019566112,1.7570046019566112,1.3546604814595486],\"yaxis\":\"y\",\"type\":\"scatter\"},{\"hoverinfo\":\"text\",\"marker\":{\"color\":\"rgb(53, 183, 120)\"},\"mode\":\"lines\",\"x\":[186.0625,186.0625,197.3203125,197.3203125],\"xaxis\":\"x\",\"y\":[1.02610694229925,1.7787841460766158,1.7787841460766158,1.5110275622229645],\"yaxis\":\"y\",\"type\":\"scatter\"},{\"hoverinfo\":\"text\",\"marker\":{\"color\":\"rgb(53, 183, 120)\"},\"mode\":\"lines\",\"x\":[230.0546875,230.0546875,261.890625,261.890625],\"xaxis\":\"x\",\"y\":[1.417526544338175,1.8396334037810484,1.8396334037810484,1.2778019742541902],\"yaxis\":\"y\",\"type\":\"scatter\"},{\"hoverinfo\":\"text\",\"marker\":{\"color\":\"rgb(48, 103, 141)\"},\"mode\":\"lines\",\"x\":[51.875,51.875,74.19873046875,74.19873046875],\"xaxis\":\"x\",\"y\":[0.9935690263547118,1.8767062166497033,1.8767062166497033,1.6763842622738958],\"yaxis\":\"y\",\"type\":\"scatter\"},{\"hoverinfo\":\"text\",\"marker\":{\"color\":\"rgb(53, 183, 120)\"},\"mode\":\"lines\",\"x\":[168.734375,168.734375,191.69140625,191.69140625],\"xaxis\":\"x\",\"y\":[1.343462235513439,1.8786317851919037,1.8786317851919037,1.7787841460766158],\"yaxis\":\"y\",\"type\":\"scatter\"},{\"hoverinfo\":\"text\",\"marker\":{\"color\":\"rgb(68, 1, 84)\"},\"mode\":\"lines\",\"x\":[0.875,0.875,7.1875,7.1875],\"xaxis\":\"x\",\"y\":[1.558475967022886,1.894253583786552,1.894253583786552,1.4056578808726405],\"yaxis\":\"y\",\"type\":\"scatter\"},{\"hoverinfo\":\"text\",\"marker\":{\"color\":\"rgb(53, 183, 120)\"},\"mode\":\"lines\",\"x\":[134.84375,134.84375,139.5,139.5],\"xaxis\":\"x\",\"y\":[1.2275106606654707,1.9897765356223216,1.9897765356223216,0.25232094581871667],\"yaxis\":\"y\",\"type\":\"scatter\"},{\"hoverinfo\":\"text\",\"marker\":{\"color\":\"rgb(53, 183, 120)\"},\"mode\":\"lines\",\"x\":[106.0625,106.0625,111.5,111.5],\"xaxis\":\"x\",\"y\":[1.448439580239042,2.0703833303173536,2.0703833303173536,1.3816631248605662],\"yaxis\":\"y\",\"type\":\"scatter\"},{\"hoverinfo\":\"text\",\"marker\":{\"color\":\"rgb(253, 231, 36)\"},\"mode\":\"lines\",\"x\":[295.0,295.0,296.5,296.5],\"xaxis\":\"x\",\"y\":[0.0,2.0855082383681554,2.0855082383681554,0.5206587428219911],\"yaxis\":\"y\",\"type\":\"scatter\"},{\"hoverinfo\":\"text\",\"marker\":{\"color\":\"rgb(68, 1, 84)\"},\"mode\":\"lines\",\"x\":[18.09375,18.09375,41.5546875,41.5546875],\"xaxis\":\"x\",\"y\":[1.4444996381047441,2.2060246217610966,2.2060246217610966,1.7279006746630425],\"yaxis\":\"y\",\"type\":\"scatter\"},{\"hoverinfo\":\"text\",\"marker\":{\"color\":\"rgb(53, 183, 120)\"},\"mode\":\"lines\",\"x\":[100.5,100.5,108.78125,108.78125],\"xaxis\":\"x\",\"y\":[1.0130118121563874,2.228318795073122,2.228318795073122,2.0703833303173536],\"yaxis\":\"y\",\"type\":\"scatter\"},{\"hoverinfo\":\"text\",\"marker\":{\"color\":\"rgb(53, 183, 120)\"},\"mode\":\"lines\",\"x\":[120.203125,120.203125,137.171875,137.171875],\"xaxis\":\"x\",\"y\":[1.6174248613888664,2.2621503702557035,2.2621503702557035,1.9897765356223216],\"yaxis\":\"y\",\"type\":\"scatter\"},{\"marker\":{\"color\":\"rgb(48, 103, 141)\",\"size\":[20]},\"mode\":\"markers\",\"x\":[80.7684326171875],\"xaxis\":\"x\",\"y\":[2.4261447980790662],\"yaxis\":\"y\",\"type\":\"scatter\"},{\"hoverinfo\":\"text\",\"marker\":{\"color\":\"rgb(48, 103, 141)\"},\"mode\":\"lines\",\"x\":[63.036865234375,63.036865234375,98.5,98.5],\"xaxis\":\"x\",\"y\":[1.8767062166497033,2.4261447980790662,2.4261447980790662,0.5870805520125603],\"yaxis\":\"y\",\"type\":\"scatter\"},{\"hoverinfo\":\"text\",\"marker\":{\"color\":\"rgb(53, 183, 120)\"},\"mode\":\"lines\",\"x\":[145.59375,145.59375,180.212890625,180.212890625],\"xaxis\":\"x\",\"y\":[1.7570046019566112,2.51799883395123,2.51799883395123,1.8786317851919037],\"yaxis\":\"y\",\"type\":\"scatter\"},{\"marker\":{\"color\":\"rgb(68, 1, 84)\",\"size\":[20]},\"mode\":\"markers\",\"x\":[16.927734375],\"xaxis\":\"x\",\"y\":[2.581292516200908],\"yaxis\":\"y\",\"type\":\"scatter\"},{\"hoverinfo\":\"text\",\"marker\":{\"color\":\"rgb(68, 1, 84)\"},\"mode\":\"lines\",\"x\":[4.03125,4.03125,29.82421875,29.82421875],\"xaxis\":\"x\",\"y\":[1.894253583786552,2.581292516200908,2.581292516200908,2.2060246217610966],\"yaxis\":\"y\",\"type\":\"scatter\"},{\"hoverinfo\":\"text\",\"marker\":{\"color\":\"rgb(53, 183, 120)\"},\"mode\":\"lines\",\"x\":[208.796875,208.796875,245.97265625,245.97265625],\"xaxis\":\"x\",\"y\":[1.355459971884491,2.8802880115600216,2.8802880115600216,1.8396334037810484],\"yaxis\":\"y\",\"type\":\"scatter\"},{\"hoverinfo\":\"text\",\"marker\":{\"color\":\"rgb(53, 183, 120)\"},\"mode\":\"lines\",\"x\":[162.9033203125,162.9033203125,227.384765625,227.384765625],\"xaxis\":\"x\",\"y\":[2.51799883395123,3.0619856436585,3.0619856436585,2.8802880115600216],\"yaxis\":\"y\",\"type\":\"scatter\"},{\"marker\":{\"color\":\"rgb(253, 231, 36)\",\"size\":[20]},\"mode\":\"markers\",\"x\":[297.125],\"xaxis\":\"x\",\"y\":[3.2044678732906853],\"yaxis\":\"y\",\"type\":\"scatter\"},{\"hoverinfo\":\"text\",\"marker\":{\"color\":\"rgb(253, 231, 36)\"},\"mode\":\"lines\",\"x\":[295.75,295.75,298.5,298.5],\"xaxis\":\"x\",\"y\":[2.0855082383681554,3.2044678732906853,3.2044678732906853,1.5111774916261453],\"yaxis\":\"y\",\"type\":\"scatter\"},{\"hoverinfo\":\"text\",\"marker\":{\"color\":\"rgb(53, 183, 120)\"},\"mode\":\"lines\",\"x\":[195.14404296875,195.14404296875,284.75,284.75],\"xaxis\":\"x\",\"y\":[3.0619856436585,3.5491543131545935,3.5491543131545935,1.744621638290496],\"yaxis\":\"y\",\"type\":\"scatter\"},{\"hoverinfo\":\"text\",\"marker\":{\"color\":\"rgb(53, 183, 120)\"},\"mode\":\"lines\",\"x\":[104.640625,104.640625,128.6875,128.6875],\"xaxis\":\"x\",\"y\":[2.228318795073122,3.9556505666780453,3.9556505666780453,2.2621503702557035],\"yaxis\":\"y\",\"type\":\"scatter\"},{\"marker\":{\"color\":\"rgb(53, 183, 120)\",\"size\":[20]},\"mode\":\"markers\",\"x\":[178.3055419921875],\"xaxis\":\"x\",\"y\":[4.3738893696611365],\"yaxis\":\"y\",\"type\":\"scatter\"},{\"hoverinfo\":\"text\",\"marker\":{\"color\":\"rgb(53, 183, 120)\"},\"mode\":\"lines\",\"x\":[116.6640625,116.6640625,239.947021484375,239.947021484375],\"xaxis\":\"x\",\"y\":[3.9556505666780453,4.3738893696611365,4.3738893696611365,3.5491543131545935],\"yaxis\":\"y\",\"type\":\"scatter\"},{\"hoverinfo\":\"text\",\"marker\":{\"color\":\"rgb(68, 57, 130)\"},\"mode\":\"lines\",\"x\":[16.927734375,16.927734375,80.7684326171875,80.7684326171875],\"xaxis\":\"x\",\"y\":[2.581292516200908,5.350931045335366,5.350931045335366,2.4261447980790662],\"yaxis\":\"y\",\"type\":\"scatter\"},{\"hoverinfo\":\"text\",\"marker\":{\"color\":\"rgb(144, 214, 67)\"},\"mode\":\"lines\",\"x\":[178.3055419921875,178.3055419921875,297.125,297.125],\"xaxis\":\"x\",\"y\":[4.3738893696611365,5.63029025492912,5.63029025492912,3.2044678732906853],\"yaxis\":\"y\",\"type\":\"scatter\"},{\"hoverinfo\":\"text\",\"marker\":{\"color\":\"rgb(32, 143, 140)\"},\"mode\":\"lines\",\"x\":[48.84808349609375,48.84808349609375,237.71527099609375,237.71527099609375],\"xaxis\":\"x\",\"y\":[5.350931045335366,14.10335104478264,14.10335104478264,5.63029025492912],\"yaxis\":\"y\",\"type\":\"scatter\"}],                        {\"template\":{\"data\":{\"bar\":[{\"error_x\":{\"color\":\"#2a3f5f\"},\"error_y\":{\"color\":\"#2a3f5f\"},\"marker\":{\"line\":{\"color\":\"#E5ECF6\",\"width\":0.5},\"pattern\":{\"fillmode\":\"overlay\",\"size\":10,\"solidity\":0.2}},\"type\":\"bar\"}],\"barpolar\":[{\"marker\":{\"line\":{\"color\":\"#E5ECF6\",\"width\":0.5},\"pattern\":{\"fillmode\":\"overlay\",\"size\":10,\"solidity\":0.2}},\"type\":\"barpolar\"}],\"carpet\":[{\"aaxis\":{\"endlinecolor\":\"#2a3f5f\",\"gridcolor\":\"white\",\"linecolor\":\"white\",\"minorgridcolor\":\"white\",\"startlinecolor\":\"#2a3f5f\"},\"baxis\":{\"endlinecolor\":\"#2a3f5f\",\"gridcolor\":\"white\",\"linecolor\":\"white\",\"minorgridcolor\":\"white\",\"startlinecolor\":\"#2a3f5f\"},\"type\":\"carpet\"}],\"choropleth\":[{\"colorbar\":{\"outlinewidth\":0,\"ticks\":\"\"},\"type\":\"choropleth\"}],\"contour\":[{\"colorbar\":{\"outlinewidth\":0,\"ticks\":\"\"},\"colorscale\":[[0.0,\"#0d0887\"],[0.1111111111111111,\"#46039f\"],[0.2222222222222222,\"#7201a8\"],[0.3333333333333333,\"#9c179e\"],[0.4444444444444444,\"#bd3786\"],[0.5555555555555556,\"#d8576b\"],[0.6666666666666666,\"#ed7953\"],[0.7777777777777778,\"#fb9f3a\"],[0.8888888888888888,\"#fdca26\"],[1.0,\"#f0f921\"]],\"type\":\"contour\"}],\"contourcarpet\":[{\"colorbar\":{\"outlinewidth\":0,\"ticks\":\"\"},\"type\":\"contourcarpet\"}],\"heatmap\":[{\"colorbar\":{\"outlinewidth\":0,\"ticks\":\"\"},\"colorscale\":[[0.0,\"#0d0887\"],[0.1111111111111111,\"#46039f\"],[0.2222222222222222,\"#7201a8\"],[0.3333333333333333,\"#9c179e\"],[0.4444444444444444,\"#bd3786\"],[0.5555555555555556,\"#d8576b\"],[0.6666666666666666,\"#ed7953\"],[0.7777777777777778,\"#fb9f3a\"],[0.8888888888888888,\"#fdca26\"],[1.0,\"#f0f921\"]],\"type\":\"heatmap\"}],\"heatmapgl\":[{\"colorbar\":{\"outlinewidth\":0,\"ticks\":\"\"},\"colorscale\":[[0.0,\"#0d0887\"],[0.1111111111111111,\"#46039f\"],[0.2222222222222222,\"#7201a8\"],[0.3333333333333333,\"#9c179e\"],[0.4444444444444444,\"#bd3786\"],[0.5555555555555556,\"#d8576b\"],[0.6666666666666666,\"#ed7953\"],[0.7777777777777778,\"#fb9f3a\"],[0.8888888888888888,\"#fdca26\"],[1.0,\"#f0f921\"]],\"type\":\"heatmapgl\"}],\"histogram\":[{\"marker\":{\"pattern\":{\"fillmode\":\"overlay\",\"size\":10,\"solidity\":0.2}},\"type\":\"histogram\"}],\"histogram2d\":[{\"colorbar\":{\"outlinewidth\":0,\"ticks\":\"\"},\"colorscale\":[[0.0,\"#0d0887\"],[0.1111111111111111,\"#46039f\"],[0.2222222222222222,\"#7201a8\"],[0.3333333333333333,\"#9c179e\"],[0.4444444444444444,\"#bd3786\"],[0.5555555555555556,\"#d8576b\"],[0.6666666666666666,\"#ed7953\"],[0.7777777777777778,\"#fb9f3a\"],[0.8888888888888888,\"#fdca26\"],[1.0,\"#f0f921\"]],\"type\":\"histogram2d\"}],\"histogram2dcontour\":[{\"colorbar\":{\"outlinewidth\":0,\"ticks\":\"\"},\"colorscale\":[[0.0,\"#0d0887\"],[0.1111111111111111,\"#46039f\"],[0.2222222222222222,\"#7201a8\"],[0.3333333333333333,\"#9c179e\"],[0.4444444444444444,\"#bd3786\"],[0.5555555555555556,\"#d8576b\"],[0.6666666666666666,\"#ed7953\"],[0.7777777777777778,\"#fb9f3a\"],[0.8888888888888888,\"#fdca26\"],[1.0,\"#f0f921\"]],\"type\":\"histogram2dcontour\"}],\"mesh3d\":[{\"colorbar\":{\"outlinewidth\":0,\"ticks\":\"\"},\"type\":\"mesh3d\"}],\"parcoords\":[{\"line\":{\"colorbar\":{\"outlinewidth\":0,\"ticks\":\"\"}},\"type\":\"parcoords\"}],\"pie\":[{\"automargin\":true,\"type\":\"pie\"}],\"scatter\":[{\"marker\":{\"colorbar\":{\"outlinewidth\":0,\"ticks\":\"\"}},\"type\":\"scatter\"}],\"scatter3d\":[{\"line\":{\"colorbar\":{\"outlinewidth\":0,\"ticks\":\"\"}},\"marker\":{\"colorbar\":{\"outlinewidth\":0,\"ticks\":\"\"}},\"type\":\"scatter3d\"}],\"scattercarpet\":[{\"marker\":{\"colorbar\":{\"outlinewidth\":0,\"ticks\":\"\"}},\"type\":\"scattercarpet\"}],\"scattergeo\":[{\"marker\":{\"colorbar\":{\"outlinewidth\":0,\"ticks\":\"\"}},\"type\":\"scattergeo\"}],\"scattergl\":[{\"marker\":{\"colorbar\":{\"outlinewidth\":0,\"ticks\":\"\"}},\"type\":\"scattergl\"}],\"scattermapbox\":[{\"marker\":{\"colorbar\":{\"outlinewidth\":0,\"ticks\":\"\"}},\"type\":\"scattermapbox\"}],\"scatterpolar\":[{\"marker\":{\"colorbar\":{\"outlinewidth\":0,\"ticks\":\"\"}},\"type\":\"scatterpolar\"}],\"scatterpolargl\":[{\"marker\":{\"colorbar\":{\"outlinewidth\":0,\"ticks\":\"\"}},\"type\":\"scatterpolargl\"}],\"scatterternary\":[{\"marker\":{\"colorbar\":{\"outlinewidth\":0,\"ticks\":\"\"}},\"type\":\"scatterternary\"}],\"surface\":[{\"colorbar\":{\"outlinewidth\":0,\"ticks\":\"\"},\"colorscale\":[[0.0,\"#0d0887\"],[0.1111111111111111,\"#46039f\"],[0.2222222222222222,\"#7201a8\"],[0.3333333333333333,\"#9c179e\"],[0.4444444444444444,\"#bd3786\"],[0.5555555555555556,\"#d8576b\"],[0.6666666666666666,\"#ed7953\"],[0.7777777777777778,\"#fb9f3a\"],[0.8888888888888888,\"#fdca26\"],[1.0,\"#f0f921\"]],\"type\":\"surface\"}],\"table\":[{\"cells\":{\"fill\":{\"color\":\"#EBF0F8\"},\"line\":{\"color\":\"white\"}},\"header\":{\"fill\":{\"color\":\"#C8D4E3\"},\"line\":{\"color\":\"white\"}},\"type\":\"table\"}]},\"layout\":{\"annotationdefaults\":{\"arrowcolor\":\"#2a3f5f\",\"arrowhead\":0,\"arrowwidth\":1},\"autotypenumbers\":\"strict\",\"coloraxis\":{\"colorbar\":{\"outlinewidth\":0,\"ticks\":\"\"}},\"colorscale\":{\"diverging\":[[0,\"#8e0152\"],[0.1,\"#c51b7d\"],[0.2,\"#de77ae\"],[0.3,\"#f1b6da\"],[0.4,\"#fde0ef\"],[0.5,\"#f7f7f7\"],[0.6,\"#e6f5d0\"],[0.7,\"#b8e186\"],[0.8,\"#7fbc41\"],[0.9,\"#4d9221\"],[1,\"#276419\"]],\"sequential\":[[0.0,\"#0d0887\"],[0.1111111111111111,\"#46039f\"],[0.2222222222222222,\"#7201a8\"],[0.3333333333333333,\"#9c179e\"],[0.4444444444444444,\"#bd3786\"],[0.5555555555555556,\"#d8576b\"],[0.6666666666666666,\"#ed7953\"],[0.7777777777777778,\"#fb9f3a\"],[0.8888888888888888,\"#fdca26\"],[1.0,\"#f0f921\"]],\"sequentialminus\":[[0.0,\"#0d0887\"],[0.1111111111111111,\"#46039f\"],[0.2222222222222222,\"#7201a8\"],[0.3333333333333333,\"#9c179e\"],[0.4444444444444444,\"#bd3786\"],[0.5555555555555556,\"#d8576b\"],[0.6666666666666666,\"#ed7953\"],[0.7777777777777778,\"#fb9f3a\"],[0.8888888888888888,\"#fdca26\"],[1.0,\"#f0f921\"]]},\"colorway\":[\"#636efa\",\"#EF553B\",\"#00cc96\",\"#ab63fa\",\"#FFA15A\",\"#19d3f3\",\"#FF6692\",\"#B6E880\",\"#FF97FF\",\"#FECB52\"],\"font\":{\"color\":\"#2a3f5f\"},\"geo\":{\"bgcolor\":\"white\",\"lakecolor\":\"white\",\"landcolor\":\"#E5ECF6\",\"showlakes\":true,\"showland\":true,\"subunitcolor\":\"white\"},\"hoverlabel\":{\"align\":\"left\"},\"hovermode\":\"closest\",\"mapbox\":{\"style\":\"light\"},\"paper_bgcolor\":\"white\",\"plot_bgcolor\":\"#E5ECF6\",\"polar\":{\"angularaxis\":{\"gridcolor\":\"white\",\"linecolor\":\"white\",\"ticks\":\"\"},\"bgcolor\":\"#E5ECF6\",\"radialaxis\":{\"gridcolor\":\"white\",\"linecolor\":\"white\",\"ticks\":\"\"}},\"scene\":{\"xaxis\":{\"backgroundcolor\":\"#E5ECF6\",\"gridcolor\":\"white\",\"gridwidth\":2,\"linecolor\":\"white\",\"showbackground\":true,\"ticks\":\"\",\"zerolinecolor\":\"white\"},\"yaxis\":{\"backgroundcolor\":\"#E5ECF6\",\"gridcolor\":\"white\",\"gridwidth\":2,\"linecolor\":\"white\",\"showbackground\":true,\"ticks\":\"\",\"zerolinecolor\":\"white\"},\"zaxis\":{\"backgroundcolor\":\"#E5ECF6\",\"gridcolor\":\"white\",\"gridwidth\":2,\"linecolor\":\"white\",\"showbackground\":true,\"ticks\":\"\",\"zerolinecolor\":\"white\"}},\"shapedefaults\":{\"line\":{\"color\":\"#2a3f5f\"}},\"ternary\":{\"aaxis\":{\"gridcolor\":\"white\",\"linecolor\":\"white\",\"ticks\":\"\"},\"baxis\":{\"gridcolor\":\"white\",\"linecolor\":\"white\",\"ticks\":\"\"},\"bgcolor\":\"#E5ECF6\",\"caxis\":{\"gridcolor\":\"white\",\"linecolor\":\"white\",\"ticks\":\"\"}},\"title\":{\"x\":0.05},\"xaxis\":{\"automargin\":true,\"gridcolor\":\"white\",\"linecolor\":\"white\",\"ticks\":\"\",\"title\":{\"standoff\":15},\"zerolinecolor\":\"white\",\"zerolinewidth\":2},\"yaxis\":{\"automargin\":true,\"gridcolor\":\"white\",\"linecolor\":\"white\",\"ticks\":\"\",\"title\":{\"standoff\":15},\"zerolinecolor\":\"white\",\"zerolinewidth\":2}}},\"xaxis\":{\"domain\":[0,1],\"rangemode\":\"tozero\",\"mirror\":false,\"showgrid\":false,\"showline\":false,\"zeroline\":false,\"showticklabels\":true,\"ticks\":\"\"},\"yaxis\":{\"domain\":[0,1],\"rangemode\":\"tozero\",\"mirror\":false,\"showgrid\":false,\"showline\":false,\"zeroline\":false,\"showticklabels\":true,\"ticks\":\"\"},\"width\":800,\"height\":800,\"showlegend\":false,\"hovermode\":\"closest\",\"paper_bgcolor\":\"rgba(0,0,0,0)\",\"plot_bgcolor\":\"rgba(0,0,0,0)\"},                        {\"responsive\": true}                    ).then(function(){\n",
       "                            \n",
       "var gd = document.getElementById('59fd6caa-272b-4932-9259-952fc920e78a');\n",
       "var x = new MutationObserver(function (mutations, observer) {{\n",
       "        var display = window.getComputedStyle(gd).display;\n",
       "        if (!display || display === 'none') {{\n",
       "            console.log([gd, 'removed!']);\n",
       "            Plotly.purge(gd);\n",
       "            observer.disconnect();\n",
       "        }}\n",
       "}});\n",
       "\n",
       "// Listen for the removal of the full notebook cells\n",
       "var notebookContainer = gd.closest('#notebook-container');\n",
       "if (notebookContainer) {{\n",
       "    x.observe(notebookContainer, {childList: true});\n",
       "}}\n",
       "\n",
       "// Listen for the clearing of the current output cell\n",
       "var outputEl = gd.closest('.output');\n",
       "if (outputEl) {{\n",
       "    x.observe(outputEl, {childList: true});\n",
       "}}\n",
       "\n",
       "                        })                };                });            </script>        </div>"
      ]
     },
     "metadata": {},
     "output_type": "display_data"
    }
   ],
   "source": [
    "model = DendrogramCut(k_max=10, method='average').fit(dist)\n",
    "k = model.pac_bayesian_cut(lambda_=0.2)\n",
    "print(k)\n",
    "model.dendrogram_plot(k=k)\n",
    "\n",
    "from IPython.display import Image"
   ]
  }
 ],
 "metadata": {
  "kernelspec": {
   "display_name": "Python 3 (ipykernel)",
   "language": "python",
   "name": "python3"
  },
  "language_info": {
   "codemirror_mode": {
    "name": "ipython",
    "version": 3
   },
   "file_extension": ".py",
   "mimetype": "text/x-python",
   "name": "python",
   "nbconvert_exporter": "python",
   "pygments_lexer": "ipython3",
   "version": "3.7.0"
  }
 },
 "nbformat": 4,
 "nbformat_minor": 5
}

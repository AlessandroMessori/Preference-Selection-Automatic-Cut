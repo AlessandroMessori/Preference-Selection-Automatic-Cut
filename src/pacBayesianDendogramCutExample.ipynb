{
 "cells": [
  {
   "cell_type": "markdown",
   "id": "fd1f62bf",
   "metadata": {},
   "source": [
    "## Import libraries"
   ]
  },
  {
   "cell_type": "code",
   "execution_count": 9,
   "id": "5a4ccaf7",
   "metadata": {},
   "outputs": [
    {
     "data": {
      "text/html": [
       "<style>.container { width:90% !important; }</style>"
      ],
      "text/plain": [
       "<IPython.core.display.HTML object>"
      ]
     },
     "metadata": {},
     "output_type": "display_data"
    }
   ],
   "source": [
    "import numpy as np\n",
    "import pandas as pd\n",
    "import sklearn\n",
    "import sklearn.datasets\n",
    "import scipy\n",
    "from scipy.spatial.distance import pdist, squareform\n",
    "from pacBayesianDendogramCut import DendrogramCut\n",
    "from IPython.core.display import display, HTML\n",
    "import matplotlib.pyplot as plt\n",
    "display(HTML(\"<style>.container { width:90% !important; }</style>\"))"
   ]
  },
  {
   "cell_type": "code",
   "execution_count": 10,
   "id": "d183a69e",
   "metadata": {},
   "outputs": [],
   "source": [
    "temp = scipy.io.loadmat('../../multilink/data/ticktoe.mat')\n",
    "X = temp[\"X\"].tolist()                                 # X = temp.X;\n",
    "G = temp[\"G\"]    "
   ]
  },
  {
   "cell_type": "code",
   "execution_count": 11,
   "id": "37edca6c",
   "metadata": {},
   "outputs": [],
   "source": [
    "X = zip(X[0],X[1])\n",
    "X = list(X)\n",
    "X = list(map( lambda x: [x[0], x[1]]  ,X))\n",
    "X = np.asarray(X)"
   ]
  },
  {
   "cell_type": "markdown",
   "id": "0299aa0d",
   "metadata": {},
   "source": [
    "## Generate dataset for clustering"
   ]
  },
  {
   "cell_type": "code",
   "execution_count": 12,
   "id": "2a9b465d",
   "metadata": {},
   "outputs": [],
   "source": [
    "centers = np.asarray([[-6.8, -7.3], [5, 2.5], [5, -2.5]])\n",
    "samples = np.asarray([4, 1, 1]) * 50\n",
    "\n",
    "'''X2, Z, C = sklearn.datasets.make_blobs(\n",
    "    samples,\n",
    "    cluster_std=[2, 1, 1],\n",
    "    centers=centers,\n",
    "    return_centers=True)'''\n",
    "dist = pdist(X)\n",
    "dist = squareform(dist)"
   ]
  },
  {
   "cell_type": "markdown",
   "id": "334309ee",
   "metadata": {},
   "source": [
    "## Plot the generated dataset"
   ]
  },
  {
   "cell_type": "code",
   "execution_count": 13,
   "id": "d1877446",
   "metadata": {},
   "outputs": [
    {
     "name": "stderr",
     "output_type": "stream",
     "text": [
      "C:\\Users\\allem\\AppData\\Local\\Temp/ipykernel_21892/1025274349.py:5: UserWarning:\n",
      "\n",
      "Matplotlib is currently using module://matplotlib_inline.backend_inline, which is a non-GUI backend, so cannot show the figure.\n",
      "\n"
     ]
    },
    {
     "data": {
      "image/png": "[encoded data removed]",
      "text/plain": [
       "<Figure size 720x720 with 1 Axes>"
      ]
     },
     "metadata": {
      "needs_background": "light"
     },
     "output_type": "display_data"
    }
   ],
   "source": [
    "fig = plt.figure(figsize=(10,10))\n",
    "ax = fig.add_subplot(111)\n",
    "ax.scatter(X[:, 0], X[:, 1])\n",
    "#ax.scatter(C[:, 0], C[:, 1])\n",
    "fig.show()"
   ]
  },
  {
   "cell_type": "markdown",
   "id": "a3c382de",
   "metadata": {},
   "source": [
    "## Compute the dynamic cut with the pacBayesian algorithm and plot the results"
   ]
  },
  {
   "cell_type": "code",
   "execution_count": 17,
   "id": "d4a7c499",
   "metadata": {},
   "outputs": [
    {
     "data": {
      "text/html": [
       "<div>\n",
       "<style scoped>\n",
       "    .dataframe tbody tr th:only-of-type {\n",
       "        vertical-align: middle;\n",
       "    }\n",
       "\n",
       "    .dataframe tbody tr th {\n",
       "        vertical-align: top;\n",
       "    }\n",
       "\n",
       "    .dataframe thead th {\n",
       "        text-align: right;\n",
       "    }\n",
       "</style>\n",
       "<table border=\"1\" class=\"dataframe\">\n",
       "  <thead>\n",
       "    <tr style=\"text-align: right;\">\n",
       "      <th></th>\n",
       "      <th>0</th>\n",
       "      <th>1</th>\n",
       "      <th>2</th>\n",
       "    </tr>\n",
       "  </thead>\n",
       "  <tbody>\n",
       "    <tr>\n",
       "      <th>0</th>\n",
       "      <td>121</td>\n",
       "      <td>180</td>\n",
       "      <td>0.000442</td>\n",
       "    </tr>\n",
       "    <tr>\n",
       "      <th>1</th>\n",
       "      <td>113</td>\n",
       "      <td>114</td>\n",
       "      <td>0.011001</td>\n",
       "    </tr>\n",
       "    <tr>\n",
       "      <th>2</th>\n",
       "      <td>42</td>\n",
       "      <td>43</td>\n",
       "      <td>0.015096</td>\n",
       "    </tr>\n",
       "    <tr>\n",
       "      <th>3</th>\n",
       "      <td>119</td>\n",
       "      <td>120</td>\n",
       "      <td>0.022559</td>\n",
       "    </tr>\n",
       "    <tr>\n",
       "      <th>4</th>\n",
       "      <td>8</td>\n",
       "      <td>199</td>\n",
       "      <td>0.034158</td>\n",
       "    </tr>\n",
       "    <tr>\n",
       "      <th>...</th>\n",
       "      <td>...</td>\n",
       "      <td>...</td>\n",
       "      <td>...</td>\n",
       "    </tr>\n",
       "    <tr>\n",
       "      <th>224</th>\n",
       "      <td>453</td>\n",
       "      <td>454</td>\n",
       "      <td>0.906722</td>\n",
       "    </tr>\n",
       "    <tr>\n",
       "      <th>225</th>\n",
       "      <td>451</td>\n",
       "      <td>455</td>\n",
       "      <td>0.908683</td>\n",
       "    </tr>\n",
       "    <tr>\n",
       "      <th>226</th>\n",
       "      <td>439</td>\n",
       "      <td>456</td>\n",
       "      <td>0.918897</td>\n",
       "    </tr>\n",
       "    <tr>\n",
       "      <th>227</th>\n",
       "      <td>423</td>\n",
       "      <td>457</td>\n",
       "      <td>0.947910</td>\n",
       "    </tr>\n",
       "    <tr>\n",
       "      <th>228</th>\n",
       "      <td>437</td>\n",
       "      <td>458</td>\n",
       "      <td>0.954754</td>\n",
       "    </tr>\n",
       "  </tbody>\n",
       "</table>\n",
       "<p>229 rows × 3 columns</p>\n",
       "</div>"
      ],
      "text/plain": [
       "       0    1         2\n",
       "0    121  180  0.000442\n",
       "1    113  114  0.011001\n",
       "2     42   43  0.015096\n",
       "3    119  120  0.022559\n",
       "4      8  199  0.034158\n",
       "..   ...  ...       ...\n",
       "224  453  454  0.906722\n",
       "225  451  455  0.908683\n",
       "226  439  456  0.918897\n",
       "227  423  457  0.947910\n",
       "228  437  458  0.954754\n",
       "\n",
       "[229 rows x 3 columns]"
      ]
     },
     "execution_count": 17,
     "metadata": {},
     "output_type": "execute_result"
    }
   ],
   "source": [
    "linkage2"
   ]
  },
  {
   "cell_type": "code",
   "execution_count": 14,
   "id": "614d5e63",
   "metadata": {},
   "outputs": [
    {
     "name": "stdout",
     "output_type": "stream",
     "text": [
      "1\n"
     ]
    },
    {
     "name": "stderr",
     "output_type": "stream",
     "text": [
      "c:\\Users\\allem\\Desktop\\IACV-Project\\src\\pacBayesianDendogramCut.py:177: RuntimeWarning:\n",
      "\n",
      "invalid value encountered in long_scalars\n",
      "\n"
     ]
    },
    {
     "data": {
      "application/vnd.plotly.v1+json": {
       "config": {
        "plotlyServerURL": "https://plot.ly"
       },
       "data": [
        {
         "hoverinfo": "text",
         "marker": {
          "color": "rgb(0, 0, 0)"
         },
         "mode": "lines",
         "type": "scatter",
         "x": [
          65,
          65,
          66,
          66
         ],
         "xaxis": "x",
         "y": [
          0,
          0,
          0,
          0
         ],
         "yaxis": "y"
        },
        {
         "hoverinfo": "text",
         "marker": {
          "color": "rgb(0, 0, 0)"
         },
         "mode": "lines",
         "type": "scatter",
         "x": [
          160,
          160,
          161,
          161
         ],
         "xaxis": "x",
         "y": [
          0,
          0.01,
          0.01,
          0
         ],
         "yaxis": "y"
        },
        {
         "hoverinfo": "text",
         "marker": {
          "color": "rgb(0, 0, 0)"
         },
         "mode": "lines",
         "type": "scatter",
         "x": [
          140,
          140,
          141,
          141
         ],
         "xaxis": "x",
         "y": [
          0,
          0.02,
          0.02,
          0
         ],
         "yaxis": "y"
        },
        {
         "hoverinfo": "text",
         "marker": {
          "color": "rgb(0, 0, 0)"
         },
         "mode": "lines",
         "type": "scatter",
         "x": [
          170,
          170,
          171,
          171
         ],
         "xaxis": "x",
         "y": [
          0,
          0.02,
          0.02,
          0
         ],
         "yaxis": "y"
        },
        {
         "hoverinfo": "text",
         "marker": {
          "color": "rgb(0, 0, 0)"
         },
         "mode": "lines",
         "type": "scatter",
         "x": [
          94,
          94,
          95,
          95
         ],
         "xaxis": "x",
         "y": [
          0,
          0.03,
          0.03,
          0
         ],
         "yaxis": "y"
        },
        {
         "hoverinfo": "text",
         "marker": {
          "color": "rgb(0, 0, 0)"
         },
         "mode": "lines",
         "type": "scatter",
         "x": [
          103,
          103,
          104,
          104
         ],
         "xaxis": "x",
         "y": [
          0,
          0.04,
          0.04,
          0
         ],
         "yaxis": "y"
        },
        {
         "hoverinfo": "text",
         "marker": {
          "color": "rgb(0, 0, 0)"
         },
         "mode": "lines",
         "type": "scatter",
         "x": [
          143,
          143,
          144,
          144
         ],
         "xaxis": "x",
         "y": [
          0,
          0.07,
          0.07,
          0
         ],
         "yaxis": "y"
        },
        {
         "hoverinfo": "text",
         "marker": {
          "color": "rgb(0, 0, 0)"
         },
         "mode": "lines",
         "type": "scatter",
         "x": [
          130,
          130,
          131,
          131
         ],
         "xaxis": "x",
         "y": [
          0,
          0.09,
          0.09,
          0
         ],
         "yaxis": "y"
        },
        {
         "hoverinfo": "text",
         "marker": {
          "color": "rgb(0, 0, 0)"
         },
         "mode": "lines",
         "type": "scatter",
         "x": [
          123,
          123,
          124,
          124
         ],
         "xaxis": "x",
         "y": [
          0,
          0.09,
          0.09,
          0
         ],
         "yaxis": "y"
        },
        {
         "hoverinfo": "text",
         "marker": {
          "color": "rgb(0, 0, 0)"
         },
         "mode": "lines",
         "type": "scatter",
         "x": [
          112,
          112,
          113,
          113
         ],
         "xaxis": "x",
         "y": [
          0,
          0.09,
          0.09,
          0
         ],
         "yaxis": "y"
        },
        {
         "hoverinfo": "text",
         "marker": {
          "color": "rgb(0, 0, 0)"
         },
         "mode": "lines",
         "type": "scatter",
         "x": [
          198,
          198,
          199,
          199
         ],
         "xaxis": "x",
         "y": [
          0,
          0.1,
          0.1,
          0
         ],
         "yaxis": "y"
        },
        {
         "hoverinfo": "text",
         "marker": {
          "color": "rgb(0, 0, 0)"
         },
         "mode": "lines",
         "type": "scatter",
         "x": [
          202,
          202,
          203,
          203
         ],
         "xaxis": "x",
         "y": [
          0,
          0.12,
          0.12,
          0
         ],
         "yaxis": "y"
        },
        {
         "hoverinfo": "text",
         "marker": {
          "color": "rgb(0, 0, 0)"
         },
         "mode": "lines",
         "type": "scatter",
         "x": [
          192,
          192,
          193,
          193
         ],
         "xaxis": "x",
         "y": [
          0,
          0.16,
          0.16,
          0
         ],
         "yaxis": "y"
        },
        {
         "hoverinfo": "text",
         "marker": {
          "color": "rgb(0, 0, 0)"
         },
         "mode": "lines",
         "type": "scatter",
         "x": [
          105,
          105,
          106,
          106
         ],
         "xaxis": "x",
         "y": [
          0,
          0.17,
          0.17,
          0
         ],
         "yaxis": "y"
        },
        {
         "hoverinfo": "text",
         "marker": {
          "color": "rgb(0, 0, 0)"
         },
         "mode": "lines",
         "type": "scatter",
         "x": [
          142,
          142,
          143.5,
          143.5
         ],
         "xaxis": "x",
         "y": [
          0,
          0.17,
          0.17,
          0.07
         ],
         "yaxis": "y"
        },
        {
         "hoverinfo": "text",
         "marker": {
          "color": "rgb(0, 0, 0)"
         },
         "mode": "lines",
         "type": "scatter",
         "x": [
          166,
          166,
          167,
          167
         ],
         "xaxis": "x",
         "y": [
          0,
          0.18,
          0.18,
          0
         ],
         "yaxis": "y"
        },
        {
         "hoverinfo": "text",
         "marker": {
          "color": "rgb(0, 0, 0)"
         },
         "mode": "lines",
         "type": "scatter",
         "x": [
          129,
          129,
          130.5,
          130.5
         ],
         "xaxis": "x",
         "y": [
          0,
          0.18,
          0.18,
          0.09
         ],
         "yaxis": "y"
        },
        {
         "hoverinfo": "text",
         "marker": {
          "color": "rgb(0, 0, 0)"
         },
         "mode": "lines",
         "type": "scatter",
         "x": [
          133,
          133,
          134,
          134
         ],
         "xaxis": "x",
         "y": [
          0,
          0.19,
          0.19,
          0
         ],
         "yaxis": "y"
        },
        {
         "hoverinfo": "text",
         "marker": {
          "color": "rgb(0, 0, 0)"
         },
         "mode": "lines",
         "type": "scatter",
         "x": [
          103.5,
          103.5,
          105.5,
          105.5
         ],
         "xaxis": "x",
         "y": [
          0.04,
          0.19,
          0.19,
          0.17
         ],
         "yaxis": "y"
        },
        {
         "hoverinfo": "text",
         "marker": {
          "color": "rgb(0, 0, 0)"
         },
         "mode": "lines",
         "type": "scatter",
         "x": [
          148,
          148,
          149,
          149
         ],
         "xaxis": "x",
         "y": [
          0,
          0.2,
          0.2,
          0
         ],
         "yaxis": "y"
        },
        {
         "hoverinfo": "text",
         "marker": {
          "color": "rgb(0, 0, 0)"
         },
         "mode": "lines",
         "type": "scatter",
         "x": [
          201,
          201,
          202.5,
          202.5
         ],
         "xaxis": "x",
         "y": [
          0,
          0.21,
          0.21,
          0.12
         ],
         "yaxis": "y"
        },
        {
         "hoverinfo": "text",
         "marker": {
          "color": "rgb(0, 0, 0)"
         },
         "mode": "lines",
         "type": "scatter",
         "x": [
          115,
          115,
          116,
          116
         ],
         "xaxis": "x",
         "y": [
          0,
          0.21,
          0.21,
          0
         ],
         "yaxis": "y"
        },
        {
         "hoverinfo": "text",
         "marker": {
          "color": "rgb(0, 0, 0)"
         },
         "mode": "lines",
         "type": "scatter",
         "x": [
          206,
          206,
          207,
          207
         ],
         "xaxis": "x",
         "y": [
          0,
          0.22,
          0.22,
          0
         ],
         "yaxis": "y"
        },
        {
         "hoverinfo": "text",
         "marker": {
          "color": "rgb(0, 0, 0)"
         },
         "mode": "lines",
         "type": "scatter",
         "x": [
          147,
          147,
          148.5,
          148.5
         ],
         "xaxis": "x",
         "y": [
          0,
          0.22,
          0.22,
          0.2
         ],
         "yaxis": "y"
        },
        {
         "hoverinfo": "text",
         "marker": {
          "color": "rgb(0, 0, 0)"
         },
         "mode": "lines",
         "type": "scatter",
         "x": [
          165,
          165,
          166.5,
          166.5
         ],
         "xaxis": "x",
         "y": [
          0,
          0.22,
          0.22,
          0.18
         ],
         "yaxis": "y"
        },
        {
         "hoverinfo": "text",
         "marker": {
          "color": "rgb(0, 0, 0)"
         },
         "mode": "lines",
         "type": "scatter",
         "x": [
          107,
          107,
          108,
          108
         ],
         "xaxis": "x",
         "y": [
          0,
          0.22,
          0.22,
          0
         ],
         "yaxis": "y"
        },
        {
         "hoverinfo": "text",
         "marker": {
          "color": "rgb(0, 0, 0)"
         },
         "mode": "lines",
         "type": "scatter",
         "x": [
          104.5,
          104.5,
          107.5,
          107.5
         ],
         "xaxis": "x",
         "y": [
          0.19,
          0.22,
          0.22,
          0.22
         ],
         "yaxis": "y"
        },
        {
         "hoverinfo": "text",
         "marker": {
          "color": "rgb(0, 0, 0)"
         },
         "mode": "lines",
         "type": "scatter",
         "x": [
          31,
          31,
          32,
          32
         ],
         "xaxis": "x",
         "y": [
          0,
          0.23,
          0.23,
          0
         ],
         "yaxis": "y"
        },
        {
         "hoverinfo": "text",
         "marker": {
          "color": "rgb(0, 0, 0)"
         },
         "mode": "lines",
         "type": "scatter",
         "x": [
          146,
          146,
          147.75,
          147.75
         ],
         "xaxis": "x",
         "y": [
          0,
          0.23,
          0.23,
          0.22
         ],
         "yaxis": "y"
        },
        {
         "hoverinfo": "text",
         "marker": {
          "color": "rgb(0, 0, 0)"
         },
         "mode": "lines",
         "type": "scatter",
         "x": [
          109,
          109,
          110,
          110
         ],
         "xaxis": "x",
         "y": [
          0,
          0.23,
          0.23,
          0
         ],
         "yaxis": "y"
        },
        {
         "hoverinfo": "text",
         "marker": {
          "color": "rgb(0, 0, 0)"
         },
         "mode": "lines",
         "type": "scatter",
         "x": [
          72,
          72,
          73,
          73
         ],
         "xaxis": "x",
         "y": [
          0,
          0.23,
          0.23,
          0
         ],
         "yaxis": "y"
        },
        {
         "hoverinfo": "text",
         "marker": {
          "color": "rgb(0, 0, 0)"
         },
         "mode": "lines",
         "type": "scatter",
         "x": [
          145,
          145,
          146.875,
          146.875
         ],
         "xaxis": "x",
         "y": [
          0,
          0.24,
          0.24,
          0.23
         ],
         "yaxis": "y"
        },
        {
         "hoverinfo": "text",
         "marker": {
          "color": "rgb(0, 0, 0)"
         },
         "mode": "lines",
         "type": "scatter",
         "x": [
          159,
          159,
          160.5,
          160.5
         ],
         "xaxis": "x",
         "y": [
          0,
          0.24,
          0.24,
          0.01
         ],
         "yaxis": "y"
        },
        {
         "hoverinfo": "text",
         "marker": {
          "color": "rgb(0, 0, 0)"
         },
         "mode": "lines",
         "type": "scatter",
         "x": [
          117,
          117,
          118,
          118
         ],
         "xaxis": "x",
         "y": [
          0,
          0.24,
          0.24,
          0
         ],
         "yaxis": "y"
        },
        {
         "hoverinfo": "text",
         "marker": {
          "color": "rgb(0, 0, 0)"
         },
         "mode": "lines",
         "type": "scatter",
         "x": [
          197,
          197,
          198.5,
          198.5
         ],
         "xaxis": "x",
         "y": [
          0,
          0.24,
          0.24,
          0.1
         ],
         "yaxis": "y"
        },
        {
         "hoverinfo": "text",
         "marker": {
          "color": "rgb(0, 0, 0)"
         },
         "mode": "lines",
         "type": "scatter",
         "x": [
          176,
          176,
          177,
          177
         ],
         "xaxis": "x",
         "y": [
          0,
          0.24,
          0.24,
          0
         ],
         "yaxis": "y"
        },
        {
         "hoverinfo": "text",
         "marker": {
          "color": "rgb(0, 0, 0)"
         },
         "mode": "lines",
         "type": "scatter",
         "x": [
          151,
          151,
          152,
          152
         ],
         "xaxis": "x",
         "y": [
          0,
          0.24,
          0.24,
          0
         ],
         "yaxis": "y"
        },
        {
         "hoverinfo": "text",
         "marker": {
          "color": "rgb(0, 0, 0)"
         },
         "mode": "lines",
         "type": "scatter",
         "x": [
          205,
          205,
          206.5,
          206.5
         ],
         "xaxis": "x",
         "y": [
          0,
          0.25,
          0.25,
          0.22
         ],
         "yaxis": "y"
        },
        {
         "hoverinfo": "text",
         "marker": {
          "color": "rgb(0, 0, 0)"
         },
         "mode": "lines",
         "type": "scatter",
         "x": [
          150,
          150,
          151.5,
          151.5
         ],
         "xaxis": "x",
         "y": [
          0,
          0.25,
          0.25,
          0.24
         ],
         "yaxis": "y"
        },
        {
         "hoverinfo": "text",
         "marker": {
          "color": "rgb(0, 0, 0)"
         },
         "mode": "lines",
         "type": "scatter",
         "x": [
          145.9375,
          145.9375,
          150.75,
          150.75
         ],
         "xaxis": "x",
         "y": [
          0.24,
          0.26,
          0.26,
          0.25
         ],
         "yaxis": "y"
        },
        {
         "hoverinfo": "text",
         "marker": {
          "color": "rgb(0, 0, 0)"
         },
         "mode": "lines",
         "type": "scatter",
         "x": [
          200,
          200,
          201.75,
          201.75
         ],
         "xaxis": "x",
         "y": [
          0,
          0.26,
          0.26,
          0.21
         ],
         "yaxis": "y"
        },
        {
         "hoverinfo": "text",
         "marker": {
          "color": "rgb(0, 0, 0)"
         },
         "mode": "lines",
         "type": "scatter",
         "x": [
          132,
          132,
          133.5,
          133.5
         ],
         "xaxis": "x",
         "y": [
          0,
          0.26,
          0.26,
          0.19
         ],
         "yaxis": "y"
        },
        {
         "hoverinfo": "text",
         "marker": {
          "color": "rgb(0, 0, 0)"
         },
         "mode": "lines",
         "type": "scatter",
         "x": [
          37,
          37,
          38,
          38
         ],
         "xaxis": "x",
         "y": [
          0,
          0.26,
          0.26,
          0
         ],
         "yaxis": "y"
        },
        {
         "hoverinfo": "text",
         "marker": {
          "color": "rgb(0, 0, 0)"
         },
         "mode": "lines",
         "type": "scatter",
         "x": [
          175,
          175,
          176.5,
          176.5
         ],
         "xaxis": "x",
         "y": [
          0,
          0.26,
          0.26,
          0.24
         ],
         "yaxis": "y"
        },
        {
         "hoverinfo": "text",
         "marker": {
          "color": "rgb(0, 0, 0)"
         },
         "mode": "lines",
         "type": "scatter",
         "x": [
          164,
          164,
          165.75,
          165.75
         ],
         "xaxis": "x",
         "y": [
          0,
          0.27,
          0.27,
          0.22
         ],
         "yaxis": "y"
        },
        {
         "hoverinfo": "text",
         "marker": {
          "color": "rgb(0, 0, 0)"
         },
         "mode": "lines",
         "type": "scatter",
         "x": [
          138,
          138,
          139,
          139
         ],
         "xaxis": "x",
         "y": [
          0,
          0.27,
          0.27,
          0
         ],
         "yaxis": "y"
        },
        {
         "hoverinfo": "text",
         "marker": {
          "color": "rgb(0, 0, 0)"
         },
         "mode": "lines",
         "type": "scatter",
         "x": [
          204,
          204,
          205.75,
          205.75
         ],
         "xaxis": "x",
         "y": [
          0,
          0.27,
          0.27,
          0.25
         ],
         "yaxis": "y"
        },
        {
         "hoverinfo": "text",
         "marker": {
          "color": "rgb(0, 0, 0)"
         },
         "mode": "lines",
         "type": "scatter",
         "x": [
          106,
          106,
          109.5,
          109.5
         ],
         "xaxis": "x",
         "y": [
          0.22,
          0.28,
          0.28,
          0.23
         ],
         "yaxis": "y"
        },
        {
         "hoverinfo": "text",
         "marker": {
          "color": "rgb(0, 0, 0)"
         },
         "mode": "lines",
         "type": "scatter",
         "x": [
          93,
          93,
          94.5,
          94.5
         ],
         "xaxis": "x",
         "y": [
          0,
          0.28,
          0.28,
          0.03
         ],
         "yaxis": "y"
        },
        {
         "hoverinfo": "text",
         "marker": {
          "color": "rgb(0, 0, 0)"
         },
         "mode": "lines",
         "type": "scatter",
         "x": [
          137,
          137,
          138.5,
          138.5
         ],
         "xaxis": "x",
         "y": [
          0,
          0.28,
          0.28,
          0.27
         ],
         "yaxis": "y"
        },
        {
         "hoverinfo": "text",
         "marker": {
          "color": "rgb(0, 0, 0)"
         },
         "mode": "lines",
         "type": "scatter",
         "x": [
          99,
          99,
          100,
          100
         ],
         "xaxis": "x",
         "y": [
          0,
          0.28,
          0.28,
          0
         ],
         "yaxis": "y"
        },
        {
         "hoverinfo": "text",
         "marker": {
          "color": "rgb(0, 0, 0)"
         },
         "mode": "lines",
         "type": "scatter",
         "x": [
          69,
          69,
          70,
          70
         ],
         "xaxis": "x",
         "y": [
          0,
          0.29,
          0.29,
          0
         ],
         "yaxis": "y"
        },
        {
         "hoverinfo": "text",
         "marker": {
          "color": "rgb(0, 0, 0)"
         },
         "mode": "lines",
         "type": "scatter",
         "x": [
          200.875,
          200.875,
          204.875,
          204.875
         ],
         "xaxis": "x",
         "y": [
          0.26,
          0.29,
          0.29,
          0.27
         ],
         "yaxis": "y"
        },
        {
         "hoverinfo": "text",
         "marker": {
          "color": "rgb(0, 0, 0)"
         },
         "mode": "lines",
         "type": "scatter",
         "x": [
          136,
          136,
          137.75,
          137.75
         ],
         "xaxis": "x",
         "y": [
          0,
          0.29,
          0.29,
          0.28
         ],
         "yaxis": "y"
        },
        {
         "hoverinfo": "text",
         "marker": {
          "color": "rgb(0, 0, 0)"
         },
         "mode": "lines",
         "type": "scatter",
         "x": [
          111,
          111,
          112.5,
          112.5
         ],
         "xaxis": "x",
         "y": [
          0,
          0.29,
          0.29,
          0.09
         ],
         "yaxis": "y"
        },
        {
         "hoverinfo": "text",
         "marker": {
          "color": "rgb(0, 0, 0)"
         },
         "mode": "lines",
         "type": "scatter",
         "x": [
          142.75,
          142.75,
          148.34375,
          148.34375
         ],
         "xaxis": "x",
         "y": [
          0.17,
          0.29,
          0.29,
          0.26
         ],
         "yaxis": "y"
        },
        {
         "hoverinfo": "text",
         "marker": {
          "color": "rgb(0, 0, 0)"
         },
         "mode": "lines",
         "type": "scatter",
         "x": [
          163,
          163,
          164.875,
          164.875
         ],
         "xaxis": "x",
         "y": [
          0,
          0.29,
          0.29,
          0.27
         ],
         "yaxis": "y"
        },
        {
         "hoverinfo": "text",
         "marker": {
          "color": "rgb(0, 0, 0)"
         },
         "mode": "lines",
         "type": "scatter",
         "x": [
          107.75,
          107.75,
          111.75,
          111.75
         ],
         "xaxis": "x",
         "y": [
          0.28,
          0.29,
          0.29,
          0.29
         ],
         "yaxis": "y"
        },
        {
         "hoverinfo": "text",
         "marker": {
          "color": "rgb(0, 0, 0)"
         },
         "mode": "lines",
         "type": "scatter",
         "x": [
          140.5,
          140.5,
          145.546875,
          145.546875
         ],
         "xaxis": "x",
         "y": [
          0.02,
          0.3,
          0.3,
          0.29
         ],
         "yaxis": "y"
        },
        {
         "hoverinfo": "text",
         "marker": {
          "color": "rgb(0, 0, 0)"
         },
         "mode": "lines",
         "type": "scatter",
         "x": [
          172,
          172,
          173,
          173
         ],
         "xaxis": "x",
         "y": [
          0,
          0.31,
          0.31,
          0
         ],
         "yaxis": "y"
        },
        {
         "hoverinfo": "text",
         "marker": {
          "color": "rgb(0, 0, 0)"
         },
         "mode": "lines",
         "type": "scatter",
         "x": [
          115.5,
          115.5,
          117.5,
          117.5
         ],
         "xaxis": "x",
         "y": [
          0.21,
          0.31,
          0.31,
          0.24
         ],
         "yaxis": "y"
        },
        {
         "hoverinfo": "text",
         "marker": {
          "color": "rgb(0, 0, 0)"
         },
         "mode": "lines",
         "type": "scatter",
         "x": [
          68,
          68,
          69.5,
          69.5
         ],
         "xaxis": "x",
         "y": [
          0,
          0.32,
          0.32,
          0.29
         ],
         "yaxis": "y"
        },
        {
         "hoverinfo": "text",
         "marker": {
          "color": "rgb(0, 0, 0)"
         },
         "mode": "lines",
         "type": "scatter",
         "x": [
          183,
          183,
          184,
          184
         ],
         "xaxis": "x",
         "y": [
          0,
          0.32,
          0.32,
          0
         ],
         "yaxis": "y"
        },
        {
         "hoverinfo": "text",
         "marker": {
          "color": "rgb(0, 0, 0)"
         },
         "mode": "lines",
         "type": "scatter",
         "x": [
          56,
          56,
          57,
          57
         ],
         "xaxis": "x",
         "y": [
          0,
          0.32,
          0.32,
          0
         ],
         "yaxis": "y"
        },
        {
         "hoverinfo": "text",
         "marker": {
          "color": "rgb(0, 0, 0)"
         },
         "mode": "lines",
         "type": "scatter",
         "x": [
          42,
          42,
          43,
          43
         ],
         "xaxis": "x",
         "y": [
          0,
          0.32,
          0.32,
          0
         ],
         "yaxis": "y"
        },
        {
         "hoverinfo": "text",
         "marker": {
          "color": "rgb(0, 0, 0)"
         },
         "mode": "lines",
         "type": "scatter",
         "x": [
          157,
          157,
          158,
          158
         ],
         "xaxis": "x",
         "y": [
          0,
          0.33,
          0.33,
          0
         ],
         "yaxis": "y"
        },
        {
         "hoverinfo": "text",
         "marker": {
          "color": "rgb(0, 0, 0)"
         },
         "mode": "lines",
         "type": "scatter",
         "x": [
          162,
          162,
          163.9375,
          163.9375
         ],
         "xaxis": "x",
         "y": [
          0,
          0.33,
          0.33,
          0.29
         ],
         "yaxis": "y"
        },
        {
         "hoverinfo": "text",
         "marker": {
          "color": "rgb(0, 0, 0)"
         },
         "mode": "lines",
         "type": "scatter",
         "x": [
          122,
          122,
          123.5,
          123.5
         ],
         "xaxis": "x",
         "y": [
          0,
          0.33,
          0.33,
          0.09
         ],
         "yaxis": "y"
        },
        {
         "hoverinfo": "text",
         "marker": {
          "color": "rgb(0, 0, 0)"
         },
         "mode": "lines",
         "type": "scatter",
         "x": [
          191,
          191,
          192.5,
          192.5
         ],
         "xaxis": "x",
         "y": [
          0,
          0.33,
          0.33,
          0.16
         ],
         "yaxis": "y"
        },
        {
         "hoverinfo": "text",
         "marker": {
          "color": "rgb(0, 0, 0)"
         },
         "mode": "lines",
         "type": "scatter",
         "x": [
          159.75,
          159.75,
          162.96875,
          162.96875
         ],
         "xaxis": "x",
         "y": [
          0.24,
          0.34,
          0.34,
          0.33
         ],
         "yaxis": "y"
        },
        {
         "hoverinfo": "text",
         "marker": {
          "color": "rgb(0, 0, 0)"
         },
         "mode": "lines",
         "type": "scatter",
         "x": [
          121,
          121,
          122.75,
          122.75
         ],
         "xaxis": "x",
         "y": [
          0,
          0.34,
          0.34,
          0.33
         ],
         "yaxis": "y"
        },
        {
         "hoverinfo": "text",
         "marker": {
          "color": "rgb(0, 0, 0)"
         },
         "mode": "lines",
         "type": "scatter",
         "x": [
          195,
          195,
          196,
          196
         ],
         "xaxis": "x",
         "y": [
          0,
          0.34,
          0.34,
          0
         ],
         "yaxis": "y"
        },
        {
         "hoverinfo": "text",
         "marker": {
          "color": "rgb(0, 0, 0)"
         },
         "mode": "lines",
         "type": "scatter",
         "x": [
          120,
          120,
          121.875,
          121.875
         ],
         "xaxis": "x",
         "y": [
          0,
          0.34,
          0.34,
          0.34
         ],
         "yaxis": "y"
        },
        {
         "hoverinfo": "text",
         "marker": {
          "color": "rgb(0, 0, 0)"
         },
         "mode": "lines",
         "type": "scatter",
         "x": [
          114,
          114,
          116.5,
          116.5
         ],
         "xaxis": "x",
         "y": [
          0,
          0.34,
          0.34,
          0.31
         ],
         "yaxis": "y"
        },
        {
         "hoverinfo": "text",
         "marker": {
          "color": "rgb(0, 0, 0)"
         },
         "mode": "lines",
         "type": "scatter",
         "x": [
          67,
          67,
          68.75,
          68.75
         ],
         "xaxis": "x",
         "y": [
          0,
          0.34,
          0.34,
          0.32
         ],
         "yaxis": "y"
        },
        {
         "hoverinfo": "text",
         "marker": {
          "color": "rgb(0, 0, 0)"
         },
         "mode": "lines",
         "type": "scatter",
         "x": [
          128,
          128,
          129.75,
          129.75
         ],
         "xaxis": "x",
         "y": [
          0,
          0.35,
          0.35,
          0.18
         ],
         "yaxis": "y"
        },
        {
         "hoverinfo": "text",
         "marker": {
          "color": "rgb(0, 0, 0)"
         },
         "mode": "lines",
         "type": "scatter",
         "x": [
          34,
          34,
          35,
          35
         ],
         "xaxis": "x",
         "y": [
          0,
          0.35,
          0.35,
          0
         ],
         "yaxis": "y"
        },
        {
         "hoverinfo": "text",
         "marker": {
          "color": "rgb(0, 0, 0)"
         },
         "mode": "lines",
         "type": "scatter",
         "x": [
          157.5,
          157.5,
          161.359375,
          161.359375
         ],
         "xaxis": "x",
         "y": [
          0.33,
          0.36,
          0.36,
          0.34
         ],
         "yaxis": "y"
        },
        {
         "hoverinfo": "text",
         "marker": {
          "color": "rgb(0, 0, 0)"
         },
         "mode": "lines",
         "type": "scatter",
         "x": [
          194,
          194,
          195.5,
          195.5
         ],
         "xaxis": "x",
         "y": [
          0,
          0.37,
          0.37,
          0.34
         ],
         "yaxis": "y"
        },
        {
         "hoverinfo": "text",
         "marker": {
          "color": "rgb(0, 0, 0)"
         },
         "mode": "lines",
         "type": "scatter",
         "x": [
          109.75,
          109.75,
          115.25,
          115.25
         ],
         "xaxis": "x",
         "y": [
          0.29,
          0.37,
          0.37,
          0.34
         ],
         "yaxis": "y"
        },
        {
         "hoverinfo": "text",
         "marker": {
          "color": "rgb(0, 0, 0)"
         },
         "mode": "lines",
         "type": "scatter",
         "x": [
          187,
          187,
          188,
          188
         ],
         "xaxis": "x",
         "y": [
          0,
          0.38,
          0.38,
          0
         ],
         "yaxis": "y"
        },
        {
         "hoverinfo": "text",
         "marker": {
          "color": "rgb(0, 0, 0)"
         },
         "mode": "lines",
         "type": "scatter",
         "x": [
          191.75,
          191.75,
          194.75,
          194.75
         ],
         "xaxis": "x",
         "y": [
          0.33,
          0.38,
          0.38,
          0.37
         ],
         "yaxis": "y"
        },
        {
         "hoverinfo": "text",
         "marker": {
          "color": "rgb(0, 0, 0)"
         },
         "mode": "lines",
         "type": "scatter",
         "x": [
          52,
          52,
          53,
          53
         ],
         "xaxis": "x",
         "y": [
          0,
          0.39,
          0.39,
          0
         ],
         "yaxis": "y"
        },
        {
         "hoverinfo": "text",
         "marker": {
          "color": "rgb(0, 0, 0)"
         },
         "mode": "lines",
         "type": "scatter",
         "x": [
          119,
          119,
          120.9375,
          120.9375
         ],
         "xaxis": "x",
         "y": [
          0,
          0.39,
          0.39,
          0.34
         ],
         "yaxis": "y"
        },
        {
         "hoverinfo": "text",
         "marker": {
          "color": "rgb(0, 0, 0)"
         },
         "mode": "lines",
         "type": "scatter",
         "x": [
          136.875,
          136.875,
          143.0234375,
          143.0234375
         ],
         "xaxis": "x",
         "y": [
          0.29,
          0.4,
          0.4,
          0.3
         ],
         "yaxis": "y"
        },
        {
         "hoverinfo": "text",
         "marker": {
          "color": "rgb(0, 0, 0)"
         },
         "mode": "lines",
         "type": "scatter",
         "x": [
          135,
          135,
          139.94921875,
          139.94921875
         ],
         "xaxis": "x",
         "y": [
          0,
          0.4,
          0.4,
          0.4
         ],
         "yaxis": "y"
        },
        {
         "hoverinfo": "text",
         "marker": {
          "color": "rgb(0, 0, 0)"
         },
         "mode": "lines",
         "type": "scatter",
         "x": [
          45,
          45,
          46,
          46
         ],
         "xaxis": "x",
         "y": [
          0,
          0.4,
          0.4,
          0
         ],
         "yaxis": "y"
        },
        {
         "hoverinfo": "text",
         "marker": {
          "color": "rgb(0, 0, 0)"
         },
         "mode": "lines",
         "type": "scatter",
         "x": [
          156,
          156,
          159.4296875,
          159.4296875
         ],
         "xaxis": "x",
         "y": [
          0,
          0.41,
          0.41,
          0.36
         ],
         "yaxis": "y"
        },
        {
         "hoverinfo": "text",
         "marker": {
          "color": "rgb(0, 0, 0)"
         },
         "mode": "lines",
         "type": "scatter",
         "x": [
          98,
          98,
          99.5,
          99.5
         ],
         "xaxis": "x",
         "y": [
          0,
          0.41,
          0.41,
          0.28
         ],
         "yaxis": "y"
        },
        {
         "hoverinfo": "text",
         "marker": {
          "color": "rgb(0, 0, 0)"
         },
         "mode": "lines",
         "type": "scatter",
         "x": [
          44,
          44,
          45.5,
          45.5
         ],
         "xaxis": "x",
         "y": [
          0,
          0.42,
          0.42,
          0.4
         ],
         "yaxis": "y"
        },
        {
         "hoverinfo": "text",
         "marker": {
          "color": "rgb(0, 0, 0)"
         },
         "mode": "lines",
         "type": "scatter",
         "x": [
          112.5,
          112.5,
          119.96875,
          119.96875
         ],
         "xaxis": "x",
         "y": [
          0.37,
          0.42,
          0.42,
          0.39
         ],
         "yaxis": "y"
        },
        {
         "hoverinfo": "text",
         "marker": {
          "color": "rgb(0, 0, 0)"
         },
         "mode": "lines",
         "type": "scatter",
         "x": [
          74,
          74,
          75,
          75
         ],
         "xaxis": "x",
         "y": [
          0,
          0.42,
          0.42,
          0
         ],
         "yaxis": "y"
        },
        {
         "hoverinfo": "text",
         "marker": {
          "color": "rgb(0, 0, 0)"
         },
         "mode": "lines",
         "type": "scatter",
         "x": [
          33,
          33,
          34.5,
          34.5
         ],
         "xaxis": "x",
         "y": [
          0,
          0.43,
          0.43,
          0.35
         ],
         "yaxis": "y"
        },
        {
         "hoverinfo": "text",
         "marker": {
          "color": "rgb(0, 0, 0)"
         },
         "mode": "lines",
         "type": "scatter",
         "x": [
          132.75,
          132.75,
          137.474609375,
          137.474609375
         ],
         "xaxis": "x",
         "y": [
          0.26,
          0.43,
          0.43,
          0.4
         ],
         "yaxis": "y"
        },
        {
         "hoverinfo": "text",
         "marker": {
          "color": "rgb(0, 0, 0)"
         },
         "mode": "lines",
         "type": "scatter",
         "x": [
          19,
          19,
          20,
          20
         ],
         "xaxis": "x",
         "y": [
          0,
          0.44,
          0.44,
          0
         ],
         "yaxis": "y"
        },
        {
         "hoverinfo": "text",
         "marker": {
          "color": "rgb(0, 0, 0)"
         },
         "mode": "lines",
         "type": "scatter",
         "x": [
          72.5,
          72.5,
          74.5,
          74.5
         ],
         "xaxis": "x",
         "y": [
          0.23,
          0.45,
          0.45,
          0.42
         ],
         "yaxis": "y"
        },
        {
         "hoverinfo": "text",
         "marker": {
          "color": "rgb(0, 0, 0)"
         },
         "mode": "lines",
         "type": "scatter",
         "x": [
          168,
          168,
          169,
          169
         ],
         "xaxis": "x",
         "y": [
          0,
          0.45,
          0.45,
          0
         ],
         "yaxis": "y"
        },
        {
         "hoverinfo": "text",
         "marker": {
          "color": "rgb(0, 0, 0)"
         },
         "mode": "lines",
         "type": "scatter",
         "x": [
          51,
          51,
          52.5,
          52.5
         ],
         "xaxis": "x",
         "y": [
          0,
          0.45,
          0.45,
          0.39
         ],
         "yaxis": "y"
        },
        {
         "hoverinfo": "text",
         "marker": {
          "color": "rgb(0, 0, 0)"
         },
         "mode": "lines",
         "type": "scatter",
         "x": [
          157.71484375,
          157.71484375,
          168.5,
          168.5
         ],
         "xaxis": "x",
         "y": [
          0.41,
          0.46,
          0.46,
          0.45
         ],
         "yaxis": "y"
        },
        {
         "hoverinfo": "text",
         "marker": {
          "color": "rgb(0, 0, 0)"
         },
         "mode": "lines",
         "type": "scatter",
         "x": [
          128.875,
          128.875,
          135.1123046875,
          135.1123046875
         ],
         "xaxis": "x",
         "y": [
          0.35,
          0.46,
          0.46,
          0.43
         ],
         "yaxis": "y"
        },
        {
         "hoverinfo": "text",
         "marker": {
          "color": "rgb(0, 0, 0)"
         },
         "mode": "lines",
         "type": "scatter",
         "x": [
          186,
          186,
          187.5,
          187.5
         ],
         "xaxis": "x",
         "y": [
          0,
          0.47,
          0.47,
          0.38
         ],
         "yaxis": "y"
        },
        {
         "hoverinfo": "text",
         "marker": {
          "color": "rgb(0, 0, 0)"
         },
         "mode": "lines",
         "type": "scatter",
         "x": [
          197.75,
          197.75,
          202.875,
          202.875
         ],
         "xaxis": "x",
         "y": [
          0.24,
          0.47,
          0.47,
          0.29
         ],
         "yaxis": "y"
        },
        {
         "hoverinfo": "text",
         "marker": {
          "color": "rgb(0, 0, 0)"
         },
         "mode": "lines",
         "type": "scatter",
         "x": [
          102,
          102,
          116.234375,
          116.234375
         ],
         "xaxis": "x",
         "y": [
          0,
          0.47,
          0.47,
          0.42
         ],
         "yaxis": "y"
        },
        {
         "hoverinfo": "text",
         "marker": {
          "color": "rgb(0, 0, 0)"
         },
         "mode": "lines",
         "type": "scatter",
         "x": [
          101,
          101,
          109.1171875,
          109.1171875
         ],
         "xaxis": "x",
         "y": [
          0,
          0.47,
          0.47,
          0.47
         ],
         "yaxis": "y"
        },
        {
         "hoverinfo": "text",
         "marker": {
          "color": "rgb(0, 0, 0)"
         },
         "mode": "lines",
         "type": "scatter",
         "x": [
          193.25,
          193.25,
          200.3125,
          200.3125
         ],
         "xaxis": "x",
         "y": [
          0.38,
          0.47,
          0.47,
          0.47
         ],
         "yaxis": "y"
        },
        {
         "hoverinfo": "text",
         "marker": {
          "color": "rgb(0, 0, 0)"
         },
         "mode": "lines",
         "type": "scatter",
         "x": [
          190,
          190,
          196.78125,
          196.78125
         ],
         "xaxis": "x",
         "y": [
          0,
          0.47,
          0.47,
          0.47
         ],
         "yaxis": "y"
        },
        {
         "hoverinfo": "text",
         "marker": {
          "color": "rgb(0, 0, 0)"
         },
         "mode": "lines",
         "type": "scatter",
         "x": [
          71,
          71,
          73.5,
          73.5
         ],
         "xaxis": "x",
         "y": [
          0,
          0.47,
          0.47,
          0.45
         ],
         "yaxis": "y"
        },
        {
         "hoverinfo": "text",
         "marker": {
          "color": "rgb(0, 0, 0)"
         },
         "mode": "lines",
         "type": "scatter",
         "x": [
          26,
          26,
          27,
          27
         ],
         "xaxis": "x",
         "y": [
          0,
          0.47,
          0.47,
          0
         ],
         "yaxis": "y"
        },
        {
         "hoverinfo": "text",
         "marker": {
          "color": "rgb(0, 0, 0)"
         },
         "mode": "lines",
         "type": "scatter",
         "x": [
          67.875,
          67.875,
          72.25,
          72.25
         ],
         "xaxis": "x",
         "y": [
          0.34,
          0.48,
          0.48,
          0.47
         ],
         "yaxis": "y"
        },
        {
         "hoverinfo": "text",
         "marker": {
          "color": "rgb(0, 0, 0)"
         },
         "mode": "lines",
         "type": "scatter",
         "x": [
          42.5,
          42.5,
          44.75,
          44.75
         ],
         "xaxis": "x",
         "y": [
          0.32,
          0.49,
          0.49,
          0.42
         ],
         "yaxis": "y"
        },
        {
         "hoverinfo": "text",
         "marker": {
          "color": "rgb(0, 0, 0)"
         },
         "mode": "lines",
         "type": "scatter",
         "x": [
          180,
          180,
          181,
          181
         ],
         "xaxis": "x",
         "y": [
          0,
          0.49,
          0.49,
          0
         ],
         "yaxis": "y"
        },
        {
         "hoverinfo": "text",
         "marker": {
          "color": "rgb(0, 0, 0)"
         },
         "mode": "lines",
         "type": "scatter",
         "x": [
          98.75,
          98.75,
          105.05859375,
          105.05859375
         ],
         "xaxis": "x",
         "y": [
          0.41,
          0.49,
          0.49,
          0.47
         ],
         "yaxis": "y"
        },
        {
         "hoverinfo": "text",
         "marker": {
          "color": "rgb(0, 0, 0)"
         },
         "mode": "lines",
         "type": "scatter",
         "x": [
          92,
          92,
          93.75,
          93.75
         ],
         "xaxis": "x",
         "y": [
          0,
          0.5,
          0.5,
          0.28
         ],
         "yaxis": "y"
        },
        {
         "hoverinfo": "text",
         "marker": {
          "color": "rgb(0, 0, 0)"
         },
         "mode": "lines",
         "type": "scatter",
         "x": [
          155,
          155,
          163.107421875,
          163.107421875
         ],
         "xaxis": "x",
         "y": [
          0,
          0.5,
          0.5,
          0.46
         ],
         "yaxis": "y"
        },
        {
         "hoverinfo": "text",
         "marker": {
          "color": "rgb(0, 0, 0)"
         },
         "mode": "lines",
         "type": "scatter",
         "x": [
          127,
          127,
          131.99365234375,
          131.99365234375
         ],
         "xaxis": "x",
         "y": [
          0,
          0.5,
          0.5,
          0.46
         ],
         "yaxis": "y"
        },
        {
         "hoverinfo": "text",
         "marker": {
          "color": "rgb(0, 0, 0)"
         },
         "mode": "lines",
         "type": "scatter",
         "x": [
          126,
          126,
          129.496826171875,
          129.496826171875
         ],
         "xaxis": "x",
         "y": [
          0,
          0.5,
          0.5,
          0.5
         ],
         "yaxis": "y"
        },
        {
         "hoverinfo": "text",
         "marker": {
          "color": "rgb(0, 0, 0)"
         },
         "mode": "lines",
         "type": "scatter",
         "x": [
          62,
          62,
          63,
          63
         ],
         "xaxis": "x",
         "y": [
          0,
          0.51,
          0.51,
          0
         ],
         "yaxis": "y"
        },
        {
         "hoverinfo": "text",
         "marker": {
          "color": "rgb(0, 0, 0)"
         },
         "mode": "lines",
         "type": "scatter",
         "x": [
          125,
          125,
          127.7484130859375,
          127.7484130859375
         ],
         "xaxis": "x",
         "y": [
          0,
          0.51,
          0.51,
          0.5
         ],
         "yaxis": "y"
        },
        {
         "hoverinfo": "text",
         "marker": {
          "color": "rgb(0, 0, 0)"
         },
         "mode": "lines",
         "type": "scatter",
         "x": [
          65.5,
          65.5,
          70.0625,
          70.0625
         ],
         "xaxis": "x",
         "y": [
          0,
          0.51,
          0.51,
          0.48
         ],
         "yaxis": "y"
        },
        {
         "hoverinfo": "text",
         "marker": {
          "color": "rgb(0, 0, 0)"
         },
         "mode": "lines",
         "type": "scatter",
         "x": [
          55,
          55,
          56.5,
          56.5
         ],
         "xaxis": "x",
         "y": [
          0,
          0.51,
          0.51,
          0.32
         ],
         "yaxis": "y"
        },
        {
         "hoverinfo": "text",
         "marker": {
          "color": "rgb(0, 0, 0)"
         },
         "mode": "lines",
         "type": "scatter",
         "x": [
          101.904296875,
          101.904296875,
          126.37420654296875,
          126.37420654296875
         ],
         "xaxis": "x",
         "y": [
          0.49,
          0.51,
          0.51,
          0.51
         ],
         "yaxis": "y"
        },
        {
         "hoverinfo": "text",
         "marker": {
          "color": "rgb(0, 0, 0)"
         },
         "mode": "lines",
         "type": "scatter",
         "x": [
          170.5,
          170.5,
          172.5,
          172.5
         ],
         "xaxis": "x",
         "y": [
          0.02,
          0.51,
          0.51,
          0.31
         ],
         "yaxis": "y"
        },
        {
         "hoverinfo": "text",
         "marker": {
          "color": "rgb(0, 0, 0)"
         },
         "mode": "lines",
         "type": "scatter",
         "x": [
          97,
          97,
          114.13925170898438,
          114.13925170898438
         ],
         "xaxis": "x",
         "y": [
          0,
          0.51,
          0.51,
          0.51
         ],
         "yaxis": "y"
        },
        {
         "hoverinfo": "text",
         "marker": {
          "color": "rgb(0, 0, 0)"
         },
         "mode": "lines",
         "type": "scatter",
         "x": [
          96,
          96,
          105.56962585449219,
          105.56962585449219
         ],
         "xaxis": "x",
         "y": [
          0,
          0.51,
          0.51,
          0.51
         ],
         "yaxis": "y"
        },
        {
         "hoverinfo": "text",
         "marker": {
          "color": "rgb(0, 0, 0)"
         },
         "mode": "lines",
         "type": "scatter",
         "x": [
          92.875,
          92.875,
          100.7848129272461,
          100.7848129272461
         ],
         "xaxis": "x",
         "y": [
          0.5,
          0.51,
          0.51,
          0.51
         ],
         "yaxis": "y"
        },
        {
         "hoverinfo": "text",
         "marker": {
          "color": "rgb(0, 0, 0)"
         },
         "mode": "lines",
         "type": "scatter",
         "x": [
          31.5,
          31.5,
          33.75,
          33.75
         ],
         "xaxis": "x",
         "y": [
          0.23,
          0.51,
          0.51,
          0.43
         ],
         "yaxis": "y"
        },
        {
         "hoverinfo": "text",
         "marker": {
          "color": "rgb(0, 0, 0)"
         },
         "mode": "lines",
         "type": "scatter",
         "x": [
          189,
          189,
          193.390625,
          193.390625
         ],
         "xaxis": "x",
         "y": [
          0,
          0.52,
          0.52,
          0.47
         ],
         "yaxis": "y"
        },
        {
         "hoverinfo": "text",
         "marker": {
          "color": "rgb(0, 0, 0)"
         },
         "mode": "lines",
         "type": "scatter",
         "x": [
          159.0537109375,
          159.0537109375,
          171.5,
          171.5
         ],
         "xaxis": "x",
         "y": [
          0.5,
          0.52,
          0.52,
          0.51
         ],
         "yaxis": "y"
        },
        {
         "hoverinfo": "text",
         "marker": {
          "color": "rgb(0, 0, 0)"
         },
         "mode": "lines",
         "type": "scatter",
         "x": [
          64,
          64,
          67.78125,
          67.78125
         ],
         "xaxis": "x",
         "y": [
          0,
          0.53,
          0.53,
          0.51
         ],
         "yaxis": "y"
        },
        {
         "hoverinfo": "text",
         "marker": {
          "color": "rgb(0, 0, 0)"
         },
         "mode": "lines",
         "type": "scatter",
         "x": [
          179,
          179,
          180.5,
          180.5
         ],
         "xaxis": "x",
         "y": [
          0,
          0.53,
          0.53,
          0.49
         ],
         "yaxis": "y"
        },
        {
         "hoverinfo": "text",
         "marker": {
          "color": "rgb(0, 0, 0)"
         },
         "mode": "lines",
         "type": "scatter",
         "x": [
          36,
          36,
          37.5,
          37.5
         ],
         "xaxis": "x",
         "y": [
          0,
          0.53,
          0.53,
          0.26
         ],
         "yaxis": "y"
        },
        {
         "hoverinfo": "text",
         "marker": {
          "color": "rgb(0, 0, 0)"
         },
         "mode": "lines",
         "type": "scatter",
         "x": [
          216,
          216,
          217,
          217
         ],
         "xaxis": "x",
         "y": [
          0,
          0.53,
          0.53,
          0
         ],
         "yaxis": "y"
        },
        {
         "hoverinfo": "text",
         "marker": {
          "color": "rgb(0, 0, 0)"
         },
         "mode": "lines",
         "type": "scatter",
         "x": [
          18,
          18,
          19.5,
          19.5
         ],
         "xaxis": "x",
         "y": [
          0,
          0.54,
          0.54,
          0.44
         ],
         "yaxis": "y"
        },
        {
         "hoverinfo": "text",
         "marker": {
          "color": "rgb(0, 0, 0)"
         },
         "mode": "lines",
         "type": "scatter",
         "x": [
          62.5,
          62.5,
          65.890625,
          65.890625
         ],
         "xaxis": "x",
         "y": [
          0.51,
          0.54,
          0.54,
          0.53
         ],
         "yaxis": "y"
        },
        {
         "hoverinfo": "text",
         "marker": {
          "color": "rgb(0, 0, 0)"
         },
         "mode": "lines",
         "type": "scatter",
         "x": [
          61,
          61,
          64.1953125,
          64.1953125
         ],
         "xaxis": "x",
         "y": [
          0,
          0.54,
          0.54,
          0.54
         ],
         "yaxis": "y"
        },
        {
         "hoverinfo": "text",
         "marker": {
          "color": "rgb(0, 0, 0)"
         },
         "mode": "lines",
         "type": "scatter",
         "x": [
          48,
          48,
          49,
          49
         ],
         "xaxis": "x",
         "y": [
          0,
          0.54,
          0.54,
          0
         ],
         "yaxis": "y"
        },
        {
         "hoverinfo": "text",
         "marker": {
          "color": "rgb(0, 0, 0)"
         },
         "mode": "lines",
         "type": "scatter",
         "x": [
          47,
          47,
          48.5,
          48.5
         ],
         "xaxis": "x",
         "y": [
          0,
          0.55,
          0.55,
          0.54
         ],
         "yaxis": "y"
        },
        {
         "hoverinfo": "text",
         "marker": {
          "color": "rgb(0, 0, 0)"
         },
         "mode": "lines",
         "type": "scatter",
         "x": [
          54,
          54,
          55.75,
          55.75
         ],
         "xaxis": "x",
         "y": [
          0,
          0.55,
          0.55,
          0.51
         ],
         "yaxis": "y"
        },
        {
         "hoverinfo": "text",
         "marker": {
          "color": "rgb(0, 0, 0)"
         },
         "mode": "lines",
         "type": "scatter",
         "x": [
          60,
          60,
          62.59765625,
          62.59765625
         ],
         "xaxis": "x",
         "y": [
          0,
          0.55,
          0.55,
          0.54
         ],
         "yaxis": "y"
        },
        {
         "hoverinfo": "text",
         "marker": {
          "color": "rgb(0, 0, 0)"
         },
         "mode": "lines",
         "type": "scatter",
         "x": [
          59,
          59,
          61.298828125,
          61.298828125
         ],
         "xaxis": "x",
         "y": [
          0,
          0.55,
          0.55,
          0.55
         ],
         "yaxis": "y"
        },
        {
         "hoverinfo": "text",
         "marker": {
          "color": "rgb(0, 0, 0)"
         },
         "mode": "lines",
         "type": "scatter",
         "x": [
          91,
          91,
          96.82990646362305,
          96.82990646362305
         ],
         "xaxis": "x",
         "y": [
          0,
          0.55,
          0.55,
          0.51
         ],
         "yaxis": "y"
        },
        {
         "hoverinfo": "text",
         "marker": {
          "color": "rgb(0, 0, 0)"
         },
         "mode": "lines",
         "type": "scatter",
         "x": [
          25,
          25,
          26.5,
          26.5
         ],
         "xaxis": "x",
         "y": [
          0,
          0.56,
          0.56,
          0.47
         ],
         "yaxis": "y"
        },
        {
         "hoverinfo": "text",
         "marker": {
          "color": "rgb(0, 0, 0)"
         },
         "mode": "lines",
         "type": "scatter",
         "x": [
          17,
          17,
          18.75,
          18.75
         ],
         "xaxis": "x",
         "y": [
          0,
          0.56,
          0.56,
          0.54
         ],
         "yaxis": "y"
        },
        {
         "hoverinfo": "text",
         "marker": {
          "color": "rgb(0, 0, 0)"
         },
         "mode": "lines",
         "type": "scatter",
         "x": [
          174,
          174,
          175.75,
          175.75
         ],
         "xaxis": "x",
         "y": [
          0,
          0.57,
          0.57,
          0.26
         ],
         "yaxis": "y"
        },
        {
         "hoverinfo": "text",
         "marker": {
          "color": "rgb(0, 0, 0)"
         },
         "mode": "lines",
         "type": "scatter",
         "x": [
          178,
          178,
          179.75,
          179.75
         ],
         "xaxis": "x",
         "y": [
          0,
          0.57,
          0.57,
          0.53
         ],
         "yaxis": "y"
        },
        {
         "hoverinfo": "text",
         "marker": {
          "color": "rgb(0, 0, 0)"
         },
         "mode": "lines",
         "type": "scatter",
         "x": [
          43.625,
          43.625,
          47.75,
          47.75
         ],
         "xaxis": "x",
         "y": [
          0.49,
          0.57,
          0.57,
          0.55
         ],
         "yaxis": "y"
        },
        {
         "hoverinfo": "text",
         "marker": {
          "color": "rgb(0, 0, 0)"
         },
         "mode": "lines",
         "type": "scatter",
         "x": [
          41,
          41,
          45.6875,
          45.6875
         ],
         "xaxis": "x",
         "y": [
          0,
          0.57,
          0.57,
          0.57
         ],
         "yaxis": "y"
        },
        {
         "hoverinfo": "text",
         "marker": {
          "color": "rgb(0, 0, 0)"
         },
         "mode": "lines",
         "type": "scatter",
         "x": [
          186.75,
          186.75,
          191.1953125,
          191.1953125
         ],
         "xaxis": "x",
         "y": [
          0.47,
          0.58,
          0.58,
          0.52
         ],
         "yaxis": "y"
        },
        {
         "hoverinfo": "text",
         "marker": {
          "color": "rgb(0, 0, 0)"
         },
         "mode": "lines",
         "type": "scatter",
         "x": [
          32.625,
          32.625,
          36.75,
          36.75
         ],
         "xaxis": "x",
         "y": [
          0.51,
          0.59,
          0.59,
          0.53
         ],
         "yaxis": "y"
        },
        {
         "hoverinfo": "text",
         "marker": {
          "color": "rgb(0, 0, 0)"
         },
         "mode": "lines",
         "type": "scatter",
         "x": [
          90,
          90,
          93.91495323181152,
          93.91495323181152
         ],
         "xaxis": "x",
         "y": [
          0,
          0.59,
          0.59,
          0.55
         ],
         "yaxis": "y"
        },
        {
         "hoverinfo": "text",
         "marker": {
          "color": "rgb(0, 0, 0)"
         },
         "mode": "lines",
         "type": "scatter",
         "x": [
          16,
          16,
          17.875,
          17.875
         ],
         "xaxis": "x",
         "y": [
          0,
          0.59,
          0.59,
          0.56
         ],
         "yaxis": "y"
        },
        {
         "hoverinfo": "text",
         "marker": {
          "color": "rgb(0, 0, 0)"
         },
         "mode": "lines",
         "type": "scatter",
         "x": [
          30,
          30,
          34.6875,
          34.6875
         ],
         "xaxis": "x",
         "y": [
          0,
          0.6,
          0.6,
          0.59
         ],
         "yaxis": "y"
        },
        {
         "hoverinfo": "text",
         "marker": {
          "color": "rgb(0, 0, 0)"
         },
         "mode": "lines",
         "type": "scatter",
         "x": [
          51.75,
          51.75,
          54.875,
          54.875
         ],
         "xaxis": "x",
         "y": [
          0.45,
          0.6,
          0.6,
          0.55
         ],
         "yaxis": "y"
        },
        {
         "hoverinfo": "text",
         "marker": {
          "color": "rgb(0, 0, 0)"
         },
         "mode": "lines",
         "type": "scatter",
         "x": [
          40,
          40,
          43.34375,
          43.34375
         ],
         "xaxis": "x",
         "y": [
          0,
          0.61,
          0.61,
          0.57
         ],
         "yaxis": "y"
        },
        {
         "hoverinfo": "text",
         "marker": {
          "color": "rgb(0, 0, 0)"
         },
         "mode": "lines",
         "type": "scatter",
         "x": [
          22,
          22,
          23,
          23
         ],
         "xaxis": "x",
         "y": [
          0,
          0.61,
          0.61,
          0
         ],
         "yaxis": "y"
        },
        {
         "hoverinfo": "text",
         "marker": {
          "color": "rgb(0, 0, 0)"
         },
         "mode": "lines",
         "type": "scatter",
         "x": [
          29,
          29,
          32.34375,
          32.34375
         ],
         "xaxis": "x",
         "y": [
          0,
          0.61,
          0.61,
          0.6
         ],
         "yaxis": "y"
        },
        {
         "hoverinfo": "text",
         "marker": {
          "color": "rgb(0, 0, 0)"
         },
         "mode": "lines",
         "type": "scatter",
         "x": [
          28,
          28,
          30.671875,
          30.671875
         ],
         "xaxis": "x",
         "y": [
          0,
          0.61,
          0.61,
          0.61
         ],
         "yaxis": "y"
        },
        {
         "hoverinfo": "text",
         "marker": {
          "color": "rgb(0, 0, 0)"
         },
         "mode": "lines",
         "type": "scatter",
         "x": [
          50,
          50,
          53.3125,
          53.3125
         ],
         "xaxis": "x",
         "y": [
          0,
          0.62,
          0.62,
          0.6
         ],
         "yaxis": "y"
        },
        {
         "hoverinfo": "text",
         "marker": {
          "color": "rgb(0, 0, 0)"
         },
         "mode": "lines",
         "type": "scatter",
         "x": [
          24,
          24,
          25.75,
          25.75
         ],
         "xaxis": "x",
         "y": [
          0,
          0.62,
          0.62,
          0.56
         ],
         "yaxis": "y"
        },
        {
         "hoverinfo": "text",
         "marker": {
          "color": "rgb(0, 0, 0)"
         },
         "mode": "lines",
         "type": "scatter",
         "x": [
          185,
          185,
          188.97265625,
          188.97265625
         ],
         "xaxis": "x",
         "y": [
          0,
          0.62,
          0.62,
          0.58
         ],
         "yaxis": "y"
        },
        {
         "hoverinfo": "text",
         "marker": {
          "color": "rgb(0, 0, 0)"
         },
         "mode": "lines",
         "type": "scatter",
         "x": [
          174.875,
          174.875,
          178.875,
          178.875
         ],
         "xaxis": "x",
         "y": [
          0.57,
          0.63,
          0.63,
          0.57
         ],
         "yaxis": "y"
        },
        {
         "hoverinfo": "text",
         "marker": {
          "color": "rgb(0, 0, 0)"
         },
         "mode": "lines",
         "type": "scatter",
         "x": [
          39,
          39,
          41.671875,
          41.671875
         ],
         "xaxis": "x",
         "y": [
          0,
          0.66,
          0.66,
          0.61
         ],
         "yaxis": "y"
        },
        {
         "hoverinfo": "text",
         "marker": {
          "color": "rgb(0, 0, 0)"
         },
         "mode": "lines",
         "type": "scatter",
         "x": [
          183.5,
          183.5,
          186.986328125,
          186.986328125
         ],
         "xaxis": "x",
         "y": [
          0.32,
          0.66,
          0.66,
          0.62
         ],
         "yaxis": "y"
        },
        {
         "hoverinfo": "text",
         "marker": {
          "color": "rgb(0, 0, 0)"
         },
         "mode": "lines",
         "type": "scatter",
         "x": [
          58,
          58,
          60.1494140625,
          60.1494140625
         ],
         "xaxis": "x",
         "y": [
          0,
          0.67,
          0.67,
          0.55
         ],
         "yaxis": "y"
        },
        {
         "hoverinfo": "text",
         "marker": {
          "color": "rgb(0, 0, 0)"
         },
         "mode": "lines",
         "type": "scatter",
         "x": [
          51.65625,
          51.65625,
          59.07470703125,
          59.07470703125
         ],
         "xaxis": "x",
         "y": [
          0.62,
          0.67,
          0.67,
          0.67
         ],
         "yaxis": "y"
        },
        {
         "hoverinfo": "text",
         "marker": {
          "color": "rgb(0, 0, 0)"
         },
         "mode": "lines",
         "type": "scatter",
         "x": [
          211,
          211,
          212,
          212
         ],
         "xaxis": "x",
         "y": [
          0,
          0.67,
          0.67,
          0
         ],
         "yaxis": "y"
        },
        {
         "hoverinfo": "text",
         "marker": {
          "color": "rgb(0, 0, 0)"
         },
         "mode": "lines",
         "type": "scatter",
         "x": [
          219,
          219,
          220,
          220
         ],
         "xaxis": "x",
         "y": [
          0,
          0.68,
          0.68,
          0
         ],
         "yaxis": "y"
        },
        {
         "hoverinfo": "text",
         "marker": {
          "color": "rgb(0, 0, 0)"
         },
         "mode": "lines",
         "type": "scatter",
         "x": [
          165.27685546875,
          165.27685546875,
          176.875,
          176.875
         ],
         "xaxis": "x",
         "y": [
          0.52,
          0.69,
          0.69,
          0.63
         ],
         "yaxis": "y"
        },
        {
         "hoverinfo": "text",
         "marker": {
          "color": "rgb(0, 0, 0)"
         },
         "mode": "lines",
         "type": "scatter",
         "x": [
          218,
          218,
          219.5,
          219.5
         ],
         "xaxis": "x",
         "y": [
          0,
          0.69,
          0.69,
          0.68
         ],
         "yaxis": "y"
        },
        {
         "hoverinfo": "text",
         "marker": {
          "color": "rgb(0, 0, 0)"
         },
         "mode": "lines",
         "type": "scatter",
         "x": [
          40.3359375,
          40.3359375,
          55.365478515625,
          55.365478515625
         ],
         "xaxis": "x",
         "y": [
          0.66,
          0.7,
          0.7,
          0.67
         ],
         "yaxis": "y"
        },
        {
         "hoverinfo": "text",
         "marker": {
          "color": "rgb(0, 0, 0)"
         },
         "mode": "lines",
         "type": "scatter",
         "x": [
          29.3359375,
          29.3359375,
          47.8507080078125,
          47.8507080078125
         ],
         "xaxis": "x",
         "y": [
          0.61,
          0.7,
          0.7,
          0.7
         ],
         "yaxis": "y"
        },
        {
         "hoverinfo": "text",
         "marker": {
          "color": "rgb(0, 0, 0)"
         },
         "mode": "lines",
         "type": "scatter",
         "x": [
          225,
          225,
          226,
          226
         ],
         "xaxis": "x",
         "y": [
          0,
          0.71,
          0.71,
          0
         ],
         "yaxis": "y"
        },
        {
         "hoverinfo": "text",
         "marker": {
          "color": "rgb(0, 0, 0)"
         },
         "mode": "lines",
         "type": "scatter",
         "x": [
          24.875,
          24.875,
          38.59332275390625,
          38.59332275390625
         ],
         "xaxis": "x",
         "y": [
          0.62,
          0.71,
          0.71,
          0.7
         ],
         "yaxis": "y"
        },
        {
         "hoverinfo": "text",
         "marker": {
          "color": "rgb(0, 0, 0)"
         },
         "mode": "lines",
         "type": "scatter",
         "x": [
          182,
          182,
          185.2431640625,
          185.2431640625
         ],
         "xaxis": "x",
         "y": [
          0,
          0.72,
          0.72,
          0.66
         ],
         "yaxis": "y"
        },
        {
         "hoverinfo": "text",
         "marker": {
          "color": "rgb(0, 0, 0)"
         },
         "mode": "lines",
         "type": "scatter",
         "x": [
          22.5,
          22.5,
          31.734161376953125,
          31.734161376953125
         ],
         "xaxis": "x",
         "y": [
          0.61,
          0.73,
          0.73,
          0.71
         ],
         "yaxis": "y"
        },
        {
         "hoverinfo": "text",
         "marker": {
          "color": "rgb(0, 0, 0)"
         },
         "mode": "lines",
         "type": "scatter",
         "x": [
          171.075927734375,
          171.075927734375,
          183.62158203125,
          183.62158203125
         ],
         "xaxis": "x",
         "y": [
          0.69,
          0.73,
          0.73,
          0.72
         ],
         "yaxis": "y"
        },
        {
         "hoverinfo": "text",
         "marker": {
          "color": "rgb(0, 0, 0)"
         },
         "mode": "lines",
         "type": "scatter",
         "x": [
          21,
          21,
          27.117080688476562,
          27.117080688476562
         ],
         "xaxis": "x",
         "y": [
          0,
          0.74,
          0.74,
          0.73
         ],
         "yaxis": "y"
        },
        {
         "hoverinfo": "text",
         "marker": {
          "color": "rgb(0, 0, 0)"
         },
         "mode": "lines",
         "type": "scatter",
         "x": [
          16.9375,
          16.9375,
          24.05854034423828,
          24.05854034423828
         ],
         "xaxis": "x",
         "y": [
          0.59,
          0.74,
          0.74,
          0.74
         ],
         "yaxis": "y"
        },
        {
         "hoverinfo": "text",
         "marker": {
          "color": "rgb(0, 0, 0)"
         },
         "mode": "lines",
         "type": "scatter",
         "x": [
          85,
          85,
          86,
          86
         ],
         "xaxis": "x",
         "y": [
          0,
          0.74,
          0.74,
          0
         ],
         "yaxis": "y"
        },
        {
         "hoverinfo": "text",
         "marker": {
          "color": "rgb(0, 0, 0)"
         },
         "mode": "lines",
         "type": "scatter",
         "x": [
          154,
          154,
          177.3487548828125,
          177.3487548828125
         ],
         "xaxis": "x",
         "y": [
          0,
          0.74,
          0.74,
          0.73
         ],
         "yaxis": "y"
        },
        {
         "hoverinfo": "text",
         "marker": {
          "color": "rgb(0, 0, 0)"
         },
         "mode": "lines",
         "type": "scatter",
         "x": [
          210,
          210,
          211.5,
          211.5
         ],
         "xaxis": "x",
         "y": [
          0,
          0.76,
          0.76,
          0.67
         ],
         "yaxis": "y"
        },
        {
         "hoverinfo": "text",
         "marker": {
          "color": "rgb(0, 0, 0)"
         },
         "mode": "lines",
         "type": "scatter",
         "x": [
          89,
          89,
          91.95747661590576,
          91.95747661590576
         ],
         "xaxis": "x",
         "y": [
          0,
          0.76,
          0.76,
          0.59
         ],
         "yaxis": "y"
        },
        {
         "hoverinfo": "text",
         "marker": {
          "color": "rgb(0, 0, 0)"
         },
         "mode": "lines",
         "type": "scatter",
         "x": [
          224,
          224,
          225.5,
          225.5
         ],
         "xaxis": "x",
         "y": [
          0,
          0.79,
          0.79,
          0.71
         ],
         "yaxis": "y"
        },
        {
         "hoverinfo": "text",
         "marker": {
          "color": "rgb(0, 0, 0)"
         },
         "mode": "lines",
         "type": "scatter",
         "x": [
          76,
          76,
          77,
          77
         ],
         "xaxis": "x",
         "y": [
          0,
          0.8,
          0.8,
          0
         ],
         "yaxis": "y"
        },
        {
         "hoverinfo": "text",
         "marker": {
          "color": "rgb(0, 0, 0)"
         },
         "mode": "lines",
         "type": "scatter",
         "x": [
          153,
          153,
          165.67437744140625,
          165.67437744140625
         ],
         "xaxis": "x",
         "y": [
          0,
          0.81,
          0.81,
          0.74
         ],
         "yaxis": "y"
        },
        {
         "hoverinfo": "text",
         "marker": {
          "color": "rgb(0, 0, 0)"
         },
         "mode": "lines",
         "type": "scatter",
         "x": [
          20.49802017211914,
          20.49802017211914,
          76.5,
          76.5
         ],
         "xaxis": "x",
         "y": [
          0.74,
          0.85,
          0.85,
          0.8
         ],
         "yaxis": "y"
        },
        {
         "hoverinfo": "text",
         "marker": {
          "color": "rgb(0, 0, 0)"
         },
         "mode": "lines",
         "type": "scatter",
         "x": [
          10,
          10,
          11,
          11
         ],
         "xaxis": "x",
         "y": [
          0,
          0.85,
          0.85,
          0
         ],
         "yaxis": "y"
        },
        {
         "hoverinfo": "text",
         "marker": {
          "color": "rgb(0, 0, 0)"
         },
         "mode": "lines",
         "type": "scatter",
         "x": [
          3,
          3,
          4,
          4
         ],
         "xaxis": "x",
         "y": [
          0,
          0.86,
          0.86,
          0
         ],
         "yaxis": "y"
        },
        {
         "hoverinfo": "text",
         "marker": {
          "color": "rgb(0, 0, 0)"
         },
         "mode": "lines",
         "type": "scatter",
         "x": [
          228,
          228,
          229,
          229
         ],
         "xaxis": "x",
         "y": [
          0,
          0.86,
          0.86,
          0
         ],
         "yaxis": "y"
        },
        {
         "hoverinfo": "text",
         "marker": {
          "color": "rgb(0, 0, 0)"
         },
         "mode": "lines",
         "type": "scatter",
         "x": [
          222,
          222,
          223,
          223
         ],
         "xaxis": "x",
         "y": [
          0,
          0.88,
          0.88,
          0
         ],
         "yaxis": "y"
        },
        {
         "hoverinfo": "text",
         "marker": {
          "color": "rgb(0, 0, 0)"
         },
         "mode": "lines",
         "type": "scatter",
         "x": [
          214,
          214,
          215,
          215
         ],
         "xaxis": "x",
         "y": [
          0,
          0.89,
          0.89,
          0
         ],
         "yaxis": "y"
        },
        {
         "hoverinfo": "text",
         "marker": {
          "color": "rgb(0, 0, 0)"
         },
         "mode": "lines",
         "type": "scatter",
         "x": [
          14,
          14,
          15,
          15
         ],
         "xaxis": "x",
         "y": [
          0,
          0.89,
          0.89,
          0
         ],
         "yaxis": "y"
        },
        {
         "hoverinfo": "text",
         "marker": {
          "color": "rgb(0, 0, 0)"
         },
         "mode": "lines",
         "type": "scatter",
         "x": [
          2,
          2,
          3.5,
          3.5
         ],
         "xaxis": "x",
         "y": [
          0,
          0.9,
          0.9,
          0.86
         ],
         "yaxis": "y"
        },
        {
         "hoverinfo": "text",
         "marker": {
          "color": "rgb(0, 0, 0)"
         },
         "mode": "lines",
         "type": "scatter",
         "x": [
          9,
          9,
          10.5,
          10.5
         ],
         "xaxis": "x",
         "y": [
          0,
          0.91,
          0.91,
          0.85
         ],
         "yaxis": "y"
        },
        {
         "hoverinfo": "text",
         "marker": {
          "color": "rgb(0, 0, 0)"
         },
         "mode": "lines",
         "type": "scatter",
         "x": [
          87,
          87,
          88,
          88
         ],
         "xaxis": "x",
         "y": [
          0,
          0.91,
          0.91,
          0
         ],
         "yaxis": "y"
        },
        {
         "hoverinfo": "text",
         "marker": {
          "color": "rgb(0, 0, 0)"
         },
         "mode": "lines",
         "type": "scatter",
         "x": [
          85.5,
          85.5,
          87.5,
          87.5
         ],
         "xaxis": "x",
         "y": [
          0.74,
          0.92,
          0.92,
          0.91
         ],
         "yaxis": "y"
        },
        {
         "hoverinfo": "text",
         "marker": {
          "color": "rgb(0, 0, 0)"
         },
         "mode": "lines",
         "type": "scatter",
         "x": [
          213,
          213,
          214.5,
          214.5
         ],
         "xaxis": "x",
         "y": [
          0,
          0.92,
          0.92,
          0.89
         ],
         "yaxis": "y"
        },
        {
         "hoverinfo": "text",
         "marker": {
          "color": "rgb(0, 0, 0)"
         },
         "mode": "lines",
         "type": "scatter",
         "x": [
          81,
          81,
          82,
          82
         ],
         "xaxis": "x",
         "y": [
          0,
          0.92,
          0.92,
          0
         ],
         "yaxis": "y"
        },
        {
         "hoverinfo": "text",
         "marker": {
          "color": "rgb(0, 0, 0)"
         },
         "mode": "lines",
         "type": "scatter",
         "x": [
          79,
          79,
          80,
          80
         ],
         "xaxis": "x",
         "y": [
          0,
          0.93,
          0.93,
          0
         ],
         "yaxis": "y"
        },
        {
         "hoverinfo": "text",
         "marker": {
          "color": "rgb(0, 0, 0)"
         },
         "mode": "lines",
         "type": "scatter",
         "x": [
          78,
          78,
          79.5,
          79.5
         ],
         "xaxis": "x",
         "y": [
          0,
          0.93,
          0.93,
          0.93
         ],
         "yaxis": "y"
        },
        {
         "hoverinfo": "text",
         "marker": {
          "color": "rgb(0, 0, 0)"
         },
         "mode": "lines",
         "type": "scatter",
         "x": [
          83,
          83,
          84,
          84
         ],
         "xaxis": "x",
         "y": [
          0,
          0.94,
          0.94,
          0
         ],
         "yaxis": "y"
        },
        {
         "hoverinfo": "text",
         "marker": {
          "color": "rgb(0, 0, 0)"
         },
         "mode": "lines",
         "type": "scatter",
         "x": [
          221,
          221,
          222.5,
          222.5
         ],
         "xaxis": "x",
         "y": [
          0,
          0.95,
          0.95,
          0.88
         ],
         "yaxis": "y"
        },
        {
         "hoverinfo": "text",
         "marker": {
          "color": "rgb(0, 0, 0)"
         },
         "mode": "lines",
         "type": "scatter",
         "x": [
          227,
          227,
          228.5,
          228.5
         ],
         "xaxis": "x",
         "y": [
          0,
          0.95,
          0.95,
          0.86
         ],
         "yaxis": "y"
        },
        {
         "hoverinfo": "text",
         "marker": {
          "color": "rgb(0, 0, 0)"
         },
         "mode": "lines",
         "type": "scatter",
         "x": [
          208,
          208,
          209,
          209
         ],
         "xaxis": "x",
         "y": [
          0,
          0.96,
          0.96,
          0
         ],
         "yaxis": "y"
        },
        {
         "hoverinfo": "text",
         "marker": {
          "color": "rgb(0, 0, 0)"
         },
         "mode": "lines",
         "type": "scatter",
         "x": [
          7,
          7,
          8,
          8
         ],
         "xaxis": "x",
         "y": [
          0,
          0.96,
          0.96,
          0
         ],
         "yaxis": "y"
        },
        {
         "hoverinfo": "text",
         "marker": {
          "color": "rgb(0, 0, 0)"
         },
         "mode": "lines",
         "type": "scatter",
         "x": [
          6,
          6,
          7.5,
          7.5
         ],
         "xaxis": "x",
         "y": [
          0,
          0.96,
          0.96,
          0.96
         ],
         "yaxis": "y"
        },
        {
         "hoverinfo": "text",
         "marker": {
          "color": "rgb(0, 0, 0)"
         },
         "mode": "lines",
         "type": "scatter",
         "x": [
          0,
          0,
          1,
          1
         ],
         "xaxis": "x",
         "y": [
          0,
          0.97,
          0.97,
          0
         ],
         "yaxis": "y"
        },
        {
         "hoverinfo": "text",
         "marker": {
          "color": "rgb(0, 0, 0)"
         },
         "mode": "lines",
         "type": "scatter",
         "x": [
          224.75,
          224.75,
          227.75,
          227.75
         ],
         "xaxis": "x",
         "y": [
          0.79,
          0.98,
          0.98,
          0.95
         ],
         "yaxis": "y"
        },
        {
         "hoverinfo": "text",
         "marker": {
          "color": "rgb(0, 0, 0)"
         },
         "mode": "lines",
         "type": "scatter",
         "x": [
          5,
          5,
          6.75,
          6.75
         ],
         "xaxis": "x",
         "y": [
          0,
          0.98,
          0.98,
          0.96
         ],
         "yaxis": "y"
        },
        {
         "hoverinfo": "text",
         "marker": {
          "color": "rgb(0, 0, 0)"
         },
         "mode": "lines",
         "type": "scatter",
         "x": [
          210.75,
          210.75,
          213.75,
          213.75
         ],
         "xaxis": "x",
         "y": [
          0.76,
          0.99,
          0.99,
          0.92
         ],
         "yaxis": "y"
        },
        {
         "hoverinfo": "text",
         "marker": {
          "color": "rgb(0, 0, 0)"
         },
         "mode": "lines",
         "type": "scatter",
         "x": [
          221.75,
          221.75,
          226.25,
          226.25
         ],
         "xaxis": "x",
         "y": [
          0.95,
          0.99,
          0.99,
          0.98
         ],
         "yaxis": "y"
        },
        {
         "hoverinfo": "text",
         "marker": {
          "color": "rgb(0, 0, 0)"
         },
         "mode": "lines",
         "type": "scatter",
         "x": [
          12,
          12,
          13,
          13
         ],
         "xaxis": "x",
         "y": [
          0,
          0.99,
          0.99,
          0
         ],
         "yaxis": "y"
        },
        {
         "hoverinfo": "text",
         "marker": {
          "color": "rgb(0, 0, 0)"
         },
         "mode": "lines",
         "type": "scatter",
         "x": [
          90.47873830795288,
          90.47873830795288,
          159.33718872070312,
          159.33718872070312
         ],
         "xaxis": "x",
         "y": [
          0.76,
          0.7,
          0.7,
          0.81
         ],
         "yaxis": "y"
        },
        {
         "hoverinfo": "text",
         "marker": {
          "color": "rgb(0, 0, 0)"
         },
         "mode": "lines",
         "type": "scatter",
         "x": [
          86.5,
          86.5,
          124.907963514328,
          124.907963514328
         ],
         "xaxis": "x",
         "y": [
          0.92,
          0.74,
          0.74,
          0.7
         ],
         "yaxis": "y"
        },
        {
         "hoverinfo": "text",
         "marker": {
          "color": "rgb(0, 0, 0)"
         },
         "mode": "lines",
         "type": "scatter",
         "x": [
          83.5,
          83.5,
          105.703981757164,
          105.703981757164
         ],
         "xaxis": "x",
         "y": [
          0.94,
          0.76,
          0.76,
          0.74
         ],
         "yaxis": "y"
        },
        {
         "hoverinfo": "text",
         "marker": {
          "color": "rgb(0, 0, 0)"
         },
         "mode": "lines",
         "type": "scatter",
         "x": [
          218.75,
          218.75,
          224,
          224
         ],
         "xaxis": "x",
         "y": [
          0.69,
          0.8,
          0.8,
          0.99
         ],
         "yaxis": "y"
        },
        {
         "hoverinfo": "text",
         "marker": {
          "color": "rgb(0, 0, 0)"
         },
         "mode": "lines",
         "type": "scatter",
         "x": [
          48.49901008605957,
          48.49901008605957,
          78.75,
          78.75
         ],
         "xaxis": "x",
         "y": [
          0.85,
          0.84,
          0.84,
          0.93
         ],
         "yaxis": "y"
        },
        {
         "hoverinfo": "text",
         "marker": {
          "color": "rgb(0, 0, 0)"
         },
         "mode": "lines",
         "type": "scatter",
         "x": [
          14.5,
          14.5,
          63.624505043029785,
          63.624505043029785
         ],
         "xaxis": "x",
         "y": [
          0.89,
          0.84,
          0.84,
          0.84
         ],
         "yaxis": "y"
        },
        {
         "hoverinfo": "text",
         "marker": {
          "color": "rgb(0, 0, 0)"
         },
         "mode": "lines",
         "type": "scatter",
         "x": [
          12.5,
          12.5,
          39.06225252151489,
          39.06225252151489
         ],
         "xaxis": "x",
         "y": [
          0.99,
          0.88,
          0.88,
          0.84
         ],
         "yaxis": "y"
        },
        {
         "hoverinfo": "text",
         "marker": {
          "color": "rgb(0, 0, 0)"
         },
         "mode": "lines",
         "type": "scatter",
         "x": [
          216.5,
          216.5,
          221.375,
          221.375
         ],
         "xaxis": "x",
         "y": [
          0.53,
          0.9,
          0.9,
          0.8
         ],
         "yaxis": "y"
        },
        {
         "hoverinfo": "text",
         "marker": {
          "color": "rgb(0, 0, 0)"
         },
         "mode": "lines",
         "type": "scatter",
         "x": [
          9.75,
          9.75,
          25.781126260757446,
          25.781126260757446
         ],
         "xaxis": "x",
         "y": [
          0.91,
          0.9,
          0.9,
          0.88
         ],
         "yaxis": "y"
        },
        {
         "hoverinfo": "text",
         "marker": {
          "color": "rgb(0, 0, 0)"
         },
         "mode": "lines",
         "type": "scatter",
         "x": [
          212.25,
          212.25,
          218.9375,
          218.9375
         ],
         "xaxis": "x",
         "y": [
          0.99,
          0.9,
          0.9,
          0.9
         ],
         "yaxis": "y"
        },
        {
         "hoverinfo": "text",
         "marker": {
          "color": "rgb(0, 0, 0)"
         },
         "mode": "lines",
         "type": "scatter",
         "x": [
          81.5,
          81.5,
          94.601990878582,
          94.601990878582
         ],
         "xaxis": "x",
         "y": [
          0.92,
          0.9,
          0.9,
          0.76
         ],
         "yaxis": "y"
        },
        {
         "hoverinfo": "text",
         "marker": {
          "color": "rgb(0, 0, 0)"
         },
         "mode": "lines",
         "type": "scatter",
         "x": [
          208.5,
          208.5,
          215.59375,
          215.59375
         ],
         "xaxis": "x",
         "y": [
          0.96,
          0.9,
          0.9,
          0.9
         ],
         "yaxis": "y"
        },
        {
         "hoverinfo": "text",
         "marker": {
          "color": "rgb(0, 0, 0)"
         },
         "mode": "lines",
         "type": "scatter",
         "x": [
          88.050995439291,
          88.050995439291,
          212.046875,
          212.046875
         ],
         "xaxis": "x",
         "y": [
          0.9,
          0.91,
          0.91,
          0.9
         ],
         "yaxis": "y"
        },
        {
         "hoverinfo": "text",
         "marker": {
          "color": "rgb(0, 0, 0)"
         },
         "mode": "lines",
         "type": "scatter",
         "x": [
          17.765563130378723,
          17.765563130378723,
          150.0489352196455,
          150.0489352196455
         ],
         "xaxis": "x",
         "y": [
          0.9,
          0.91,
          0.91,
          0.91
         ],
         "yaxis": "y"
        },
        {
         "hoverinfo": "text",
         "marker": {
          "color": "rgb(0, 0, 0)"
         },
         "mode": "lines",
         "type": "scatter",
         "x": [
          5.875,
          5.875,
          83.90724917501211,
          83.90724917501211
         ],
         "xaxis": "x",
         "y": [
          0.98,
          0.92,
          0.92,
          0.91
         ],
         "yaxis": "y"
        },
        {
         "hoverinfo": "text",
         "marker": {
          "color": "rgb(0, 0, 0)"
         },
         "mode": "lines",
         "type": "scatter",
         "x": [
          2.75,
          2.75,
          44.891124587506056,
          44.891124587506056
         ],
         "xaxis": "x",
         "y": [
          0.9,
          0.95,
          0.95,
          0.92
         ],
         "yaxis": "y"
        },
        {
         "marker": {
          "color": "rgb(0, 0, 0)",
          "size": [
           20
          ]
         },
         "mode": "markers",
         "type": "scatter",
         "x": [
          12.160281146876514
         ],
         "xaxis": "x",
         "y": [
          0.95
         ],
         "yaxis": "y"
        },
        {
         "hoverinfo": "text",
         "marker": {
          "color": "rgb(0, 0, 0)"
         },
         "mode": "lines",
         "type": "scatter",
         "x": [
          0.5,
          0.5,
          23.820562293753028,
          23.820562293753028
         ],
         "xaxis": "x",
         "y": [
          0.97,
          0.95,
          0.95,
          0.95
         ],
         "yaxis": "y"
        }
       ],
       "layout": {
        "height": 800,
        "hovermode": "closest",
        "paper_bgcolor": "rgba(0,0,0,0)",
        "plot_bgcolor": "rgba(0,0,0,0)",
        "showlegend": false,
        "template": {
         "data": {
          "bar": [
           {
            "error_x": {
             "color": "#2a3f5f"
            },
            "error_y": {
             "color": "#2a3f5f"
            },
            "marker": {
             "line": {
              "color": "#E5ECF6",
              "width": 0.5
             },
             "pattern": {
              "fillmode": "overlay",
              "size": 10,
              "solidity": 0.2
             }
            },
            "type": "bar"
           }
          ],
          "barpolar": [
           {
            "marker": {
             "line": {
              "color": "#E5ECF6",
              "width": 0.5
             },
             "pattern": {
              "fillmode": "overlay",
              "size": 10,
              "solidity": 0.2
             }
            },
            "type": "barpolar"
           }
          ],
          "carpet": [
           {
            "aaxis": {
             "endlinecolor": "#2a3f5f",
             "gridcolor": "white",
             "linecolor": "white",
             "minorgridcolor": "white",
             "startlinecolor": "#2a3f5f"
            },
            "baxis": {
             "endlinecolor": "#2a3f5f",
             "gridcolor": "white",
             "linecolor": "white",
             "minorgridcolor": "white",
             "startlinecolor": "#2a3f5f"
            },
            "type": "carpet"
           }
          ],
          "choropleth": [
           {
            "colorbar": {
             "outlinewidth": 0,
             "ticks": ""
            },
            "type": "choropleth"
           }
          ],
          "contour": [
           {
            "colorbar": {
             "outlinewidth": 0,
             "ticks": ""
            },
            "colorscale": [
             [
              0,
              "#0d0887"
             ],
             [
              0.1111111111111111,
              "#46039f"
             ],
             [
              0.2222222222222222,
              "#7201a8"
             ],
             [
              0.3333333333333333,
              "#9c179e"
             ],
             [
              0.4444444444444444,
              "#bd3786"
             ],
             [
              0.5555555555555556,
              "#d8576b"
             ],
             [
              0.6666666666666666,
              "#ed7953"
             ],
             [
              0.7777777777777778,
              "#fb9f3a"
             ],
             [
              0.8888888888888888,
              "#fdca26"
             ],
             [
              1,
              "#f0f921"
             ]
            ],
            "type": "contour"
           }
          ],
          "contourcarpet": [
           {
            "colorbar": {
             "outlinewidth": 0,
             "ticks": ""
            },
            "type": "contourcarpet"
           }
          ],
          "heatmap": [
           {
            "colorbar": {
             "outlinewidth": 0,
             "ticks": ""
            },
            "colorscale": [
             [
              0,
              "#0d0887"
             ],
             [
              0.1111111111111111,
              "#46039f"
             ],
             [
              0.2222222222222222,
              "#7201a8"
             ],
             [
              0.3333333333333333,
              "#9c179e"
             ],
             [
              0.4444444444444444,
              "#bd3786"
             ],
             [
              0.5555555555555556,
              "#d8576b"
             ],
             [
              0.6666666666666666,
              "#ed7953"
             ],
             [
              0.7777777777777778,
              "#fb9f3a"
             ],
             [
              0.8888888888888888,
              "#fdca26"
             ],
             [
              1,
              "#f0f921"
             ]
            ],
            "type": "heatmap"
           }
          ],
          "heatmapgl": [
           {
            "colorbar": {
             "outlinewidth": 0,
             "ticks": ""
            },
            "colorscale": [
             [
              0,
              "#0d0887"
             ],
             [
              0.1111111111111111,
              "#46039f"
             ],
             [
              0.2222222222222222,
              "#7201a8"
             ],
             [
              0.3333333333333333,
              "#9c179e"
             ],
             [
              0.4444444444444444,
              "#bd3786"
             ],
             [
              0.5555555555555556,
              "#d8576b"
             ],
             [
              0.6666666666666666,
              "#ed7953"
             ],
             [
              0.7777777777777778,
              "#fb9f3a"
             ],
             [
              0.8888888888888888,
              "#fdca26"
             ],
             [
              1,
              "#f0f921"
             ]
            ],
            "type": "heatmapgl"
           }
          ],
          "histogram": [
           {
            "marker": {
             "pattern": {
              "fillmode": "overlay",
              "size": 10,
              "solidity": 0.2
             }
            },
            "type": "histogram"
           }
          ],
          "histogram2d": [
           {
            "colorbar": {
             "outlinewidth": 0,
             "ticks": ""
            },
            "colorscale": [
             [
              0,
              "#0d0887"
             ],
             [
              0.1111111111111111,
              "#46039f"
             ],
             [
              0.2222222222222222,
              "#7201a8"
             ],
             [
              0.3333333333333333,
              "#9c179e"
             ],
             [
              0.4444444444444444,
              "#bd3786"
             ],
             [
              0.5555555555555556,
              "#d8576b"
             ],
             [
              0.6666666666666666,
              "#ed7953"
             ],
             [
              0.7777777777777778,
              "#fb9f3a"
             ],
             [
              0.8888888888888888,
              "#fdca26"
             ],
             [
              1,
              "#f0f921"
             ]
            ],
            "type": "histogram2d"
           }
          ],
          "histogram2dcontour": [
           {
            "colorbar": {
             "outlinewidth": 0,
             "ticks": ""
            },
            "colorscale": [
             [
              0,
              "#0d0887"
             ],
             [
              0.1111111111111111,
              "#46039f"
             ],
             [
              0.2222222222222222,
              "#7201a8"
             ],
             [
              0.3333333333333333,
              "#9c179e"
             ],
             [
              0.4444444444444444,
              "#bd3786"
             ],
             [
              0.5555555555555556,
              "#d8576b"
             ],
             [
              0.6666666666666666,
              "#ed7953"
             ],
             [
              0.7777777777777778,
              "#fb9f3a"
             ],
             [
              0.8888888888888888,
              "#fdca26"
             ],
             [
              1,
              "#f0f921"
             ]
            ],
            "type": "histogram2dcontour"
           }
          ],
          "mesh3d": [
           {
            "colorbar": {
             "outlinewidth": 0,
             "ticks": ""
            },
            "type": "mesh3d"
           }
          ],
          "parcoords": [
           {
            "line": {
             "colorbar": {
              "outlinewidth": 0,
              "ticks": ""
             }
            },
            "type": "parcoords"
           }
          ],
          "pie": [
           {
            "automargin": true,
            "type": "pie"
           }
          ],
          "scatter": [
           {
            "fillpattern": {
             "fillmode": "overlay",
             "size": 10,
             "solidity": 0.2
            },
            "type": "scatter"
           }
          ],
          "scatter3d": [
           {
            "line": {
             "colorbar": {
              "outlinewidth": 0,
              "ticks": ""
             }
            },
            "marker": {
             "colorbar": {
              "outlinewidth": 0,
              "ticks": ""
             }
            },
            "type": "scatter3d"
           }
          ],
          "scattercarpet": [
           {
            "marker": {
             "colorbar": {
              "outlinewidth": 0,
              "ticks": ""
             }
            },
            "type": "scattercarpet"
           }
          ],
          "scattergeo": [
           {
            "marker": {
             "colorbar": {
              "outlinewidth": 0,
              "ticks": ""
             }
            },
            "type": "scattergeo"
           }
          ],
          "scattergl": [
           {
            "marker": {
             "colorbar": {
              "outlinewidth": 0,
              "ticks": ""
             }
            },
            "type": "scattergl"
           }
          ],
          "scattermapbox": [
           {
            "marker": {
             "colorbar": {
              "outlinewidth": 0,
              "ticks": ""
             }
            },
            "type": "scattermapbox"
           }
          ],
          "scatterpolar": [
           {
            "marker": {
             "colorbar": {
              "outlinewidth": 0,
              "ticks": ""
             }
            },
            "type": "scatterpolar"
           }
          ],
          "scatterpolargl": [
           {
            "marker": {
             "colorbar": {
              "outlinewidth": 0,
              "ticks": ""
             }
            },
            "type": "scatterpolargl"
           }
          ],
          "scatterternary": [
           {
            "marker": {
             "colorbar": {
              "outlinewidth": 0,
              "ticks": ""
             }
            },
            "type": "scatterternary"
           }
          ],
          "surface": [
           {
            "colorbar": {
             "outlinewidth": 0,
             "ticks": ""
            },
            "colorscale": [
             [
              0,
              "#0d0887"
             ],
             [
              0.1111111111111111,
              "#46039f"
             ],
             [
              0.2222222222222222,
              "#7201a8"
             ],
             [
              0.3333333333333333,
              "#9c179e"
             ],
             [
              0.4444444444444444,
              "#bd3786"
             ],
             [
              0.5555555555555556,
              "#d8576b"
             ],
             [
              0.6666666666666666,
              "#ed7953"
             ],
             [
              0.7777777777777778,
              "#fb9f3a"
             ],
             [
              0.8888888888888888,
              "#fdca26"
             ],
             [
              1,
              "#f0f921"
             ]
            ],
            "type": "surface"
           }
          ],
          "table": [
           {
            "cells": {
             "fill": {
              "color": "#EBF0F8"
             },
             "line": {
              "color": "white"
             }
            },
            "header": {
             "fill": {
              "color": "#C8D4E3"
             },
             "line": {
              "color": "white"
             }
            },
            "type": "table"
           }
          ]
         },
         "layout": {
          "annotationdefaults": {
           "arrowcolor": "#2a3f5f",
           "arrowhead": 0,
           "arrowwidth": 1
          },
          "autotypenumbers": "strict",
          "coloraxis": {
           "colorbar": {
            "outlinewidth": 0,
            "ticks": ""
           }
          },
          "colorscale": {
           "diverging": [
            [
             0,
             "#8e0152"
            ],
            [
             0.1,
             "#c51b7d"
            ],
            [
             0.2,
             "#de77ae"
            ],
            [
             0.3,
             "#f1b6da"
            ],
            [
             0.4,
             "#fde0ef"
            ],
            [
             0.5,
             "#f7f7f7"
            ],
            [
             0.6,
             "#e6f5d0"
            ],
            [
             0.7,
             "#b8e186"
            ],
            [
             0.8,
             "#7fbc41"
            ],
            [
             0.9,
             "#4d9221"
            ],
            [
             1,
             "#276419"
            ]
           ],
           "sequential": [
            [
             0,
             "#0d0887"
            ],
            [
             0.1111111111111111,
             "#46039f"
            ],
            [
             0.2222222222222222,
             "#7201a8"
            ],
            [
             0.3333333333333333,
             "#9c179e"
            ],
            [
             0.4444444444444444,
             "#bd3786"
            ],
            [
             0.5555555555555556,
             "#d8576b"
            ],
            [
             0.6666666666666666,
             "#ed7953"
            ],
            [
             0.7777777777777778,
             "#fb9f3a"
            ],
            [
             0.8888888888888888,
             "#fdca26"
            ],
            [
             1,
             "#f0f921"
            ]
           ],
           "sequentialminus": [
            [
             0,
             "#0d0887"
            ],
            [
             0.1111111111111111,
             "#46039f"
            ],
            [
             0.2222222222222222,
             "#7201a8"
            ],
            [
             0.3333333333333333,
             "#9c179e"
            ],
            [
             0.4444444444444444,
             "#bd3786"
            ],
            [
             0.5555555555555556,
             "#d8576b"
            ],
            [
             0.6666666666666666,
             "#ed7953"
            ],
            [
             0.7777777777777778,
             "#fb9f3a"
            ],
            [
             0.8888888888888888,
             "#fdca26"
            ],
            [
             1,
             "#f0f921"
            ]
           ]
          },
          "colorway": [
           "#636efa",
           "#EF553B",
           "#00cc96",
           "#ab63fa",
           "#FFA15A",
           "#19d3f3",
           "#FF6692",
           "#B6E880",
           "#FF97FF",
           "#FECB52"
          ],
          "font": {
           "color": "#2a3f5f"
          },
          "geo": {
           "bgcolor": "white",
           "lakecolor": "white",
           "landcolor": "#E5ECF6",
           "showlakes": true,
           "showland": true,
           "subunitcolor": "white"
          },
          "hoverlabel": {
           "align": "left"
          },
          "hovermode": "closest",
          "mapbox": {
           "style": "light"
          },
          "paper_bgcolor": "white",
          "plot_bgcolor": "#E5ECF6",
          "polar": {
           "angularaxis": {
            "gridcolor": "white",
            "linecolor": "white",
            "ticks": ""
           },
           "bgcolor": "#E5ECF6",
           "radialaxis": {
            "gridcolor": "white",
            "linecolor": "white",
            "ticks": ""
           }
          },
          "scene": {
           "xaxis": {
            "backgroundcolor": "#E5ECF6",
            "gridcolor": "white",
            "gridwidth": 2,
            "linecolor": "white",
            "showbackground": true,
            "ticks": "",
            "zerolinecolor": "white"
           },
           "yaxis": {
            "backgroundcolor": "#E5ECF6",
            "gridcolor": "white",
            "gridwidth": 2,
            "linecolor": "white",
            "showbackground": true,
            "ticks": "",
            "zerolinecolor": "white"
           },
           "zaxis": {
            "backgroundcolor": "#E5ECF6",
            "gridcolor": "white",
            "gridwidth": 2,
            "linecolor": "white",
            "showbackground": true,
            "ticks": "",
            "zerolinecolor": "white"
           }
          },
          "shapedefaults": {
           "line": {
            "color": "#2a3f5f"
           }
          },
          "ternary": {
           "aaxis": {
            "gridcolor": "white",
            "linecolor": "white",
            "ticks": ""
           },
           "baxis": {
            "gridcolor": "white",
            "linecolor": "white",
            "ticks": ""
           },
           "bgcolor": "#E5ECF6",
           "caxis": {
            "gridcolor": "white",
            "linecolor": "white",
            "ticks": ""
           }
          },
          "title": {
           "x": 0.05
          },
          "xaxis": {
           "automargin": true,
           "gridcolor": "white",
           "linecolor": "white",
           "ticks": "",
           "title": {
            "standoff": 15
           },
           "zerolinecolor": "white",
           "zerolinewidth": 2
          },
          "yaxis": {
           "automargin": true,
           "gridcolor": "white",
           "linecolor": "white",
           "ticks": "",
           "title": {
            "standoff": 15
           },
           "zerolinecolor": "white",
           "zerolinewidth": 2
          }
         }
        },
        "width": 800,
        "xaxis": {
         "domain": [
          0,
          1
         ],
         "mirror": false,
         "rangemode": "tozero",
         "showgrid": false,
         "showline": false,
         "showticklabels": true,
         "ticks": "",
         "zeroline": false
        },
        "yaxis": {
         "domain": [
          0,
          1
         ],
         "mirror": false,
         "rangemode": "tozero",
         "showgrid": false,
         "showline": false,
         "showticklabels": true,
         "ticks": "",
         "zeroline": false
        }
       }
      }
     },
     "metadata": {},
     "output_type": "display_data"
    }
   ],
   "source": [
    "linkage2 = pd.read_excel(r\"C:\\Users\\allem\\Desktop\\IACV-Project\\data\\dendogram_multilink_full.xlsx\", header=None)\n",
    "model = DendrogramCut(k_max=230, method='average').fit(dist, linkage2)\n",
    "k = model.pac_bayesian_cut()\n",
    "print(k)\n",
    "model.dendrogram_plot(k=k)"
   ]
  },
  {
   "cell_type": "code",
   "execution_count": 15,
   "id": "845e5f18",
   "metadata": {},
   "outputs": [
    {
     "data": {
      "text/plain": [
       "['C0',\n",
       " 'C0',\n",
       " 'C0',\n",
       " 'C0',\n",
       " 'C0',\n",
       " 'C0',\n",
       " 'C0',\n",
       " 'C0',\n",
       " 'C0',\n",
       " 'C0',\n",
       " 'C1',\n",
       " 'C1',\n",
       " 'C1',\n",
       " 'C1',\n",
       " 'C2',\n",
       " 'C3',\n",
       " 'C3',\n",
       " 'C3',\n",
       " 'C4',\n",
       " 'C4',\n",
       " 'C4',\n",
       " 'C4',\n",
       " 'C4',\n",
       " 'C4',\n",
       " 'C4',\n",
       " 'C4',\n",
       " 'C4',\n",
       " 'C4',\n",
       " 'C5',\n",
       " 'C5',\n",
       " 'C5',\n",
       " 'C5',\n",
       " 'C5',\n",
       " 'C5',\n",
       " 'C5',\n",
       " 'C5',\n",
       " 'C5',\n",
       " 'C5',\n",
       " 'C6',\n",
       " 'C6',\n",
       " 'C6',\n",
       " 'C6',\n",
       " 'C6',\n",
       " 'C6',\n",
       " 'C6',\n",
       " 'C6',\n",
       " 'C6',\n",
       " 'C6',\n",
       " 'C6',\n",
       " 'C6',\n",
       " 'C6',\n",
       " 'C6',\n",
       " 'C6',\n",
       " 'C6',\n",
       " 'C6',\n",
       " 'C6',\n",
       " 'C6',\n",
       " 'C6',\n",
       " 'C6',\n",
       " 'C6',\n",
       " 'C6',\n",
       " 'C6',\n",
       " 'C6',\n",
       " 'C0',\n",
       " 'C0',\n",
       " 'C0',\n",
       " 'C0',\n",
       " 'C0',\n",
       " 'C0',\n",
       " 'C0',\n",
       " 'C0',\n",
       " 'C0',\n",
       " 'C0',\n",
       " 'C0',\n",
       " 'C0',\n",
       " 'C0',\n",
       " 'C0',\n",
       " 'C0',\n",
       " 'C0',\n",
       " 'C0',\n",
       " 'C0',\n",
       " 'C0',\n",
       " 'C7',\n",
       " 'C7',\n",
       " 'C7',\n",
       " 'C7',\n",
       " 'C7',\n",
       " 'C7',\n",
       " 'C7',\n",
       " 'C7',\n",
       " 'C7',\n",
       " 'C7',\n",
       " 'C7',\n",
       " 'C7',\n",
       " 'C7',\n",
       " 'C7',\n",
       " 'C7',\n",
       " 'C7',\n",
       " 'C7',\n",
       " 'C7',\n",
       " 'C7',\n",
       " 'C7',\n",
       " 'C7',\n",
       " 'C7',\n",
       " 'C7',\n",
       " 'C7',\n",
       " 'C7',\n",
       " 'C7',\n",
       " 'C7',\n",
       " 'C7',\n",
       " 'C7',\n",
       " 'C7',\n",
       " 'C7',\n",
       " 'C7',\n",
       " 'C7',\n",
       " 'C7',\n",
       " 'C7',\n",
       " 'C7',\n",
       " 'C7',\n",
       " 'C7',\n",
       " 'C7',\n",
       " 'C7',\n",
       " 'C7',\n",
       " 'C7',\n",
       " 'C7',\n",
       " 'C7',\n",
       " 'C7',\n",
       " 'C7',\n",
       " 'C7',\n",
       " 'C7',\n",
       " 'C7',\n",
       " 'C7',\n",
       " 'C7',\n",
       " 'C7',\n",
       " 'C7',\n",
       " 'C7',\n",
       " 'C7',\n",
       " 'C7',\n",
       " 'C7',\n",
       " 'C7',\n",
       " 'C7',\n",
       " 'C7',\n",
       " 'C7',\n",
       " 'C7',\n",
       " 'C0',\n",
       " 'C8',\n",
       " 'C8',\n",
       " 'C8',\n",
       " 'C8',\n",
       " 'C8',\n",
       " 'C8',\n",
       " 'C8',\n",
       " 'C8',\n",
       " 'C8',\n",
       " 'C8',\n",
       " 'C8',\n",
       " 'C8',\n",
       " 'C8',\n",
       " 'C8',\n",
       " 'C8',\n",
       " 'C8',\n",
       " 'C8',\n",
       " 'C8',\n",
       " 'C8',\n",
       " 'C8',\n",
       " 'C8',\n",
       " 'C8',\n",
       " 'C8',\n",
       " 'C8',\n",
       " 'C8',\n",
       " 'C8',\n",
       " 'C9',\n",
       " 'C9',\n",
       " 'C9',\n",
       " 'C9',\n",
       " 'C9',\n",
       " 'C9',\n",
       " 'C9',\n",
       " 'C9',\n",
       " 'C9',\n",
       " 'C9',\n",
       " 'C9',\n",
       " 'C9',\n",
       " 'C9',\n",
       " 'C9',\n",
       " 'C9',\n",
       " 'C9',\n",
       " 'C9',\n",
       " 'C9',\n",
       " 'C9',\n",
       " 'C9',\n",
       " 'C9',\n",
       " 'C9',\n",
       " 'C9',\n",
       " 'C9',\n",
       " 'C0',\n",
       " 'C0',\n",
       " 'C0',\n",
       " 'C0',\n",
       " 'C0',\n",
       " 'C0',\n",
       " 'C0',\n",
       " 'C0',\n",
       " 'C0',\n",
       " 'C1',\n",
       " 'C0',\n",
       " 'C0',\n",
       " 'C0',\n",
       " 'C0',\n",
       " 'C2',\n",
       " 'C3',\n",
       " 'C3',\n",
       " 'C0',\n",
       " 'C0',\n",
       " 'C0',\n",
       " 'C0',\n",
       " 'C0',\n",
       " 'C0',\n",
       " 'C0',\n",
       " 'C0',\n",
       " 'C0',\n",
       " 'C0',\n",
       " 'C0',\n",
       " 'C0',\n",
       " 'C0',\n",
       " 'C0',\n",
       " 'C0',\n",
       " 'C0',\n",
       " 'C0']"
      ]
     },
     "execution_count": 15,
     "metadata": {},
     "output_type": "execute_result"
    },
    {
     "data": {
      "image/png": "[encoded data removed]",
      "text/plain": [
       "<Figure size 432x288 with 1 Axes>"
      ]
     },
     "metadata": {
      "needs_background": "light"
     },
     "output_type": "display_data"
    }
   ],
   "source": [
    "from scipy.cluster.hierarchy import dendrogram\n",
    "\n",
    "\n",
    "dendrogram(model.linkage)['color_list']"
   ]
  },
  {
   "cell_type": "code",
   "execution_count": 16,
   "id": "c21d9844",
   "metadata": {},
   "outputs": [
    {
     "data": {
      "text/plain": [
       "array([[1.20e+02, 1.79e+02, 0.00e+00, 2.00e+00],\n",
       "       [1.12e+02, 1.13e+02, 1.00e-02, 2.00e+00],\n",
       "       [4.10e+01, 4.20e+01, 2.00e-02, 2.00e+00],\n",
       "       [1.18e+02, 1.19e+02, 2.00e-02, 2.00e+00],\n",
       "       [7.00e+00, 1.98e+02, 3.00e-02, 2.00e+00],\n",
       "       [1.10e+01, 1.20e+01, 4.00e-02, 2.00e+00],\n",
       "       [4.90e+01, 5.00e+01, 7.00e-02, 2.00e+00],\n",
       "       [5.60e+01, 5.70e+01, 9.00e-02, 2.00e+00],\n",
       "       [5.00e+00, 6.00e+00, 9.00e-02, 2.00e+00],\n",
       "       [2.00e+01, 2.10e+01, 9.00e-02, 2.00e+00],\n",
       "       [6.10e+01, 6.20e+01, 1.00e-01, 2.00e+00],\n",
       "       [7.00e+01, 7.20e+01, 1.20e-01, 2.00e+00],\n",
       "       [7.40e+01, 7.50e+01, 1.60e-01, 2.00e+00],\n",
       "       [1.30e+01, 1.50e+01, 1.70e-01, 2.00e+00],\n",
       "       [5.20e+01, 2.36e+02, 1.70e-01, 2.00e+00],\n",
       "       [1.05e+02, 1.06e+02, 1.80e-01, 2.00e+00],\n",
       "       [5.80e+01, 2.37e+02, 1.80e-01, 2.00e+00],\n",
       "       [3.40e+01, 3.50e+01, 1.90e-01, 2.00e+00],\n",
       "       [2.35e+02, 2.43e+02, 1.90e-01, 2.00e+00],\n",
       "       [4.50e+01, 4.70e+01, 2.00e-01, 2.00e+00],\n",
       "       [7.10e+01, 2.41e+02, 2.10e-01, 2.00e+00],\n",
       "       [2.20e+01, 2.30e+01, 2.10e-01, 2.00e+00],\n",
       "       [6.60e+01, 6.70e+01, 2.20e-01, 2.00e+00],\n",
       "       [4.40e+01, 2.49e+02, 2.20e-01, 2.00e+00],\n",
       "       [1.04e+02, 2.45e+02, 2.20e-01, 2.00e+00],\n",
       "       [9.00e+00, 1.00e+01, 2.20e-01, 2.00e+00],\n",
       "       [2.48e+02, 2.55e+02, 2.20e-01, 2.00e+00],\n",
       "       [1.67e+02, 1.68e+02, 2.30e-01, 2.00e+00],\n",
       "       [4.80e+01, 2.53e+02, 2.30e-01, 2.00e+00],\n",
       "       [1.60e+01, 1.70e+01, 2.30e-01, 2.00e+00],\n",
       "       [1.76e+02, 1.77e+02, 2.30e-01, 2.00e+00],\n",
       "       [4.60e+01, 2.58e+02, 2.40e-01, 2.00e+00],\n",
       "       [1.11e+02, 2.31e+02, 2.40e-01, 2.00e+00],\n",
       "       [2.50e+01, 2.60e+01, 2.40e-01, 2.00e+00],\n",
       "       [6.30e+01, 2.40e+02, 2.40e-01, 2.00e+00],\n",
       "       [9.80e+01, 9.90e+01, 2.40e-01, 2.00e+00],\n",
       "       [5.30e+01, 5.40e+01, 2.40e-01, 2.00e+00],\n",
       "       [6.50e+01, 2.52e+02, 2.50e-01, 2.00e+00],\n",
       "       [5.10e+01, 2.66e+02, 2.50e-01, 2.00e+00],\n",
       "       [2.61e+02, 2.68e+02, 2.60e-01, 2.00e+00],\n",
       "       [6.90e+01, 2.50e+02, 2.60e-01, 2.00e+00],\n",
       "       [3.30e+01, 2.47e+02, 2.60e-01, 2.00e+00],\n",
       "       [1.60e+02, 1.61e+02, 2.60e-01, 2.00e+00],\n",
       "       [1.00e+02, 2.65e+02, 2.60e-01, 2.00e+00],\n",
       "       [1.07e+02, 2.54e+02, 2.70e-01, 2.00e+00],\n",
       "       [3.90e+01, 4.00e+01, 2.70e-01, 2.00e+00],\n",
       "       [6.80e+01, 2.67e+02, 2.70e-01, 2.00e+00],\n",
       "       [2.56e+02, 2.59e+02, 2.80e-01, 2.00e+00],\n",
       "       [8.00e+00, 2.34e+02, 2.80e-01, 2.00e+00],\n",
       "       [3.70e+01, 2.75e+02, 2.80e-01, 2.00e+00],\n",
       "       [8.80e+01, 8.90e+01, 2.80e-01, 2.00e+00],\n",
       "       [1.70e+02, 1.71e+02, 2.90e-01, 2.00e+00],\n",
       "       [2.70e+02, 2.76e+02, 2.90e-01, 2.00e+00],\n",
       "       [3.60e+01, 2.79e+02, 2.90e-01, 2.00e+00],\n",
       "       [1.90e+01, 2.39e+02, 2.90e-01, 2.00e+00],\n",
       "       [2.44e+02, 2.69e+02, 2.90e-01, 2.00e+00],\n",
       "       [1.09e+02, 2.74e+02, 2.90e-01, 2.00e+00],\n",
       "       [2.77e+02, 2.84e+02, 2.90e-01, 2.00e+00],\n",
       "       [2.32e+02, 2.85e+02, 3.00e-01, 2.00e+00],\n",
       "       [1.15e+02, 1.17e+02, 3.10e-01, 2.00e+00],\n",
       "       [2.51e+02, 2.63e+02, 3.10e-01, 2.00e+00],\n",
       "       [1.72e+02, 2.81e+02, 3.20e-01, 2.00e+00],\n",
       "       [8.50e+01, 8.60e+01, 3.20e-01, 2.00e+00],\n",
       "       [1.29e+02, 1.30e+02, 3.20e-01, 2.00e+00],\n",
       "       [1.41e+02, 1.42e+02, 3.20e-01, 2.00e+00],\n",
       "       [1.01e+02, 1.02e+02, 3.30e-01, 2.00e+00],\n",
       "       [1.10e+02, 2.86e+02, 3.30e-01, 2.00e+00],\n",
       "       [3.00e+00, 2.38e+02, 3.30e-01, 2.00e+00],\n",
       "       [7.60e+01, 2.42e+02, 3.30e-01, 2.00e+00],\n",
       "       [2.62e+02, 2.96e+02, 3.40e-01, 2.00e+00],\n",
       "       [0.00e+00, 2.97e+02, 3.40e-01, 2.00e+00],\n",
       "       [7.70e+01, 7.90e+01, 3.40e-01, 2.00e+00],\n",
       "       [1.00e+00, 3.00e+02, 3.40e-01, 2.00e+00],\n",
       "       [2.70e+01, 2.90e+02, 3.40e-01, 2.00e+00],\n",
       "       [1.73e+02, 2.91e+02, 3.40e-01, 2.00e+00],\n",
       "       [5.90e+01, 2.46e+02, 3.50e-01, 2.00e+00],\n",
       "       [1.64e+02, 1.65e+02, 3.50e-01, 2.00e+00],\n",
       "       [2.95e+02, 2.99e+02, 3.60e-01, 2.00e+00],\n",
       "       [8.00e+01, 3.01e+02, 3.70e-01, 2.00e+00],\n",
       "       [2.87e+02, 3.03e+02, 3.70e-01, 2.00e+00],\n",
       "       [8.20e+01, 8.40e+01, 3.80e-01, 2.00e+00],\n",
       "       [2.98e+02, 3.08e+02, 3.80e-01, 2.00e+00],\n",
       "       [1.31e+02, 1.32e+02, 3.90e-01, 2.00e+00],\n",
       "       [2.00e+00, 3.02e+02, 3.90e-01, 2.00e+00],\n",
       "       [2.83e+02, 2.88e+02, 4.00e-01, 2.00e+00],\n",
       "       [3.80e+01, 3.14e+02, 4.00e-01, 2.00e+00],\n",
       "       [1.39e+02, 1.40e+02, 4.00e-01, 2.00e+00],\n",
       "       [1.03e+02, 3.07e+02, 4.10e-01, 2.00e+00],\n",
       "       [9.00e+01, 2.80e+02, 4.10e-01, 2.00e+00],\n",
       "       [1.38e+02, 3.16e+02, 4.20e-01, 2.00e+00],\n",
       "       [3.09e+02, 3.13e+02, 4.20e-01, 2.00e+00],\n",
       "       [1.74e+02, 1.75e+02, 4.20e-01, 2.00e+00],\n",
       "       [1.66e+02, 3.06e+02, 4.30e-01, 2.00e+00],\n",
       "       [2.71e+02, 3.15e+02, 4.30e-01, 2.00e+00],\n",
       "       [1.50e+02, 1.51e+02, 4.40e-01, 2.00e+00],\n",
       "       [2.60e+02, 3.21e+02, 4.50e-01, 2.00e+00],\n",
       "       [1.14e+02, 1.16e+02, 4.50e-01, 2.00e+00],\n",
       "       [1.33e+02, 3.12e+02, 4.50e-01, 2.00e+00],\n",
       "       [3.17e+02, 3.26e+02, 4.60e-01, 2.00e+00],\n",
       "       [3.05e+02, 3.23e+02, 4.60e-01, 2.00e+00],\n",
       "       [8.10e+01, 3.10e+02, 4.70e-01, 2.00e+00],\n",
       "       [2.64e+02, 2.82e+02, 4.70e-01, 2.00e+00],\n",
       "       [2.40e+01, 3.20e+02, 4.70e-01, 2.00e+00],\n",
       "       [2.80e+01, 3.32e+02, 4.70e-01, 2.00e+00],\n",
       "       [3.11e+02, 3.31e+02, 4.70e-01, 2.00e+00],\n",
       "       [6.00e+01, 3.34e+02, 4.70e-01, 2.00e+00],\n",
       "       [1.78e+02, 3.25e+02, 4.70e-01, 2.00e+00],\n",
       "       [1.54e+02, 1.55e+02, 4.70e-01, 2.00e+00],\n",
       "       [3.04e+02, 3.36e+02, 4.80e-01, 2.00e+00],\n",
       "       [2.94e+02, 3.19e+02, 4.90e-01, 2.00e+00],\n",
       "       [9.30e+01, 9.40e+01, 4.90e-01, 2.00e+00],\n",
       "       [3.18e+02, 3.33e+02, 4.90e-01, 2.00e+00],\n",
       "       [4.00e+00, 2.78e+02, 5.00e-01, 2.00e+00],\n",
       "       [1.08e+02, 3.28e+02, 5.00e-01, 2.00e+00],\n",
       "       [3.00e+01, 3.29e+02, 5.00e-01, 2.00e+00],\n",
       "       [3.20e+01, 3.44e+02, 5.00e-01, 2.00e+00],\n",
       "       [1.21e+02, 1.22e+02, 5.10e-01, 2.00e+00],\n",
       "       [3.10e+01, 3.45e+02, 5.10e-01, 2.00e+00],\n",
       "       [2.30e+02, 3.38e+02, 5.10e-01, 2.00e+00],\n",
       "       [1.28e+02, 2.93e+02, 5.10e-01, 2.00e+00],\n",
       "       [3.41e+02, 3.47e+02, 5.10e-01, 2.00e+00],\n",
       "       [2.33e+02, 2.89e+02, 5.10e-01, 2.00e+00],\n",
       "       [2.90e+01, 3.50e+02, 5.10e-01, 2.00e+00],\n",
       "       [5.50e+01, 3.52e+02, 5.10e-01, 2.00e+00],\n",
       "       [3.42e+02, 3.53e+02, 5.10e-01, 2.00e+00],\n",
       "       [2.57e+02, 3.22e+02, 5.10e-01, 2.00e+00],\n",
       "       [7.80e+01, 3.35e+02, 5.20e-01, 2.00e+00],\n",
       "       [3.43e+02, 3.51e+02, 5.20e-01, 2.00e+00],\n",
       "       [2.25e+02, 3.48e+02, 5.30e-01, 2.00e+00],\n",
       "       [9.60e+01, 3.40e+02, 5.30e-01, 2.00e+00],\n",
       "       [1.62e+02, 2.72e+02, 5.30e-01, 2.00e+00],\n",
       "       [2.04e+02, 2.05e+02, 5.30e-01, 2.00e+00],\n",
       "       [1.52e+02, 3.24e+02, 5.40e-01, 2.00e+00],\n",
       "       [3.46e+02, 3.58e+02, 5.40e-01, 2.00e+00],\n",
       "       [1.23e+02, 3.63e+02, 5.40e-01, 2.00e+00],\n",
       "       [1.44e+02, 1.45e+02, 5.40e-01, 2.00e+00],\n",
       "       [1.43e+02, 3.65e+02, 5.50e-01, 2.00e+00],\n",
       "       [1.27e+02, 3.49e+02, 5.50e-01, 2.00e+00],\n",
       "       [1.69e+02, 3.64e+02, 5.50e-01, 2.00e+00],\n",
       "       [1.24e+02, 3.68e+02, 5.50e-01, 2.00e+00],\n",
       "       [1.80e+01, 3.54e+02, 5.50e-01, 2.00e+00],\n",
       "       [1.56e+02, 3.37e+02, 5.60e-01, 2.00e+00],\n",
       "       [1.49e+02, 3.62e+02, 5.60e-01, 2.00e+00],\n",
       "       [9.70e+01, 2.73e+02, 5.70e-01, 2.00e+00],\n",
       "       [9.20e+01, 3.59e+02, 5.70e-01, 2.00e+00],\n",
       "       [3.39e+02, 3.66e+02, 5.70e-01, 2.00e+00],\n",
       "       [1.46e+02, 3.75e+02, 5.70e-01, 2.00e+00],\n",
       "       [3.30e+02, 3.56e+02, 5.80e-01, 2.00e+00],\n",
       "       [3.55e+02, 3.60e+02, 5.90e-01, 2.00e+00],\n",
       "       [4.30e+01, 3.70e+02, 5.90e-01, 2.00e+00],\n",
       "       [1.53e+02, 3.72e+02, 5.90e-01, 2.00e+00],\n",
       "       [1.59e+02, 3.78e+02, 6.00e-01, 2.00e+00],\n",
       "       [3.27e+02, 3.67e+02, 6.00e-01, 2.00e+00],\n",
       "       [1.37e+02, 3.76e+02, 6.10e-01, 2.00e+00],\n",
       "       [1.47e+02, 1.48e+02, 6.10e-01, 2.00e+00],\n",
       "       [1.63e+02, 3.81e+02, 6.10e-01, 2.00e+00],\n",
       "       [1.58e+02, 3.85e+02, 6.10e-01, 2.00e+00],\n",
       "       [1.34e+02, 3.82e+02, 6.20e-01, 2.00e+00],\n",
       "       [1.57e+02, 3.71e+02, 6.20e-01, 2.00e+00],\n",
       "       [6.40e+01, 3.77e+02, 6.20e-01, 2.00e+00],\n",
       "       [3.73e+02, 3.74e+02, 6.30e-01, 2.00e+00],\n",
       "       [1.36e+02, 3.83e+02, 6.60e-01, 2.00e+00],\n",
       "       [2.92e+02, 3.89e+02, 6.60e-01, 2.00e+00],\n",
       "       [1.25e+02, 3.69e+02, 6.70e-01, 2.00e+00],\n",
       "       [3.87e+02, 3.93e+02, 6.70e-01, 2.00e+00],\n",
       "       [2.19e+02, 2.20e+02, 6.70e-01, 2.00e+00],\n",
       "       [1.91e+02, 2.06e+02, 6.80e-01, 2.00e+00],\n",
       "       [3.57e+02, 3.90e+02, 6.90e-01, 2.00e+00],\n",
       "       [2.03e+02, 3.96e+02, 6.90e-01, 2.00e+00],\n",
       "       [3.91e+02, 3.94e+02, 7.00e-01, 2.00e+00],\n",
       "       [3.86e+02, 3.99e+02, 7.00e-01, 2.00e+00],\n",
       "       [1.89e+02, 1.99e+02, 7.10e-01, 2.00e+00],\n",
       "       [3.88e+02, 4.00e+02, 7.10e-01, 2.00e+00],\n",
       "       [8.70e+01, 3.92e+02, 7.20e-01, 2.00e+00],\n",
       "       [3.84e+02, 4.02e+02, 7.30e-01, 2.00e+00],\n",
       "       [3.97e+02, 4.03e+02, 7.30e-01, 2.00e+00],\n",
       "       [1.26e+02, 4.04e+02, 7.40e-01, 2.00e+00],\n",
       "       [3.80e+02, 4.06e+02, 7.40e-01, 2.00e+00],\n",
       "       [1.84e+02, 2.13e+02, 7.40e-01, 2.00e+00],\n",
       "       [7.30e+01, 4.05e+02, 7.40e-01, 2.00e+00],\n",
       "       [2.11e+02, 3.95e+02, 7.60e-01, 2.00e+00],\n",
       "       [1.40e+01, 3.79e+02, 7.60e-01, 2.00e+00],\n",
       "       [1.90e+02, 4.01e+02, 7.90e-01, 2.00e+00],\n",
       "       [1.35e+02, 2.18e+02, 8.00e-01, 2.00e+00],\n",
       "       [9.10e+01, 4.09e+02, 8.10e-01, 2.00e+00],\n",
       "       [4.07e+02, 4.13e+02, 8.50e-01, 2.00e+00],\n",
       "       [1.97e+02, 2.17e+02, 8.50e-01, 2.00e+00],\n",
       "       [1.85e+02, 1.88e+02, 8.60e-01, 2.00e+00],\n",
       "       [2.21e+02, 2.22e+02, 8.60e-01, 2.00e+00],\n",
       "       [1.92e+02, 2.14e+02, 8.80e-01, 2.00e+00],\n",
       "       [1.86e+02, 1.96e+02, 8.90e-01, 2.00e+00],\n",
       "       [1.80e+02, 1.93e+02, 8.90e-01, 2.00e+00],\n",
       "       [2.28e+02, 4.17e+02, 9.00e-01, 2.00e+00],\n",
       "       [1.81e+02, 4.16e+02, 9.10e-01, 2.00e+00],\n",
       "       [8.30e+01, 9.50e+01, 9.10e-01, 2.00e+00],\n",
       "       [4.08e+02, 4.24e+02, 9.20e-01, 2.00e+00],\n",
       "       [2.15e+02, 4.20e+02, 9.20e-01, 2.00e+00],\n",
       "       [1.87e+02, 1.95e+02, 9.20e-01, 2.00e+00],\n",
       "       [2.24e+02, 2.29e+02, 9.30e-01, 2.00e+00],\n",
       "       [2.26e+02, 4.28e+02, 9.30e-01, 2.00e+00],\n",
       "       [2.00e+02, 2.07e+02, 9.40e-01, 2.00e+00],\n",
       "       [2.23e+02, 4.19e+02, 9.50e-01, 2.00e+00],\n",
       "       [2.27e+02, 4.18e+02, 9.50e-01, 2.00e+00],\n",
       "       [2.02e+02, 2.12e+02, 9.60e-01, 2.00e+00],\n",
       "       [2.01e+02, 2.16e+02, 9.60e-01, 2.00e+00],\n",
       "       [2.09e+02, 4.34e+02, 9.60e-01, 2.00e+00],\n",
       "       [1.83e+02, 2.08e+02, 9.70e-01, 2.00e+00],\n",
       "       [4.12e+02, 4.32e+02, 9.80e-01, 2.00e+00],\n",
       "       [1.94e+02, 4.35e+02, 9.80e-01, 2.00e+00],\n",
       "       [4.10e+02, 4.26e+02, 9.90e-01, 2.00e+00],\n",
       "       [4.31e+02, 4.37e+02, 9.90e-01, 2.00e+00],\n",
       "       [1.82e+02, 2.10e+02, 9.90e-01, 2.00e+00],\n",
       "       [4.11e+02, 4.14e+02, 7.00e-01, 2.00e+00],\n",
       "       [4.25e+02, 4.42e+02, 7.40e-01, 2.00e+00],\n",
       "       [4.30e+02, 4.43e+02, 7.60e-01, 2.00e+00],\n",
       "       [3.98e+02, 4.40e+02, 8.00e-01, 2.00e+00],\n",
       "       [4.15e+02, 4.29e+02, 8.40e-01, 2.00e+00],\n",
       "       [4.21e+02, 4.46e+02, 8.40e-01, 2.00e+00],\n",
       "       [4.41e+02, 4.47e+02, 8.80e-01, 2.00e+00],\n",
       "       [3.61e+02, 4.45e+02, 9.00e-01, 2.00e+00],\n",
       "       [4.23e+02, 4.48e+02, 9.00e-01, 2.00e+00],\n",
       "       [4.39e+02, 4.49e+02, 9.00e-01, 2.00e+00],\n",
       "       [4.27e+02, 4.44e+02, 9.00e-01, 2.00e+00],\n",
       "       [4.33e+02, 4.51e+02, 9.00e-01, 2.00e+00],\n",
       "       [4.52e+02, 4.53e+02, 9.10e-01, 2.00e+00],\n",
       "       [4.50e+02, 4.54e+02, 9.10e-01, 2.00e+00],\n",
       "       [4.38e+02, 4.55e+02, 9.20e-01, 2.00e+00],\n",
       "       [4.22e+02, 4.56e+02, 9.50e-01, 2.00e+00],\n",
       "       [4.36e+02, 4.57e+02, 9.50e-01, 2.00e+00]])"
      ]
     },
     "execution_count": 16,
     "metadata": {},
     "output_type": "execute_result"
    }
   ],
   "source": [
    "model.linkage"
   ]
  }
 ],
 "metadata": {
  "kernelspec": {
   "display_name": "Python 3.8.5 ('base')",
   "language": "python",
   "name": "python3"
  },
  "language_info": {
   "codemirror_mode": {
    "name": "ipython",
    "version": 3
   },
   "file_extension": ".py",
   "mimetype": "text/x-python",
   "name": "python",
   "nbconvert_exporter": "python",
   "pygments_lexer": "ipython3",
   "version": "3.8.5"
  },
  "vscode": {
   "interpreter": {
    "hash": "67fb5c8522943cfc849952245afc20975abbf95250ffc483d5f3dc8e97ca2e14"
   }
  }
 },
 "nbformat": 4,
 "nbformat_minor": 5
}

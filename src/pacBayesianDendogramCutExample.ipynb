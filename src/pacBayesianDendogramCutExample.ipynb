{
 "cells": [
  {
   "cell_type": "markdown",
   "id": "fd1f62bf",
   "metadata": {},
   "source": [
    "## Import libraries"
   ]
  },
  {
   "cell_type": "code",
   "execution_count": 1,
   "id": "5a4ccaf7",
   "metadata": {},
   "outputs": [
    {
     "data": {
      "text/html": [
       "<style>.container { width:90% !important; }</style>"
      ],
      "text/plain": [
       "<IPython.core.display.HTML object>"
      ]
     },
     "metadata": {},
     "output_type": "display_data"
    }
   ],
   "source": [
    "import numpy as np\n",
    "import sklearn\n",
    "import sklearn.datasets\n",
    "import scipy\n",
    "from scipy.spatial.distance import pdist, squareform\n",
    "from pacBayesianDendogramCut import DendrogramCut\n",
    "from IPython.core.display import display, HTML\n",
    "import matplotlib.pyplot as plt\n",
    "display(HTML(\"<style>.container { width:90% !important; }</style>\"))"
   ]
  },
  {
   "cell_type": "code",
   "execution_count": 2,
   "id": "d183a69e",
   "metadata": {},
   "outputs": [],
   "source": [
    "temp = scipy.io.loadmat('../../multilink/data/ticktoe.mat')\n",
    "X = temp[\"X\"].tolist()                                 # X = temp.X;\n",
    "G = temp[\"G\"]    "
   ]
  },
  {
   "cell_type": "code",
   "execution_count": 3,
   "id": "37edca6c",
   "metadata": {},
   "outputs": [],
   "source": [
    "X = zip(X[0],X[1])\n",
    "X = list(X)\n",
    "X = list(map( lambda x: [x[0], x[1]]  ,X))\n",
    "X = np.asarray(X)"
   ]
  },
  {
   "cell_type": "markdown",
   "id": "0299aa0d",
   "metadata": {},
   "source": [
    "## Generate dataset for clustering"
   ]
  },
  {
   "cell_type": "code",
   "execution_count": 4,
   "id": "2a9b465d",
   "metadata": {},
   "outputs": [],
   "source": [
    "centers = np.asarray([[-6.8, -7.3], [5, 2.5], [5, -2.5]])\n",
    "samples = np.asarray([4, 1, 1]) * 50\n",
    "\n",
    "'''X2, Z, C = sklearn.datasets.make_blobs(\n",
    "    samples,\n",
    "    cluster_std=[2, 1, 1],\n",
    "    centers=centers,\n",
    "    return_centers=True)'''\n",
    "dist = pdist(X)\n",
    "dist = squareform(dist)"
   ]
  },
  {
   "cell_type": "markdown",
   "id": "334309ee",
   "metadata": {},
   "source": [
    "## Plot the generated dataset"
   ]
  },
  {
   "cell_type": "code",
   "execution_count": 5,
   "id": "d1877446",
   "metadata": {},
   "outputs": [
    {
     "name": "stderr",
     "output_type": "stream",
     "text": [
      "C:\\Users\\allem\\AppData\\Local\\Temp/ipykernel_19880/1025274349.py:5: UserWarning: Matplotlib is currently using module://matplotlib_inline.backend_inline, which is a non-GUI backend, so cannot show the figure.\n",
      "  fig.show()\n"
     ]
    },
    {
     "data": {
      "image/png": "[encoded data removed]",
      "text/plain": [
       "<Figure size 720x720 with 1 Axes>"
      ]
     },
     "metadata": {
      "needs_background": "light"
     },
     "output_type": "display_data"
    }
   ],
   "source": [
    "fig = plt.figure(figsize=(10,10))\n",
    "ax = fig.add_subplot(111)\n",
    "ax.scatter(X[:, 0], X[:, 1])\n",
    "#ax.scatter(C[:, 0], C[:, 1])\n",
    "fig.show()"
   ]
  },
  {
   "cell_type": "markdown",
   "id": "a3c382de",
   "metadata": {},
   "source": [
    "## Compute the dynamic cut with the pacBayesian algorithm and plot the results"
   ]
  },
  {
   "cell_type": "code",
   "execution_count": 6,
   "id": "614d5e63",
   "metadata": {},
   "outputs": [
    {
     "name": "stdout",
     "output_type": "stream",
     "text": [
      "1\n"
     ]
    },
    {
     "name": "stderr",
     "output_type": "stream",
     "text": [
      "c:\\Users\\allem\\Desktop\\IACV-Project\\src\\pacBayesianDendogramCut.py:163: RuntimeWarning: invalid value encountered in long_scalars\n",
      "  colorscale = dict((i, z[i] / (k - 1)) for i in range(self.n_data))\n"
     ]
    },
    {
     "data": {
      "application/vnd.plotly.v1+json": {
       "config": {
        "plotlyServerURL": "https://plot.ly"
       },
       "data": [
        {
         "hoverinfo": "text",
         "marker": {
          "color": "rgb(0, 0, 0)"
         },
         "mode": "lines",
         "type": "scatter",
         "x": [
          165,
          165,
          166,
          166
         ],
         "xaxis": "x",
         "y": [
          0,
          0.0012844874589573538,
          0.0012844874589573538,
          0
         ],
         "yaxis": "y"
        },
        {
         "hoverinfo": "text",
         "marker": {
          "color": "rgb(0, 0, 0)"
         },
         "mode": "lines",
         "type": "scatter",
         "x": [
          17,
          17,
          18,
          18
         ],
         "xaxis": "x",
         "y": [
          0,
          0.003219114493317183,
          0.003219114493317183,
          0
         ],
         "yaxis": "y"
        },
        {
         "hoverinfo": "text",
         "marker": {
          "color": "rgb(0, 0, 0)"
         },
         "mode": "lines",
         "type": "scatter",
         "x": [
          128,
          128,
          129,
          129
         ],
         "xaxis": "x",
         "y": [
          0,
          0.005682476040008414,
          0.005682476040008414,
          0
         ],
         "yaxis": "y"
        },
        {
         "hoverinfo": "text",
         "marker": {
          "color": "rgb(0, 0, 0)"
         },
         "mode": "lines",
         "type": "scatter",
         "x": [
          47,
          47,
          48,
          48
         ],
         "xaxis": "x",
         "y": [
          0,
          0.006210384186271753,
          0.006210384186271753,
          0
         ],
         "yaxis": "y"
        },
        {
         "hoverinfo": "text",
         "marker": {
          "color": "rgb(0, 0, 0)"
         },
         "mode": "lines",
         "type": "scatter",
         "x": [
          10,
          10,
          11,
          11
         ],
         "xaxis": "x",
         "y": [
          0,
          0.007312088708049121,
          0.007312088708049121,
          0
         ],
         "yaxis": "y"
        },
        {
         "hoverinfo": "text",
         "marker": {
          "color": "rgb(0, 0, 0)"
         },
         "mode": "lines",
         "type": "scatter",
         "x": [
          75,
          75,
          76,
          76
         ],
         "xaxis": "x",
         "y": [
          0,
          0.00823117394433019,
          0.00823117394433019,
          0
         ],
         "yaxis": "y"
        },
        {
         "hoverinfo": "text",
         "marker": {
          "color": "rgb(0, 0, 0)"
         },
         "mode": "lines",
         "type": "scatter",
         "x": [
          40,
          40,
          41,
          41
         ],
         "xaxis": "x",
         "y": [
          0,
          0.008359905515948741,
          0.008359905515948741,
          0
         ],
         "yaxis": "y"
        },
        {
         "hoverinfo": "text",
         "marker": {
          "color": "rgb(0, 0, 0)"
         },
         "mode": "lines",
         "type": "scatter",
         "x": [
          138,
          138,
          139,
          139
         ],
         "xaxis": "x",
         "y": [
          0,
          0.009095040899637028,
          0.009095040899637028,
          0
         ],
         "yaxis": "y"
        },
        {
         "hoverinfo": "text",
         "marker": {
          "color": "rgb(0, 0, 0)"
         },
         "mode": "lines",
         "type": "scatter",
         "x": [
          111,
          111,
          112,
          112
         ],
         "xaxis": "x",
         "y": [
          0,
          0.00977579343708816,
          0.00977579343708816,
          0
         ],
         "yaxis": "y"
        },
        {
         "hoverinfo": "text",
         "marker": {
          "color": "rgb(0, 0, 0)"
         },
         "mode": "lines",
         "type": "scatter",
         "x": [
          101,
          101,
          102,
          102
         ],
         "xaxis": "x",
         "y": [
          0,
          0.009777092435543358,
          0.009777092435543358,
          0
         ],
         "yaxis": "y"
        },
        {
         "hoverinfo": "text",
         "marker": {
          "color": "rgb(0, 0, 0)"
         },
         "mode": "lines",
         "type": "scatter",
         "x": [
          25,
          25,
          26,
          26
         ],
         "xaxis": "x",
         "y": [
          0,
          0.010391680106915989,
          0.010391680106915989,
          0
         ],
         "yaxis": "y"
        },
        {
         "hoverinfo": "text",
         "marker": {
          "color": "rgb(0, 0, 0)"
         },
         "mode": "lines",
         "type": "scatter",
         "x": [
          67,
          67,
          68,
          68
         ],
         "xaxis": "x",
         "y": [
          0,
          0.010463373892552658,
          0.010463373892552658,
          0
         ],
         "yaxis": "y"
        },
        {
         "hoverinfo": "text",
         "marker": {
          "color": "rgb(0, 0, 0)"
         },
         "mode": "lines",
         "type": "scatter",
         "x": [
          42,
          42,
          43,
          43
         ],
         "xaxis": "x",
         "y": [
          0,
          0.010806308432796988,
          0.010806308432796988,
          0
         ],
         "yaxis": "y"
        },
        {
         "hoverinfo": "text",
         "marker": {
          "color": "rgb(0, 0, 0)"
         },
         "mode": "lines",
         "type": "scatter",
         "x": [
          64,
          64,
          65,
          65
         ],
         "xaxis": "x",
         "y": [
          0,
          0.011080945766012398,
          0.011080945766012398,
          0
         ],
         "yaxis": "y"
        },
        {
         "hoverinfo": "text",
         "marker": {
          "color": "rgb(0, 0, 0)"
         },
         "mode": "lines",
         "type": "scatter",
         "x": [
          21,
          21,
          22,
          22
         ],
         "xaxis": "x",
         "y": [
          0,
          0.011673204277657886,
          0.011673204277657886,
          0
         ],
         "yaxis": "y"
        },
        {
         "hoverinfo": "text",
         "marker": {
          "color": "rgb(0, 0, 0)"
         },
         "mode": "lines",
         "type": "scatter",
         "x": [
          78,
          78,
          79,
          79
         ],
         "xaxis": "x",
         "y": [
          0,
          0.012933162696738566,
          0.012933162696738566,
          0
         ],
         "yaxis": "y"
        },
        {
         "hoverinfo": "text",
         "marker": {
          "color": "rgb(0, 0, 0)"
         },
         "mode": "lines",
         "type": "scatter",
         "x": [
          13,
          13,
          14,
          14
         ],
         "xaxis": "x",
         "y": [
          0,
          0.012936205573863652,
          0.012936205573863652,
          0
         ],
         "yaxis": "y"
        },
        {
         "hoverinfo": "text",
         "marker": {
          "color": "rgb(0, 0, 0)"
         },
         "mode": "lines",
         "type": "scatter",
         "x": [
          103,
          103,
          104,
          104
         ],
         "xaxis": "x",
         "y": [
          0,
          0.013298516968914919,
          0.013298516968914919,
          0
         ],
         "yaxis": "y"
        },
        {
         "hoverinfo": "text",
         "marker": {
          "color": "rgb(0, 0, 0)"
         },
         "mode": "lines",
         "type": "scatter",
         "x": [
          71,
          71,
          72,
          72
         ],
         "xaxis": "x",
         "y": [
          0,
          0.013345471749326595,
          0.013345471749326595,
          0
         ],
         "yaxis": "y"
        },
        {
         "hoverinfo": "text",
         "marker": {
          "color": "rgb(0, 0, 0)"
         },
         "mode": "lines",
         "type": "scatter",
         "x": [
          62,
          62,
          63,
          63
         ],
         "xaxis": "x",
         "y": [
          0,
          0.013617844533955386,
          0.013617844533955386,
          0
         ],
         "yaxis": "y"
        },
        {
         "hoverinfo": "text",
         "marker": {
          "color": "rgb(0, 0, 0)"
         },
         "mode": "lines",
         "type": "scatter",
         "x": [
          37,
          37,
          38,
          38
         ],
         "xaxis": "x",
         "y": [
          0,
          0.014290568094193351,
          0.014290568094193351,
          0
         ],
         "yaxis": "y"
        },
        {
         "hoverinfo": "text",
         "marker": {
          "color": "rgb(0, 0, 0)"
         },
         "mode": "lines",
         "type": "scatter",
         "x": [
          83,
          83,
          84,
          84
         ],
         "xaxis": "x",
         "y": [
          0,
          0.014658443373211144,
          0.014658443373211144,
          0
         ],
         "yaxis": "y"
        },
        {
         "hoverinfo": "text",
         "marker": {
          "color": "rgb(0, 0, 0)"
         },
         "mode": "lines",
         "type": "scatter",
         "x": [
          99,
          99,
          100,
          100
         ],
         "xaxis": "x",
         "y": [
          0,
          0.014860119776289114,
          0.014860119776289114,
          0
         ],
         "yaxis": "y"
        },
        {
         "hoverinfo": "text",
         "marker": {
          "color": "rgb(0, 0, 0)"
         },
         "mode": "lines",
         "type": "scatter",
         "x": [
          35,
          35,
          36,
          36
         ],
         "xaxis": "x",
         "y": [
          0,
          0.015278123559843164,
          0.015278123559843164,
          0
         ],
         "yaxis": "y"
        },
        {
         "hoverinfo": "text",
         "marker": {
          "color": "rgb(0, 0, 0)"
         },
         "mode": "lines",
         "type": "scatter",
         "x": [
          85,
          85,
          86,
          86
         ],
         "xaxis": "x",
         "y": [
          0,
          0.015476305442637115,
          0.015476305442637115,
          0
         ],
         "yaxis": "y"
        },
        {
         "hoverinfo": "text",
         "marker": {
          "color": "rgb(0, 0, 0)"
         },
         "mode": "lines",
         "type": "scatter",
         "x": [
          80,
          80,
          81,
          81
         ],
         "xaxis": "x",
         "y": [
          0,
          0.015674704515722067,
          0.015674704515722067,
          0
         ],
         "yaxis": "y"
        },
        {
         "hoverinfo": "text",
         "marker": {
          "color": "rgb(0, 0, 0)"
         },
         "mode": "lines",
         "type": "scatter",
         "x": [
          157,
          157,
          158,
          158
         ],
         "xaxis": "x",
         "y": [
          0,
          0.015850453757647875,
          0.015850453757647875,
          0
         ],
         "yaxis": "y"
        },
        {
         "hoverinfo": "text",
         "marker": {
          "color": "rgb(0, 0, 0)"
         },
         "mode": "lines",
         "type": "scatter",
         "x": [
          114,
          114,
          115,
          115
         ],
         "xaxis": "x",
         "y": [
          0,
          0.017271280245086982,
          0.017271280245086982,
          0
         ],
         "yaxis": "y"
        },
        {
         "hoverinfo": "text",
         "marker": {
          "color": "rgb(0, 0, 0)"
         },
         "mode": "lines",
         "type": "scatter",
         "x": [
          131,
          131,
          132,
          132
         ],
         "xaxis": "x",
         "y": [
          0,
          0.017512146531174125,
          0.017512146531174125,
          0
         ],
         "yaxis": "y"
        },
        {
         "hoverinfo": "text",
         "marker": {
          "color": "rgb(0, 0, 0)"
         },
         "mode": "lines",
         "type": "scatter",
         "x": [
          25.5,
          25.5,
          27,
          27
         ],
         "xaxis": "x",
         "y": [
          0.010391680106915989,
          0.017610149097649512,
          0.017610149097649512,
          0
         ],
         "yaxis": "y"
        },
        {
         "hoverinfo": "text",
         "marker": {
          "color": "rgb(0, 0, 0)"
         },
         "mode": "lines",
         "type": "scatter",
         "x": [
          49,
          49,
          50,
          50
         ],
         "xaxis": "x",
         "y": [
          0,
          0.01805130264588435,
          0.01805130264588435,
          0
         ],
         "yaxis": "y"
        },
        {
         "hoverinfo": "text",
         "marker": {
          "color": "rgb(0, 0, 0)"
         },
         "mode": "lines",
         "type": "scatter",
         "x": [
          137,
          137,
          138.5,
          138.5
         ],
         "xaxis": "x",
         "y": [
          0,
          0.018751433523985315,
          0.018751433523985315,
          0.009095040899637028
         ],
         "yaxis": "y"
        },
        {
         "hoverinfo": "text",
         "marker": {
          "color": "rgb(0, 0, 0)"
         },
         "mode": "lines",
         "type": "scatter",
         "x": [
          59,
          59,
          60,
          60
         ],
         "xaxis": "x",
         "y": [
          0,
          0.018781861997706012,
          0.018781861997706012,
          0
         ],
         "yaxis": "y"
        },
        {
         "hoverinfo": "text",
         "marker": {
          "color": "rgb(0, 0, 0)"
         },
         "mode": "lines",
         "type": "scatter",
         "x": [
          93,
          93,
          94,
          94
         ],
         "xaxis": "x",
         "y": [
          0,
          0.01946819225063155,
          0.01946819225063155,
          0
         ],
         "yaxis": "y"
        },
        {
         "hoverinfo": "text",
         "marker": {
          "color": "rgb(0, 0, 0)"
         },
         "mode": "lines",
         "type": "scatter",
         "x": [
          151,
          151,
          152,
          152
         ],
         "xaxis": "x",
         "y": [
          0,
          0.01980630127762097,
          0.01980630127762097,
          0
         ],
         "yaxis": "y"
        },
        {
         "hoverinfo": "text",
         "marker": {
          "color": "rgb(0, 0, 0)"
         },
         "mode": "lines",
         "type": "scatter",
         "x": [
          141,
          141,
          142,
          142
         ],
         "xaxis": "x",
         "y": [
          0,
          0.019908155663004305,
          0.019908155663004305,
          0
         ],
         "yaxis": "y"
        },
        {
         "hoverinfo": "text",
         "marker": {
          "color": "rgb(0, 0, 0)"
         },
         "mode": "lines",
         "type": "scatter",
         "x": [
          128.5,
          128.5,
          130,
          130
         ],
         "xaxis": "x",
         "y": [
          0.005682476040008414,
          0.020325429415000942,
          0.020325429415000942,
          0
         ],
         "yaxis": "y"
        },
        {
         "hoverinfo": "text",
         "marker": {
          "color": "rgb(0, 0, 0)"
         },
         "mode": "lines",
         "type": "scatter",
         "x": [
          122,
          122,
          123,
          123
         ],
         "xaxis": "x",
         "y": [
          0,
          0.02053479724503866,
          0.02053479724503866,
          0
         ],
         "yaxis": "y"
        },
        {
         "hoverinfo": "text",
         "marker": {
          "color": "rgb(0, 0, 0)"
         },
         "mode": "lines",
         "type": "scatter",
         "x": [
          107,
          107,
          108,
          108
         ],
         "xaxis": "x",
         "y": [
          0,
          0.02121752172544748,
          0.02121752172544748,
          0
         ],
         "yaxis": "y"
        },
        {
         "hoverinfo": "text",
         "marker": {
          "color": "rgb(0, 0, 0)"
         },
         "mode": "lines",
         "type": "scatter",
         "x": [
          66,
          66,
          67.5,
          67.5
         ],
         "xaxis": "x",
         "y": [
          0,
          0.021344563603498817,
          0.021344563603498817,
          0.010463373892552658
         ],
         "yaxis": "y"
        },
        {
         "hoverinfo": "text",
         "marker": {
          "color": "rgb(0, 0, 0)"
         },
         "mode": "lines",
         "type": "scatter",
         "x": [
          90,
          90,
          91,
          91
         ],
         "xaxis": "x",
         "y": [
          0,
          0.021770085637592133,
          0.021770085637592133,
          0
         ],
         "yaxis": "y"
        },
        {
         "hoverinfo": "text",
         "marker": {
          "color": "rgb(0, 0, 0)"
         },
         "mode": "lines",
         "type": "scatter",
         "x": [
          220,
          220,
          221,
          221
         ],
         "xaxis": "x",
         "y": [
          0,
          0.022085052269542604,
          0.022085052269542604,
          0
         ],
         "yaxis": "y"
        },
        {
         "hoverinfo": "text",
         "marker": {
          "color": "rgb(0, 0, 0)"
         },
         "mode": "lines",
         "type": "scatter",
         "x": [
          99.5,
          99.5,
          101.5,
          101.5
         ],
         "xaxis": "x",
         "y": [
          0.014860119776289114,
          0.02256618844537556,
          0.02256618844537556,
          0.009777092435543358
         ],
         "yaxis": "y"
        },
        {
         "hoverinfo": "text",
         "marker": {
          "color": "rgb(0, 0, 0)"
         },
         "mode": "lines",
         "type": "scatter",
         "x": [
          176,
          176,
          177,
          177
         ],
         "xaxis": "x",
         "y": [
          0,
          0.022570291201111543,
          0.022570291201111543,
          0
         ],
         "yaxis": "y"
        },
        {
         "hoverinfo": "text",
         "marker": {
          "color": "rgb(0, 0, 0)"
         },
         "mode": "lines",
         "type": "scatter",
         "x": [
          117,
          117,
          118,
          118
         ],
         "xaxis": "x",
         "y": [
          0,
          0.022781605814543113,
          0.022781605814543113,
          0
         ],
         "yaxis": "y"
        },
        {
         "hoverinfo": "text",
         "marker": {
          "color": "rgb(0, 0, 0)"
         },
         "mode": "lines",
         "type": "scatter",
         "x": [
          133,
          133,
          134,
          134
         ],
         "xaxis": "x",
         "y": [
          0,
          0.02336440291296305,
          0.02336440291296305,
          0
         ],
         "yaxis": "y"
        },
        {
         "hoverinfo": "text",
         "marker": {
          "color": "rgb(0, 0, 0)"
         },
         "mode": "lines",
         "type": "scatter",
         "x": [
          88,
          88,
          89,
          89
         ],
         "xaxis": "x",
         "y": [
          0,
          0.023421283544530335,
          0.023421283544530335,
          0
         ],
         "yaxis": "y"
        },
        {
         "hoverinfo": "text",
         "marker": {
          "color": "rgb(0, 0, 0)"
         },
         "mode": "lines",
         "type": "scatter",
         "x": [
          74,
          74,
          75.5,
          75.5
         ],
         "xaxis": "x",
         "y": [
          0,
          0.023451700304197035,
          0.023451700304197035,
          0.00823117394433019
         ],
         "yaxis": "y"
        },
        {
         "hoverinfo": "text",
         "marker": {
          "color": "rgb(0, 0, 0)"
         },
         "mode": "lines",
         "type": "scatter",
         "x": [
          44,
          44,
          45,
          45
         ],
         "xaxis": "x",
         "y": [
          0,
          0.023653887022272814,
          0.023653887022272814,
          0
         ],
         "yaxis": "y"
        },
        {
         "hoverinfo": "text",
         "marker": {
          "color": "rgb(0, 0, 0)"
         },
         "mode": "lines",
         "type": "scatter",
         "x": [
          111.5,
          111.5,
          113,
          113
         ],
         "xaxis": "x",
         "y": [
          0.00977579343708816,
          0.02472007773512698,
          0.02472007773512698,
          0
         ],
         "yaxis": "y"
        },
        {
         "hoverinfo": "text",
         "marker": {
          "color": "rgb(0, 0, 0)"
         },
         "mode": "lines",
         "type": "scatter",
         "x": [
          13.5,
          13.5,
          15,
          15
         ],
         "xaxis": "x",
         "y": [
          0.012936205573863652,
          0.025899233386232026,
          0.025899233386232026,
          0
         ],
         "yaxis": "y"
        },
        {
         "hoverinfo": "text",
         "marker": {
          "color": "rgb(0, 0, 0)"
         },
         "mode": "lines",
         "type": "scatter",
         "x": [
          28,
          28,
          29,
          29
         ],
         "xaxis": "x",
         "y": [
          0,
          0.026417949013129167,
          0.026417949013129167,
          0
         ],
         "yaxis": "y"
        },
        {
         "hoverinfo": "text",
         "marker": {
          "color": "rgb(0, 0, 0)"
         },
         "mode": "lines",
         "type": "scatter",
         "x": [
          189,
          189,
          190,
          190
         ],
         "xaxis": "x",
         "y": [
          0,
          0.026426521070810692,
          0.026426521070810692,
          0
         ],
         "yaxis": "y"
        },
        {
         "hoverinfo": "text",
         "marker": {
          "color": "rgb(0, 0, 0)"
         },
         "mode": "lines",
         "type": "scatter",
         "x": [
          93.5,
          93.5,
          95,
          95
         ],
         "xaxis": "x",
         "y": [
          0.01946819225063155,
          0.02661449808422474,
          0.02661449808422474,
          0
         ],
         "yaxis": "y"
        },
        {
         "hoverinfo": "text",
         "marker": {
          "color": "rgb(0, 0, 0)"
         },
         "mode": "lines",
         "type": "scatter",
         "x": [
          116,
          116,
          117.5,
          117.5
         ],
         "xaxis": "x",
         "y": [
          0,
          0.026892385754532542,
          0.026892385754532542,
          0.022781605814543113
         ],
         "yaxis": "y"
        },
        {
         "hoverinfo": "text",
         "marker": {
          "color": "rgb(0, 0, 0)"
         },
         "mode": "lines",
         "type": "scatter",
         "x": [
          52,
          52,
          53,
          53
         ],
         "xaxis": "x",
         "y": [
          0,
          0.027069754392612323,
          0.027069754392612323,
          0
         ],
         "yaxis": "y"
        },
        {
         "hoverinfo": "text",
         "marker": {
          "color": "rgb(0, 0, 0)"
         },
         "mode": "lines",
         "type": "scatter",
         "x": [
          59.5,
          59.5,
          61,
          61
         ],
         "xaxis": "x",
         "y": [
          0.018781861997706012,
          0.027348969818759675,
          0.027348969818759675,
          0
         ],
         "yaxis": "y"
        },
        {
         "hoverinfo": "text",
         "marker": {
          "color": "rgb(0, 0, 0)"
         },
         "mode": "lines",
         "type": "scatter",
         "x": [
          24,
          24,
          26.25,
          26.25
         ],
         "xaxis": "x",
         "y": [
          0,
          0.027571312144231794,
          0.027571312144231794,
          0.017610149097649512
         ],
         "yaxis": "y"
        },
        {
         "hoverinfo": "text",
         "marker": {
          "color": "rgb(0, 0, 0)"
         },
         "mode": "lines",
         "type": "scatter",
         "x": [
          159,
          159,
          160,
          160
         ],
         "xaxis": "x",
         "y": [
          0,
          0.028302464910723916,
          0.028302464910723916,
          0
         ],
         "yaxis": "y"
        },
        {
         "hoverinfo": "text",
         "marker": {
          "color": "rgb(0, 0, 0)"
         },
         "mode": "lines",
         "type": "scatter",
         "x": [
          121,
          121,
          122.5,
          122.5
         ],
         "xaxis": "x",
         "y": [
          0,
          0.028941747990839876,
          0.028941747990839876,
          0.02053479724503866
         ],
         "yaxis": "y"
        },
        {
         "hoverinfo": "text",
         "marker": {
          "color": "rgb(0, 0, 0)"
         },
         "mode": "lines",
         "type": "scatter",
         "x": [
          17.5,
          17.5,
          19,
          19
         ],
         "xaxis": "x",
         "y": [
          0.003219114493317183,
          0.029343733886461026,
          0.029343733886461026,
          0
         ],
         "yaxis": "y"
        },
        {
         "hoverinfo": "text",
         "marker": {
          "color": "rgb(0, 0, 0)"
         },
         "mode": "lines",
         "type": "scatter",
         "x": [
          98,
          98,
          100.5,
          100.5
         ],
         "xaxis": "x",
         "y": [
          0,
          0.03012087799629969,
          0.03012087799629969,
          0.02256618844537556
         ],
         "yaxis": "y"
        },
        {
         "hoverinfo": "text",
         "marker": {
          "color": "rgb(0, 0, 0)"
         },
         "mode": "lines",
         "type": "scatter",
         "x": [
          195,
          195,
          196,
          196
         ],
         "xaxis": "x",
         "y": [
          0,
          0.030309570278919458,
          0.030309570278919458,
          0
         ],
         "yaxis": "y"
        },
        {
         "hoverinfo": "text",
         "marker": {
          "color": "rgb(0, 0, 0)"
         },
         "mode": "lines",
         "type": "scatter",
         "x": [
          20,
          20,
          21.5,
          21.5
         ],
         "xaxis": "x",
         "y": [
          0,
          0.03052889028111025,
          0.03052889028111025,
          0.011673204277657886
         ],
         "yaxis": "y"
        },
        {
         "hoverinfo": "text",
         "marker": {
          "color": "rgb(0, 0, 0)"
         },
         "mode": "lines",
         "type": "scatter",
         "x": [
          46,
          46,
          47.5,
          47.5
         ],
         "xaxis": "x",
         "y": [
          0,
          0.030762293229782883,
          0.030762293229782883,
          0.006210384186271753
         ],
         "yaxis": "y"
        },
        {
         "hoverinfo": "text",
         "marker": {
          "color": "rgb(0, 0, 0)"
         },
         "mode": "lines",
         "type": "scatter",
         "x": [
          49.5,
          49.5,
          51,
          51
         ],
         "xaxis": "x",
         "y": [
          0.01805130264588435,
          0.03083465946387036,
          0.03083465946387036,
          0
         ],
         "yaxis": "y"
        },
        {
         "hoverinfo": "text",
         "marker": {
          "color": "rgb(0, 0, 0)"
         },
         "mode": "lines",
         "type": "scatter",
         "x": [
          136,
          136,
          137.75,
          137.75
         ],
         "xaxis": "x",
         "y": [
          0,
          0.03158591777959006,
          0.03158591777959006,
          0.018751433523985315
         ],
         "yaxis": "y"
        },
        {
         "hoverinfo": "text",
         "marker": {
          "color": "rgb(0, 0, 0)"
         },
         "mode": "lines",
         "type": "scatter",
         "x": [
          141.5,
          141.5,
          143,
          143
         ],
         "xaxis": "x",
         "y": [
          0.019908155663004305,
          0.03191055421883248,
          0.03191055421883248,
          0
         ],
         "yaxis": "y"
        },
        {
         "hoverinfo": "text",
         "marker": {
          "color": "rgb(0, 0, 0)"
         },
         "mode": "lines",
         "type": "scatter",
         "x": [
          71.5,
          71.5,
          73,
          73
         ],
         "xaxis": "x",
         "y": [
          0.013345471749326595,
          0.03221033812375806,
          0.03221033812375806,
          0
         ],
         "yaxis": "y"
        },
        {
         "hoverinfo": "text",
         "marker": {
          "color": "rgb(0, 0, 0)"
         },
         "mode": "lines",
         "type": "scatter",
         "x": [
          106,
          106,
          107.5,
          107.5
         ],
         "xaxis": "x",
         "y": [
          0,
          0.03298149914777192,
          0.03298149914777192,
          0.02121752172544748
         ],
         "yaxis": "y"
        },
        {
         "hoverinfo": "text",
         "marker": {
          "color": "rgb(0, 0, 0)"
         },
         "mode": "lines",
         "type": "scatter",
         "x": [
          214,
          214,
          215,
          215
         ],
         "xaxis": "x",
         "y": [
          0,
          0.03313401704348171,
          0.03313401704348171,
          0
         ],
         "yaxis": "y"
        },
        {
         "hoverinfo": "text",
         "marker": {
          "color": "rgb(0, 0, 0)"
         },
         "mode": "lines",
         "type": "scatter",
         "x": [
          37.5,
          37.5,
          39,
          39
         ],
         "xaxis": "x",
         "y": [
          0.014290568094193351,
          0.03431960706542629,
          0.03431960706542629,
          0
         ],
         "yaxis": "y"
        },
        {
         "hoverinfo": "text",
         "marker": {
          "color": "rgb(0, 0, 0)"
         },
         "mode": "lines",
         "type": "scatter",
         "x": [
          119,
          119,
          120,
          120
         ],
         "xaxis": "x",
         "y": [
          0,
          0.03475159468335599,
          0.03475159468335599,
          0
         ],
         "yaxis": "y"
        },
        {
         "hoverinfo": "text",
         "marker": {
          "color": "rgb(0, 0, 0)"
         },
         "mode": "lines",
         "type": "scatter",
         "x": [
          82,
          82,
          83.5,
          83.5
         ],
         "xaxis": "x",
         "y": [
          0,
          0.034955383509473026,
          0.034955383509473026,
          0.014658443373211144
         ],
         "yaxis": "y"
        },
        {
         "hoverinfo": "text",
         "marker": {
          "color": "rgb(0, 0, 0)"
         },
         "mode": "lines",
         "type": "scatter",
         "x": [
          10.5,
          10.5,
          12,
          12
         ],
         "xaxis": "x",
         "y": [
          0.007312088708049121,
          0.03537820900128798,
          0.03537820900128798,
          0
         ],
         "yaxis": "y"
        },
        {
         "hoverinfo": "text",
         "marker": {
          "color": "rgb(0, 0, 0)"
         },
         "mode": "lines",
         "type": "scatter",
         "x": [
          96,
          96,
          97,
          97
         ],
         "xaxis": "x",
         "y": [
          0,
          0.036078975491045065,
          0.036078975491045065,
          0
         ],
         "yaxis": "y"
        },
        {
         "hoverinfo": "text",
         "marker": {
          "color": "rgb(0, 0, 0)"
         },
         "mode": "lines",
         "type": "scatter",
         "x": [
          92,
          92,
          94.25,
          94.25
         ],
         "xaxis": "x",
         "y": [
          0,
          0.03734816513205931,
          0.03734816513205931,
          0.02661449808422474
         ],
         "yaxis": "y"
        },
        {
         "hoverinfo": "text",
         "marker": {
          "color": "rgb(0, 0, 0)"
         },
         "mode": "lines",
         "type": "scatter",
         "x": [
          40.5,
          40.5,
          42.5,
          42.5
         ],
         "xaxis": "x",
         "y": [
          0.008359905515948741,
          0.03735739036143102,
          0.03735739036143102,
          0.010806308432796988
         ],
         "yaxis": "y"
        },
        {
         "hoverinfo": "text",
         "marker": {
          "color": "rgb(0, 0, 0)"
         },
         "mode": "lines",
         "type": "scatter",
         "x": [
          203,
          203,
          204,
          204
         ],
         "xaxis": "x",
         "y": [
          0,
          0.03809221371584204,
          0.03809221371584204,
          0
         ],
         "yaxis": "y"
        },
        {
         "hoverinfo": "text",
         "marker": {
          "color": "rgb(0, 0, 0)"
         },
         "mode": "lines",
         "type": "scatter",
         "x": [
          99.25,
          99.25,
          103.5,
          103.5
         ],
         "xaxis": "x",
         "y": [
          0.03012087799629969,
          0.03882129306055057,
          0.03882129306055057,
          0.013298516968914919
         ],
         "yaxis": "y"
        },
        {
         "hoverinfo": "text",
         "marker": {
          "color": "rgb(0, 0, 0)"
         },
         "mode": "lines",
         "type": "scatter",
         "x": [
          78.5,
          78.5,
          80.5,
          80.5
         ],
         "xaxis": "x",
         "y": [
          0.012933162696738566,
          0.039287078163685776,
          0.039287078163685776,
          0.015674704515722067
         ],
         "yaxis": "y"
        },
        {
         "hoverinfo": "text",
         "marker": {
          "color": "rgb(0, 0, 0)"
         },
         "mode": "lines",
         "type": "scatter",
         "x": [
          192,
          192,
          193,
          193
         ],
         "xaxis": "x",
         "y": [
          0,
          0.039327361574632444,
          0.039327361574632444,
          0
         ],
         "yaxis": "y"
        },
        {
         "hoverinfo": "text",
         "marker": {
          "color": "rgb(0, 0, 0)"
         },
         "mode": "lines",
         "type": "scatter",
         "x": [
          210,
          210,
          211,
          211
         ],
         "xaxis": "x",
         "y": [
          0,
          0.03935153534179148,
          0.03935153534179148,
          0
         ],
         "yaxis": "y"
        },
        {
         "hoverinfo": "text",
         "marker": {
          "color": "rgb(0, 0, 0)"
         },
         "mode": "lines",
         "type": "scatter",
         "x": [
          74.75,
          74.75,
          77,
          77
         ],
         "xaxis": "x",
         "y": [
          0.023451700304197035,
          0.039609202824117506,
          0.039609202824117506,
          0
         ],
         "yaxis": "y"
        },
        {
         "hoverinfo": "text",
         "marker": {
          "color": "rgb(0, 0, 0)"
         },
         "mode": "lines",
         "type": "scatter",
         "x": [
          110,
          110,
          112.25,
          112.25
         ],
         "xaxis": "x",
         "y": [
          0,
          0.039645970617269786,
          0.039645970617269786,
          0.02472007773512698
         ],
         "yaxis": "y"
        },
        {
         "hoverinfo": "text",
         "marker": {
          "color": "rgb(0, 0, 0)"
         },
         "mode": "lines",
         "type": "scatter",
         "x": [
          181,
          181,
          182,
          182
         ],
         "xaxis": "x",
         "y": [
          0,
          0.039896030067620464,
          0.039896030067620464,
          0
         ],
         "yaxis": "y"
        },
        {
         "hoverinfo": "text",
         "marker": {
          "color": "rgb(0, 0, 0)"
         },
         "mode": "lines",
         "type": "scatter",
         "x": [
          58,
          58,
          60.25,
          60.25
         ],
         "xaxis": "x",
         "y": [
          0,
          0.04008391621667629,
          0.04008391621667629,
          0.027348969818759675
         ],
         "yaxis": "y"
        },
        {
         "hoverinfo": "text",
         "marker": {
          "color": "rgb(0, 0, 0)"
         },
         "mode": "lines",
         "type": "scatter",
         "x": [
          133.5,
          133.5,
          135,
          135
         ],
         "xaxis": "x",
         "y": [
          0.02336440291296305,
          0.04078672841391745,
          0.04078672841391745,
          0
         ],
         "yaxis": "y"
        },
        {
         "hoverinfo": "text",
         "marker": {
          "color": "rgb(0, 0, 0)"
         },
         "mode": "lines",
         "type": "scatter",
         "x": [
          14.25,
          14.25,
          16,
          16
         ],
         "xaxis": "x",
         "y": [
          0.025899233386232026,
          0.04111952692249093,
          0.04111952692249093,
          0
         ],
         "yaxis": "y"
        },
        {
         "hoverinfo": "text",
         "marker": {
          "color": "rgb(0, 0, 0)"
         },
         "mode": "lines",
         "type": "scatter",
         "x": [
          183,
          183,
          184,
          184
         ],
         "xaxis": "x",
         "y": [
          0,
          0.04141681830018154,
          0.04141681830018154,
          0
         ],
         "yaxis": "y"
        },
        {
         "hoverinfo": "text",
         "marker": {
          "color": "rgb(0, 0, 0)"
         },
         "mode": "lines",
         "type": "scatter",
         "x": [
          88.5,
          88.5,
          90.5,
          90.5
         ],
         "xaxis": "x",
         "y": [
          0.023421283544530335,
          0.041712599784941226,
          0.041712599784941226,
          0.021770085637592133
         ],
         "yaxis": "y"
        },
        {
         "hoverinfo": "text",
         "marker": {
          "color": "rgb(0, 0, 0)"
         },
         "mode": "lines",
         "type": "scatter",
         "x": [
          85.5,
          85.5,
          87,
          87
         ],
         "xaxis": "x",
         "y": [
          0.015476305442637115,
          0.04198419826348234,
          0.04198419826348234,
          0
         ],
         "yaxis": "y"
        },
        {
         "hoverinfo": "text",
         "marker": {
          "color": "rgb(0, 0, 0)"
         },
         "mode": "lines",
         "type": "scatter",
         "x": [
          64.5,
          64.5,
          66.75,
          66.75
         ],
         "xaxis": "x",
         "y": [
          0.011080945766012398,
          0.042091564788754046,
          0.042091564788754046,
          0.021344563603498817
         ],
         "yaxis": "y"
        },
        {
         "hoverinfo": "text",
         "marker": {
          "color": "rgb(0, 0, 0)"
         },
         "mode": "lines",
         "type": "scatter",
         "x": [
          216,
          216,
          217,
          217
         ],
         "xaxis": "x",
         "y": [
          0,
          0.04264846983882051,
          0.04264846983882051,
          0
         ],
         "yaxis": "y"
        },
        {
         "hoverinfo": "text",
         "marker": {
          "color": "rgb(0, 0, 0)"
         },
         "mode": "lines",
         "type": "scatter",
         "x": [
          70,
          70,
          72.25,
          72.25
         ],
         "xaxis": "x",
         "y": [
          0,
          0.042872229930749094,
          0.042872229930749094,
          0.03221033812375806
         ],
         "yaxis": "y"
        },
        {
         "hoverinfo": "text",
         "marker": {
          "color": "rgb(0, 0, 0)"
         },
         "mode": "lines",
         "type": "scatter",
         "x": [
          188,
          188,
          189.5,
          189.5
         ],
         "xaxis": "x",
         "y": [
          0,
          0.04297404563807812,
          0.04297404563807812,
          0.026426521070810692
         ],
         "yaxis": "y"
        },
        {
         "hoverinfo": "text",
         "marker": {
          "color": "rgb(0, 0, 0)"
         },
         "mode": "lines",
         "type": "scatter",
         "x": [
          161,
          161,
          162,
          162
         ],
         "xaxis": "x",
         "y": [
          0,
          0.04384677293281935,
          0.04384677293281935,
          0
         ],
         "yaxis": "y"
        },
        {
         "hoverinfo": "text",
         "marker": {
          "color": "rgb(0, 0, 0)"
         },
         "mode": "lines",
         "type": "scatter",
         "x": [
          154,
          154,
          155,
          155
         ],
         "xaxis": "x",
         "y": [
          0,
          0.04480805821223649,
          0.04480805821223649,
          0
         ],
         "yaxis": "y"
        },
        {
         "hoverinfo": "text",
         "marker": {
          "color": "rgb(0, 0, 0)"
         },
         "mode": "lines",
         "type": "scatter",
         "x": [
          149,
          149,
          150,
          150
         ],
         "xaxis": "x",
         "y": [
          0,
          0.045523898698510444,
          0.045523898698510444,
          0
         ],
         "yaxis": "y"
        },
        {
         "hoverinfo": "text",
         "marker": {
          "color": "rgb(0, 0, 0)"
         },
         "mode": "lines",
         "type": "scatter",
         "x": [
          174,
          174,
          175,
          175
         ],
         "xaxis": "x",
         "y": [
          0,
          0.04573063208668453,
          0.04573063208668453,
          0
         ],
         "yaxis": "y"
        },
        {
         "hoverinfo": "text",
         "marker": {
          "color": "rgb(0, 0, 0)"
         },
         "mode": "lines",
         "type": "scatter",
         "x": [
          164,
          164,
          165.5,
          165.5
         ],
         "xaxis": "x",
         "y": [
          0,
          0.046527957857985455,
          0.046527957857985455,
          0.0012844874589573538
         ],
         "yaxis": "y"
        },
        {
         "hoverinfo": "text",
         "marker": {
          "color": "rgb(0, 0, 0)"
         },
         "mode": "lines",
         "type": "scatter",
         "x": [
          114.5,
          114.5,
          116.75,
          116.75
         ],
         "xaxis": "x",
         "y": [
          0.017271280245086982,
          0.04695952735742237,
          0.04695952735742237,
          0.026892385754532542
         ],
         "yaxis": "y"
        },
        {
         "hoverinfo": "text",
         "marker": {
          "color": "rgb(0, 0, 0)"
         },
         "mode": "lines",
         "type": "scatter",
         "x": [
          172,
          172,
          173,
          173
         ],
         "xaxis": "x",
         "y": [
          0,
          0.04808762088737168,
          0.04808762088737168,
          0
         ],
         "yaxis": "y"
        },
        {
         "hoverinfo": "text",
         "marker": {
          "color": "rgb(0, 0, 0)"
         },
         "mode": "lines",
         "type": "scatter",
         "x": [
          208,
          208,
          209,
          209
         ],
         "xaxis": "x",
         "y": [
          0,
          0.048592637935687785,
          0.048592637935687785,
          0
         ],
         "yaxis": "y"
        },
        {
         "hoverinfo": "text",
         "marker": {
          "color": "rgb(0, 0, 0)"
         },
         "mode": "lines",
         "type": "scatter",
         "x": [
          20.75,
          20.75,
          23,
          23
         ],
         "xaxis": "x",
         "y": [
          0.03052889028111025,
          0.04939373886916628,
          0.04939373886916628,
          0
         ],
         "yaxis": "y"
        },
        {
         "hoverinfo": "text",
         "marker": {
          "color": "rgb(0, 0, 0)"
         },
         "mode": "lines",
         "type": "scatter",
         "x": [
          146,
          146,
          147,
          147
         ],
         "xaxis": "x",
         "y": [
          0,
          0.0494768998454947,
          0.0494768998454947,
          0
         ],
         "yaxis": "y"
        },
        {
         "hoverinfo": "text",
         "marker": {
          "color": "rgb(0, 0, 0)"
         },
         "mode": "lines",
         "type": "scatter",
         "x": [
          101.375,
          101.375,
          105,
          105
         ],
         "xaxis": "x",
         "y": [
          0.03882129306055057,
          0.050314206682663586,
          0.050314206682663586,
          0
         ],
         "yaxis": "y"
        },
        {
         "hoverinfo": "text",
         "marker": {
          "color": "rgb(0, 0, 0)"
         },
         "mode": "lines",
         "type": "scatter",
         "x": [
          69,
          69,
          71.125,
          71.125
         ],
         "xaxis": "x",
         "y": [
          0,
          0.05045398377461113,
          0.05045398377461113,
          0.042872229930749094
         ],
         "yaxis": "y"
        },
        {
         "hoverinfo": "text",
         "marker": {
          "color": "rgb(0, 0, 0)"
         },
         "mode": "lines",
         "type": "scatter",
         "x": [
          140,
          140,
          142.25,
          142.25
         ],
         "xaxis": "x",
         "y": [
          0,
          0.05425929773502288,
          0.05425929773502288,
          0.03191055421883248
         ],
         "yaxis": "y"
        },
        {
         "hoverinfo": "text",
         "marker": {
          "color": "rgb(0, 0, 0)"
         },
         "mode": "lines",
         "type": "scatter",
         "x": [
          131.5,
          131.5,
          134.25,
          134.25
         ],
         "xaxis": "x",
         "y": [
          0.017512146531174125,
          0.05468617930953105,
          0.05468617930953105,
          0.04078672841391745
         ],
         "yaxis": "y"
        },
        {
         "hoverinfo": "text",
         "marker": {
          "color": "rgb(0, 0, 0)"
         },
         "mode": "lines",
         "type": "scatter",
         "x": [
          127,
          127,
          129.25,
          129.25
         ],
         "xaxis": "x",
         "y": [
          0,
          0.05514748721234098,
          0.05514748721234098,
          0.020325429415000942
         ],
         "yaxis": "y"
        },
        {
         "hoverinfo": "text",
         "marker": {
          "color": "rgb(0, 0, 0)"
         },
         "mode": "lines",
         "type": "scatter",
         "x": [
          106.75,
          106.75,
          109,
          109
         ],
         "xaxis": "x",
         "y": [
          0.03298149914777192,
          0.05566611844937005,
          0.05566611844937005,
          0
         ],
         "yaxis": "y"
        },
        {
         "hoverinfo": "text",
         "marker": {
          "color": "rgb(0, 0, 0)"
         },
         "mode": "lines",
         "type": "scatter",
         "x": [
          199,
          199,
          200,
          200
         ],
         "xaxis": "x",
         "y": [
          0,
          0.055829115263059524,
          0.055829115263059524,
          0
         ],
         "yaxis": "y"
        },
        {
         "hoverinfo": "text",
         "marker": {
          "color": "rgb(0, 0, 0)"
         },
         "mode": "lines",
         "type": "scatter",
         "x": [
          44.5,
          44.5,
          46.75,
          46.75
         ],
         "xaxis": "x",
         "y": [
          0.023653887022272814,
          0.05601755562097214,
          0.05601755562097214,
          0.030762293229782883
         ],
         "yaxis": "y"
        },
        {
         "hoverinfo": "text",
         "marker": {
          "color": "rgb(0, 0, 0)"
         },
         "mode": "lines",
         "type": "scatter",
         "x": [
          96.5,
          96.5,
          103.1875,
          103.1875
         ],
         "xaxis": "x",
         "y": [
          0.036078975491045065,
          0.05650816054581259,
          0.05650816054581259,
          0.050314206682663586
         ],
         "yaxis": "y"
        },
        {
         "hoverinfo": "text",
         "marker": {
          "color": "rgb(0, 0, 0)"
         },
         "mode": "lines",
         "type": "scatter",
         "x": [
          25.125,
          25.125,
          28.5,
          28.5
         ],
         "xaxis": "x",
         "y": [
          0.027571312144231794,
          0.05742509122957765,
          0.05742509122957765,
          0.026417949013129167
         ],
         "yaxis": "y"
        },
        {
         "hoverinfo": "text",
         "marker": {
          "color": "rgb(0, 0, 0)"
         },
         "mode": "lines",
         "type": "scatter",
         "x": [
          6,
          6,
          7,
          7
         ],
         "xaxis": "x",
         "y": [
          0,
          0.05758334096272255,
          0.05758334096272255,
          0
         ],
         "yaxis": "y"
        },
        {
         "hoverinfo": "text",
         "marker": {
          "color": "rgb(0, 0, 0)"
         },
         "mode": "lines",
         "type": "scatter",
         "x": [
          212,
          212,
          213,
          213
         ],
         "xaxis": "x",
         "y": [
          0,
          0.05787989470704166,
          0.05787989470704166,
          0
         ],
         "yaxis": "y"
        },
        {
         "hoverinfo": "text",
         "marker": {
          "color": "rgb(0, 0, 0)"
         },
         "mode": "lines",
         "type": "scatter",
         "x": [
          222,
          222,
          223,
          223
         ],
         "xaxis": "x",
         "y": [
          0,
          0.05811937111383297,
          0.05811937111383297,
          0
         ],
         "yaxis": "y"
        },
        {
         "hoverinfo": "text",
         "marker": {
          "color": "rgb(0, 0, 0)"
         },
         "mode": "lines",
         "type": "scatter",
         "x": [
          214.5,
          214.5,
          216.5,
          216.5
         ],
         "xaxis": "x",
         "y": [
          0.03313401704348171,
          0.05852771976007777,
          0.05852771976007777,
          0.04264846983882051
         ],
         "yaxis": "y"
        },
        {
         "hoverinfo": "text",
         "marker": {
          "color": "rgb(0, 0, 0)"
         },
         "mode": "lines",
         "type": "scatter",
         "x": [
          178,
          178,
          179,
          179
         ],
         "xaxis": "x",
         "y": [
          0,
          0.058648883702536535,
          0.058648883702536535,
          0
         ],
         "yaxis": "y"
        },
        {
         "hoverinfo": "text",
         "marker": {
          "color": "rgb(0, 0, 0)"
         },
         "mode": "lines",
         "type": "scatter",
         "x": [
          82.75,
          82.75,
          86.25,
          86.25
         ],
         "xaxis": "x",
         "y": [
          0.034955383509473026,
          0.0601215521343563,
          0.0601215521343563,
          0.04198419826348234
         ],
         "yaxis": "y"
        },
        {
         "hoverinfo": "text",
         "marker": {
          "color": "rgb(0, 0, 0)"
         },
         "mode": "lines",
         "type": "scatter",
         "x": [
          197,
          197,
          198,
          198
         ],
         "xaxis": "x",
         "y": [
          0,
          0.06103747201807566,
          0.06103747201807566,
          0
         ],
         "yaxis": "y"
        },
        {
         "hoverinfo": "text",
         "marker": {
          "color": "rgb(0, 0, 0)"
         },
         "mode": "lines",
         "type": "scatter",
         "x": [
          50.25,
          50.25,
          52.5,
          52.5
         ],
         "xaxis": "x",
         "y": [
          0.03083465946387036,
          0.062423903001269626,
          0.062423903001269626,
          0.027069754392612323
         ],
         "yaxis": "y"
        },
        {
         "hoverinfo": "text",
         "marker": {
          "color": "rgb(0, 0, 0)"
         },
         "mode": "lines",
         "type": "scatter",
         "x": [
          156,
          156,
          157.5,
          157.5
         ],
         "xaxis": "x",
         "y": [
          0,
          0.06372347445757036,
          0.06372347445757036,
          0.015850453757647875
         ],
         "yaxis": "y"
        },
        {
         "hoverinfo": "text",
         "marker": {
          "color": "rgb(0, 0, 0)"
         },
         "mode": "lines",
         "type": "scatter",
         "x": [
          35.5,
          35.5,
          38.25,
          38.25
         ],
         "xaxis": "x",
         "y": [
          0.015278123559843164,
          0.06382229178208827,
          0.06382229178208827,
          0.03431960706542629
         ],
         "yaxis": "y"
        },
        {
         "hoverinfo": "text",
         "marker": {
          "color": "rgb(0, 0, 0)"
         },
         "mode": "lines",
         "type": "scatter",
         "x": [
          205,
          205,
          206,
          206
         ],
         "xaxis": "x",
         "y": [
          0,
          0.06428050466047433,
          0.06428050466047433,
          0
         ],
         "yaxis": "y"
        },
        {
         "hoverinfo": "text",
         "marker": {
          "color": "rgb(0, 0, 0)"
         },
         "mode": "lines",
         "type": "scatter",
         "x": [
          180,
          180,
          181.5,
          181.5
         ],
         "xaxis": "x",
         "y": [
          0,
          0.06828173259321027,
          0.06828173259321027,
          0.039896030067620464
         ],
         "yaxis": "y"
        },
        {
         "hoverinfo": "text",
         "marker": {
          "color": "rgb(0, 0, 0)"
         },
         "mode": "lines",
         "type": "scatter",
         "x": [
          164.75,
          164.75,
          167,
          167
         ],
         "xaxis": "x",
         "y": [
          0.046527957857985455,
          0.06829102862258554,
          0.06829102862258554,
          0
         ],
         "yaxis": "y"
        },
        {
         "hoverinfo": "text",
         "marker": {
          "color": "rgb(0, 0, 0)"
         },
         "mode": "lines",
         "type": "scatter",
         "x": [
          191,
          191,
          192.5,
          192.5
         ],
         "xaxis": "x",
         "y": [
          0,
          0.06937121777970648,
          0.06937121777970648,
          0.039327361574632444
         ],
         "yaxis": "y"
        },
        {
         "hoverinfo": "text",
         "marker": {
          "color": "rgb(0, 0, 0)"
         },
         "mode": "lines",
         "type": "scatter",
         "x": [
          219,
          219,
          220.5,
          220.5
         ],
         "xaxis": "x",
         "y": [
          0,
          0.0707923017533348,
          0.0707923017533348,
          0.022085052269542604
         ],
         "yaxis": "y"
        },
        {
         "hoverinfo": "text",
         "marker": {
          "color": "rgb(0, 0, 0)"
         },
         "mode": "lines",
         "type": "scatter",
         "x": [
          149.5,
          149.5,
          151.5,
          151.5
         ],
         "xaxis": "x",
         "y": [
          0.045523898698510444,
          0.07227334051677584,
          0.07227334051677584,
          0.01980630127762097
         ],
         "yaxis": "y"
        },
        {
         "hoverinfo": "text",
         "marker": {
          "color": "rgb(0, 0, 0)"
         },
         "mode": "lines",
         "type": "scatter",
         "x": [
          59.125,
          59.125,
          62.5,
          62.5
         ],
         "xaxis": "x",
         "y": [
          0.04008391621667629,
          0.07325054129856381,
          0.07325054129856381,
          0.013617844533955386
         ],
         "yaxis": "y"
        },
        {
         "hoverinfo": "text",
         "marker": {
          "color": "rgb(0, 0, 0)"
         },
         "mode": "lines",
         "type": "scatter",
         "x": [
          146.5,
          146.5,
          148,
          148
         ],
         "xaxis": "x",
         "y": [
          0.0494768998454947,
          0.07488476495110132,
          0.07488476495110132,
          0
         ],
         "yaxis": "y"
        },
        {
         "hoverinfo": "text",
         "marker": {
          "color": "rgb(0, 0, 0)"
         },
         "mode": "lines",
         "type": "scatter",
         "x": [
          119.5,
          119.5,
          121.75,
          121.75
         ],
         "xaxis": "x",
         "y": [
          0.03475159468335599,
          0.07504081935309406,
          0.07504081935309406,
          0.028941747990839876
         ],
         "yaxis": "y"
        },
        {
         "hoverinfo": "text",
         "marker": {
          "color": "rgb(0, 0, 0)"
         },
         "mode": "lines",
         "type": "scatter",
         "x": [
          187,
          187,
          188.75,
          188.75
         ],
         "xaxis": "x",
         "y": [
          0,
          0.07826819395392091,
          0.07826819395392091,
          0.04297404563807812
         ],
         "yaxis": "y"
        },
        {
         "hoverinfo": "text",
         "marker": {
          "color": "rgb(0, 0, 0)"
         },
         "mode": "lines",
         "type": "scatter",
         "x": [
          18.25,
          18.25,
          21.875,
          21.875
         ],
         "xaxis": "x",
         "y": [
          0.029343733886461026,
          0.07926511011690394,
          0.07926511011690394,
          0.04939373886916628
         ],
         "yaxis": "y"
        },
        {
         "hoverinfo": "text",
         "marker": {
          "color": "rgb(0, 0, 0)"
         },
         "mode": "lines",
         "type": "scatter",
         "x": [
          11.25,
          11.25,
          15.125,
          15.125
         ],
         "xaxis": "x",
         "y": [
          0.03537820900128798,
          0.07930223754729863,
          0.07930223754729863,
          0.04111952692249093
         ],
         "yaxis": "y"
        },
        {
         "hoverinfo": "text",
         "marker": {
          "color": "rgb(0, 0, 0)"
         },
         "mode": "lines",
         "type": "scatter",
         "x": [
          153,
          153,
          154.5,
          154.5
         ],
         "xaxis": "x",
         "y": [
          0,
          0.0809965990344556,
          0.0809965990344556,
          0.04480805821223649
         ],
         "yaxis": "y"
        },
        {
         "hoverinfo": "text",
         "marker": {
          "color": "rgb(0, 0, 0)"
         },
         "mode": "lines",
         "type": "scatter",
         "x": [
          208.5,
          208.5,
          210.5,
          210.5
         ],
         "xaxis": "x",
         "y": [
          0.048592637935687785,
          0.08479802007744613,
          0.08479802007744613,
          0.03935153534179148
         ],
         "yaxis": "y"
        },
        {
         "hoverinfo": "text",
         "marker": {
          "color": "rgb(0, 0, 0)"
         },
         "mode": "lines",
         "type": "scatter",
         "x": [
          176.5,
          176.5,
          178.5,
          178.5
         ],
         "xaxis": "x",
         "y": [
          0.022570291201111543,
          0.08644214747794543,
          0.08644214747794543,
          0.058648883702536535
         ],
         "yaxis": "y"
        },
        {
         "hoverinfo": "text",
         "marker": {
          "color": "rgb(0, 0, 0)"
         },
         "mode": "lines",
         "type": "scatter",
         "x": [
          89.5,
          89.5,
          93.125,
          93.125
         ],
         "xaxis": "x",
         "y": [
          0.041712599784941226,
          0.08824557697844439,
          0.08824557697844439,
          0.03734816513205931
         ],
         "yaxis": "y"
        },
        {
         "hoverinfo": "text",
         "marker": {
          "color": "rgb(0, 0, 0)"
         },
         "mode": "lines",
         "type": "scatter",
         "x": [
          195.5,
          195.5,
          197.5,
          197.5
         ],
         "xaxis": "x",
         "y": [
          0.030309570278919458,
          0.0882885953550499,
          0.0882885953550499,
          0.06103747201807566
         ],
         "yaxis": "y"
        },
        {
         "hoverinfo": "text",
         "marker": {
          "color": "rgb(0, 0, 0)"
         },
         "mode": "lines",
         "type": "scatter",
         "x": [
          136.875,
          136.875,
          141.125,
          141.125
         ],
         "xaxis": "x",
         "y": [
          0.03158591777959006,
          0.0886997879062794,
          0.0886997879062794,
          0.05425929773502288
         ],
         "yaxis": "y"
        },
        {
         "hoverinfo": "text",
         "marker": {
          "color": "rgb(0, 0, 0)"
         },
         "mode": "lines",
         "type": "scatter",
         "x": [
          159.5,
          159.5,
          161.5,
          161.5
         ],
         "xaxis": "x",
         "y": [
          0.028302464910723916,
          0.09242932883890762,
          0.09242932883890762,
          0.04384677293281935
         ],
         "yaxis": "y"
        },
        {
         "hoverinfo": "text",
         "marker": {
          "color": "rgb(0, 0, 0)"
         },
         "mode": "lines",
         "type": "scatter",
         "x": [
          224,
          224,
          225,
          225
         ],
         "xaxis": "x",
         "y": [
          0,
          0.09293395114793898,
          0.09293395114793898,
          0
         ],
         "yaxis": "y"
        },
        {
         "hoverinfo": "text",
         "marker": {
          "color": "rgb(0, 0, 0)"
         },
         "mode": "lines",
         "type": "scatter",
         "x": [
          4,
          4,
          5,
          5
         ],
         "xaxis": "x",
         "y": [
          0,
          0.09355139382503147,
          0.09355139382503147,
          0
         ],
         "yaxis": "y"
        },
        {
         "hoverinfo": "text",
         "marker": {
          "color": "rgb(0, 0, 0)"
         },
         "mode": "lines",
         "type": "scatter",
         "x": [
          36.875,
          36.875,
          41.5,
          41.5
         ],
         "xaxis": "x",
         "y": [
          0.06382229178208827,
          0.09547996228412339,
          0.09547996228412339,
          0.03735739036143102
         ],
         "yaxis": "y"
        },
        {
         "hoverinfo": "text",
         "marker": {
          "color": "rgb(0, 0, 0)"
         },
         "mode": "lines",
         "type": "scatter",
         "x": [
          57,
          57,
          60.8125,
          60.8125
         ],
         "xaxis": "x",
         "y": [
          0,
          0.09818387501143355,
          0.09818387501143355,
          0.07325054129856381
         ],
         "yaxis": "y"
        },
        {
         "hoverinfo": "text",
         "marker": {
          "color": "rgb(0, 0, 0)"
         },
         "mode": "lines",
         "type": "scatter",
         "x": [
          203.5,
          203.5,
          205.5,
          205.5
         ],
         "xaxis": "x",
         "y": [
          0.03809221371584204,
          0.10005686870779831,
          0.10005686870779831,
          0.06428050466047433
         ],
         "yaxis": "y"
        },
        {
         "hoverinfo": "text",
         "marker": {
          "color": "rgb(0, 0, 0)"
         },
         "mode": "lines",
         "type": "scatter",
         "x": [
          70.0625,
          70.0625,
          75.875,
          75.875
         ],
         "xaxis": "x",
         "y": [
          0.05045398377461113,
          0.10183971196192969,
          0.10183971196192969,
          0.039609202824117506
         ],
         "yaxis": "y"
        },
        {
         "hoverinfo": "text",
         "marker": {
          "color": "rgb(0, 0, 0)"
         },
         "mode": "lines",
         "type": "scatter",
         "x": [
          172.5,
          172.5,
          174.5,
          174.5
         ],
         "xaxis": "x",
         "y": [
          0.04808762088737168,
          0.10460524473557475,
          0.10460524473557475,
          0.04573063208668453
         ],
         "yaxis": "y"
        },
        {
         "hoverinfo": "text",
         "marker": {
          "color": "rgb(0, 0, 0)"
         },
         "mode": "lines",
         "type": "scatter",
         "x": [
          168,
          168,
          169,
          169
         ],
         "xaxis": "x",
         "y": [
          0,
          0.10586584531382484,
          0.10586584531382484,
          0
         ],
         "yaxis": "y"
        },
        {
         "hoverinfo": "text",
         "marker": {
          "color": "rgb(0, 0, 0)"
         },
         "mode": "lines",
         "type": "scatter",
         "x": [
          45.625,
          45.625,
          51.375,
          51.375
         ],
         "xaxis": "x",
         "y": [
          0.05601755562097214,
          0.10963952229472633,
          0.10963952229472633,
          0.062423903001269626
         ],
         "yaxis": "y"
        },
        {
         "hoverinfo": "text",
         "marker": {
          "color": "rgb(0, 0, 0)"
         },
         "mode": "lines",
         "type": "scatter",
         "x": [
          107.875,
          107.875,
          111.125,
          111.125
         ],
         "xaxis": "x",
         "y": [
          0.05566611844937005,
          0.11001415155210945,
          0.11001415155210945,
          0.039645970617269786
         ],
         "yaxis": "y"
        },
        {
         "hoverinfo": "text",
         "marker": {
          "color": "rgb(0, 0, 0)"
         },
         "mode": "lines",
         "type": "scatter",
         "x": [
          165.875,
          165.875,
          168.5,
          168.5
         ],
         "xaxis": "x",
         "y": [
          0.06829102862258554,
          0.11021683383891598,
          0.11021683383891598,
          0.10586584531382484
         ],
         "yaxis": "y"
        },
        {
         "hoverinfo": "text",
         "marker": {
          "color": "rgb(0, 0, 0)"
         },
         "mode": "lines",
         "type": "scatter",
         "x": [
          180.75,
          180.75,
          183.5,
          183.5
         ],
         "xaxis": "x",
         "y": [
          0.06828173259321027,
          0.11251545205080364,
          0.11251545205080364,
          0.04141681830018154
         ],
         "yaxis": "y"
        },
        {
         "hoverinfo": "text",
         "marker": {
          "color": "rgb(0, 0, 0)"
         },
         "mode": "lines",
         "type": "scatter",
         "x": [
          1,
          1,
          2,
          2
         ],
         "xaxis": "x",
         "y": [
          0,
          0.11433263664581053,
          0.11433263664581053,
          0
         ],
         "yaxis": "y"
        },
        {
         "hoverinfo": "text",
         "marker": {
          "color": "rgb(0, 0, 0)"
         },
         "mode": "lines",
         "type": "scatter",
         "x": [
          79.5,
          79.5,
          84.5,
          84.5
         ],
         "xaxis": "x",
         "y": [
          0.039287078163685776,
          0.1155749442000142,
          0.1155749442000142,
          0.0601215521343563
         ],
         "yaxis": "y"
        },
        {
         "hoverinfo": "text",
         "marker": {
          "color": "rgb(0, 0, 0)"
         },
         "mode": "lines",
         "type": "scatter",
         "x": [
          128.125,
          128.125,
          132.875,
          132.875
         ],
         "xaxis": "x",
         "y": [
          0.05514748721234098,
          0.11729459552735885,
          0.11729459552735885,
          0.05468617930953105
         ],
         "yaxis": "y"
        },
        {
         "hoverinfo": "text",
         "marker": {
          "color": "rgb(0, 0, 0)"
         },
         "mode": "lines",
         "type": "scatter",
         "x": [
          191.75,
          191.75,
          194,
          194
         ],
         "xaxis": "x",
         "y": [
          0.06937121777970648,
          0.11851964432338298,
          0.11851964432338298,
          0
         ],
         "yaxis": "y"
        },
        {
         "hoverinfo": "text",
         "marker": {
          "color": "rgb(0, 0, 0)"
         },
         "mode": "lines",
         "type": "scatter",
         "x": [
          115.625,
          115.625,
          120.625,
          120.625
         ],
         "xaxis": "x",
         "y": [
          0.04695952735742237,
          0.12258090248152276,
          0.12258090248152276,
          0.07504081935309406
         ],
         "yaxis": "y"
        },
        {
         "hoverinfo": "text",
         "marker": {
          "color": "rgb(0, 0, 0)"
         },
         "mode": "lines",
         "type": "scatter",
         "x": [
          207,
          207,
          209.5,
          209.5
         ],
         "xaxis": "x",
         "y": [
          0,
          0.12389579893211145,
          0.12389579893211145,
          0.08479802007744613
         ],
         "yaxis": "y"
        },
        {
         "hoverinfo": "text",
         "marker": {
          "color": "rgb(0, 0, 0)"
         },
         "mode": "lines",
         "type": "scatter",
         "x": [
          212.5,
          212.5,
          215.5,
          215.5
         ],
         "xaxis": "x",
         "y": [
          0.05787989470704166,
          0.12566780706407757,
          0.12566780706407757,
          0.05852771976007777
         ],
         "yaxis": "y"
        },
        {
         "hoverinfo": "text",
         "marker": {
          "color": "rgb(0, 0, 0)"
         },
         "mode": "lines",
         "type": "scatter",
         "x": [
          196.5,
          196.5,
          199.5,
          199.5
         ],
         "xaxis": "x",
         "y": [
          0.0882885953550499,
          0.12715737819354808,
          0.12715737819354808,
          0.055829115263059524
         ],
         "yaxis": "y"
        },
        {
         "hoverinfo": "text",
         "marker": {
          "color": "rgb(0, 0, 0)"
         },
         "mode": "lines",
         "type": "scatter",
         "x": [
          219.75,
          219.75,
          222.5,
          222.5
         ],
         "xaxis": "x",
         "y": [
          0.0707923017533348,
          0.13153222123985026,
          0.13153222123985026,
          0.05811937111383297
         ],
         "yaxis": "y"
        },
        {
         "hoverinfo": "text",
         "marker": {
          "color": "rgb(0, 0, 0)"
         },
         "mode": "lines",
         "type": "scatter",
         "x": [
          9,
          9,
          13.1875,
          13.1875
         ],
         "xaxis": "x",
         "y": [
          0,
          0.13154552150524043,
          0.13154552150524043,
          0.07930223754729863
         ],
         "yaxis": "y"
        },
        {
         "hoverinfo": "text",
         "marker": {
          "color": "rgb(0, 0, 0)"
         },
         "mode": "lines",
         "type": "scatter",
         "x": [
          58.90625,
          58.90625,
          65.625,
          65.625
         ],
         "xaxis": "x",
         "y": [
          0.09818387501143355,
          0.13602866831293356,
          0.13602866831293356,
          0.042091564788754046
         ],
         "yaxis": "y"
        },
        {
         "hoverinfo": "text",
         "marker": {
          "color": "rgb(0, 0, 0)"
         },
         "mode": "lines",
         "type": "scatter",
         "x": [
          91.3125,
          91.3125,
          99.84375,
          99.84375
         ],
         "xaxis": "x",
         "y": [
          0.08824557697844439,
          0.1383232950869776,
          0.1383232950869776,
          0.05650816054581259
         ],
         "yaxis": "y"
        },
        {
         "hoverinfo": "text",
         "marker": {
          "color": "rgb(0, 0, 0)"
         },
         "mode": "lines",
         "type": "scatter",
         "x": [
          160.5,
          160.5,
          163,
          163
         ],
         "xaxis": "x",
         "y": [
          0.09242932883890762,
          0.13861199523363932,
          0.13861199523363932,
          0
         ],
         "yaxis": "y"
        },
        {
         "hoverinfo": "text",
         "marker": {
          "color": "rgb(0, 0, 0)"
         },
         "mode": "lines",
         "type": "scatter",
         "x": [
          153.75,
          153.75,
          156.75,
          156.75
         ],
         "xaxis": "x",
         "y": [
          0.0809965990344556,
          0.14352531584007558,
          0.14352531584007558,
          0.06372347445757036
         ],
         "yaxis": "y"
        },
        {
         "hoverinfo": "text",
         "marker": {
          "color": "rgb(0, 0, 0)"
         },
         "mode": "lines",
         "type": "scatter",
         "x": [
          20.0625,
          20.0625,
          26.8125,
          26.8125
         ],
         "xaxis": "x",
         "y": [
          0.07926511011690394,
          0.1537478099345002,
          0.1537478099345002,
          0.05742509122957765
         ],
         "yaxis": "y"
        },
        {
         "hoverinfo": "text",
         "marker": {
          "color": "rgb(0, 0, 0)"
         },
         "mode": "lines",
         "type": "scatter",
         "x": [
          147.25,
          147.25,
          150.5,
          150.5
         ],
         "xaxis": "x",
         "y": [
          0.07488476495110132,
          0.1542942676991134,
          0.1542942676991134,
          0.07227334051677584
         ],
         "yaxis": "y"
        },
        {
         "hoverinfo": "text",
         "marker": {
          "color": "rgb(0, 0, 0)"
         },
         "mode": "lines",
         "type": "scatter",
         "x": [
          33,
          33,
          34,
          34
         ],
         "xaxis": "x",
         "y": [
          0,
          0.15626204889194523,
          0.15626204889194523,
          0
         ],
         "yaxis": "y"
        },
        {
         "hoverinfo": "text",
         "marker": {
          "color": "rgb(0, 0, 0)"
         },
         "mode": "lines",
         "type": "scatter",
         "x": [
          31,
          31,
          32,
          32
         ],
         "xaxis": "x",
         "y": [
          0,
          0.15882185835804055,
          0.15882185835804055,
          0
         ],
         "yaxis": "y"
        },
        {
         "hoverinfo": "text",
         "marker": {
          "color": "rgb(0, 0, 0)"
         },
         "mode": "lines",
         "type": "scatter",
         "x": [
          171,
          171,
          173.5,
          173.5
         ],
         "xaxis": "x",
         "y": [
          0,
          0.16408981267735173,
          0.16408981267735173,
          0.10460524473557475
         ],
         "yaxis": "y"
        },
        {
         "hoverinfo": "text",
         "marker": {
          "color": "rgb(0, 0, 0)"
         },
         "mode": "lines",
         "type": "scatter",
         "x": [
          126,
          126,
          130.5,
          130.5
         ],
         "xaxis": "x",
         "y": [
          0,
          0.1643507015370952,
          0.1643507015370952,
          0.11729459552735885
         ],
         "yaxis": "y"
        },
        {
         "hoverinfo": "text",
         "marker": {
          "color": "rgb(0, 0, 0)"
         },
         "mode": "lines",
         "type": "scatter",
         "x": [
          187.875,
          187.875,
          192.875,
          192.875
         ],
         "xaxis": "x",
         "y": [
          0.07826819395392091,
          0.17296926958651063,
          0.17296926958651063,
          0.11851964432338298
         ],
         "yaxis": "y"
        },
        {
         "hoverinfo": "text",
         "marker": {
          "color": "rgb(0, 0, 0)"
         },
         "mode": "lines",
         "type": "scatter",
         "x": [
          1.5,
          1.5,
          3,
          3
         ],
         "xaxis": "x",
         "y": [
          0.11433263664581053,
          0.17416918663945552,
          0.17416918663945552,
          0
         ],
         "yaxis": "y"
        },
        {
         "hoverinfo": "text",
         "marker": {
          "color": "rgb(0, 0, 0)"
         },
         "mode": "lines",
         "type": "scatter",
         "x": [
          198,
          198,
          201,
          201
         ],
         "xaxis": "x",
         "y": [
          0.12715737819354808,
          0.1814840754498657,
          0.1814840754498657,
          0
         ],
         "yaxis": "y"
        },
        {
         "hoverinfo": "text",
         "marker": {
          "color": "rgb(0, 0, 0)"
         },
         "mode": "lines",
         "type": "scatter",
         "x": [
          204.5,
          204.5,
          208.25,
          208.25
         ],
         "xaxis": "x",
         "y": [
          0.10005686870779831,
          0.18752376427351486,
          0.18752376427351486,
          0.12389579893211145
         ],
         "yaxis": "y"
        },
        {
         "hoverinfo": "text",
         "marker": {
          "color": "rgb(0, 0, 0)"
         },
         "mode": "lines",
         "type": "scatter",
         "x": [
          167.1875,
          167.1875,
          170,
          170
         ],
         "xaxis": "x",
         "y": [
          0.11021683383891598,
          0.18838233792870526,
          0.18838233792870526,
          0
         ],
         "yaxis": "y"
        },
        {
         "hoverinfo": "text",
         "marker": {
          "color": "rgb(0, 0, 0)"
         },
         "mode": "lines",
         "type": "scatter",
         "x": [
          95.578125,
          95.578125,
          109.5,
          109.5
         ],
         "xaxis": "x",
         "y": [
          0.1383232950869776,
          0.1890412225405557,
          0.1890412225405557,
          0.11001415155210945
         ],
         "yaxis": "y"
        },
        {
         "hoverinfo": "text",
         "marker": {
          "color": "rgb(0, 0, 0)"
         },
         "mode": "lines",
         "type": "scatter",
         "x": [
          172.25,
          172.25,
          177.5,
          177.5
         ],
         "xaxis": "x",
         "y": [
          0.16408981267735173,
          0.19394867327138118,
          0.19394867327138118,
          0.08644214747794543
         ],
         "yaxis": "y"
        },
        {
         "hoverinfo": "text",
         "marker": {
          "color": "rgb(0, 0, 0)"
         },
         "mode": "lines",
         "type": "scatter",
         "x": [
          218,
          218,
          221.125,
          221.125
         ],
         "xaxis": "x",
         "y": [
          0,
          0.2042655777460424,
          0.2042655777460424,
          0.13153222123985026
         ],
         "yaxis": "y"
        },
        {
         "hoverinfo": "text",
         "marker": {
          "color": "rgb(0, 0, 0)"
         },
         "mode": "lines",
         "type": "scatter",
         "x": [
          128.25,
          128.25,
          139,
          139
         ],
         "xaxis": "x",
         "y": [
          0.1643507015370952,
          0.20874833579900084,
          0.20874833579900084,
          0.0886997879062794
         ],
         "yaxis": "y"
        },
        {
         "hoverinfo": "text",
         "marker": {
          "color": "rgb(0, 0, 0)"
         },
         "mode": "lines",
         "type": "scatter",
         "x": [
          39.1875,
          39.1875,
          48.5,
          48.5
         ],
         "xaxis": "x",
         "y": [
          0.09547996228412339,
          0.21170988584199768,
          0.21170988584199768,
          0.10963952229472633
         ],
         "yaxis": "y"
        },
        {
         "hoverinfo": "text",
         "marker": {
          "color": "rgb(0, 0, 0)"
         },
         "mode": "lines",
         "type": "scatter",
         "x": [
          155.25,
          155.25,
          161.75,
          161.75
         ],
         "xaxis": "x",
         "y": [
          0.14352531584007558,
          0.21428776436705665,
          0.21428776436705665,
          0.13861199523363932
         ],
         "yaxis": "y"
        },
        {
         "hoverinfo": "text",
         "marker": {
          "color": "rgb(0, 0, 0)"
         },
         "mode": "lines",
         "type": "scatter",
         "x": [
          30,
          30,
          31.5,
          31.5
         ],
         "xaxis": "x",
         "y": [
          0,
          0.2171229342351368,
          0.2171229342351368,
          0.15882185835804055
         ],
         "yaxis": "y"
        },
        {
         "hoverinfo": "text",
         "marker": {
          "color": "rgb(0, 0, 0)"
         },
         "mode": "lines",
         "type": "scatter",
         "x": [
          124,
          124,
          125,
          125
         ],
         "xaxis": "x",
         "y": [
          0,
          0.22450180974088718,
          0.22450180974088718,
          0
         ],
         "yaxis": "y"
        },
        {
         "hoverinfo": "text",
         "marker": {
          "color": "rgb(0, 0, 0)"
         },
         "mode": "lines",
         "type": "scatter",
         "x": [
          182.125,
          182.125,
          185,
          185
         ],
         "xaxis": "x",
         "y": [
          0.11251545205080364,
          0.22677907061218763,
          0.22677907061218763,
          0
         ],
         "yaxis": "y"
        },
        {
         "hoverinfo": "text",
         "marker": {
          "color": "rgb(0, 0, 0)"
         },
         "mode": "lines",
         "type": "scatter",
         "x": [
          62.265625,
          62.265625,
          72.96875,
          72.96875
         ],
         "xaxis": "x",
         "y": [
          0.13602866831293356,
          0.23034250484082475,
          0.23034250484082475,
          0.10183971196192969
         ],
         "yaxis": "y"
        },
        {
         "hoverinfo": "text",
         "marker": {
          "color": "rgb(0, 0, 0)"
         },
         "mode": "lines",
         "type": "scatter",
         "x": [
          82,
          82,
          102.5390625,
          102.5390625
         ],
         "xaxis": "x",
         "y": [
          0.1155749442000142,
          0.2345035186615309,
          0.2345035186615309,
          0.1890412225405557
         ],
         "yaxis": "y"
        },
        {
         "hoverinfo": "text",
         "marker": {
          "color": "rgb(0, 0, 0)"
         },
         "mode": "lines",
         "type": "scatter",
         "x": [
          219.5625,
          219.5625,
          224.5,
          224.5
         ],
         "xaxis": "x",
         "y": [
          0.2042655777460424,
          0.24749833714777195,
          0.24749833714777195,
          0.09293395114793898
         ],
         "yaxis": "y"
        },
        {
         "hoverinfo": "text",
         "marker": {
          "color": "rgb(0, 0, 0)"
         },
         "mode": "lines",
         "type": "scatter",
         "x": [
          6.5,
          6.5,
          8,
          8
         ],
         "xaxis": "x",
         "y": [
          0.05758334096272255,
          0.24959926623253897,
          0.24959926623253897,
          0
         ],
         "yaxis": "y"
        },
        {
         "hoverinfo": "text",
         "marker": {
          "color": "rgb(0, 0, 0)"
         },
         "mode": "lines",
         "type": "scatter",
         "x": [
          11.09375,
          11.09375,
          23.4375,
          23.4375
         ],
         "xaxis": "x",
         "y": [
          0.13154552150524043,
          0.253099625154417,
          0.253099625154417,
          0.1537478099345002
         ],
         "yaxis": "y"
        },
        {
         "hoverinfo": "text",
         "marker": {
          "color": "rgb(0, 0, 0)"
         },
         "mode": "lines",
         "type": "scatter",
         "x": [
          54,
          54,
          55,
          55
         ],
         "xaxis": "x",
         "y": [
          0,
          0.256966829144849,
          0.256966829144849,
          0
         ],
         "yaxis": "y"
        },
        {
         "hoverinfo": "text",
         "marker": {
          "color": "rgb(0, 0, 0)"
         },
         "mode": "lines",
         "type": "scatter",
         "x": [
          145,
          145,
          148.875,
          148.875
         ],
         "xaxis": "x",
         "y": [
          0,
          0.25699239323576134,
          0.25699239323576134,
          0.1542942676991134
         ],
         "yaxis": "y"
        },
        {
         "hoverinfo": "text",
         "marker": {
          "color": "rgb(0, 0, 0)"
         },
         "mode": "lines",
         "type": "scatter",
         "x": [
          92.26953125,
          92.26953125,
          118.125,
          118.125
         ],
         "xaxis": "x",
         "y": [
          0.2345035186615309,
          0.2625245973878072,
          0.2625245973878072,
          0.12258090248152276
         ],
         "yaxis": "y"
        },
        {
         "hoverinfo": "text",
         "marker": {
          "color": "rgb(0, 0, 0)"
         },
         "mode": "lines",
         "type": "scatter",
         "x": [
          186,
          186,
          190.375,
          190.375
         ],
         "xaxis": "x",
         "y": [
          0,
          0.2673240167218555,
          0.2673240167218555,
          0.17296926958651063
         ],
         "yaxis": "y"
        },
        {
         "hoverinfo": "text",
         "marker": {
          "color": "rgb(0, 0, 0)"
         },
         "mode": "lines",
         "type": "scatter",
         "x": [
          214,
          214,
          222.03125,
          222.03125
         ],
         "xaxis": "x",
         "y": [
          0.12566780706407757,
          0.27828570814573916,
          0.27828570814573916,
          0.24749833714777195
         ],
         "yaxis": "y"
        },
        {
         "hoverinfo": "text",
         "marker": {
          "color": "rgb(0, 0, 0)"
         },
         "mode": "lines",
         "type": "scatter",
         "x": [
          168.59375,
          168.59375,
          174.875,
          174.875
         ],
         "xaxis": "x",
         "y": [
          0.18838233792870526,
          0.28164193272264787,
          0.28164193272264787,
          0.19394867327138118
         ],
         "yaxis": "y"
        },
        {
         "hoverinfo": "text",
         "marker": {
          "color": "rgb(0, 0, 0)"
         },
         "mode": "lines",
         "type": "scatter",
         "x": [
          188.1875,
          188.1875,
          199.5,
          199.5
         ],
         "xaxis": "x",
         "y": [
          0.2673240167218555,
          0.31041463103432104,
          0.31041463103432104,
          0.1814840754498657
         ],
         "yaxis": "y"
        },
        {
         "hoverinfo": "text",
         "marker": {
          "color": "rgb(0, 0, 0)"
         },
         "mode": "lines",
         "type": "scatter",
         "x": [
          202,
          202,
          206.375,
          206.375
         ],
         "xaxis": "x",
         "y": [
          0,
          0.32594214275476063,
          0.32594214275476063,
          0.18752376427351486
         ],
         "yaxis": "y"
        },
        {
         "hoverinfo": "text",
         "marker": {
          "color": "rgb(0, 0, 0)"
         },
         "mode": "lines",
         "type": "scatter",
         "x": [
          124.5,
          124.5,
          133.625,
          133.625
         ],
         "xaxis": "x",
         "y": [
          0.22450180974088718,
          0.3367692824181321,
          0.3367692824181321,
          0.20874833579900084
         ],
         "yaxis": "y"
        },
        {
         "hoverinfo": "text",
         "marker": {
          "color": "rgb(0, 0, 0)"
         },
         "mode": "lines",
         "type": "scatter",
         "x": [
          43.84375,
          43.84375,
          54.5,
          54.5
         ],
         "xaxis": "x",
         "y": [
          0.21170988584199768,
          0.3562028876141313,
          0.3562028876141313,
          0.256966829144849
         ],
         "yaxis": "y"
        },
        {
         "hoverinfo": "text",
         "marker": {
          "color": "rgb(0, 0, 0)"
         },
         "mode": "lines",
         "type": "scatter",
         "x": [
          17.265625,
          17.265625,
          30.75,
          30.75
         ],
         "xaxis": "x",
         "y": [
          0.253099625154417,
          0.3676424875724998,
          0.3676424875724998,
          0.2171229342351368
         ],
         "yaxis": "y"
        },
        {
         "hoverinfo": "text",
         "marker": {
          "color": "rgb(0, 0, 0)"
         },
         "mode": "lines",
         "type": "scatter",
         "x": [
          56,
          56,
          67.6171875,
          67.6171875
         ],
         "xaxis": "x",
         "y": [
          0,
          0.40276016830886213,
          0.40276016830886213,
          0.23034250484082475
         ],
         "yaxis": "y"
        },
        {
         "hoverinfo": "text",
         "marker": {
          "color": "rgb(0, 0, 0)"
         },
         "mode": "lines",
         "type": "scatter",
         "x": [
          146.9375,
          146.9375,
          158.5,
          158.5
         ],
         "xaxis": "x",
         "y": [
          0.25699239323576134,
          0.41205260324170123,
          0.41205260324170123,
          0.21428776436705665
         ],
         "yaxis": "y"
        },
        {
         "hoverinfo": "text",
         "marker": {
          "color": "rgb(0, 0, 0)"
         },
         "mode": "lines",
         "type": "scatter",
         "x": [
          218.015625,
          218.015625,
          226,
          226
         ],
         "xaxis": "x",
         "y": [
          0.27828570814573916,
          0.42327904898284857,
          0.42327904898284857,
          0
         ],
         "yaxis": "y"
        },
        {
         "hoverinfo": "text",
         "marker": {
          "color": "rgb(0, 0, 0)"
         },
         "mode": "lines",
         "type": "scatter",
         "x": [
          129.0625,
          129.0625,
          144,
          144
         ],
         "xaxis": "x",
         "y": [
          0.3367692824181321,
          0.43829031431537047,
          0.43829031431537047,
          0
         ],
         "yaxis": "y"
        },
        {
         "hoverinfo": "text",
         "marker": {
          "color": "rgb(0, 0, 0)"
         },
         "mode": "lines",
         "type": "scatter",
         "x": [
          171.734375,
          171.734375,
          183.5625,
          183.5625
         ],
         "xaxis": "x",
         "y": [
          0.28164193272264787,
          0.4520677290978875,
          0.4520677290978875,
          0.22677907061218763
         ],
         "yaxis": "y"
        },
        {
         "hoverinfo": "text",
         "marker": {
          "color": "rgb(0, 0, 0)"
         },
         "mode": "lines",
         "type": "scatter",
         "x": [
          33.5,
          33.5,
          49.171875,
          49.171875
         ],
         "xaxis": "x",
         "y": [
          0.15626204889194523,
          0.47476406927137244,
          0.47476406927137244,
          0.3562028876141313
         ],
         "yaxis": "y"
        },
        {
         "hoverinfo": "text",
         "marker": {
          "color": "rgb(0, 0, 0)"
         },
         "mode": "lines",
         "type": "scatter",
         "x": [
          228,
          228,
          229,
          229
         ],
         "xaxis": "x",
         "y": [
          0,
          0.47551680777250266,
          0.47551680777250266,
          0
         ],
         "yaxis": "y"
        },
        {
         "hoverinfo": "text",
         "marker": {
          "color": "rgb(0, 0, 0)"
         },
         "mode": "lines",
         "type": "scatter",
         "x": [
          204.1875,
          204.1875,
          222.0078125,
          222.0078125
         ],
         "xaxis": "x",
         "y": [
          0.32594214275476063,
          0.47591265639952435,
          0.47591265639952435,
          0.42327904898284857
         ],
         "yaxis": "y"
        },
        {
         "hoverinfo": "text",
         "marker": {
          "color": "rgb(0, 0, 0)"
         },
         "mode": "lines",
         "type": "scatter",
         "x": [
          4.5,
          4.5,
          7.25,
          7.25
         ],
         "xaxis": "x",
         "y": [
          0.09355139382503147,
          0.49057046496048384,
          0.49057046496048384,
          0.24959926623253897
         ],
         "yaxis": "y"
        },
        {
         "hoverinfo": "text",
         "marker": {
          "color": "rgb(0, 0, 0)"
         },
         "mode": "lines",
         "type": "scatter",
         "x": [
          61.80859375,
          61.80859375,
          105.197265625,
          105.197265625
         ],
         "xaxis": "x",
         "y": [
          0.40276016830886213,
          0.5148039929860727,
          0.5148039929860727,
          0.2625245973878072
         ],
         "yaxis": "y"
        },
        {
         "hoverinfo": "text",
         "marker": {
          "color": "rgb(0, 0, 0)"
         },
         "mode": "lines",
         "type": "scatter",
         "x": [
          0,
          0,
          2.25,
          2.25
         ],
         "xaxis": "x",
         "y": [
          0,
          0.5673383266870484,
          0.5673383266870484,
          0.17416918663945552
         ],
         "yaxis": "y"
        },
        {
         "hoverinfo": "text",
         "marker": {
          "color": "rgb(0, 0, 0)"
         },
         "mode": "lines",
         "type": "scatter",
         "x": [
          83.5029296875,
          83.5029296875,
          136.53125,
          136.53125
         ],
         "xaxis": "x",
         "y": [
          0.5148039929860727,
          0.5916704447422705,
          0.5916704447422705,
          0.43829031431537047
         ],
         "yaxis": "y"
        },
        {
         "hoverinfo": "text",
         "marker": {
          "color": "rgb(0, 0, 0)"
         },
         "mode": "lines",
         "type": "scatter",
         "x": [
          5.875,
          5.875,
          24.0078125,
          24.0078125
         ],
         "xaxis": "x",
         "y": [
          0.49057046496048384,
          0.6520868733018896,
          0.6520868733018896,
          0.3676424875724998
         ],
         "yaxis": "y"
        },
        {
         "hoverinfo": "text",
         "marker": {
          "color": "rgb(0, 0, 0)"
         },
         "mode": "lines",
         "type": "scatter",
         "x": [
          152.71875,
          152.71875,
          177.6484375,
          177.6484375
         ],
         "xaxis": "x",
         "y": [
          0.41205260324170123,
          0.6785811623610214,
          0.6785811623610214,
          0.4520677290978875
         ],
         "yaxis": "y"
        },
        {
         "hoverinfo": "text",
         "marker": {
          "color": "rgb(0, 0, 0)"
         },
         "mode": "lines",
         "type": "scatter",
         "x": [
          193.84375,
          193.84375,
          213.09765625,
          213.09765625
         ],
         "xaxis": "x",
         "y": [
          0.31041463103432104,
          0.6836087244491776,
          0.6836087244491776,
          0.47591265639952435
         ],
         "yaxis": "y"
        },
        {
         "hoverinfo": "text",
         "marker": {
          "color": "rgb(0, 0, 0)"
         },
         "mode": "lines",
         "type": "scatter",
         "x": [
          227,
          227,
          228.5,
          228.5
         ],
         "xaxis": "x",
         "y": [
          0,
          0.70897312795559,
          0.70897312795559,
          0.47551680777250266
         ],
         "yaxis": "y"
        },
        {
         "hoverinfo": "text",
         "marker": {
          "color": "rgb(0, 0, 0)"
         },
         "mode": "lines",
         "type": "scatter",
         "x": [
          41.3359375,
          41.3359375,
          110.01708984375,
          110.01708984375
         ],
         "xaxis": "x",
         "y": [
          0.47476406927137244,
          0.719315711726331,
          0.719315711726331,
          0.5916704447422705
         ],
         "yaxis": "y"
        },
        {
         "hoverinfo": "text",
         "marker": {
          "color": "rgb(0, 0, 0)"
         },
         "mode": "lines",
         "type": "scatter",
         "x": [
          14.94140625,
          14.94140625,
          75.676513671875,
          75.676513671875
         ],
         "xaxis": "x",
         "y": [
          0.6520868733018896,
          0.8148510219993408,
          0.8148510219993408,
          0.719315711726331
         ],
         "yaxis": "y"
        },
        {
         "hoverinfo": "text",
         "marker": {
          "color": "rgb(0, 0, 0)"
         },
         "mode": "lines",
         "type": "scatter",
         "x": [
          165.18359375,
          165.18359375,
          203.470703125,
          203.470703125
         ],
         "xaxis": "x",
         "y": [
          0.6785811623610214,
          0.8596452113341384,
          0.8596452113341384,
          0.6836087244491776
         ],
         "yaxis": "y"
        },
        {
         "hoverinfo": "text",
         "marker": {
          "color": "rgb(0, 0, 0)"
         },
         "mode": "lines",
         "type": "scatter",
         "x": [
          1.125,
          1.125,
          45.3089599609375,
          45.3089599609375
         ],
         "xaxis": "x",
         "y": [
          0.5673383266870484,
          0.9837471477589447,
          0.9837471477589447,
          0.8148510219993408
         ],
         "yaxis": "y"
        },
        {
         "hoverinfo": "text",
         "marker": {
          "color": "rgb(0, 0, 0)"
         },
         "mode": "lines",
         "type": "scatter",
         "x": [
          184.3271484375,
          184.3271484375,
          227.75,
          227.75
         ],
         "xaxis": "x",
         "y": [
          0.8596452113341384,
          1.2301705576435964,
          1.2301705576435964,
          0.70897312795559
         ],
         "yaxis": "y"
        },
        {
         "marker": {
          "color": "rgb(0, 0, 0)",
          "size": [
           20
          ]
         },
         "mode": "markers",
         "type": "scatter",
         "x": [
          114.62777709960938
         ],
         "xaxis": "x",
         "y": [
          1.562194477592794
         ],
         "yaxis": "y"
        },
        {
         "hoverinfo": "text",
         "marker": {
          "color": "rgb(0, 0, 0)"
         },
         "mode": "lines",
         "type": "scatter",
         "x": [
          23.21697998046875,
          23.21697998046875,
          206.03857421875,
          206.03857421875
         ],
         "xaxis": "x",
         "y": [
          0.9837471477589447,
          1.562194477592794,
          1.562194477592794,
          1.2301705576435964
         ],
         "yaxis": "y"
        }
       ],
       "layout": {
        "height": 800,
        "hovermode": "closest",
        "paper_bgcolor": "rgba(0,0,0,0)",
        "plot_bgcolor": "rgba(0,0,0,0)",
        "showlegend": false,
        "template": {
         "data": {
          "bar": [
           {
            "error_x": {
             "color": "#2a3f5f"
            },
            "error_y": {
             "color": "#2a3f5f"
            },
            "marker": {
             "line": {
              "color": "#E5ECF6",
              "width": 0.5
             },
             "pattern": {
              "fillmode": "overlay",
              "size": 10,
              "solidity": 0.2
             }
            },
            "type": "bar"
           }
          ],
          "barpolar": [
           {
            "marker": {
             "line": {
              "color": "#E5ECF6",
              "width": 0.5
             },
             "pattern": {
              "fillmode": "overlay",
              "size": 10,
              "solidity": 0.2
             }
            },
            "type": "barpolar"
           }
          ],
          "carpet": [
           {
            "aaxis": {
             "endlinecolor": "#2a3f5f",
             "gridcolor": "white",
             "linecolor": "white",
             "minorgridcolor": "white",
             "startlinecolor": "#2a3f5f"
            },
            "baxis": {
             "endlinecolor": "#2a3f5f",
             "gridcolor": "white",
             "linecolor": "white",
             "minorgridcolor": "white",
             "startlinecolor": "#2a3f5f"
            },
            "type": "carpet"
           }
          ],
          "choropleth": [
           {
            "colorbar": {
             "outlinewidth": 0,
             "ticks": ""
            },
            "type": "choropleth"
           }
          ],
          "contour": [
           {
            "colorbar": {
             "outlinewidth": 0,
             "ticks": ""
            },
            "colorscale": [
             [
              0,
              "#0d0887"
             ],
             [
              0.1111111111111111,
              "#46039f"
             ],
             [
              0.2222222222222222,
              "#7201a8"
             ],
             [
              0.3333333333333333,
              "#9c179e"
             ],
             [
              0.4444444444444444,
              "#bd3786"
             ],
             [
              0.5555555555555556,
              "#d8576b"
             ],
             [
              0.6666666666666666,
              "#ed7953"
             ],
             [
              0.7777777777777778,
              "#fb9f3a"
             ],
             [
              0.8888888888888888,
              "#fdca26"
             ],
             [
              1,
              "#f0f921"
             ]
            ],
            "type": "contour"
           }
          ],
          "contourcarpet": [
           {
            "colorbar": {
             "outlinewidth": 0,
             "ticks": ""
            },
            "type": "contourcarpet"
           }
          ],
          "heatmap": [
           {
            "colorbar": {
             "outlinewidth": 0,
             "ticks": ""
            },
            "colorscale": [
             [
              0,
              "#0d0887"
             ],
             [
              0.1111111111111111,
              "#46039f"
             ],
             [
              0.2222222222222222,
              "#7201a8"
             ],
             [
              0.3333333333333333,
              "#9c179e"
             ],
             [
              0.4444444444444444,
              "#bd3786"
             ],
             [
              0.5555555555555556,
              "#d8576b"
             ],
             [
              0.6666666666666666,
              "#ed7953"
             ],
             [
              0.7777777777777778,
              "#fb9f3a"
             ],
             [
              0.8888888888888888,
              "#fdca26"
             ],
             [
              1,
              "#f0f921"
             ]
            ],
            "type": "heatmap"
           }
          ],
          "heatmapgl": [
           {
            "colorbar": {
             "outlinewidth": 0,
             "ticks": ""
            },
            "colorscale": [
             [
              0,
              "#0d0887"
             ],
             [
              0.1111111111111111,
              "#46039f"
             ],
             [
              0.2222222222222222,
              "#7201a8"
             ],
             [
              0.3333333333333333,
              "#9c179e"
             ],
             [
              0.4444444444444444,
              "#bd3786"
             ],
             [
              0.5555555555555556,
              "#d8576b"
             ],
             [
              0.6666666666666666,
              "#ed7953"
             ],
             [
              0.7777777777777778,
              "#fb9f3a"
             ],
             [
              0.8888888888888888,
              "#fdca26"
             ],
             [
              1,
              "#f0f921"
             ]
            ],
            "type": "heatmapgl"
           }
          ],
          "histogram": [
           {
            "marker": {
             "pattern": {
              "fillmode": "overlay",
              "size": 10,
              "solidity": 0.2
             }
            },
            "type": "histogram"
           }
          ],
          "histogram2d": [
           {
            "colorbar": {
             "outlinewidth": 0,
             "ticks": ""
            },
            "colorscale": [
             [
              0,
              "#0d0887"
             ],
             [
              0.1111111111111111,
              "#46039f"
             ],
             [
              0.2222222222222222,
              "#7201a8"
             ],
             [
              0.3333333333333333,
              "#9c179e"
             ],
             [
              0.4444444444444444,
              "#bd3786"
             ],
             [
              0.5555555555555556,
              "#d8576b"
             ],
             [
              0.6666666666666666,
              "#ed7953"
             ],
             [
              0.7777777777777778,
              "#fb9f3a"
             ],
             [
              0.8888888888888888,
              "#fdca26"
             ],
             [
              1,
              "#f0f921"
             ]
            ],
            "type": "histogram2d"
           }
          ],
          "histogram2dcontour": [
           {
            "colorbar": {
             "outlinewidth": 0,
             "ticks": ""
            },
            "colorscale": [
             [
              0,
              "#0d0887"
             ],
             [
              0.1111111111111111,
              "#46039f"
             ],
             [
              0.2222222222222222,
              "#7201a8"
             ],
             [
              0.3333333333333333,
              "#9c179e"
             ],
             [
              0.4444444444444444,
              "#bd3786"
             ],
             [
              0.5555555555555556,
              "#d8576b"
             ],
             [
              0.6666666666666666,
              "#ed7953"
             ],
             [
              0.7777777777777778,
              "#fb9f3a"
             ],
             [
              0.8888888888888888,
              "#fdca26"
             ],
             [
              1,
              "#f0f921"
             ]
            ],
            "type": "histogram2dcontour"
           }
          ],
          "mesh3d": [
           {
            "colorbar": {
             "outlinewidth": 0,
             "ticks": ""
            },
            "type": "mesh3d"
           }
          ],
          "parcoords": [
           {
            "line": {
             "colorbar": {
              "outlinewidth": 0,
              "ticks": ""
             }
            },
            "type": "parcoords"
           }
          ],
          "pie": [
           {
            "automargin": true,
            "type": "pie"
           }
          ],
          "scatter": [
           {
            "fillpattern": {
             "fillmode": "overlay",
             "size": 10,
             "solidity": 0.2
            },
            "type": "scatter"
           }
          ],
          "scatter3d": [
           {
            "line": {
             "colorbar": {
              "outlinewidth": 0,
              "ticks": ""
             }
            },
            "marker": {
             "colorbar": {
              "outlinewidth": 0,
              "ticks": ""
             }
            },
            "type": "scatter3d"
           }
          ],
          "scattercarpet": [
           {
            "marker": {
             "colorbar": {
              "outlinewidth": 0,
              "ticks": ""
             }
            },
            "type": "scattercarpet"
           }
          ],
          "scattergeo": [
           {
            "marker": {
             "colorbar": {
              "outlinewidth": 0,
              "ticks": ""
             }
            },
            "type": "scattergeo"
           }
          ],
          "scattergl": [
           {
            "marker": {
             "colorbar": {
              "outlinewidth": 0,
              "ticks": ""
             }
            },
            "type": "scattergl"
           }
          ],
          "scattermapbox": [
           {
            "marker": {
             "colorbar": {
              "outlinewidth": 0,
              "ticks": ""
             }
            },
            "type": "scattermapbox"
           }
          ],
          "scatterpolar": [
           {
            "marker": {
             "colorbar": {
              "outlinewidth": 0,
              "ticks": ""
             }
            },
            "type": "scatterpolar"
           }
          ],
          "scatterpolargl": [
           {
            "marker": {
             "colorbar": {
              "outlinewidth": 0,
              "ticks": ""
             }
            },
            "type": "scatterpolargl"
           }
          ],
          "scatterternary": [
           {
            "marker": {
             "colorbar": {
              "outlinewidth": 0,
              "ticks": ""
             }
            },
            "type": "scatterternary"
           }
          ],
          "surface": [
           {
            "colorbar": {
             "outlinewidth": 0,
             "ticks": ""
            },
            "colorscale": [
             [
              0,
              "#0d0887"
             ],
             [
              0.1111111111111111,
              "#46039f"
             ],
             [
              0.2222222222222222,
              "#7201a8"
             ],
             [
              0.3333333333333333,
              "#9c179e"
             ],
             [
              0.4444444444444444,
              "#bd3786"
             ],
             [
              0.5555555555555556,
              "#d8576b"
             ],
             [
              0.6666666666666666,
              "#ed7953"
             ],
             [
              0.7777777777777778,
              "#fb9f3a"
             ],
             [
              0.8888888888888888,
              "#fdca26"
             ],
             [
              1,
              "#f0f921"
             ]
            ],
            "type": "surface"
           }
          ],
          "table": [
           {
            "cells": {
             "fill": {
              "color": "#EBF0F8"
             },
             "line": {
              "color": "white"
             }
            },
            "header": {
             "fill": {
              "color": "#C8D4E3"
             },
             "line": {
              "color": "white"
             }
            },
            "type": "table"
           }
          ]
         },
         "layout": {
          "annotationdefaults": {
           "arrowcolor": "#2a3f5f",
           "arrowhead": 0,
           "arrowwidth": 1
          },
          "autotypenumbers": "strict",
          "coloraxis": {
           "colorbar": {
            "outlinewidth": 0,
            "ticks": ""
           }
          },
          "colorscale": {
           "diverging": [
            [
             0,
             "#8e0152"
            ],
            [
             0.1,
             "#c51b7d"
            ],
            [
             0.2,
             "#de77ae"
            ],
            [
             0.3,
             "#f1b6da"
            ],
            [
             0.4,
             "#fde0ef"
            ],
            [
             0.5,
             "#f7f7f7"
            ],
            [
             0.6,
             "#e6f5d0"
            ],
            [
             0.7,
             "#b8e186"
            ],
            [
             0.8,
             "#7fbc41"
            ],
            [
             0.9,
             "#4d9221"
            ],
            [
             1,
             "#276419"
            ]
           ],
           "sequential": [
            [
             0,
             "#0d0887"
            ],
            [
             0.1111111111111111,
             "#46039f"
            ],
            [
             0.2222222222222222,
             "#7201a8"
            ],
            [
             0.3333333333333333,
             "#9c179e"
            ],
            [
             0.4444444444444444,
             "#bd3786"
            ],
            [
             0.5555555555555556,
             "#d8576b"
            ],
            [
             0.6666666666666666,
             "#ed7953"
            ],
            [
             0.7777777777777778,
             "#fb9f3a"
            ],
            [
             0.8888888888888888,
             "#fdca26"
            ],
            [
             1,
             "#f0f921"
            ]
           ],
           "sequentialminus": [
            [
             0,
             "#0d0887"
            ],
            [
             0.1111111111111111,
             "#46039f"
            ],
            [
             0.2222222222222222,
             "#7201a8"
            ],
            [
             0.3333333333333333,
             "#9c179e"
            ],
            [
             0.4444444444444444,
             "#bd3786"
            ],
            [
             0.5555555555555556,
             "#d8576b"
            ],
            [
             0.6666666666666666,
             "#ed7953"
            ],
            [
             0.7777777777777778,
             "#fb9f3a"
            ],
            [
             0.8888888888888888,
             "#fdca26"
            ],
            [
             1,
             "#f0f921"
            ]
           ]
          },
          "colorway": [
           "#636efa",
           "#EF553B",
           "#00cc96",
           "#ab63fa",
           "#FFA15A",
           "#19d3f3",
           "#FF6692",
           "#B6E880",
           "#FF97FF",
           "#FECB52"
          ],
          "font": {
           "color": "#2a3f5f"
          },
          "geo": {
           "bgcolor": "white",
           "lakecolor": "white",
           "landcolor": "#E5ECF6",
           "showlakes": true,
           "showland": true,
           "subunitcolor": "white"
          },
          "hoverlabel": {
           "align": "left"
          },
          "hovermode": "closest",
          "mapbox": {
           "style": "light"
          },
          "paper_bgcolor": "white",
          "plot_bgcolor": "#E5ECF6",
          "polar": {
           "angularaxis": {
            "gridcolor": "white",
            "linecolor": "white",
            "ticks": ""
           },
           "bgcolor": "#E5ECF6",
           "radialaxis": {
            "gridcolor": "white",
            "linecolor": "white",
            "ticks": ""
           }
          },
          "scene": {
           "xaxis": {
            "backgroundcolor": "#E5ECF6",
            "gridcolor": "white",
            "gridwidth": 2,
            "linecolor": "white",
            "showbackground": true,
            "ticks": "",
            "zerolinecolor": "white"
           },
           "yaxis": {
            "backgroundcolor": "#E5ECF6",
            "gridcolor": "white",
            "gridwidth": 2,
            "linecolor": "white",
            "showbackground": true,
            "ticks": "",
            "zerolinecolor": "white"
           },
           "zaxis": {
            "backgroundcolor": "#E5ECF6",
            "gridcolor": "white",
            "gridwidth": 2,
            "linecolor": "white",
            "showbackground": true,
            "ticks": "",
            "zerolinecolor": "white"
           }
          },
          "shapedefaults": {
           "line": {
            "color": "#2a3f5f"
           }
          },
          "ternary": {
           "aaxis": {
            "gridcolor": "white",
            "linecolor": "white",
            "ticks": ""
           },
           "baxis": {
            "gridcolor": "white",
            "linecolor": "white",
            "ticks": ""
           },
           "bgcolor": "#E5ECF6",
           "caxis": {
            "gridcolor": "white",
            "linecolor": "white",
            "ticks": ""
           }
          },
          "title": {
           "x": 0.05
          },
          "xaxis": {
           "automargin": true,
           "gridcolor": "white",
           "linecolor": "white",
           "ticks": "",
           "title": {
            "standoff": 15
           },
           "zerolinecolor": "white",
           "zerolinewidth": 2
          },
          "yaxis": {
           "automargin": true,
           "gridcolor": "white",
           "linecolor": "white",
           "ticks": "",
           "title": {
            "standoff": 15
           },
           "zerolinecolor": "white",
           "zerolinewidth": 2
          }
         }
        },
        "width": 800,
        "xaxis": {
         "domain": [
          0,
          1
         ],
         "mirror": false,
         "rangemode": "tozero",
         "showgrid": false,
         "showline": false,
         "showticklabels": true,
         "ticks": "",
         "zeroline": false
        },
        "yaxis": {
         "domain": [
          0,
          1
         ],
         "mirror": false,
         "rangemode": "tozero",
         "showgrid": false,
         "showline": false,
         "showticklabels": true,
         "ticks": "",
         "zeroline": false
        }
       }
      }
     },
     "metadata": {},
     "output_type": "display_data"
    }
   ],
   "source": [
    "model = DendrogramCut(k_max=230, method='average').fit(dist)\n",
    "k = model.pac_bayesian_cut()\n",
    "print(k)\n",
    "model.dendrogram_plot(k=k)"
   ]
  },
  {
   "cell_type": "code",
   "execution_count": 7,
   "id": "845e5f18",
   "metadata": {},
   "outputs": [
    {
     "data": {
      "text/plain": [
       "{'icoord': [[15.0, 15.0, 25.0, 25.0],\n",
       "  [20.0, 20.0, 35.0, 35.0],\n",
       "  [5.0, 5.0, 27.5, 27.5],\n",
       "  [45.0, 45.0, 55.0, 55.0],\n",
       "  [65.0, 65.0, 75.0, 75.0],\n",
       "  [70.0, 70.0, 85.0, 85.0],\n",
       "  [50.0, 50.0, 77.5, 77.5],\n",
       "  [105.0, 105.0, 115.0, 115.0],\n",
       "  [110.0, 110.0, 125.0, 125.0],\n",
       "  [135.0, 135.0, 145.0, 145.0],\n",
       "  [140.0, 140.0, 155.0, 155.0],\n",
       "  [147.5, 147.5, 165.0, 165.0],\n",
       "  [117.5, 117.5, 156.25, 156.25],\n",
       "  [95.0, 95.0, 136.875, 136.875],\n",
       "  [175.0, 175.0, 185.0, 185.0],\n",
       "  [180.0, 180.0, 195.0, 195.0],\n",
       "  [215.0, 215.0, 225.0, 225.0],\n",
       "  [205.0, 205.0, 220.0, 220.0],\n",
       "  [212.5, 212.5, 235.0, 235.0],\n",
       "  [187.5, 187.5, 223.75, 223.75],\n",
       "  [255.0, 255.0, 265.0, 265.0],\n",
       "  [260.0, 260.0, 275.0, 275.0],\n",
       "  [245.0, 245.0, 267.5, 267.5],\n",
       "  [285.0, 285.0, 295.0, 295.0],\n",
       "  [256.25, 256.25, 290.0, 290.0],\n",
       "  [205.625, 205.625, 273.125, 273.125],\n",
       "  [115.9375, 115.9375, 239.375, 239.375],\n",
       "  [315.0, 315.0, 325.0, 325.0],\n",
       "  [305.0, 305.0, 320.0, 320.0],\n",
       "  [177.65625, 177.65625, 312.5, 312.5],\n",
       "  [63.75, 63.75, 245.078125, 245.078125],\n",
       "  [335.0, 335.0, 345.0, 345.0],\n",
       "  [355.0, 355.0, 365.0, 365.0],\n",
       "  [375.0, 375.0, 385.0, 385.0],\n",
       "  [380.0, 380.0, 395.0, 395.0],\n",
       "  [360.0, 360.0, 387.5, 387.5],\n",
       "  [405.0, 405.0, 415.0, 415.0],\n",
       "  [425.0, 425.0, 435.0, 435.0],\n",
       "  [410.0, 410.0, 430.0, 430.0],\n",
       "  [373.75, 373.75, 420.0, 420.0],\n",
       "  [445.0, 445.0, 455.0, 455.0],\n",
       "  [475.0, 475.0, 485.0, 485.0],\n",
       "  [465.0, 465.0, 480.0, 480.0],\n",
       "  [450.0, 450.0, 472.5, 472.5],\n",
       "  [495.0, 495.0, 505.0, 505.0],\n",
       "  [500.0, 500.0, 515.0, 515.0],\n",
       "  [525.0, 525.0, 535.0, 535.0],\n",
       "  [507.5, 507.5, 530.0, 530.0],\n",
       "  [461.25, 461.25, 518.75, 518.75],\n",
       "  [396.875, 396.875, 490.0, 490.0],\n",
       "  [545.0, 545.0, 555.0, 555.0],\n",
       "  [443.4375, 443.4375, 550.0, 550.0],\n",
       "  [340.0, 340.0, 496.71875, 496.71875],\n",
       "  [595.0, 595.0, 605.0, 605.0],\n",
       "  [600.0, 600.0, 615.0, 615.0],\n",
       "  [585.0, 585.0, 607.5, 607.5],\n",
       "  [625.0, 625.0, 635.0, 635.0],\n",
       "  [596.25, 596.25, 630.0, 630.0],\n",
       "  [575.0, 575.0, 613.125, 613.125],\n",
       "  [645.0, 645.0, 655.0, 655.0],\n",
       "  [675.0, 675.0, 685.0, 685.0],\n",
       "  [665.0, 665.0, 680.0, 680.0],\n",
       "  [650.0, 650.0, 672.5, 672.5],\n",
       "  [594.0625, 594.0625, 661.25, 661.25],\n",
       "  [715.0, 715.0, 725.0, 725.0],\n",
       "  [720.0, 720.0, 735.0, 735.0],\n",
       "  [705.0, 705.0, 727.5, 727.5],\n",
       "  [695.0, 695.0, 716.25, 716.25],\n",
       "  [755.0, 755.0, 765.0, 765.0],\n",
       "  [745.0, 745.0, 760.0, 760.0],\n",
       "  [752.5, 752.5, 775.0, 775.0],\n",
       "  [705.625, 705.625, 763.75, 763.75],\n",
       "  [627.65625, 627.65625, 734.6875, 734.6875],\n",
       "  [565.0, 565.0, 681.171875, 681.171875],\n",
       "  [785.0, 785.0, 795.0, 795.0],\n",
       "  [805.0, 805.0, 815.0, 815.0],\n",
       "  [790.0, 790.0, 810.0, 810.0],\n",
       "  [835.0, 835.0, 845.0, 845.0],\n",
       "  [825.0, 825.0, 840.0, 840.0],\n",
       "  [855.0, 855.0, 865.0, 865.0],\n",
       "  [860.0, 860.0, 875.0, 875.0],\n",
       "  [832.5, 832.5, 867.5, 867.5],\n",
       "  [800.0, 800.0, 850.0, 850.0],\n",
       "  [885.0, 885.0, 895.0, 895.0],\n",
       "  [905.0, 905.0, 915.0, 915.0],\n",
       "  [890.0, 890.0, 910.0, 910.0],\n",
       "  [935.0, 935.0, 945.0, 945.0],\n",
       "  [940.0, 940.0, 955.0, 955.0],\n",
       "  [925.0, 925.0, 947.5, 947.5],\n",
       "  [900.0, 900.0, 936.25, 936.25],\n",
       "  [965.0, 965.0, 975.0, 975.0],\n",
       "  [995.0, 995.0, 1005.0, 1005.0],\n",
       "  [1015.0, 1015.0, 1025.0, 1025.0],\n",
       "  [1000.0, 1000.0, 1020.0, 1020.0],\n",
       "  [985.0, 985.0, 1010.0, 1010.0],\n",
       "  [1035.0, 1035.0, 1045.0, 1045.0],\n",
       "  [997.5, 997.5, 1040.0, 1040.0],\n",
       "  [1018.75, 1018.75, 1055.0, 1055.0],\n",
       "  [970.0, 970.0, 1036.875, 1036.875],\n",
       "  [918.125, 918.125, 1003.4375, 1003.4375],\n",
       "  [1075.0, 1075.0, 1085.0, 1085.0],\n",
       "  [1065.0, 1065.0, 1080.0, 1080.0],\n",
       "  [1072.5, 1072.5, 1095.0, 1095.0],\n",
       "  [1115.0, 1115.0, 1125.0, 1125.0],\n",
       "  [1120.0, 1120.0, 1135.0, 1135.0],\n",
       "  [1105.0, 1105.0, 1127.5, 1127.5],\n",
       "  [1083.75, 1083.75, 1116.25, 1116.25],\n",
       "  [960.78125, 960.78125, 1100.0, 1100.0],\n",
       "  [825.0, 825.0, 1030.390625, 1030.390625],\n",
       "  [1145.0, 1145.0, 1155.0, 1155.0],\n",
       "  [1175.0, 1175.0, 1185.0, 1185.0],\n",
       "  [1165.0, 1165.0, 1180.0, 1180.0],\n",
       "  [1150.0, 1150.0, 1172.5, 1172.5],\n",
       "  [1195.0, 1195.0, 1205.0, 1205.0],\n",
       "  [1225.0, 1225.0, 1235.0, 1235.0],\n",
       "  [1215.0, 1215.0, 1230.0, 1230.0],\n",
       "  [1200.0, 1200.0, 1222.5, 1222.5],\n",
       "  [1161.25, 1161.25, 1211.25, 1211.25],\n",
       "  [927.6953125, 927.6953125, 1186.25, 1186.25],\n",
       "  [623.0859375, 623.0859375, 1056.97265625, 1056.97265625],\n",
       "  [1245.0, 1245.0, 1255.0, 1255.0],\n",
       "  [1285.0, 1285.0, 1295.0, 1295.0],\n",
       "  [1290.0, 1290.0, 1305.0, 1305.0],\n",
       "  [1275.0, 1275.0, 1297.5, 1297.5],\n",
       "  [1315.0, 1315.0, 1325.0, 1325.0],\n",
       "  [1335.0, 1335.0, 1345.0, 1345.0],\n",
       "  [1340.0, 1340.0, 1355.0, 1355.0],\n",
       "  [1320.0, 1320.0, 1347.5, 1347.5],\n",
       "  [1286.25, 1286.25, 1333.75, 1333.75],\n",
       "  [1265.0, 1265.0, 1310.0, 1310.0],\n",
       "  [1385.0, 1385.0, 1395.0, 1395.0],\n",
       "  [1375.0, 1375.0, 1390.0, 1390.0],\n",
       "  [1365.0, 1365.0, 1382.5, 1382.5],\n",
       "  [1415.0, 1415.0, 1425.0, 1425.0],\n",
       "  [1420.0, 1420.0, 1435.0, 1435.0],\n",
       "  [1405.0, 1405.0, 1427.5, 1427.5],\n",
       "  [1373.75, 1373.75, 1416.25, 1416.25],\n",
       "  [1287.5, 1287.5, 1395.0, 1395.0],\n",
       "  [1250.0, 1250.0, 1341.25, 1341.25],\n",
       "  [1295.625, 1295.625, 1445.0, 1445.0],\n",
       "  [840.029296875, 840.029296875, 1370.3125, 1370.3125],\n",
       "  [418.359375, 418.359375, 1105.1708984375, 1105.1708984375],\n",
       "  [154.4140625, 154.4140625, 761.76513671875, 761.76513671875],\n",
       "  [16.25, 16.25, 458.089599609375, 458.089599609375],\n",
       "  [1465.0, 1465.0, 1475.0, 1475.0],\n",
       "  [1470.0, 1470.0, 1485.0, 1485.0],\n",
       "  [1495.0, 1495.0, 1505.0, 1505.0],\n",
       "  [1515.0, 1515.0, 1525.0, 1525.0],\n",
       "  [1500.0, 1500.0, 1520.0, 1520.0],\n",
       "  [1477.5, 1477.5, 1510.0, 1510.0],\n",
       "  [1455.0, 1455.0, 1493.75, 1493.75],\n",
       "  [1545.0, 1545.0, 1555.0, 1555.0],\n",
       "  [1535.0, 1535.0, 1550.0, 1550.0],\n",
       "  [1575.0, 1575.0, 1585.0, 1585.0],\n",
       "  [1565.0, 1565.0, 1580.0, 1580.0],\n",
       "  [1542.5, 1542.5, 1572.5, 1572.5],\n",
       "  [1595.0, 1595.0, 1605.0, 1605.0],\n",
       "  [1615.0, 1615.0, 1625.0, 1625.0],\n",
       "  [1600.0, 1600.0, 1620.0, 1620.0],\n",
       "  [1610.0, 1610.0, 1635.0, 1635.0],\n",
       "  [1557.5, 1557.5, 1622.5, 1622.5],\n",
       "  [1474.375, 1474.375, 1590.0, 1590.0],\n",
       "  [1655.0, 1655.0, 1665.0, 1665.0],\n",
       "  [1645.0, 1645.0, 1660.0, 1660.0],\n",
       "  [1652.5, 1652.5, 1675.0, 1675.0],\n",
       "  [1685.0, 1685.0, 1695.0, 1695.0],\n",
       "  [1663.75, 1663.75, 1690.0, 1690.0],\n",
       "  [1676.875, 1676.875, 1705.0, 1705.0],\n",
       "  [1725.0, 1725.0, 1735.0, 1735.0],\n",
       "  [1745.0, 1745.0, 1755.0, 1755.0],\n",
       "  [1730.0, 1730.0, 1750.0, 1750.0],\n",
       "  [1715.0, 1715.0, 1740.0, 1740.0],\n",
       "  [1765.0, 1765.0, 1775.0, 1775.0],\n",
       "  [1785.0, 1785.0, 1795.0, 1795.0],\n",
       "  [1770.0, 1770.0, 1790.0, 1790.0],\n",
       "  [1727.5, 1727.5, 1780.0, 1780.0],\n",
       "  [1690.9375, 1690.9375, 1753.75, 1753.75],\n",
       "  [1815.0, 1815.0, 1825.0, 1825.0],\n",
       "  [1805.0, 1805.0, 1820.0, 1820.0],\n",
       "  [1835.0, 1835.0, 1845.0, 1845.0],\n",
       "  [1812.5, 1812.5, 1840.0, 1840.0],\n",
       "  [1826.25, 1826.25, 1855.0, 1855.0],\n",
       "  [1722.34375, 1722.34375, 1840.625, 1840.625],\n",
       "  [1532.1875, 1532.1875, 1781.484375, 1781.484375],\n",
       "  [1895.0, 1895.0, 1905.0, 1905.0],\n",
       "  [1885.0, 1885.0, 1900.0, 1900.0],\n",
       "  [1875.0, 1875.0, 1892.5, 1892.5],\n",
       "  [1925.0, 1925.0, 1935.0, 1935.0],\n",
       "  [1915.0, 1915.0, 1930.0, 1930.0],\n",
       "  [1922.5, 1922.5, 1945.0, 1945.0],\n",
       "  [1883.75, 1883.75, 1933.75, 1933.75],\n",
       "  [1865.0, 1865.0, 1908.75, 1908.75],\n",
       "  [1955.0, 1955.0, 1965.0, 1965.0],\n",
       "  [1975.0, 1975.0, 1985.0, 1985.0],\n",
       "  [1960.0, 1960.0, 1980.0, 1980.0],\n",
       "  [1995.0, 1995.0, 2005.0, 2005.0],\n",
       "  [1970.0, 1970.0, 2000.0, 2000.0],\n",
       "  [1985.0, 1985.0, 2015.0, 2015.0],\n",
       "  [1886.875, 1886.875, 2000.0, 2000.0],\n",
       "  [2035.0, 2035.0, 2045.0, 2045.0],\n",
       "  [2055.0, 2055.0, 2065.0, 2065.0],\n",
       "  [2040.0, 2040.0, 2060.0, 2060.0],\n",
       "  [2085.0, 2085.0, 2095.0, 2095.0],\n",
       "  [2105.0, 2105.0, 2115.0, 2115.0],\n",
       "  [2090.0, 2090.0, 2110.0, 2110.0],\n",
       "  [2075.0, 2075.0, 2100.0, 2100.0],\n",
       "  [2050.0, 2050.0, 2087.5, 2087.5],\n",
       "  [2025.0, 2025.0, 2068.75, 2068.75],\n",
       "  [2125.0, 2125.0, 2135.0, 2135.0],\n",
       "  [2145.0, 2145.0, 2155.0, 2155.0],\n",
       "  [2165.0, 2165.0, 2175.0, 2175.0],\n",
       "  [2150.0, 2150.0, 2170.0, 2170.0],\n",
       "  [2130.0, 2130.0, 2160.0, 2160.0],\n",
       "  [2205.0, 2205.0, 2215.0, 2215.0],\n",
       "  [2195.0, 2195.0, 2210.0, 2210.0],\n",
       "  [2225.0, 2225.0, 2235.0, 2235.0],\n",
       "  [2202.5, 2202.5, 2230.0, 2230.0],\n",
       "  [2185.0, 2185.0, 2216.25, 2216.25],\n",
       "  [2245.0, 2245.0, 2255.0, 2255.0],\n",
       "  [2200.625, 2200.625, 2250.0, 2250.0],\n",
       "  [2145.0, 2145.0, 2225.3125, 2225.3125],\n",
       "  [2185.15625, 2185.15625, 2265.0, 2265.0],\n",
       "  [2046.875, 2046.875, 2225.078125, 2225.078125],\n",
       "  [1943.4375, 1943.4375, 2135.9765625, 2135.9765625],\n",
       "  [1656.8359375, 1656.8359375, 2039.70703125, 2039.70703125],\n",
       "  [2285.0, 2285.0, 2295.0, 2295.0],\n",
       "  [2275.0, 2275.0, 2290.0, 2290.0],\n",
       "  [1848.271484375, 1848.271484375, 2282.5, 2282.5],\n",
       "  [237.1697998046875, 237.1697998046875, 2065.3857421875, 2065.3857421875]],\n",
       " 'dcoord': [[0.0, 0.11433263664581053, 0.11433263664581053, 0.0],\n",
       "  [0.11433263664581053, 0.17416918663945552, 0.17416918663945552, 0.0],\n",
       "  [0.0, 0.5673383266870484, 0.5673383266870484, 0.17416918663945552],\n",
       "  [0.0, 0.09355139382503147, 0.09355139382503147, 0.0],\n",
       "  [0.0, 0.05758334096272255, 0.05758334096272255, 0.0],\n",
       "  [0.05758334096272255, 0.24959926623253897, 0.24959926623253897, 0.0],\n",
       "  [0.09355139382503147,\n",
       "   0.49057046496048384,\n",
       "   0.49057046496048384,\n",
       "   0.24959926623253897],\n",
       "  [0.0, 0.007312088708049121, 0.007312088708049121, 0.0],\n",
       "  [0.007312088708049121, 0.03537820900128798, 0.03537820900128798, 0.0],\n",
       "  [0.0, 0.012936205573863652, 0.012936205573863652, 0.0],\n",
       "  [0.012936205573863652, 0.025899233386232026, 0.025899233386232026, 0.0],\n",
       "  [0.025899233386232026, 0.04111952692249093, 0.04111952692249093, 0.0],\n",
       "  [0.03537820900128798,\n",
       "   0.07930223754729863,\n",
       "   0.07930223754729863,\n",
       "   0.04111952692249093],\n",
       "  [0.0, 0.13154552150524043, 0.13154552150524043, 0.07930223754729863],\n",
       "  [0.0, 0.003219114493317183, 0.003219114493317183, 0.0],\n",
       "  [0.003219114493317183, 0.029343733886461026, 0.029343733886461026, 0.0],\n",
       "  [0.0, 0.011673204277657886, 0.011673204277657886, 0.0],\n",
       "  [0.0, 0.03052889028111025, 0.03052889028111025, 0.011673204277657886],\n",
       "  [0.03052889028111025, 0.04939373886916628, 0.04939373886916628, 0.0],\n",
       "  [0.029343733886461026,\n",
       "   0.07926511011690394,\n",
       "   0.07926511011690394,\n",
       "   0.04939373886916628],\n",
       "  [0.0, 0.010391680106915989, 0.010391680106915989, 0.0],\n",
       "  [0.010391680106915989, 0.017610149097649512, 0.017610149097649512, 0.0],\n",
       "  [0.0, 0.027571312144231794, 0.027571312144231794, 0.017610149097649512],\n",
       "  [0.0, 0.026417949013129167, 0.026417949013129167, 0.0],\n",
       "  [0.027571312144231794,\n",
       "   0.05742509122957765,\n",
       "   0.05742509122957765,\n",
       "   0.026417949013129167],\n",
       "  [0.07926511011690394,\n",
       "   0.1537478099345002,\n",
       "   0.1537478099345002,\n",
       "   0.05742509122957765],\n",
       "  [0.13154552150524043,\n",
       "   0.253099625154417,\n",
       "   0.253099625154417,\n",
       "   0.1537478099345002],\n",
       "  [0.0, 0.15882185835804055, 0.15882185835804055, 0.0],\n",
       "  [0.0, 0.2171229342351368, 0.2171229342351368, 0.15882185835804055],\n",
       "  [0.253099625154417,\n",
       "   0.3676424875724998,\n",
       "   0.3676424875724998,\n",
       "   0.2171229342351368],\n",
       "  [0.49057046496048384,\n",
       "   0.6520868733018896,\n",
       "   0.6520868733018896,\n",
       "   0.3676424875724998],\n",
       "  [0.0, 0.15626204889194523, 0.15626204889194523, 0.0],\n",
       "  [0.0, 0.015278123559843164, 0.015278123559843164, 0.0],\n",
       "  [0.0, 0.014290568094193351, 0.014290568094193351, 0.0],\n",
       "  [0.014290568094193351, 0.03431960706542629, 0.03431960706542629, 0.0],\n",
       "  [0.015278123559843164,\n",
       "   0.06382229178208827,\n",
       "   0.06382229178208827,\n",
       "   0.03431960706542629],\n",
       "  [0.0, 0.008359905515948741, 0.008359905515948741, 0.0],\n",
       "  [0.0, 0.010806308432796988, 0.010806308432796988, 0.0],\n",
       "  [0.008359905515948741,\n",
       "   0.03735739036143102,\n",
       "   0.03735739036143102,\n",
       "   0.010806308432796988],\n",
       "  [0.06382229178208827,\n",
       "   0.09547996228412339,\n",
       "   0.09547996228412339,\n",
       "   0.03735739036143102],\n",
       "  [0.0, 0.023653887022272814, 0.023653887022272814, 0.0],\n",
       "  [0.0, 0.006210384186271753, 0.006210384186271753, 0.0],\n",
       "  [0.0, 0.030762293229782883, 0.030762293229782883, 0.006210384186271753],\n",
       "  [0.023653887022272814,\n",
       "   0.05601755562097214,\n",
       "   0.05601755562097214,\n",
       "   0.030762293229782883],\n",
       "  [0.0, 0.01805130264588435, 0.01805130264588435, 0.0],\n",
       "  [0.01805130264588435, 0.03083465946387036, 0.03083465946387036, 0.0],\n",
       "  [0.0, 0.027069754392612323, 0.027069754392612323, 0.0],\n",
       "  [0.03083465946387036,\n",
       "   0.062423903001269626,\n",
       "   0.062423903001269626,\n",
       "   0.027069754392612323],\n",
       "  [0.05601755562097214,\n",
       "   0.10963952229472633,\n",
       "   0.10963952229472633,\n",
       "   0.062423903001269626],\n",
       "  [0.09547996228412339,\n",
       "   0.21170988584199768,\n",
       "   0.21170988584199768,\n",
       "   0.10963952229472633],\n",
       "  [0.0, 0.256966829144849, 0.256966829144849, 0.0],\n",
       "  [0.21170988584199768,\n",
       "   0.3562028876141313,\n",
       "   0.3562028876141313,\n",
       "   0.256966829144849],\n",
       "  [0.15626204889194523,\n",
       "   0.47476406927137244,\n",
       "   0.47476406927137244,\n",
       "   0.3562028876141313],\n",
       "  [0.0, 0.018781861997706012, 0.018781861997706012, 0.0],\n",
       "  [0.018781861997706012, 0.027348969818759675, 0.027348969818759675, 0.0],\n",
       "  [0.0, 0.04008391621667629, 0.04008391621667629, 0.027348969818759675],\n",
       "  [0.0, 0.013617844533955386, 0.013617844533955386, 0.0],\n",
       "  [0.04008391621667629,\n",
       "   0.07325054129856381,\n",
       "   0.07325054129856381,\n",
       "   0.013617844533955386],\n",
       "  [0.0, 0.09818387501143355, 0.09818387501143355, 0.07325054129856381],\n",
       "  [0.0, 0.011080945766012398, 0.011080945766012398, 0.0],\n",
       "  [0.0, 0.010463373892552658, 0.010463373892552658, 0.0],\n",
       "  [0.0, 0.021344563603498817, 0.021344563603498817, 0.010463373892552658],\n",
       "  [0.011080945766012398,\n",
       "   0.042091564788754046,\n",
       "   0.042091564788754046,\n",
       "   0.021344563603498817],\n",
       "  [0.09818387501143355,\n",
       "   0.13602866831293356,\n",
       "   0.13602866831293356,\n",
       "   0.042091564788754046],\n",
       "  [0.0, 0.013345471749326595, 0.013345471749326595, 0.0],\n",
       "  [0.013345471749326595, 0.03221033812375806, 0.03221033812375806, 0.0],\n",
       "  [0.0, 0.042872229930749094, 0.042872229930749094, 0.03221033812375806],\n",
       "  [0.0, 0.05045398377461113, 0.05045398377461113, 0.042872229930749094],\n",
       "  [0.0, 0.00823117394433019, 0.00823117394433019, 0.0],\n",
       "  [0.0, 0.023451700304197035, 0.023451700304197035, 0.00823117394433019],\n",
       "  [0.023451700304197035, 0.039609202824117506, 0.039609202824117506, 0.0],\n",
       "  [0.05045398377461113,\n",
       "   0.10183971196192969,\n",
       "   0.10183971196192969,\n",
       "   0.039609202824117506],\n",
       "  [0.13602866831293356,\n",
       "   0.23034250484082475,\n",
       "   0.23034250484082475,\n",
       "   0.10183971196192969],\n",
       "  [0.0, 0.40276016830886213, 0.40276016830886213, 0.23034250484082475],\n",
       "  [0.0, 0.012933162696738566, 0.012933162696738566, 0.0],\n",
       "  [0.0, 0.015674704515722067, 0.015674704515722067, 0.0],\n",
       "  [0.012933162696738566,\n",
       "   0.039287078163685776,\n",
       "   0.039287078163685776,\n",
       "   0.015674704515722067],\n",
       "  [0.0, 0.014658443373211144, 0.014658443373211144, 0.0],\n",
       "  [0.0, 0.034955383509473026, 0.034955383509473026, 0.014658443373211144],\n",
       "  [0.0, 0.015476305442637115, 0.015476305442637115, 0.0],\n",
       "  [0.015476305442637115, 0.04198419826348234, 0.04198419826348234, 0.0],\n",
       "  [0.034955383509473026,\n",
       "   0.0601215521343563,\n",
       "   0.0601215521343563,\n",
       "   0.04198419826348234],\n",
       "  [0.039287078163685776,\n",
       "   0.1155749442000142,\n",
       "   0.1155749442000142,\n",
       "   0.0601215521343563],\n",
       "  [0.0, 0.023421283544530335, 0.023421283544530335, 0.0],\n",
       "  [0.0, 0.021770085637592133, 0.021770085637592133, 0.0],\n",
       "  [0.023421283544530335,\n",
       "   0.041712599784941226,\n",
       "   0.041712599784941226,\n",
       "   0.021770085637592133],\n",
       "  [0.0, 0.01946819225063155, 0.01946819225063155, 0.0],\n",
       "  [0.01946819225063155, 0.02661449808422474, 0.02661449808422474, 0.0],\n",
       "  [0.0, 0.03734816513205931, 0.03734816513205931, 0.02661449808422474],\n",
       "  [0.041712599784941226,\n",
       "   0.08824557697844439,\n",
       "   0.08824557697844439,\n",
       "   0.03734816513205931],\n",
       "  [0.0, 0.036078975491045065, 0.036078975491045065, 0.0],\n",
       "  [0.0, 0.014860119776289114, 0.014860119776289114, 0.0],\n",
       "  [0.0, 0.009777092435543358, 0.009777092435543358, 0.0],\n",
       "  [0.014860119776289114,\n",
       "   0.02256618844537556,\n",
       "   0.02256618844537556,\n",
       "   0.009777092435543358],\n",
       "  [0.0, 0.03012087799629969, 0.03012087799629969, 0.02256618844537556],\n",
       "  [0.0, 0.013298516968914919, 0.013298516968914919, 0.0],\n",
       "  [0.03012087799629969,\n",
       "   0.03882129306055057,\n",
       "   0.03882129306055057,\n",
       "   0.013298516968914919],\n",
       "  [0.03882129306055057, 0.050314206682663586, 0.050314206682663586, 0.0],\n",
       "  [0.036078975491045065,\n",
       "   0.05650816054581259,\n",
       "   0.05650816054581259,\n",
       "   0.050314206682663586],\n",
       "  [0.08824557697844439,\n",
       "   0.1383232950869776,\n",
       "   0.1383232950869776,\n",
       "   0.05650816054581259],\n",
       "  [0.0, 0.02121752172544748, 0.02121752172544748, 0.0],\n",
       "  [0.0, 0.03298149914777192, 0.03298149914777192, 0.02121752172544748],\n",
       "  [0.03298149914777192, 0.05566611844937005, 0.05566611844937005, 0.0],\n",
       "  [0.0, 0.00977579343708816, 0.00977579343708816, 0.0],\n",
       "  [0.00977579343708816, 0.02472007773512698, 0.02472007773512698, 0.0],\n",
       "  [0.0, 0.039645970617269786, 0.039645970617269786, 0.02472007773512698],\n",
       "  [0.05566611844937005,\n",
       "   0.11001415155210945,\n",
       "   0.11001415155210945,\n",
       "   0.039645970617269786],\n",
       "  [0.1383232950869776,\n",
       "   0.1890412225405557,\n",
       "   0.1890412225405557,\n",
       "   0.11001415155210945],\n",
       "  [0.1155749442000142,\n",
       "   0.2345035186615309,\n",
       "   0.2345035186615309,\n",
       "   0.1890412225405557],\n",
       "  [0.0, 0.017271280245086982, 0.017271280245086982, 0.0],\n",
       "  [0.0, 0.022781605814543113, 0.022781605814543113, 0.0],\n",
       "  [0.0, 0.026892385754532542, 0.026892385754532542, 0.022781605814543113],\n",
       "  [0.017271280245086982,\n",
       "   0.04695952735742237,\n",
       "   0.04695952735742237,\n",
       "   0.026892385754532542],\n",
       "  [0.0, 0.03475159468335599, 0.03475159468335599, 0.0],\n",
       "  [0.0, 0.02053479724503866, 0.02053479724503866, 0.0],\n",
       "  [0.0, 0.028941747990839876, 0.028941747990839876, 0.02053479724503866],\n",
       "  [0.03475159468335599,\n",
       "   0.07504081935309406,\n",
       "   0.07504081935309406,\n",
       "   0.028941747990839876],\n",
       "  [0.04695952735742237,\n",
       "   0.12258090248152276,\n",
       "   0.12258090248152276,\n",
       "   0.07504081935309406],\n",
       "  [0.2345035186615309,\n",
       "   0.2625245973878072,\n",
       "   0.2625245973878072,\n",
       "   0.12258090248152276],\n",
       "  [0.40276016830886213,\n",
       "   0.5148039929860727,\n",
       "   0.5148039929860727,\n",
       "   0.2625245973878072],\n",
       "  [0.0, 0.22450180974088718, 0.22450180974088718, 0.0],\n",
       "  [0.0, 0.005682476040008414, 0.005682476040008414, 0.0],\n",
       "  [0.005682476040008414, 0.020325429415000942, 0.020325429415000942, 0.0],\n",
       "  [0.0, 0.05514748721234098, 0.05514748721234098, 0.020325429415000942],\n",
       "  [0.0, 0.017512146531174125, 0.017512146531174125, 0.0],\n",
       "  [0.0, 0.02336440291296305, 0.02336440291296305, 0.0],\n",
       "  [0.02336440291296305, 0.04078672841391745, 0.04078672841391745, 0.0],\n",
       "  [0.017512146531174125,\n",
       "   0.05468617930953105,\n",
       "   0.05468617930953105,\n",
       "   0.04078672841391745],\n",
       "  [0.05514748721234098,\n",
       "   0.11729459552735885,\n",
       "   0.11729459552735885,\n",
       "   0.05468617930953105],\n",
       "  [0.0, 0.1643507015370952, 0.1643507015370952, 0.11729459552735885],\n",
       "  [0.0, 0.009095040899637028, 0.009095040899637028, 0.0],\n",
       "  [0.0, 0.018751433523985315, 0.018751433523985315, 0.009095040899637028],\n",
       "  [0.0, 0.03158591777959006, 0.03158591777959006, 0.018751433523985315],\n",
       "  [0.0, 0.019908155663004305, 0.019908155663004305, 0.0],\n",
       "  [0.019908155663004305, 0.03191055421883248, 0.03191055421883248, 0.0],\n",
       "  [0.0, 0.05425929773502288, 0.05425929773502288, 0.03191055421883248],\n",
       "  [0.03158591777959006,\n",
       "   0.0886997879062794,\n",
       "   0.0886997879062794,\n",
       "   0.05425929773502288],\n",
       "  [0.1643507015370952,\n",
       "   0.20874833579900084,\n",
       "   0.20874833579900084,\n",
       "   0.0886997879062794],\n",
       "  [0.22450180974088718,\n",
       "   0.3367692824181321,\n",
       "   0.3367692824181321,\n",
       "   0.20874833579900084],\n",
       "  [0.3367692824181321, 0.43829031431537047, 0.43829031431537047, 0.0],\n",
       "  [0.5148039929860727,\n",
       "   0.5916704447422705,\n",
       "   0.5916704447422705,\n",
       "   0.43829031431537047],\n",
       "  [0.47476406927137244,\n",
       "   0.719315711726331,\n",
       "   0.719315711726331,\n",
       "   0.5916704447422705],\n",
       "  [0.6520868733018896,\n",
       "   0.8148510219993408,\n",
       "   0.8148510219993408,\n",
       "   0.719315711726331],\n",
       "  [0.5673383266870484,\n",
       "   0.9837471477589447,\n",
       "   0.9837471477589447,\n",
       "   0.8148510219993408],\n",
       "  [0.0, 0.0494768998454947, 0.0494768998454947, 0.0],\n",
       "  [0.0494768998454947, 0.07488476495110132, 0.07488476495110132, 0.0],\n",
       "  [0.0, 0.045523898698510444, 0.045523898698510444, 0.0],\n",
       "  [0.0, 0.01980630127762097, 0.01980630127762097, 0.0],\n",
       "  [0.045523898698510444,\n",
       "   0.07227334051677584,\n",
       "   0.07227334051677584,\n",
       "   0.01980630127762097],\n",
       "  [0.07488476495110132,\n",
       "   0.1542942676991134,\n",
       "   0.1542942676991134,\n",
       "   0.07227334051677584],\n",
       "  [0.0, 0.25699239323576134, 0.25699239323576134, 0.1542942676991134],\n",
       "  [0.0, 0.04480805821223649, 0.04480805821223649, 0.0],\n",
       "  [0.0, 0.0809965990344556, 0.0809965990344556, 0.04480805821223649],\n",
       "  [0.0, 0.015850453757647875, 0.015850453757647875, 0.0],\n",
       "  [0.0, 0.06372347445757036, 0.06372347445757036, 0.015850453757647875],\n",
       "  [0.0809965990344556,\n",
       "   0.14352531584007558,\n",
       "   0.14352531584007558,\n",
       "   0.06372347445757036],\n",
       "  [0.0, 0.028302464910723916, 0.028302464910723916, 0.0],\n",
       "  [0.0, 0.04384677293281935, 0.04384677293281935, 0.0],\n",
       "  [0.028302464910723916,\n",
       "   0.09242932883890762,\n",
       "   0.09242932883890762,\n",
       "   0.04384677293281935],\n",
       "  [0.09242932883890762, 0.13861199523363932, 0.13861199523363932, 0.0],\n",
       "  [0.14352531584007558,\n",
       "   0.21428776436705665,\n",
       "   0.21428776436705665,\n",
       "   0.13861199523363932],\n",
       "  [0.25699239323576134,\n",
       "   0.41205260324170123,\n",
       "   0.41205260324170123,\n",
       "   0.21428776436705665],\n",
       "  [0.0, 0.0012844874589573538, 0.0012844874589573538, 0.0],\n",
       "  [0.0, 0.046527957857985455, 0.046527957857985455, 0.0012844874589573538],\n",
       "  [0.046527957857985455, 0.06829102862258554, 0.06829102862258554, 0.0],\n",
       "  [0.0, 0.10586584531382484, 0.10586584531382484, 0.0],\n",
       "  [0.06829102862258554,\n",
       "   0.11021683383891598,\n",
       "   0.11021683383891598,\n",
       "   0.10586584531382484],\n",
       "  [0.11021683383891598, 0.18838233792870526, 0.18838233792870526, 0.0],\n",
       "  [0.0, 0.04808762088737168, 0.04808762088737168, 0.0],\n",
       "  [0.0, 0.04573063208668453, 0.04573063208668453, 0.0],\n",
       "  [0.04808762088737168,\n",
       "   0.10460524473557475,\n",
       "   0.10460524473557475,\n",
       "   0.04573063208668453],\n",
       "  [0.0, 0.16408981267735173, 0.16408981267735173, 0.10460524473557475],\n",
       "  [0.0, 0.022570291201111543, 0.022570291201111543, 0.0],\n",
       "  [0.0, 0.058648883702536535, 0.058648883702536535, 0.0],\n",
       "  [0.022570291201111543,\n",
       "   0.08644214747794543,\n",
       "   0.08644214747794543,\n",
       "   0.058648883702536535],\n",
       "  [0.16408981267735173,\n",
       "   0.19394867327138118,\n",
       "   0.19394867327138118,\n",
       "   0.08644214747794543],\n",
       "  [0.18838233792870526,\n",
       "   0.28164193272264787,\n",
       "   0.28164193272264787,\n",
       "   0.19394867327138118],\n",
       "  [0.0, 0.039896030067620464, 0.039896030067620464, 0.0],\n",
       "  [0.0, 0.06828173259321027, 0.06828173259321027, 0.039896030067620464],\n",
       "  [0.0, 0.04141681830018154, 0.04141681830018154, 0.0],\n",
       "  [0.06828173259321027,\n",
       "   0.11251545205080364,\n",
       "   0.11251545205080364,\n",
       "   0.04141681830018154],\n",
       "  [0.11251545205080364, 0.22677907061218763, 0.22677907061218763, 0.0],\n",
       "  [0.28164193272264787,\n",
       "   0.4520677290978875,\n",
       "   0.4520677290978875,\n",
       "   0.22677907061218763],\n",
       "  [0.41205260324170123,\n",
       "   0.6785811623610214,\n",
       "   0.6785811623610214,\n",
       "   0.4520677290978875],\n",
       "  [0.0, 0.026426521070810692, 0.026426521070810692, 0.0],\n",
       "  [0.0, 0.04297404563807812, 0.04297404563807812, 0.026426521070810692],\n",
       "  [0.0, 0.07826819395392091, 0.07826819395392091, 0.04297404563807812],\n",
       "  [0.0, 0.039327361574632444, 0.039327361574632444, 0.0],\n",
       "  [0.0, 0.06937121777970648, 0.06937121777970648, 0.039327361574632444],\n",
       "  [0.06937121777970648, 0.11851964432338298, 0.11851964432338298, 0.0],\n",
       "  [0.07826819395392091,\n",
       "   0.17296926958651063,\n",
       "   0.17296926958651063,\n",
       "   0.11851964432338298],\n",
       "  [0.0, 0.2673240167218555, 0.2673240167218555, 0.17296926958651063],\n",
       "  [0.0, 0.030309570278919458, 0.030309570278919458, 0.0],\n",
       "  [0.0, 0.06103747201807566, 0.06103747201807566, 0.0],\n",
       "  [0.030309570278919458,\n",
       "   0.0882885953550499,\n",
       "   0.0882885953550499,\n",
       "   0.06103747201807566],\n",
       "  [0.0, 0.055829115263059524, 0.055829115263059524, 0.0],\n",
       "  [0.0882885953550499,\n",
       "   0.12715737819354808,\n",
       "   0.12715737819354808,\n",
       "   0.055829115263059524],\n",
       "  [0.12715737819354808, 0.1814840754498657, 0.1814840754498657, 0.0],\n",
       "  [0.2673240167218555,\n",
       "   0.31041463103432104,\n",
       "   0.31041463103432104,\n",
       "   0.1814840754498657],\n",
       "  [0.0, 0.03809221371584204, 0.03809221371584204, 0.0],\n",
       "  [0.0, 0.06428050466047433, 0.06428050466047433, 0.0],\n",
       "  [0.03809221371584204,\n",
       "   0.10005686870779831,\n",
       "   0.10005686870779831,\n",
       "   0.06428050466047433],\n",
       "  [0.0, 0.048592637935687785, 0.048592637935687785, 0.0],\n",
       "  [0.0, 0.03935153534179148, 0.03935153534179148, 0.0],\n",
       "  [0.048592637935687785,\n",
       "   0.08479802007744613,\n",
       "   0.08479802007744613,\n",
       "   0.03935153534179148],\n",
       "  [0.0, 0.12389579893211145, 0.12389579893211145, 0.08479802007744613],\n",
       "  [0.10005686870779831,\n",
       "   0.18752376427351486,\n",
       "   0.18752376427351486,\n",
       "   0.12389579893211145],\n",
       "  [0.0, 0.32594214275476063, 0.32594214275476063, 0.18752376427351486],\n",
       "  [0.0, 0.05787989470704166, 0.05787989470704166, 0.0],\n",
       "  [0.0, 0.03313401704348171, 0.03313401704348171, 0.0],\n",
       "  [0.0, 0.04264846983882051, 0.04264846983882051, 0.0],\n",
       "  [0.03313401704348171,\n",
       "   0.05852771976007777,\n",
       "   0.05852771976007777,\n",
       "   0.04264846983882051],\n",
       "  [0.05787989470704166,\n",
       "   0.12566780706407757,\n",
       "   0.12566780706407757,\n",
       "   0.05852771976007777],\n",
       "  [0.0, 0.022085052269542604, 0.022085052269542604, 0.0],\n",
       "  [0.0, 0.0707923017533348, 0.0707923017533348, 0.022085052269542604],\n",
       "  [0.0, 0.05811937111383297, 0.05811937111383297, 0.0],\n",
       "  [0.0707923017533348,\n",
       "   0.13153222123985026,\n",
       "   0.13153222123985026,\n",
       "   0.05811937111383297],\n",
       "  [0.0, 0.2042655777460424, 0.2042655777460424, 0.13153222123985026],\n",
       "  [0.0, 0.09293395114793898, 0.09293395114793898, 0.0],\n",
       "  [0.2042655777460424,\n",
       "   0.24749833714777195,\n",
       "   0.24749833714777195,\n",
       "   0.09293395114793898],\n",
       "  [0.12566780706407757,\n",
       "   0.27828570814573916,\n",
       "   0.27828570814573916,\n",
       "   0.24749833714777195],\n",
       "  [0.27828570814573916, 0.42327904898284857, 0.42327904898284857, 0.0],\n",
       "  [0.32594214275476063,\n",
       "   0.47591265639952435,\n",
       "   0.47591265639952435,\n",
       "   0.42327904898284857],\n",
       "  [0.31041463103432104,\n",
       "   0.6836087244491776,\n",
       "   0.6836087244491776,\n",
       "   0.47591265639952435],\n",
       "  [0.6785811623610214,\n",
       "   0.8596452113341384,\n",
       "   0.8596452113341384,\n",
       "   0.6836087244491776],\n",
       "  [0.0, 0.47551680777250266, 0.47551680777250266, 0.0],\n",
       "  [0.0, 0.70897312795559, 0.70897312795559, 0.47551680777250266],\n",
       "  [0.8596452113341384,\n",
       "   1.2301705576435964,\n",
       "   1.2301705576435964,\n",
       "   0.70897312795559],\n",
       "  [0.9837471477589447,\n",
       "   1.562194477592794,\n",
       "   1.562194477592794,\n",
       "   1.2301705576435964]],\n",
       " 'ivl': ['195',\n",
       "  '189',\n",
       "  '199',\n",
       "  '190',\n",
       "  '204',\n",
       "  '205',\n",
       "  '219',\n",
       "  '220',\n",
       "  '211',\n",
       "  '213',\n",
       "  '119',\n",
       "  '118',\n",
       "  '184',\n",
       "  '116',\n",
       "  '117',\n",
       "  '115',\n",
       "  '114',\n",
       "  '112',\n",
       "  '113',\n",
       "  '111',\n",
       "  '110',\n",
       "  '109',\n",
       "  '108',\n",
       "  '107',\n",
       "  '106',\n",
       "  '105',\n",
       "  '104',\n",
       "  '103',\n",
       "  '102',\n",
       "  '101',\n",
       "  '228',\n",
       "  '185',\n",
       "  '188',\n",
       "  '200',\n",
       "  '207',\n",
       "  '0',\n",
       "  '1',\n",
       "  '2',\n",
       "  '3',\n",
       "  '4',\n",
       "  '5',\n",
       "  '6',\n",
       "  '7',\n",
       "  '198',\n",
       "  '8',\n",
       "  '9',\n",
       "  '10',\n",
       "  '11',\n",
       "  '12',\n",
       "  '14',\n",
       "  '13',\n",
       "  '15',\n",
       "  '16',\n",
       "  '17',\n",
       "  '194',\n",
       "  '227',\n",
       "  '182',\n",
       "  '59',\n",
       "  '58',\n",
       "  '57',\n",
       "  '56',\n",
       "  '55',\n",
       "  '54',\n",
       "  '53',\n",
       "  '51',\n",
       "  '52',\n",
       "  '50',\n",
       "  '49',\n",
       "  '48',\n",
       "  '187',\n",
       "  '47',\n",
       "  '46',\n",
       "  '45',\n",
       "  '44',\n",
       "  '43',\n",
       "  '42',\n",
       "  '41',\n",
       "  '40',\n",
       "  '18',\n",
       "  '19',\n",
       "  '20',\n",
       "  '21',\n",
       "  '22',\n",
       "  '23',\n",
       "  '24',\n",
       "  '25',\n",
       "  '26',\n",
       "  '27',\n",
       "  '39',\n",
       "  '38',\n",
       "  '37',\n",
       "  '36',\n",
       "  '35',\n",
       "  '34',\n",
       "  '33',\n",
       "  '32',\n",
       "  '92',\n",
       "  '91',\n",
       "  '28',\n",
       "  '29',\n",
       "  '90',\n",
       "  '89',\n",
       "  '88',\n",
       "  '31',\n",
       "  '30',\n",
       "  '87',\n",
       "  '95',\n",
       "  '94',\n",
       "  '93',\n",
       "  '96',\n",
       "  '97',\n",
       "  '99',\n",
       "  '98',\n",
       "  '100',\n",
       "  '86',\n",
       "  '85',\n",
       "  '84',\n",
       "  '82',\n",
       "  '83',\n",
       "  '81',\n",
       "  '80',\n",
       "  '79',\n",
       "  '78',\n",
       "  '77',\n",
       "  '183',\n",
       "  '208',\n",
       "  '201',\n",
       "  '60',\n",
       "  '62',\n",
       "  '61',\n",
       "  '63',\n",
       "  '64',\n",
       "  '65',\n",
       "  '66',\n",
       "  '67',\n",
       "  '68',\n",
       "  '69',\n",
       "  '70',\n",
       "  '72',\n",
       "  '71',\n",
       "  '73',\n",
       "  '74',\n",
       "  '75',\n",
       "  '76',\n",
       "  '216',\n",
       "  '229',\n",
       "  '163',\n",
       "  '164',\n",
       "  '165',\n",
       "  '166',\n",
       "  '224',\n",
       "  '167',\n",
       "  '168',\n",
       "  '169',\n",
       "  '170',\n",
       "  '171',\n",
       "  '172',\n",
       "  '173',\n",
       "  '225',\n",
       "  '177',\n",
       "  '176',\n",
       "  '175',\n",
       "  '174',\n",
       "  '202',\n",
       "  '121',\n",
       "  '120',\n",
       "  '179',\n",
       "  '178',\n",
       "  '212',\n",
       "  '221',\n",
       "  '222',\n",
       "  '193',\n",
       "  '122',\n",
       "  '123',\n",
       "  '124',\n",
       "  '125',\n",
       "  '180',\n",
       "  '126',\n",
       "  '127',\n",
       "  '128',\n",
       "  '133',\n",
       "  '132',\n",
       "  '131',\n",
       "  '130',\n",
       "  '129',\n",
       "  '209',\n",
       "  '186',\n",
       "  '140',\n",
       "  '139',\n",
       "  '138',\n",
       "  '218',\n",
       "  '137',\n",
       "  '136',\n",
       "  '135',\n",
       "  '134',\n",
       "  '141',\n",
       "  '142',\n",
       "  '143',\n",
       "  '215',\n",
       "  '144',\n",
       "  '145',\n",
       "  '196',\n",
       "  '223',\n",
       "  '146',\n",
       "  '147',\n",
       "  '148',\n",
       "  '149',\n",
       "  '192',\n",
       "  '150',\n",
       "  '151',\n",
       "  '214',\n",
       "  '152',\n",
       "  '153',\n",
       "  '154',\n",
       "  '155',\n",
       "  '156',\n",
       "  '181',\n",
       "  '157',\n",
       "  '226',\n",
       "  '162',\n",
       "  '161',\n",
       "  '160',\n",
       "  '159',\n",
       "  '158',\n",
       "  '210',\n",
       "  '217',\n",
       "  '197',\n",
       "  '191',\n",
       "  '206',\n",
       "  '203'],\n",
       " 'leaves': [195,\n",
       "  189,\n",
       "  199,\n",
       "  190,\n",
       "  204,\n",
       "  205,\n",
       "  219,\n",
       "  220,\n",
       "  211,\n",
       "  213,\n",
       "  119,\n",
       "  118,\n",
       "  184,\n",
       "  116,\n",
       "  117,\n",
       "  115,\n",
       "  114,\n",
       "  112,\n",
       "  113,\n",
       "  111,\n",
       "  110,\n",
       "  109,\n",
       "  108,\n",
       "  107,\n",
       "  106,\n",
       "  105,\n",
       "  104,\n",
       "  103,\n",
       "  102,\n",
       "  101,\n",
       "  228,\n",
       "  185,\n",
       "  188,\n",
       "  200,\n",
       "  207,\n",
       "  0,\n",
       "  1,\n",
       "  2,\n",
       "  3,\n",
       "  4,\n",
       "  5,\n",
       "  6,\n",
       "  7,\n",
       "  198,\n",
       "  8,\n",
       "  9,\n",
       "  10,\n",
       "  11,\n",
       "  12,\n",
       "  14,\n",
       "  13,\n",
       "  15,\n",
       "  16,\n",
       "  17,\n",
       "  194,\n",
       "  227,\n",
       "  182,\n",
       "  59,\n",
       "  58,\n",
       "  57,\n",
       "  56,\n",
       "  55,\n",
       "  54,\n",
       "  53,\n",
       "  51,\n",
       "  52,\n",
       "  50,\n",
       "  49,\n",
       "  48,\n",
       "  187,\n",
       "  47,\n",
       "  46,\n",
       "  45,\n",
       "  44,\n",
       "  43,\n",
       "  42,\n",
       "  41,\n",
       "  40,\n",
       "  18,\n",
       "  19,\n",
       "  20,\n",
       "  21,\n",
       "  22,\n",
       "  23,\n",
       "  24,\n",
       "  25,\n",
       "  26,\n",
       "  27,\n",
       "  39,\n",
       "  38,\n",
       "  37,\n",
       "  36,\n",
       "  35,\n",
       "  34,\n",
       "  33,\n",
       "  32,\n",
       "  92,\n",
       "  91,\n",
       "  28,\n",
       "  29,\n",
       "  90,\n",
       "  89,\n",
       "  88,\n",
       "  31,\n",
       "  30,\n",
       "  87,\n",
       "  95,\n",
       "  94,\n",
       "  93,\n",
       "  96,\n",
       "  97,\n",
       "  99,\n",
       "  98,\n",
       "  100,\n",
       "  86,\n",
       "  85,\n",
       "  84,\n",
       "  82,\n",
       "  83,\n",
       "  81,\n",
       "  80,\n",
       "  79,\n",
       "  78,\n",
       "  77,\n",
       "  183,\n",
       "  208,\n",
       "  201,\n",
       "  60,\n",
       "  62,\n",
       "  61,\n",
       "  63,\n",
       "  64,\n",
       "  65,\n",
       "  66,\n",
       "  67,\n",
       "  68,\n",
       "  69,\n",
       "  70,\n",
       "  72,\n",
       "  71,\n",
       "  73,\n",
       "  74,\n",
       "  75,\n",
       "  76,\n",
       "  216,\n",
       "  229,\n",
       "  163,\n",
       "  164,\n",
       "  165,\n",
       "  166,\n",
       "  224,\n",
       "  167,\n",
       "  168,\n",
       "  169,\n",
       "  170,\n",
       "  171,\n",
       "  172,\n",
       "  173,\n",
       "  225,\n",
       "  177,\n",
       "  176,\n",
       "  175,\n",
       "  174,\n",
       "  202,\n",
       "  121,\n",
       "  120,\n",
       "  179,\n",
       "  178,\n",
       "  212,\n",
       "  221,\n",
       "  222,\n",
       "  193,\n",
       "  122,\n",
       "  123,\n",
       "  124,\n",
       "  125,\n",
       "  180,\n",
       "  126,\n",
       "  127,\n",
       "  128,\n",
       "  133,\n",
       "  132,\n",
       "  131,\n",
       "  130,\n",
       "  129,\n",
       "  209,\n",
       "  186,\n",
       "  140,\n",
       "  139,\n",
       "  138,\n",
       "  218,\n",
       "  137,\n",
       "  136,\n",
       "  135,\n",
       "  134,\n",
       "  141,\n",
       "  142,\n",
       "  143,\n",
       "  215,\n",
       "  144,\n",
       "  145,\n",
       "  196,\n",
       "  223,\n",
       "  146,\n",
       "  147,\n",
       "  148,\n",
       "  149,\n",
       "  192,\n",
       "  150,\n",
       "  151,\n",
       "  214,\n",
       "  152,\n",
       "  153,\n",
       "  154,\n",
       "  155,\n",
       "  156,\n",
       "  181,\n",
       "  157,\n",
       "  226,\n",
       "  162,\n",
       "  161,\n",
       "  160,\n",
       "  159,\n",
       "  158,\n",
       "  210,\n",
       "  217,\n",
       "  197,\n",
       "  191,\n",
       "  206,\n",
       "  203],\n",
       " 'color_list': ['C1',\n",
       "  'C1',\n",
       "  'C1',\n",
       "  'C1',\n",
       "  'C1',\n",
       "  'C1',\n",
       "  'C1',\n",
       "  'C1',\n",
       "  'C1',\n",
       "  'C1',\n",
       "  'C1',\n",
       "  'C1',\n",
       "  'C1',\n",
       "  'C1',\n",
       "  'C1',\n",
       "  'C1',\n",
       "  'C1',\n",
       "  'C1',\n",
       "  'C1',\n",
       "  'C1',\n",
       "  'C1',\n",
       "  'C1',\n",
       "  'C1',\n",
       "  'C1',\n",
       "  'C1',\n",
       "  'C1',\n",
       "  'C1',\n",
       "  'C1',\n",
       "  'C1',\n",
       "  'C1',\n",
       "  'C1',\n",
       "  'C1',\n",
       "  'C1',\n",
       "  'C1',\n",
       "  'C1',\n",
       "  'C1',\n",
       "  'C1',\n",
       "  'C1',\n",
       "  'C1',\n",
       "  'C1',\n",
       "  'C1',\n",
       "  'C1',\n",
       "  'C1',\n",
       "  'C1',\n",
       "  'C1',\n",
       "  'C1',\n",
       "  'C1',\n",
       "  'C1',\n",
       "  'C1',\n",
       "  'C1',\n",
       "  'C1',\n",
       "  'C1',\n",
       "  'C1',\n",
       "  'C1',\n",
       "  'C1',\n",
       "  'C1',\n",
       "  'C1',\n",
       "  'C1',\n",
       "  'C1',\n",
       "  'C1',\n",
       "  'C1',\n",
       "  'C1',\n",
       "  'C1',\n",
       "  'C1',\n",
       "  'C1',\n",
       "  'C1',\n",
       "  'C1',\n",
       "  'C1',\n",
       "  'C1',\n",
       "  'C1',\n",
       "  'C1',\n",
       "  'C1',\n",
       "  'C1',\n",
       "  'C1',\n",
       "  'C1',\n",
       "  'C1',\n",
       "  'C1',\n",
       "  'C1',\n",
       "  'C1',\n",
       "  'C1',\n",
       "  'C1',\n",
       "  'C1',\n",
       "  'C1',\n",
       "  'C1',\n",
       "  'C1',\n",
       "  'C1',\n",
       "  'C1',\n",
       "  'C1',\n",
       "  'C1',\n",
       "  'C1',\n",
       "  'C1',\n",
       "  'C1',\n",
       "  'C1',\n",
       "  'C1',\n",
       "  'C1',\n",
       "  'C1',\n",
       "  'C1',\n",
       "  'C1',\n",
       "  'C1',\n",
       "  'C1',\n",
       "  'C1',\n",
       "  'C1',\n",
       "  'C1',\n",
       "  'C1',\n",
       "  'C1',\n",
       "  'C1',\n",
       "  'C1',\n",
       "  'C1',\n",
       "  'C1',\n",
       "  'C1',\n",
       "  'C1',\n",
       "  'C1',\n",
       "  'C1',\n",
       "  'C1',\n",
       "  'C1',\n",
       "  'C1',\n",
       "  'C1',\n",
       "  'C1',\n",
       "  'C1',\n",
       "  'C1',\n",
       "  'C1',\n",
       "  'C1',\n",
       "  'C1',\n",
       "  'C1',\n",
       "  'C1',\n",
       "  'C1',\n",
       "  'C1',\n",
       "  'C1',\n",
       "  'C1',\n",
       "  'C1',\n",
       "  'C1',\n",
       "  'C1',\n",
       "  'C1',\n",
       "  'C1',\n",
       "  'C1',\n",
       "  'C1',\n",
       "  'C1',\n",
       "  'C1',\n",
       "  'C1',\n",
       "  'C1',\n",
       "  'C1',\n",
       "  'C1',\n",
       "  'C1',\n",
       "  'C1',\n",
       "  'C2',\n",
       "  'C2',\n",
       "  'C2',\n",
       "  'C2',\n",
       "  'C2',\n",
       "  'C2',\n",
       "  'C2',\n",
       "  'C2',\n",
       "  'C2',\n",
       "  'C2',\n",
       "  'C2',\n",
       "  'C2',\n",
       "  'C2',\n",
       "  'C2',\n",
       "  'C2',\n",
       "  'C2',\n",
       "  'C2',\n",
       "  'C2',\n",
       "  'C2',\n",
       "  'C2',\n",
       "  'C2',\n",
       "  'C2',\n",
       "  'C2',\n",
       "  'C2',\n",
       "  'C2',\n",
       "  'C2',\n",
       "  'C2',\n",
       "  'C2',\n",
       "  'C2',\n",
       "  'C2',\n",
       "  'C2',\n",
       "  'C2',\n",
       "  'C2',\n",
       "  'C2',\n",
       "  'C2',\n",
       "  'C2',\n",
       "  'C2',\n",
       "  'C2',\n",
       "  'C2',\n",
       "  'C2',\n",
       "  'C2',\n",
       "  'C2',\n",
       "  'C2',\n",
       "  'C2',\n",
       "  'C2',\n",
       "  'C2',\n",
       "  'C2',\n",
       "  'C2',\n",
       "  'C2',\n",
       "  'C2',\n",
       "  'C2',\n",
       "  'C2',\n",
       "  'C2',\n",
       "  'C2',\n",
       "  'C2',\n",
       "  'C2',\n",
       "  'C2',\n",
       "  'C2',\n",
       "  'C2',\n",
       "  'C2',\n",
       "  'C2',\n",
       "  'C2',\n",
       "  'C2',\n",
       "  'C2',\n",
       "  'C2',\n",
       "  'C2',\n",
       "  'C2',\n",
       "  'C2',\n",
       "  'C2',\n",
       "  'C2',\n",
       "  'C2',\n",
       "  'C2',\n",
       "  'C2',\n",
       "  'C2',\n",
       "  'C2',\n",
       "  'C2',\n",
       "  'C2',\n",
       "  'C2',\n",
       "  'C2',\n",
       "  'C2',\n",
       "  'C2',\n",
       "  'C3',\n",
       "  'C3',\n",
       "  'C0',\n",
       "  'C0'],\n",
       " 'leaves_color_list': ['C1',\n",
       "  'C1',\n",
       "  'C1',\n",
       "  'C1',\n",
       "  'C1',\n",
       "  'C1',\n",
       "  'C1',\n",
       "  'C1',\n",
       "  'C1',\n",
       "  'C1',\n",
       "  'C1',\n",
       "  'C1',\n",
       "  'C1',\n",
       "  'C1',\n",
       "  'C1',\n",
       "  'C1',\n",
       "  'C1',\n",
       "  'C1',\n",
       "  'C1',\n",
       "  'C1',\n",
       "  'C1',\n",
       "  'C1',\n",
       "  'C1',\n",
       "  'C1',\n",
       "  'C1',\n",
       "  'C1',\n",
       "  'C1',\n",
       "  'C1',\n",
       "  'C1',\n",
       "  'C1',\n",
       "  'C1',\n",
       "  'C1',\n",
       "  'C1',\n",
       "  'C1',\n",
       "  'C1',\n",
       "  'C1',\n",
       "  'C1',\n",
       "  'C1',\n",
       "  'C1',\n",
       "  'C1',\n",
       "  'C1',\n",
       "  'C1',\n",
       "  'C1',\n",
       "  'C1',\n",
       "  'C1',\n",
       "  'C1',\n",
       "  'C1',\n",
       "  'C1',\n",
       "  'C1',\n",
       "  'C1',\n",
       "  'C1',\n",
       "  'C1',\n",
       "  'C1',\n",
       "  'C1',\n",
       "  'C1',\n",
       "  'C1',\n",
       "  'C1',\n",
       "  'C1',\n",
       "  'C1',\n",
       "  'C1',\n",
       "  'C1',\n",
       "  'C1',\n",
       "  'C1',\n",
       "  'C1',\n",
       "  'C1',\n",
       "  'C1',\n",
       "  'C1',\n",
       "  'C1',\n",
       "  'C1',\n",
       "  'C1',\n",
       "  'C1',\n",
       "  'C1',\n",
       "  'C1',\n",
       "  'C1',\n",
       "  'C1',\n",
       "  'C1',\n",
       "  'C1',\n",
       "  'C1',\n",
       "  'C1',\n",
       "  'C1',\n",
       "  'C1',\n",
       "  'C1',\n",
       "  'C1',\n",
       "  'C1',\n",
       "  'C1',\n",
       "  'C1',\n",
       "  'C1',\n",
       "  'C1',\n",
       "  'C1',\n",
       "  'C1',\n",
       "  'C1',\n",
       "  'C1',\n",
       "  'C1',\n",
       "  'C1',\n",
       "  'C1',\n",
       "  'C1',\n",
       "  'C1',\n",
       "  'C1',\n",
       "  'C1',\n",
       "  'C1',\n",
       "  'C1',\n",
       "  'C1',\n",
       "  'C1',\n",
       "  'C1',\n",
       "  'C1',\n",
       "  'C1',\n",
       "  'C1',\n",
       "  'C1',\n",
       "  'C1',\n",
       "  'C1',\n",
       "  'C1',\n",
       "  'C1',\n",
       "  'C1',\n",
       "  'C1',\n",
       "  'C1',\n",
       "  'C1',\n",
       "  'C1',\n",
       "  'C1',\n",
       "  'C1',\n",
       "  'C1',\n",
       "  'C1',\n",
       "  'C1',\n",
       "  'C1',\n",
       "  'C1',\n",
       "  'C1',\n",
       "  'C1',\n",
       "  'C1',\n",
       "  'C1',\n",
       "  'C1',\n",
       "  'C1',\n",
       "  'C1',\n",
       "  'C1',\n",
       "  'C1',\n",
       "  'C1',\n",
       "  'C1',\n",
       "  'C1',\n",
       "  'C1',\n",
       "  'C1',\n",
       "  'C1',\n",
       "  'C1',\n",
       "  'C1',\n",
       "  'C1',\n",
       "  'C1',\n",
       "  'C1',\n",
       "  'C1',\n",
       "  'C2',\n",
       "  'C2',\n",
       "  'C2',\n",
       "  'C2',\n",
       "  'C2',\n",
       "  'C2',\n",
       "  'C2',\n",
       "  'C2',\n",
       "  'C2',\n",
       "  'C2',\n",
       "  'C2',\n",
       "  'C2',\n",
       "  'C2',\n",
       "  'C2',\n",
       "  'C2',\n",
       "  'C2',\n",
       "  'C2',\n",
       "  'C2',\n",
       "  'C2',\n",
       "  'C2',\n",
       "  'C2',\n",
       "  'C2',\n",
       "  'C2',\n",
       "  'C2',\n",
       "  'C2',\n",
       "  'C2',\n",
       "  'C2',\n",
       "  'C2',\n",
       "  'C2',\n",
       "  'C2',\n",
       "  'C2',\n",
       "  'C2',\n",
       "  'C2',\n",
       "  'C2',\n",
       "  'C2',\n",
       "  'C2',\n",
       "  'C2',\n",
       "  'C2',\n",
       "  'C2',\n",
       "  'C2',\n",
       "  'C2',\n",
       "  'C2',\n",
       "  'C2',\n",
       "  'C2',\n",
       "  'C2',\n",
       "  'C2',\n",
       "  'C2',\n",
       "  'C2',\n",
       "  'C2',\n",
       "  'C2',\n",
       "  'C2',\n",
       "  'C2',\n",
       "  'C2',\n",
       "  'C2',\n",
       "  'C2',\n",
       "  'C2',\n",
       "  'C2',\n",
       "  'C2',\n",
       "  'C2',\n",
       "  'C2',\n",
       "  'C2',\n",
       "  'C2',\n",
       "  'C2',\n",
       "  'C2',\n",
       "  'C2',\n",
       "  'C2',\n",
       "  'C2',\n",
       "  'C2',\n",
       "  'C2',\n",
       "  'C2',\n",
       "  'C2',\n",
       "  'C2',\n",
       "  'C2',\n",
       "  'C2',\n",
       "  'C2',\n",
       "  'C2',\n",
       "  'C2',\n",
       "  'C2',\n",
       "  'C2',\n",
       "  'C2',\n",
       "  'C2',\n",
       "  'C2',\n",
       "  'C3',\n",
       "  'C3',\n",
       "  'C3']}"
      ]
     },
     "execution_count": 7,
     "metadata": {},
     "output_type": "execute_result"
    },
    {
     "data": {
      "image/png": "[encoded data removed]",
      "text/plain": [
       "<Figure size 432x288 with 1 Axes>"
      ]
     },
     "metadata": {
      "needs_background": "light"
     },
     "output_type": "display_data"
    }
   ],
   "source": [
    "from scipy.cluster.hierarchy import dendrogram\n",
    "\n",
    "\n",
    "dendrogram(model.linkage)"
   ]
  },
  {
   "cell_type": "code",
   "execution_count": 8,
   "id": "c21d9844",
   "metadata": {},
   "outputs": [
    {
     "data": {
      "text/plain": [
       "array([[1.20000000e+02, 1.79000000e+02, 1.28448746e-03, 2.00000000e+00],\n",
       "       [1.12000000e+02, 1.13000000e+02, 3.21911449e-03, 2.00000000e+00],\n",
       "       [6.20000000e+01, 6.10000000e+01, 5.68247604e-03, 2.00000000e+00],\n",
       "       [1.10000000e+01, 1.20000000e+01, 6.21038419e-03, 2.00000000e+00],\n",
       "       [1.19000000e+02, 1.18000000e+02, 7.31208871e-03, 2.00000000e+00],\n",
       "       [4.20000000e+01, 4.10000000e+01, 8.23117394e-03, 2.00000000e+00],\n",
       "       [5.00000000e+00, 6.00000000e+00, 8.35990552e-03, 2.00000000e+00],\n",
       "       [7.20000000e+01, 7.10000000e+01, 9.09504090e-03, 2.00000000e+00],\n",
       "       [9.90000000e+01, 9.80000000e+01, 9.77579344e-03, 2.00000000e+00],\n",
       "       [8.90000000e+01, 8.80000000e+01, 9.77709244e-03, 2.00000000e+00],\n",
       "       [1.05000000e+02, 1.04000000e+02, 1.03916801e-02, 2.00000000e+00],\n",
       "       [4.90000000e+01, 4.80000000e+01, 1.04633739e-02, 2.00000000e+00],\n",
       "       [7.00000000e+00, 1.98000000e+02, 1.08063084e-02, 2.00000000e+00],\n",
       "       [5.10000000e+01, 5.20000000e+01, 1.10809458e-02, 2.00000000e+00],\n",
       "       [1.09000000e+02, 1.08000000e+02, 1.16732043e-02, 2.00000000e+00],\n",
       "       [1.80000000e+01, 1.90000000e+01, 1.29331627e-02, 2.00000000e+00],\n",
       "       [1.16000000e+02, 1.17000000e+02, 1.29362056e-02, 2.00000000e+00],\n",
       "       [3.10000000e+01, 3.00000000e+01, 1.32985170e-02, 2.00000000e+00],\n",
       "       [4.60000000e+01, 4.50000000e+01, 1.33454717e-02, 2.00000000e+00],\n",
       "       [5.40000000e+01, 5.30000000e+01, 1.36178445e-02, 2.00000000e+00],\n",
       "       [2.00000000e+00, 3.00000000e+00, 1.42905681e-02, 2.00000000e+00],\n",
       "       [2.30000000e+01, 2.40000000e+01, 1.46584434e-02, 2.00000000e+00],\n",
       "       [2.90000000e+01, 9.00000000e+01, 1.48601198e-02, 2.00000000e+00],\n",
       "       [0.00000000e+00, 1.00000000e+00, 1.52781236e-02, 2.00000000e+00],\n",
       "       [2.50000000e+01, 2.60000000e+01, 1.54763054e-02, 2.00000000e+00],\n",
       "       [2.00000000e+01, 2.10000000e+01, 1.56747045e-02, 2.00000000e+00],\n",
       "       [1.73000000e+02, 2.25000000e+02, 1.58504538e-02, 2.00000000e+00],\n",
       "       [8.60000000e+01, 8.50000000e+01, 1.72712802e-02, 2.00000000e+00],\n",
       "       [6.40000000e+01, 6.50000000e+01, 1.75121465e-02, 2.00000000e+00],\n",
       "       [2.40000000e+02, 1.03000000e+02, 1.76101491e-02, 3.00000000e+00],\n",
       "       [1.40000000e+01, 1.30000000e+01, 1.80513026e-02, 2.00000000e+00],\n",
       "       [7.00000000e+01, 2.37000000e+02, 1.87514335e-02, 3.00000000e+00],\n",
       "       [5.70000000e+01, 5.60000000e+01, 1.87818620e-02, 2.00000000e+00],\n",
       "       [3.40000000e+01, 3.30000000e+01, 1.94681923e-02, 2.00000000e+00],\n",
       "       [1.67000000e+02, 1.68000000e+02, 1.98063013e-02, 2.00000000e+00],\n",
       "       [7.40000000e+01, 7.50000000e+01, 1.99081557e-02, 2.00000000e+00],\n",
       "       [2.32000000e+02, 6.30000000e+01, 2.03254294e-02, 3.00000000e+00],\n",
       "       [7.80000000e+01, 7.70000000e+01, 2.05347972e-02, 2.00000000e+00],\n",
       "       [9.40000000e+01, 9.30000000e+01, 2.12175217e-02, 2.00000000e+00],\n",
       "       [5.00000000e+01, 2.41000000e+02, 2.13445636e-02, 3.00000000e+00],\n",
       "       [3.70000000e+01, 3.60000000e+01, 2.17700856e-02, 2.00000000e+00],\n",
       "       [1.61000000e+02, 1.60000000e+02, 2.20850523e-02, 2.00000000e+00],\n",
       "       [2.52000000e+02, 2.39000000e+02, 2.25661884e-02, 4.00000000e+00],\n",
       "       [1.80000000e+02, 1.26000000e+02, 2.25702912e-02, 2.00000000e+00],\n",
       "       [8.20000000e+01, 8.30000000e+01, 2.27816058e-02, 2.00000000e+00],\n",
       "       [6.60000000e+01, 6.70000000e+01, 2.33644029e-02, 2.00000000e+00],\n",
       "       [3.90000000e+01, 3.80000000e+01, 2.34212835e-02, 2.00000000e+00],\n",
       "       [4.30000000e+01, 2.35000000e+02, 2.34517003e-02, 3.00000000e+00],\n",
       "       [8.00000000e+00, 9.00000000e+00, 2.36538870e-02, 2.00000000e+00],\n",
       "       [2.38000000e+02, 1.00000000e+02, 2.47200777e-02, 3.00000000e+00],\n",
       "       [2.46000000e+02, 1.15000000e+02, 2.58992334e-02, 3.00000000e+00],\n",
       "       [1.02000000e+02, 1.01000000e+02, 2.64179490e-02, 2.00000000e+00],\n",
       "       [1.38000000e+02, 2.18000000e+02, 2.64265211e-02, 2.00000000e+00],\n",
       "       [2.63000000e+02, 3.20000000e+01, 2.66144981e-02, 3.00000000e+00],\n",
       "       [8.40000000e+01, 2.74000000e+02, 2.68923858e-02, 3.00000000e+00],\n",
       "       [1.60000000e+01, 1.70000000e+01, 2.70697544e-02, 2.00000000e+00],\n",
       "       [2.62000000e+02, 5.50000000e+01, 2.73489698e-02, 3.00000000e+00],\n",
       "       [1.06000000e+02, 2.59000000e+02, 2.75713121e-02, 4.00000000e+00],\n",
       "       [1.77000000e+02, 1.76000000e+02, 2.83024649e-02, 2.00000000e+00],\n",
       "       [7.90000000e+01, 2.67000000e+02, 2.89417480e-02, 3.00000000e+00],\n",
       "       [2.31000000e+02, 1.11000000e+02, 2.93437339e-02, 3.00000000e+00],\n",
       "       [2.80000000e+01, 2.72000000e+02, 3.01208780e-02, 5.00000000e+00],\n",
       "       [1.41000000e+02, 1.42000000e+02, 3.03095703e-02, 2.00000000e+00],\n",
       "       [1.10000000e+02, 2.44000000e+02, 3.05288903e-02, 3.00000000e+00],\n",
       "       [1.00000000e+01, 2.33000000e+02, 3.07622932e-02, 3.00000000e+00],\n",
       "       [2.60000000e+02, 1.50000000e+01, 3.08346595e-02, 3.00000000e+00],\n",
       "       [6.90000000e+01, 2.61000000e+02, 3.15859178e-02, 4.00000000e+00],\n",
       "       [2.65000000e+02, 7.60000000e+01, 3.19105542e-02, 3.00000000e+00],\n",
       "       [2.48000000e+02, 4.40000000e+01, 3.22103381e-02, 3.00000000e+00],\n",
       "       [9.50000000e+01, 2.68000000e+02, 3.29814991e-02, 3.00000000e+00],\n",
       "       [1.55000000e+02, 1.56000000e+02, 3.31340170e-02, 2.00000000e+00],\n",
       "       [2.50000000e+02, 4.00000000e+00, 3.43196071e-02, 3.00000000e+00],\n",
       "       [8.10000000e+01, 8.00000000e+01, 3.47515947e-02, 2.00000000e+00],\n",
       "       [2.20000000e+01, 2.51000000e+02, 3.49553835e-02, 3.00000000e+00],\n",
       "       [2.34000000e+02, 1.84000000e+02, 3.53782090e-02, 3.00000000e+00],\n",
       "       [9.20000000e+01, 9.10000000e+01, 3.60789755e-02, 2.00000000e+00],\n",
       "       [3.50000000e+01, 2.83000000e+02, 3.73481651e-02, 4.00000000e+00],\n",
       "       [2.36000000e+02, 2.42000000e+02, 3.73573904e-02, 4.00000000e+00],\n",
       "       [1.46000000e+02, 1.47000000e+02, 3.80922137e-02, 2.00000000e+00],\n",
       "       [2.91000000e+02, 2.47000000e+02, 3.88212931e-02, 7.00000000e+00],\n",
       "       [2.45000000e+02, 2.55000000e+02, 3.92870782e-02, 4.00000000e+00],\n",
       "       [1.36000000e+02, 1.35000000e+02, 3.93273616e-02, 2.00000000e+00],\n",
       "       [2.14000000e+02, 1.52000000e+02, 3.93515353e-02, 2.00000000e+00],\n",
       "       [2.77000000e+02, 4.00000000e+01, 3.96092028e-02, 4.00000000e+00],\n",
       "       [9.70000000e+01, 2.79000000e+02, 3.96459706e-02, 4.00000000e+00],\n",
       "       [1.32000000e+02, 1.31000000e+02, 3.98960301e-02, 2.00000000e+00],\n",
       "       [5.80000000e+01, 2.86000000e+02, 4.00839162e-02, 4.00000000e+00],\n",
       "       [2.75000000e+02, 6.80000000e+01, 4.07867284e-02, 3.00000000e+00],\n",
       "       [2.80000000e+02, 1.14000000e+02, 4.11195269e-02, 4.00000000e+00],\n",
       "       [1.30000000e+02, 1.29000000e+02, 4.14168183e-02, 2.00000000e+00],\n",
       "       [2.76000000e+02, 2.70000000e+02, 4.17125998e-02, 4.00000000e+00],\n",
       "       [2.54000000e+02, 2.70000000e+01, 4.19841983e-02, 3.00000000e+00],\n",
       "       [2.43000000e+02, 2.69000000e+02, 4.20915648e-02, 5.00000000e+00],\n",
       "       [1.81000000e+02, 1.57000000e+02, 4.26484698e-02, 2.00000000e+00],\n",
       "       [4.70000000e+01, 2.98000000e+02, 4.28722299e-02, 4.00000000e+00],\n",
       "       [1.39000000e+02, 2.82000000e+02, 4.29740456e-02, 3.00000000e+00],\n",
       "       [1.75000000e+02, 1.74000000e+02, 4.38467729e-02, 2.00000000e+00],\n",
       "       [1.70000000e+02, 1.71000000e+02, 4.48080582e-02, 2.00000000e+00],\n",
       "       [1.66000000e+02, 2.24000000e+02, 4.55238987e-02, 2.00000000e+00],\n",
       "       [1.24000000e+02, 1.25000000e+02, 4.57306321e-02, 2.00000000e+00],\n",
       "       [1.21000000e+02, 2.30000000e+02, 4.65279579e-02, 3.00000000e+00],\n",
       "       [2.57000000e+02, 2.84000000e+02, 4.69595274e-02, 5.00000000e+00],\n",
       "       [1.22000000e+02, 1.23000000e+02, 4.80876209e-02, 2.00000000e+00],\n",
       "       [1.50000000e+02, 1.51000000e+02, 4.85926379e-02, 2.00000000e+00],\n",
       "       [2.93000000e+02, 1.07000000e+02, 4.93937389e-02, 4.00000000e+00],\n",
       "       [1.63000000e+02, 1.64000000e+02, 4.94768998e-02, 2.00000000e+00],\n",
       "       [3.09000000e+02, 8.70000000e+01, 5.03142067e-02, 8.00000000e+00],\n",
       "       [1.87000000e+02, 3.24000000e+02, 5.04539838e-02, 5.00000000e+00],\n",
       "       [7.30000000e+01, 2.97000000e+02, 5.42592977e-02, 4.00000000e+00],\n",
       "       [2.58000000e+02, 3.17000000e+02, 5.46861793e-02, 5.00000000e+00],\n",
       "       [6.00000000e+01, 2.66000000e+02, 5.51474872e-02, 4.00000000e+00],\n",
       "       [2.99000000e+02, 9.60000000e+01, 5.56661184e-02, 4.00000000e+00],\n",
       "       [1.44000000e+02, 1.45000000e+02, 5.58291153e-02, 2.00000000e+00],\n",
       "       [2.78000000e+02, 2.94000000e+02, 5.60175556e-02, 5.00000000e+00],\n",
       "       [3.05000000e+02, 3.36000000e+02, 5.65081605e-02, 1.00000000e+01],\n",
       "       [2.87000000e+02, 2.81000000e+02, 5.74250912e-02, 6.00000000e+00],\n",
       "       [2.19000000e+02, 2.20000000e+02, 5.75833410e-02, 2.00000000e+00],\n",
       "       [1.53000000e+02, 1.54000000e+02, 5.78798947e-02, 2.00000000e+00],\n",
       "       [1.59000000e+02, 1.58000000e+02, 5.81193711e-02, 2.00000000e+00],\n",
       "       [3.00000000e+02, 3.23000000e+02, 5.85277198e-02, 4.00000000e+00],\n",
       "       [1.27000000e+02, 1.28000000e+02, 5.86488837e-02, 2.00000000e+00],\n",
       "       [3.03000000e+02, 3.21000000e+02, 6.01215521e-02, 6.00000000e+00],\n",
       "       [1.43000000e+02, 2.15000000e+02, 6.10374720e-02, 2.00000000e+00],\n",
       "       [2.95000000e+02, 2.85000000e+02, 6.24239030e-02, 5.00000000e+00],\n",
       "       [1.72000000e+02, 2.56000000e+02, 6.37234745e-02, 3.00000000e+00],\n",
       "       [2.53000000e+02, 3.01000000e+02, 6.38222918e-02, 5.00000000e+00],\n",
       "       [1.48000000e+02, 1.49000000e+02, 6.42805047e-02, 2.00000000e+00],\n",
       "       [1.33000000e+02, 3.15000000e+02, 6.82817326e-02, 3.00000000e+00],\n",
       "       [3.30000000e+02, 1.78000000e+02, 6.82910286e-02, 4.00000000e+00],\n",
       "       [1.37000000e+02, 3.11000000e+02, 6.93712178e-02, 3.00000000e+00],\n",
       "       [1.62000000e+02, 2.71000000e+02, 7.07923018e-02, 3.00000000e+00],\n",
       "       [3.28000000e+02, 2.64000000e+02, 7.22733405e-02, 4.00000000e+00],\n",
       "       [3.16000000e+02, 2.49000000e+02, 7.32505413e-02, 6.00000000e+00],\n",
       "       [3.35000000e+02, 1.65000000e+02, 7.48847650e-02, 3.00000000e+00],\n",
       "       [3.02000000e+02, 2.89000000e+02, 7.50408194e-02, 5.00000000e+00],\n",
       "       [1.40000000e+02, 3.25000000e+02, 7.82681940e-02, 4.00000000e+00],\n",
       "       [2.90000000e+02, 3.34000000e+02, 7.92651101e-02, 7.00000000e+00],\n",
       "       [3.04000000e+02, 3.18000000e+02, 7.93022375e-02, 7.00000000e+00],\n",
       "       [1.69000000e+02, 3.27000000e+02, 8.09965990e-02, 3.00000000e+00],\n",
       "       [3.33000000e+02, 3.12000000e+02, 8.47980201e-02, 4.00000000e+00],\n",
       "       [2.73000000e+02, 3.50000000e+02, 8.64421475e-02, 4.00000000e+00],\n",
       "       [3.20000000e+02, 3.06000000e+02, 8.82455770e-02, 8.00000000e+00],\n",
       "       [2.92000000e+02, 3.52000000e+02, 8.82885954e-02, 4.00000000e+00],\n",
       "       [2.96000000e+02, 3.38000000e+02, 8.86997879e-02, 8.00000000e+00],\n",
       "       [2.88000000e+02, 3.26000000e+02, 9.24293288e-02, 4.00000000e+00],\n",
       "       [2.10000000e+02, 2.17000000e+02, 9.29339511e-02, 2.00000000e+00],\n",
       "       [2.04000000e+02, 2.05000000e+02, 9.35513938e-02, 2.00000000e+00],\n",
       "       [3.55000000e+02, 3.07000000e+02, 9.54799623e-02, 9.00000000e+00],\n",
       "       [5.90000000e+01, 3.62000000e+02, 9.81838750e-02, 7.00000000e+00],\n",
       "       [3.08000000e+02, 3.56000000e+02, 1.00056869e-01, 4.00000000e+00],\n",
       "       [3.37000000e+02, 3.13000000e+02, 1.01839712e-01, 9.00000000e+00],\n",
       "       [3.32000000e+02, 3.29000000e+02, 1.04605245e-01, 4.00000000e+00],\n",
       "       [2.12000000e+02, 2.21000000e+02, 1.05865845e-01, 2.00000000e+00],\n",
       "       [3.43000000e+02, 3.53000000e+02, 1.09639522e-01, 1.00000000e+01],\n",
       "       [3.41000000e+02, 3.14000000e+02, 1.10014152e-01, 8.00000000e+00],\n",
       "       [3.58000000e+02, 3.82000000e+02, 1.10216834e-01, 6.00000000e+00],\n",
       "       [3.57000000e+02, 3.19000000e+02, 1.12515452e-01, 5.00000000e+00],\n",
       "       [1.89000000e+02, 1.99000000e+02, 1.14332637e-01, 2.00000000e+00],\n",
       "       [3.10000000e+02, 3.51000000e+02, 1.15574944e-01, 1.00000000e+01],\n",
       "       [3.40000000e+02, 3.39000000e+02, 1.17294596e-01, 9.00000000e+00],\n",
       "       [3.59000000e+02, 1.34000000e+02, 1.18519644e-01, 4.00000000e+00],\n",
       "       [3.31000000e+02, 3.64000000e+02, 1.22580902e-01, 1.00000000e+01],\n",
       "       [1.92000000e+02, 3.69000000e+02, 1.23895799e-01, 5.00000000e+00],\n",
       "       [3.47000000e+02, 3.49000000e+02, 1.25667807e-01, 6.00000000e+00],\n",
       "       [3.72000000e+02, 3.42000000e+02, 1.27157378e-01, 6.00000000e+00],\n",
       "       [3.60000000e+02, 3.48000000e+02, 1.31532221e-01, 5.00000000e+00],\n",
       "       [2.13000000e+02, 3.67000000e+02, 1.31545522e-01, 8.00000000e+00],\n",
       "       [3.78000000e+02, 3.22000000e+02, 1.36028668e-01, 1.20000000e+01],\n",
       "       [3.71000000e+02, 3.44000000e+02, 1.38323295e-01, 1.80000000e+01],\n",
       "       [3.74000000e+02, 2.02000000e+02, 1.38611995e-01, 5.00000000e+00],\n",
       "       [3.68000000e+02, 3.54000000e+02, 1.43525316e-01, 6.00000000e+00],\n",
       "       [3.66000000e+02, 3.45000000e+02, 1.53747810e-01, 1.30000000e+01],\n",
       "       [3.63000000e+02, 3.61000000e+02, 1.54294268e-01, 7.00000000e+00],\n",
       "       [2.00000000e+02, 2.07000000e+02, 1.56262049e-01, 2.00000000e+00],\n",
       "       [1.85000000e+02, 1.88000000e+02, 1.58821858e-01, 2.00000000e+00],\n",
       "       [1.93000000e+02, 3.81000000e+02, 1.64089813e-01, 5.00000000e+00],\n",
       "       [2.01000000e+02, 3.89000000e+02, 1.64350702e-01, 1.00000000e+01],\n",
       "       [3.65000000e+02, 3.90000000e+02, 1.72969270e-01, 8.00000000e+00],\n",
       "       [3.87000000e+02, 1.90000000e+02, 1.74169187e-01, 3.00000000e+00],\n",
       "       [3.94000000e+02, 1.96000000e+02, 1.81484075e-01, 7.00000000e+00],\n",
       "       [3.79000000e+02, 3.92000000e+02, 1.87523764e-01, 9.00000000e+00],\n",
       "       [3.85000000e+02, 2.22000000e+02, 1.88382338e-01, 7.00000000e+00],\n",
       "       [3.98000000e+02, 3.84000000e+02, 1.89041223e-01, 2.60000000e+01],\n",
       "       [4.05000000e+02, 3.70000000e+02, 1.93948673e-01, 9.00000000e+00],\n",
       "       [2.26000000e+02, 3.95000000e+02, 2.04265578e-01, 6.00000000e+00],\n",
       "       [4.06000000e+02, 3.73000000e+02, 2.08748336e-01, 1.80000000e+01],\n",
       "       [3.77000000e+02, 3.83000000e+02, 2.11709886e-01, 1.90000000e+01],\n",
       "       [4.00000000e+02, 3.99000000e+02, 2.14287764e-01, 1.10000000e+01],\n",
       "       [2.28000000e+02, 4.04000000e+02, 2.17122934e-01, 3.00000000e+00],\n",
       "       [1.83000000e+02, 2.08000000e+02, 2.24501810e-01, 2.00000000e+00],\n",
       "       [3.86000000e+02, 2.09000000e+02, 2.26779071e-01, 6.00000000e+00],\n",
       "       [3.97000000e+02, 3.80000000e+02, 2.30342505e-01, 2.10000000e+01],\n",
       "       [3.88000000e+02, 4.12000000e+02, 2.34503519e-01, 3.60000000e+01],\n",
       "       [4.14000000e+02, 3.75000000e+02, 2.47498337e-01, 8.00000000e+00],\n",
       "       [3.46000000e+02, 2.11000000e+02, 2.49599266e-01, 3.00000000e+00],\n",
       "       [3.96000000e+02, 4.01000000e+02, 2.53099625e-01, 2.10000000e+01],\n",
       "       [1.94000000e+02, 2.27000000e+02, 2.56966829e-01, 2.00000000e+00],\n",
       "       [2.29000000e+02, 4.02000000e+02, 2.56992393e-01, 8.00000000e+00],\n",
       "       [4.22000000e+02, 3.91000000e+02, 2.62524597e-01, 4.60000000e+01],\n",
       "       [1.86000000e+02, 4.07000000e+02, 2.67324017e-01, 9.00000000e+00],\n",
       "       [3.93000000e+02, 4.23000000e+02, 2.78285708e-01, 1.40000000e+01],\n",
       "       [4.11000000e+02, 4.13000000e+02, 2.81641933e-01, 1.60000000e+01],\n",
       "       [4.29000000e+02, 4.09000000e+02, 3.10414631e-01, 1.60000000e+01],\n",
       "       [2.23000000e+02, 4.10000000e+02, 3.25942143e-01, 1.00000000e+01],\n",
       "       [4.19000000e+02, 4.15000000e+02, 3.36769282e-01, 2.00000000e+01],\n",
       "       [4.16000000e+02, 4.26000000e+02, 3.56202888e-01, 2.10000000e+01],\n",
       "       [4.25000000e+02, 4.18000000e+02, 3.67642488e-01, 2.40000000e+01],\n",
       "       [1.82000000e+02, 4.21000000e+02, 4.02760168e-01, 2.20000000e+01],\n",
       "       [4.27000000e+02, 4.17000000e+02, 4.12052603e-01, 1.90000000e+01],\n",
       "       [4.30000000e+02, 1.97000000e+02, 4.23279049e-01, 1.50000000e+01],\n",
       "       [4.34000000e+02, 2.16000000e+02, 4.38290314e-01, 2.10000000e+01],\n",
       "       [4.31000000e+02, 4.20000000e+02, 4.52067729e-01, 2.20000000e+01],\n",
       "       [4.03000000e+02, 4.35000000e+02, 4.74764069e-01, 2.30000000e+01],\n",
       "       [2.06000000e+02, 2.03000000e+02, 4.75516808e-01, 2.00000000e+00],\n",
       "       [4.33000000e+02, 4.39000000e+02, 4.75912656e-01, 2.50000000e+01],\n",
       "       [3.76000000e+02, 4.24000000e+02, 4.90570465e-01, 5.00000000e+00],\n",
       "       [4.37000000e+02, 4.28000000e+02, 5.14803993e-01, 6.80000000e+01],\n",
       "       [1.95000000e+02, 4.08000000e+02, 5.67338327e-01, 4.00000000e+00],\n",
       "       [4.46000000e+02, 4.40000000e+02, 5.91670445e-01, 8.90000000e+01],\n",
       "       [4.45000000e+02, 4.36000000e+02, 6.52086873e-01, 2.90000000e+01],\n",
       "       [4.38000000e+02, 4.41000000e+02, 6.78581162e-01, 4.10000000e+01],\n",
       "       [4.32000000e+02, 4.44000000e+02, 6.83608724e-01, 4.10000000e+01],\n",
       "       [1.91000000e+02, 4.43000000e+02, 7.08973128e-01, 3.00000000e+00],\n",
       "       [4.42000000e+02, 4.48000000e+02, 7.19315712e-01, 1.12000000e+02],\n",
       "       [4.49000000e+02, 4.53000000e+02, 8.14851022e-01, 1.41000000e+02],\n",
       "       [4.50000000e+02, 4.51000000e+02, 8.59645211e-01, 8.20000000e+01],\n",
       "       [4.47000000e+02, 4.54000000e+02, 9.83747148e-01, 1.45000000e+02],\n",
       "       [4.55000000e+02, 4.52000000e+02, 1.23017056e+00, 8.50000000e+01],\n",
       "       [4.56000000e+02, 4.57000000e+02, 1.56219448e+00, 2.30000000e+02]])"
      ]
     },
     "execution_count": 8,
     "metadata": {},
     "output_type": "execute_result"
    }
   ],
   "source": [
    "model.linkage"
   ]
  }
 ],
 "metadata": {
  "kernelspec": {
   "display_name": "Python 3.8.5 ('base')",
   "language": "python",
   "name": "python3"
  },
  "language_info": {
   "codemirror_mode": {
    "name": "ipython",
    "version": 3
   },
   "file_extension": ".py",
   "mimetype": "text/x-python",
   "name": "python",
   "nbconvert_exporter": "python",
   "pygments_lexer": "ipython3",
   "version": "3.8.5"
  },
  "vscode": {
   "interpreter": {
    "hash": "67fb5c8522943cfc849952245afc20975abbf95250ffc483d5f3dc8e97ca2e14"
   }
  }
 },
 "nbformat": 4,
 "nbformat_minor": 5
}
